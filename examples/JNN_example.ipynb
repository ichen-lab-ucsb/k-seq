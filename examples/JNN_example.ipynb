{
 "cells": [
  {
   "cell_type": "markdown",
   "metadata": {},
   "source": [
    "**k-seq data analysis tutorial**\n",
    "\n",
    "This is the Jupyter Notebook implementation of `k-seq` package with its core functions, including:\n",
    "\n",
    "- Parse and overview count files\n",
    "- Extract detected sequences\n",
    "- [For this tutorial] Filter sequence before fitting\n",
    "- Fit sequence into kinetic model\n",
    "\n",
    "`k-seq` package [under development] provide core functions to parse, process, visualize and convert data from k-seq experiments. It is currently implemented as a `python` package for flexible and customized pipeline building. It will provide wrappers with standalone command line tools in future release.\n",
    "\n",
    "# Environment setting\n",
    "\n",
    "- Setup environmental variables `ENV`\n",
    "- Add/reset the package directory (use package without `pip install k_seq`)\n",
    "- Import core modules\n",
    "  - `k_seq.data.pre_processing`: core module for data preprocessing before fitting\n",
    "  - `k_seq.data.analysis`: module for preprocessing data analysis\n",
    "  - `k_seq.fitting.fitting`: core module for kinetic model fitting\n",
    "  - `k_seq.fitting.analysis`: module for fitting result analysis\n",
    "  - `k_seq.utility`: module contains package-wide utility function\n",
    "  - `util`: module contains global utility function"
   ]
  },
  {
   "cell_type": "code",
   "execution_count": null,
   "metadata": {
    "ExecuteTime": {
     "end_time": "2019-06-04T16:19:55.419474Z",
     "start_time": "2019-06-04T16:19:55.400344Z"
    },
    "collapsed": true,
    "hide_input": false,
    "init_cell": true
   },
   "outputs": [],
   "source": [
    "# Set up environmental variables: change the directory to your system\n",
    "class EnvVar:\n",
    "    HOME_DIR = 'dir/to/home'\n",
    "    PACKAGE_PATH = '/dir/to/k-seq/pkg'\n",
    "    DATA_PATH= '/dir/to/count/file'\n",
    "ENV = EnvVar()\n",
    "\n",
    "# Add package directory for python kernel to import\n",
    "import sys\n",
    "if ENV.PACKAGE_PATH not in sys.path:\n",
    "    sys.path = [ENV.PACKAGE_PATH] + sys.path\n",
    "\n",
    "# import modules\n",
    "import util\n",
    "import numpy as np\n",
    "import pandas as pd\n",
    "import matplotlib.pyplot as plt\n",
    "\n",
    "# Set up matplotlib dpi for visualization\n",
    "import matplotlib as mpl\n",
    "mpl.rcParams['figure.dpi']= 300"
   ]
  },
  {
   "cell_type": "markdown",
   "metadata": {},
   "source": [
    "# Count file overview\n",
    "Let's first look at the count files we will use for k-seq analysis\n",
    "\n",
    "Jupyter Notebook can execute `shell` command within a `python` block using decorator '!'\n",
    "\n",
    "E.g.\n",
    "\n",
    "```Shell\n",
    "!pwd\n",
    "> current/direcotry/jupyter/notebook/kernel/starts\n",
    "```\n",
    "\n",
    "`python` variable's value can be called by `{variable}` in `shell` command"
   ]
  },
  {
   "cell_type": "code",
   "execution_count": null,
   "metadata": {
    "ExecuteTime": {
     "end_time": "2019-06-04T13:19:01.164129Z",
     "start_time": "2019-06-04T13:19:01.030608Z"
    }
   },
   "outputs": [],
   "source": [
    "# show current kernel directory\n"
   ]
  },
  {
   "cell_type": "code",
   "execution_count": null,
   "metadata": {
    "ExecuteTime": {
     "end_time": "2019-06-04T13:21:45.828331Z",
     "start_time": "2019-06-04T13:21:45.695032Z"
    },
    "scrolled": false
   },
   "outputs": [],
   "source": [
    "# use shell command `ls` to list the file under ENV.DATA_PATH\n",
    "\n"
   ]
  },
  {
   "cell_type": "code",
   "execution_count": null,
   "metadata": {
    "ExecuteTime": {
     "end_time": "2019-06-04T13:21:48.167559Z",
     "start_time": "2019-06-04T13:21:47.859143Z"
    }
   },
   "outputs": [],
   "source": [
    "print(util.color.BOLD + util.color.BLUE + \\\n",
    "'Number of lines in file:' + util.color.END)\n",
    "# use shell command `wc` to get the number of lines of R4A-inputA_S1_counts.txt\n",
    "\n",
    "\n",
    "\n",
    "print(util.color.BOLD + util.color.BLUE + \\\n",
    "'Top 20 lines of file:' + util.color.END)\n",
    "# use shell command `head` to check the top 20 lines of R4A-inputA_S1_counts.txt\n",
    "\n",
    "\n"
   ]
  },
  {
   "cell_type": "markdown",
   "metadata": {},
   "source": [
    "## Import `k_seq` package"
   ]
  },
  {
   "cell_type": "code",
   "execution_count": null,
   "metadata": {
    "collapsed": true
   },
   "outputs": [],
   "source": [
    "import k_seq.data.pre_processing as pre_processing\n",
    "import k_seq.data.analysis as analysis\n",
    "import k_seq.fitting.fitting as fitting\n",
    "import k_seq.fitting.analysis as fit_analysis\n",
    "import k_seq.utility as utility"
   ]
  },
  {
   "cell_type": "markdown",
   "metadata": {},
   "source": [
    "# Parse count files\n",
    "## Use `pre_processing.SequencingSample` to parse single count file\n",
    "Try to load in a single count file `R4A-1250A_S2_counts.txt`"
   ]
  },
  {
   "cell_type": "code",
   "execution_count": null,
   "metadata": {
    "ExecuteTime": {
     "end_time": "2019-06-04T13:22:22.757507Z",
     "start_time": "2019-06-04T13:22:22.734663Z"
    },
    "collapsed": true
   },
   "outputs": [],
   "source": [
    "?pre_processing.SequencingSample()"
   ]
  },
  {
   "cell_type": "code",
   "execution_count": null,
   "metadata": {
    "ExecuteTime": {
     "end_time": "2019-06-04T13:49:49.206971Z",
     "start_time": "2019-06-04T13:49:49.189145Z"
    }
   },
   "outputs": [],
   "source": [
    "# Given file name R4A-1250A_S2_counts.txt, it follows pattern\n",
    "#          [R4{exp_rep}-{byo, float}{seq_rep}_S{id,int}]_counts.txt\n",
    "\n",
    "single_sample = pre_processing.SequencingSample(\n",
    "    file_dirc= ENV.DATA_PATH + '/R4A-1250A_S2_counts.txt',\n",
    "    name_pattern='[R4{exp_rep}-{byo, float}{seq_rep}_S{id,int}]_counts.txt',\n",
    "    silent=False,\n",
    "    x_value='byo'\n",
    ")"
   ]
  },
  {
   "cell_type": "markdown",
   "metadata": {},
   "source": [
    "**What contains in the a `SequencingSample` object?**"
   ]
  },
  {
   "cell_type": "code",
   "execution_count": null,
   "metadata": {
    "collapsed": true
   },
   "outputs": [],
   "source": [
    "# Use autocompletion and `?` to explore the function of `SequencingSample` object\n"
   ]
  },
  {
   "cell_type": "markdown",
   "metadata": {},
   "source": [
    "**Use `survey_spike_in` to calculate the distribution of spike-in sequence in surrounding sequence space**"
   ]
  },
  {
   "cell_type": "code",
   "execution_count": null,
   "metadata": {
    "ExecuteTime": {
     "end_time": "2019-06-04T03:17:12.834577Z",
     "start_time": "2019-06-04T03:17:12.809369Z"
    },
    "scrolled": true
   },
   "outputs": [],
   "source": [
    "results = single_sample.survey_spike_in(\n",
    "    spike_in='AAAAACAAAAACAAAAACAAA',\n",
    "    max_dist_to_survey=10,\n",
    "    silent=False,\n",
    "    inplace=False\n",
    ")"
   ]
  },
  {
   "cell_type": "markdown",
   "metadata": {},
   "source": [
    "**Use `matplotlib.pyplot` to visualize the local distribution of spike-in peak**"
   ]
  },
  {
   "cell_type": "code",
   "execution_count": null,
   "metadata": {
    "ExecuteTime": {
     "end_time": "2019-06-04T13:26:36.444007Z",
     "start_time": "2019-06-04T13:26:36.439586Z"
    },
    "collapsed": true,
    "hide_input": false
   },
   "outputs": [],
   "source": [
    "# Visualize the peak of spike-in\n",
    "import matplotlib.pyplot as plt\n",
    "\n",
    "# Visualization code:\n",
    "\n",
    "\n",
    "\n",
    "\n",
    "\n",
    "\n",
    "\n",
    "\n",
    "\n",
    "\n"
   ]
  },
  {
   "cell_type": "markdown",
   "metadata": {},
   "source": [
    "## Use `pre_processing.SequencingSampleSet` to parse a batch (folder) of count files \n",
    "### Parse count files from `~/data/count/`"
   ]
  },
  {
   "cell_type": "code",
   "execution_count": null,
   "metadata": {
    "ExecuteTime": {
     "end_time": "2019-06-04T13:50:01.463120Z",
     "start_time": "2019-06-04T13:50:00.186087Z"
    },
    "collapsed": true
   },
   "outputs": [],
   "source": [
    "sample_set = pre_processing.SequencingSampleSet(\n",
    "\n",
    ")"
   ]
  },
  {
   "cell_type": "markdown",
   "metadata": {},
   "source": [
    "### explore the imported sample"
   ]
  },
  {
   "cell_type": "code",
   "execution_count": null,
   "metadata": {
    "ExecuteTime": {
     "end_time": "2019-06-04T13:28:21.280901Z",
     "start_time": "2019-06-04T13:28:21.276550Z"
    },
    "collapsed": true
   },
   "outputs": [],
   "source": [
    "?sample_set"
   ]
  },
  {
   "cell_type": "markdown",
   "metadata": {
    "ExecuteTime": {
     "end_time": "2019-06-04T04:55:45.251140Z",
     "start_time": "2019-06-04T04:55:43.133074Z"
    }
   },
   "source": [
    "**Use `analysis.sequencing_sample_info_table` to print out an overview table**"
   ]
  },
  {
   "cell_type": "code",
   "execution_count": 438,
   "metadata": {
    "ExecuteTime": {
     "end_time": "2019-06-04T17:16:31.363787Z",
     "start_time": "2019-06-04T17:16:31.358632Z"
    },
    "scrolled": false
   },
   "outputs": [],
   "source": [
    "?analysis.sequencing_sample_info_table()"
   ]
  },
  {
   "cell_type": "markdown",
   "metadata": {},
   "source": [
    "**Use `analysis.sequencing_sample_info_plot` to plot an overview figure for samples**"
   ]
  },
  {
   "cell_type": "code",
   "execution_count": null,
   "metadata": {
    "ExecuteTime": {
     "end_time": "2019-06-04T05:16:30.220245Z",
     "start_time": "2019-06-04T05:16:28.809310Z"
    },
    "scrolled": false
   },
   "outputs": [],
   "source": [
    "analysis.sequencing_sample_info_plot()"
   ]
  },
  {
   "cell_type": "markdown",
   "metadata": {},
   "source": [
    "### Calculate quantification factor for each sample using spike in\n",
    "\n",
    "$$\n",
    "\\text{Seq amount} = \\frac{\\text{Seq count}}{\\text{spike-in count}}\\times \\text{spike-in amount} = \\frac{\\text{Seq count}}{\\text{Total count}}\\times \\Large (\\frac{\\text{Total count}}{\\text{spike-in count}}\\times\\text{spike-in amount}\\Large )\n",
    "$$"
   ]
  },
  {
   "cell_type": "code",
   "execution_count": null,
   "metadata": {
    "ExecuteTime": {
     "end_time": "2019-06-04T05:30:32.733813Z",
     "start_time": "2019-06-04T05:30:31.086714Z"
    },
    "scrolled": false
   },
   "outputs": [],
   "source": [
    "# indicate spike-in amount to calculate quantification factors\n",
    "spike_in_amounts = []\n",
    "for i in range(4):\n",
    "    spike_in_amounts += [4130, 1240, 826, 413, 207, 82.6, 41.3]\n",
    "\n",
    "sample_set.get_quant_factors(\n",
    "\n",
    "    \n",
    ")"
   ]
  },
  {
   "cell_type": "code",
   "execution_count": null,
   "metadata": {
    "ExecuteTime": {
     "end_time": "2019-06-04T05:30:40.660206Z",
     "start_time": "2019-06-04T05:30:40.655158Z"
    }
   },
   "outputs": [],
   "source": [
    "sample_set.sample_set[0].spike_in"
   ]
  },
  {
   "cell_type": "markdown",
   "metadata": {
    "ExecuteTime": {
     "end_time": "2019-02-19T01:02:50.590874Z",
     "start_time": "2019-02-19T01:02:50.577357Z"
    }
   },
   "source": [
    "**Let's look at the overview again using `analysis.sequencing_sample_info_table/plot`**"
   ]
  },
  {
   "cell_type": "code",
   "execution_count": null,
   "metadata": {
    "ExecuteTime": {
     "end_time": "2019-06-04T05:31:14.006479Z",
     "start_time": "2019-06-04T05:31:12.321716Z"
    },
    "code_folding": [],
    "hide_input": false,
    "scrolled": false
   },
   "outputs": [],
   "source": [
    "analysis.sequencing_sample_info_table(sample_set)\n",
    "analysis.sequencing_sample_info_plot(sample_set)"
   ]
  },
  {
   "cell_type": "markdown",
   "metadata": {},
   "source": [
    "### Filter sample\n",
    "As an option, we can discard 0 concentraton samples as very limited sequencees from these samples"
   ]
  },
  {
   "cell_type": "code",
   "execution_count": null,
   "metadata": {
    "ExecuteTime": {
     "end_time": "2019-06-04T13:51:19.373534Z",
     "start_time": "2019-06-04T13:51:19.368536Z"
    },
    "collapsed": true
   },
   "outputs": [],
   "source": [
    "?sample_set.filter_sample"
   ]
  },
  {
   "cell_type": "code",
   "execution_count": null,
   "metadata": {
    "ExecuteTime": {
     "end_time": "2019-06-04T13:50:20.559510Z",
     "start_time": "2019-06-04T13:50:20.554273Z"
    },
    "collapsed": true
   },
   "outputs": [],
   "source": [
    "zero_sample_list = [sample.name for sample in sample_set.sample_set if sample.metadata['byo'] == 0]\n",
    "print(zero_sample_list)\n",
    "## How to get samples that are not 0?\n",
    "\n",
    "\n",
    "\n"
   ]
  },
  {
   "cell_type": "code",
   "execution_count": null,
   "metadata": {
    "ExecuteTime": {
     "end_time": "2019-06-04T05:31:44.919706Z",
     "start_time": "2019-06-04T05:31:42.818914Z"
    },
    "collapsed": true
   },
   "outputs": [],
   "source": [
    "filtered_sample_set = sample_set.filter_sample(sample_to_keep=###TO FILL IN###,\n",
    "                                               inplace=False)"
   ]
  },
  {
   "cell_type": "code",
   "execution_count": null,
   "metadata": {
    "ExecuteTime": {
     "end_time": "2019-06-04T05:32:15.647807Z",
     "start_time": "2019-06-04T05:32:14.139401Z"
    },
    "collapsed": true,
    "scrolled": false
   },
   "outputs": [],
   "source": [
    "analysis.sequencing_sample_info_table(filtered_sample_set)\n",
    "analysis.sequencing_sample_info_plot(filtered_sample_set)"
   ]
  },
  {
   "cell_type": "markdown",
   "metadata": {},
   "source": [
    "# Extract valid sequences\n",
    "## `SequencingSampleSet` $\\to$ `SequenceSet`"
   ]
  },
  {
   "cell_type": "code",
   "execution_count": null,
   "metadata": {
    "ExecuteTime": {
     "end_time": "2019-06-04T15:44:44.622752Z",
     "start_time": "2019-06-04T15:44:37.126472Z"
    },
    "collapsed": true
   },
   "outputs": [],
   "source": [
    "sequence_set = pre_processing.SequenceSet(sample_set=filtered_sample_set, remove_spike_in=True, note='JNN tutorial')"
   ]
  },
  {
   "cell_type": "code",
   "execution_count": null,
   "metadata": {
    "ExecuteTime": {
     "end_time": "2019-06-04T15:23:15.828760Z",
     "start_time": "2019-06-04T15:23:15.826483Z"
    },
    "collapsed": true
   },
   "outputs": [],
   "source": [
    "?sequence_set"
   ]
  },
  {
   "cell_type": "code",
   "execution_count": null,
   "metadata": {
    "collapsed": true
   },
   "outputs": [],
   "source": [
    "sequence_set.dataset_info"
   ]
  },
  {
   "cell_type": "code",
   "execution_count": null,
   "metadata": {
    "collapsed": true
   },
   "outputs": [],
   "source": [
    "sequence_set.count_table"
   ]
  },
  {
   "cell_type": "markdown",
   "metadata": {},
   "source": [
    "## How do these sequences distribute across samples"
   ]
  },
  {
   "cell_type": "code",
   "execution_count": null,
   "metadata": {
    "ExecuteTime": {
     "end_time": "2019-06-04T15:23:23.615631Z",
     "start_time": "2019-06-04T15:23:21.330930Z"
    }
   },
   "outputs": [],
   "source": [
    "sequence_set = analysis.survey_seqs_info(sequence_set)\n",
    "count_bins, count_bins_weighted = analysis.survey_seq_occurrence(sequence_set=sequence_set, display=True)"
   ]
  },
  {
   "cell_type": "markdown",
   "metadata": {},
   "source": [
    "## Normalize counts into reacted fraction"
   ]
  },
  {
   "cell_type": "code",
   "execution_count": null,
   "metadata": {
    "ExecuteTime": {
     "end_time": "2019-06-04T15:44:51.065701Z",
     "start_time": "2019-06-04T15:44:51.031345Z"
    },
    "collapsed": true
   },
   "outputs": [],
   "source": [
    "zero_samples = [sample_name for sample_name in sequence_set.sample_info.keys() if '-0' in sample_name]\n",
    "sequence_set.get_reacted_frac(\n",
    "    input_average='median',\n",
    "    black_list=zero_samples,\n",
    "    inplace=True\n",
    ")"
   ]
  },
  {
   "cell_type": "code",
   "execution_count": null,
   "metadata": {
    "ExecuteTime": {
     "end_time": "2019-06-04T15:44:53.911567Z",
     "start_time": "2019-06-04T15:44:53.876469Z"
    }
   },
   "outputs": [],
   "source": [
    "sequence_set.reacted_frac_table"
   ]
  },
  {
   "cell_type": "markdown",
   "metadata": {},
   "source": [
    "## [Optional] Filter sequences"
   ]
  },
  {
   "cell_type": "code",
   "execution_count": null,
   "metadata": {
    "ExecuteTime": {
     "end_time": "2019-06-04T15:24:02.529817Z",
     "start_time": "2019-06-04T15:24:02.525667Z"
    },
    "collapsed": true
   },
   "outputs": [],
   "source": [
    "?sequence_set.filter_seq"
   ]
  },
  {
   "cell_type": "code",
   "execution_count": null,
   "metadata": {
    "ExecuteTime": {
     "end_time": "2019-06-04T15:44:57.489639Z",
     "start_time": "2019-06-04T15:44:57.479339Z"
    }
   },
   "outputs": [],
   "source": [
    "# Find out a list of sequence to keep\n",
    "seq_to_keep = sequence_set.reacted_frac_table.index[sequence_set.reacted_frac_table.isnull().sum(axis='columns') == 0]\n",
    "seq_to_keep = list(filter(lambda x: len(x)==21, seq_to_keep))"
   ]
  },
  {
   "cell_type": "code",
   "execution_count": null,
   "metadata": {
    "ExecuteTime": {
     "end_time": "2019-06-04T16:25:35.070634Z",
     "start_time": "2019-06-04T16:25:35.066395Z"
    }
   },
   "outputs": [],
   "source": [
    "# Let's subsample sequences for this tutorial\n",
    "seq_to_keep = np.random.choice(seq_to_keep, size=10)"
   ]
  },
  {
   "cell_type": "code",
   "execution_count": null,
   "metadata": {
    "ExecuteTime": {
     "end_time": "2019-06-04T16:25:36.655841Z",
     "start_time": "2019-06-04T16:25:36.648056Z"
    },
    "collapsed": true
   },
   "outputs": [],
   "source": [
    "# apply filter\n",
    "sequence_set_filtered = sequence_set.filter_seq(seq_to_keep=seq_to_keep, inplace=False)"
   ]
  },
  {
   "cell_type": "code",
   "execution_count": null,
   "metadata": {
    "ExecuteTime": {
     "end_time": "2019-06-04T16:25:38.397926Z",
     "start_time": "2019-06-04T16:25:38.392700Z"
    }
   },
   "outputs": [],
   "source": [
    "# check the new dataset\n",
    "sequence_set_filtered.reacted_frac_table.shape"
   ]
  },
  {
   "cell_type": "code",
   "execution_count": null,
   "metadata": {
    "collapsed": true
   },
   "outputs": [],
   "source": [
    "# Only with known major sequences\n",
    "major_seqs = [\n",
    "    'ATTACCCTGGTCATCGAGTGA',\n",
    "    'ATTACCCTGGTCATCGAGTGT',\n",
    "    'CTACTTCAAACAATCGGTCTG',\n",
    "    'CCACACTTCAAGCAATCGGTC',\n",
    "    'CCGCTTCAAGCAATCGGTCGC',\n",
    "    'CCGAGTTTCAAGCAATCGGTC',\n",
    "    'AAGTTTGCTAATAGTCGCAAG'\n",
    "]\n",
    "\n",
    "# Filter sequences by major sequences\n",
    "\n"
   ]
  },
  {
   "cell_type": "code",
   "execution_count": null,
   "metadata": {
    "ExecuteTime": {
     "end_time": "2019-06-04T16:25:40.391612Z",
     "start_time": "2019-06-04T16:25:40.383076Z"
    }
   },
   "outputs": [],
   "source": [
    "# Save it on the disk for reference\n",
    "util.dump_pickle(sequence_set_filtered, dirc='/mnt/storage/projects/k-seq/output/sequence_set_test.pkl',log='test sequenceset',overwrite=True)"
   ]
  },
  {
   "cell_type": "markdown",
   "metadata": {},
   "source": [
    "# Fitting w/ uncertainty estimation\n",
    "## Fit single function"
   ]
  },
  {
   "cell_type": "code",
   "execution_count": null,
   "metadata": {
    "ExecuteTime": {
     "end_time": "2019-06-04T15:45:08.399511Z",
     "start_time": "2019-06-04T15:45:08.389927Z"
    }
   },
   "outputs": [],
   "source": [
    "sequence_set_filtered = util.load_pickle('/mnt/storage/projects/k-seq/output/sequence_set_test.pkl')"
   ]
  },
  {
   "cell_type": "code",
   "execution_count": null,
   "metadata": {
    "ExecuteTime": {
     "end_time": "2019-06-04T15:32:21.047525Z",
     "start_time": "2019-06-04T15:32:21.037113Z"
    },
    "collapsed": true
   },
   "outputs": [],
   "source": [
    "?fitting.fitting_single"
   ]
  },
  {
   "cell_type": "code",
   "execution_count": null,
   "metadata": {
    "ExecuteTime": {
     "end_time": "2019-06-04T16:34:32.121817Z",
     "start_time": "2019-06-04T16:34:32.119234Z"
    },
    "collapsed": true
   },
   "outputs": [],
   "source": [
    "# Define the model to fit\n",
    "def bfo_model(x, A, k):\n",
    "    \"\"\"\n",
    "    Default kinetic model used in BFO k-seq fitting:\n",
    "                    A * (1 - np.exp(-0.3371 * 90 * k * x))\n",
    "    90: t, reaction time (min)\n",
    "    0.3371: alpha, degradation adjustment parameter for BFO in 90 min\n",
    "\n",
    "    :param x: predictor for the regression model, here is initial concentration of BFO\n",
    "    :param A: parameter represents the maximal conversion of reactants\n",
    "    :param k: parameter represents the apparent kinetic coefficient\n",
    "    :return: reacted fraction given the independent variable x and parameter (A, k)\n",
    "    \"\"\"\n",
    "    return A * (1 - np.exp(- 0.3371 * 90 * k * x *10e-6))"
   ]
  },
  {
   "cell_type": "code",
   "execution_count": null,
   "metadata": {
    "ExecuteTime": {
     "end_time": "2019-06-04T16:33:28.866175Z",
     "start_time": "2019-06-04T16:33:28.855163Z"
    }
   },
   "outputs": [],
   "source": [
    "for i in range(len(x_data)):\n",
    "    print(x_data[i], '\\t', y_data[i])"
   ]
  },
  {
   "cell_type": "code",
   "execution_count": null,
   "metadata": {
    "ExecuteTime": {
     "end_time": "2019-06-04T16:33:36.164864Z",
     "start_time": "2019-06-04T16:33:31.822873Z"
    }
   },
   "outputs": [],
   "source": [
    "fitting_res = fitting.fitting_single(x_data=x_data,\n",
    "                                     y_data=y_data,\n",
    "                                     func=bfo_model,\n",
    "                                     missing_data_as_zero=False,\n",
    "                                     bootstrap=True,\n",
    "                                     bounds=((0, 0), (1, np.inf)),\n",
    "                                     bs_depth=1000,\n",
    "                                     bs_residue=False,\n",
    "                                     bs_return_verbose=True,\n",
    "                                     random_init=False)"
   ]
  },
  {
   "cell_type": "code",
   "execution_count": null,
   "metadata": {
    "ExecuteTime": {
     "end_time": "2019-06-04T16:33:38.222557Z",
     "start_time": "2019-06-04T16:33:38.216050Z"
    },
    "scrolled": false
   },
   "outputs": [],
   "source": [
    "# check the fitting results\n",
    "fitting_res[0]"
   ]
  },
  {
   "cell_type": "code",
   "execution_count": null,
   "metadata": {
    "ExecuteTime": {
     "end_time": "2019-06-04T16:33:51.050227Z",
     "start_time": "2019-06-04T16:33:49.606922Z"
    }
   },
   "outputs": [],
   "source": [
    "# visualize the fitting curve\n",
    "\n",
    "fit_analysis.plot_fitting_single(seq_res=fitting_res, func=bfo_model,\n",
    "                                 axis_labels=('[BFO]', 'Reacted fraction'),\n",
    "                                 seq_name=seq_to_fit,\n",
    "                                 legend_off=False,\n",
    "                                 save_dirc=None)"
   ]
  },
  {
   "cell_type": "code",
   "execution_count": null,
   "metadata": {
    "ExecuteTime": {
     "end_time": "2019-06-04T15:57:12.718724Z",
     "start_time": "2019-06-04T15:57:12.650503Z"
    },
    "collapsed": true
   },
   "outputs": [],
   "source": []
  },
  {
   "cell_type": "markdown",
   "metadata": {
    "ExecuteTime": {
     "end_time": "2019-05-03T23:47:06.332484Z",
     "start_time": "2019-05-03T23:46:01.772759Z"
    }
   },
   "source": [
    "## Fit all the sequence in `sequence_set`"
   ]
  },
  {
   "cell_type": "code",
   "execution_count": null,
   "metadata": {
    "ExecuteTime": {
     "end_time": "2019-06-04T16:28:19.984291Z",
     "start_time": "2019-06-04T16:28:04.452461Z"
    },
    "scrolled": false
   },
   "outputs": [],
   "source": [
    "fitting.fitting_sequence_set(sequence_set=sequence_set_filtered, inplace=True, parallel_threads=6)"
   ]
  },
  {
   "cell_type": "code",
   "execution_count": null,
   "metadata": {
    "collapsed": true
   },
   "outputs": [],
   "source": []
  }
 ],
 "metadata": {
  "celltoolbar": "Initialization Cell",
  "kernelspec": {
   "display_name": "Python [default]",
   "language": "python",
   "name": "python3"
  },
  "language_info": {
   "codemirror_mode": {
    "name": "ipython",
    "version": 3
   },
   "file_extension": ".py",
   "mimetype": "text/x-python",
   "name": "python",
   "nbconvert_exporter": "python",
   "pygments_lexer": "ipython3",
   "version": "3.6.3"
  },
  "toc": {
   "nav_menu": {},
   "number_sections": true,
   "sideBar": true,
   "skip_h1_title": false,
   "toc_cell": false,
   "toc_position": {
    "height": "842px",
    "left": "0px",
    "right": "864px",
    "top": "106px",
    "width": "346px"
   },
   "toc_section_display": "block",
   "toc_window_display": false
  }
 },
 "nbformat": 4,
 "nbformat_minor": 2
}
