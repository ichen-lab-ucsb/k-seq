{
 "cells": [
  {
   "cell_type": "code",
   "execution_count": 22,
   "metadata": {
    "ExecuteTime": {
     "end_time": "2019-04-19T21:35:09.098569Z",
     "start_time": "2019-04-19T21:35:09.014683Z"
    },
    "init_cell": true
   },
   "outputs": [],
   "source": [
    "import sys\n",
    "import numpy as np\n",
    "# add package directory to the top of sys.path\n",
    "if np.sum([dirc.find('k-seq') >= 0 for dirc in sys.path]) == 0:\n",
    "    sys.path = ['/home/yuning/Work/k-seq/src/'] + sys.path\n",
    "\n",
    "import util\n",
    "import importlib\n",
    "import k_seq.data.pre_processing as pre_processing\n",
    "import k_seq.data.analysis as analysis\n",
    "import k_seq.fitting.fitting as fitting\n",
    "import k_seq.fitting.analysis as fit_analysis\n",
    "import k_seq.data.io as io\n",
    "importlib.reload(pre_processing)# refresh data module\n",
    "importlib.reload(analysis)# refresh data module\n",
    "importlib.reload(fit_analysis)\n",
    "importlib.reload(fitting)\n",
    "importlib.reload(io)\n",
    "\n",
    "import matplotlib as mpl\n",
    "mpl.rcParams['figure.dpi']= 300"
   ]
  },
  {
   "cell_type": "code",
   "execution_count": 25,
   "metadata": {
    "ExecuteTime": {
     "end_time": "2019-04-19T21:54:12.442167Z",
     "start_time": "2019-04-19T21:54:12.436593Z"
    }
   },
   "outputs": [],
   "source": [
    "def get_series(name):\n",
    "    return pd.Series({'col_1': 3, 'col_2': 'something'}, name=name)\n",
    "\n",
    "x = [get_series('seq1'), get_series('seq2')]"
   ]
  },
  {
   "cell_type": "code",
   "execution_count": 27,
   "metadata": {
    "ExecuteTime": {
     "end_time": "2019-04-19T21:54:26.571219Z",
     "start_time": "2019-04-19T21:54:26.552182Z"
    }
   },
   "outputs": [
    {
     "data": {
      "text/html": [
       "<div>\n",
       "<style>\n",
       "    .dataframe thead tr:only-child th {\n",
       "        text-align: right;\n",
       "    }\n",
       "\n",
       "    .dataframe thead th {\n",
       "        text-align: left;\n",
       "    }\n",
       "\n",
       "    .dataframe tbody tr th {\n",
       "        vertical-align: top;\n",
       "    }\n",
       "</style>\n",
       "<table border=\"1\" class=\"dataframe\">\n",
       "  <thead>\n",
       "    <tr style=\"text-align: right;\">\n",
       "      <th></th>\n",
       "      <th>col_1</th>\n",
       "      <th>col_2</th>\n",
       "    </tr>\n",
       "  </thead>\n",
       "  <tbody>\n",
       "    <tr>\n",
       "      <th>seq1</th>\n",
       "      <td>3</td>\n",
       "      <td>something</td>\n",
       "    </tr>\n",
       "    <tr>\n",
       "      <th>seq2</th>\n",
       "      <td>3</td>\n",
       "      <td>something</td>\n",
       "    </tr>\n",
       "  </tbody>\n",
       "</table>\n",
       "</div>"
      ],
      "text/plain": [
       "      col_1      col_2\n",
       "seq1      3  something\n",
       "seq2      3  something"
      ]
     },
     "execution_count": 27,
     "metadata": {},
     "output_type": "execute_result"
    }
   ],
   "source": [
    "pd.DataFrame(x)"
   ]
  }
 ],
 "metadata": {
  "celltoolbar": "Initialization Cell",
  "kernelspec": {
   "display_name": "Python [conda env:anaconda3-5.0.1]",
   "language": "python",
   "name": "conda-env-anaconda3-5.0.1-py"
  },
  "language_info": {
   "codemirror_mode": {
    "name": "ipython",
    "version": 3
   },
   "file_extension": ".py",
   "mimetype": "text/x-python",
   "name": "python",
   "nbconvert_exporter": "python",
   "pygments_lexer": "ipython3",
   "version": "3.6.3"
  },
  "toc": {
   "nav_menu": {},
   "number_sections": true,
   "sideBar": true,
   "skip_h1_title": false,
   "toc_cell": false,
   "toc_position": {},
   "toc_section_display": "block",
   "toc_window_display": false
  }
 },
 "nbformat": 4,
 "nbformat_minor": 2
}
