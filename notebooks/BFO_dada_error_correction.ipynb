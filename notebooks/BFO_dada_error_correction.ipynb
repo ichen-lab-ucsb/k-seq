{
 "cells": [
  {
   "cell_type": "markdown",
   "metadata": {},
   "source": [
    "# Prefilter all the fastq files\n",
    "- Filter criteria: discard reads that\n",
    "  - has N in the sequence\n",
    "  - shorter than 5 (include 5). As dada2 use a sliding window size = 5."
   ]
  },
  {
   "cell_type": "code",
   "execution_count": 43,
   "metadata": {
    "ExecuteTime": {
     "end_time": "2019-03-02T00:11:48.227932Z",
     "start_time": "2019-03-01T23:53:35.963413Z"
    }
   },
   "outputs": [
    {
     "name": "stdout",
     "output_type": "stream",
     "text": [
      "Sample R4A-inputA_S1:    Input reads: 2165969; Output reads: 1972625; Passing rate: 0.9107\n",
      "Sample RFA-1250A_S2:    Input reads: 2006577; Output reads: 1887026; Passing rate: 0.9404\n",
      "Sample R4A-250A_S3:    Input reads: 1845899; Output reads: 1721820; Passing rate: 0.9328\n",
      "Sample R4A-50A_S4:    Input reads: 2617259; Output reads: 2407377; Passing rate: 0.9198\n",
      "Sample R4A-10A_S5:    Input reads: 1515551; Output reads: 1392173; Passing rate: 0.9186\n",
      "Sample R4A-2A_S6:    Input reads: 1580502; Output reads: 1449941; Passing rate: 0.9174\n",
      "Sample R4A-0A_S7:    Input reads: 2948172; Output reads: 2782840; Passing rate: 0.9439\n",
      "Sample R4A-inputB_S8:    Input reads: 1257099; Output reads: 1163240; Passing rate: 0.9253\n",
      "Sample RFA-1250B_S9:    Input reads: 3451113; Output reads: 3261229; Passing rate: 0.9450\n",
      "Sample R4A-250B_S10:    Input reads: 10273786; Output reads: 9651905; Passing rate: 0.9395\n",
      "Sample R4A-50B_S11:    Input reads: 2544353; Output reads: 2324796; Passing rate: 0.9137\n",
      "Sample R4A-10B_S12:    Input reads: 2401142; Output reads: 2182334; Passing rate: 0.9089\n",
      "Sample R4A-2B_S13:    Input reads: 1913929; Output reads: 1750328; Passing rate: 0.9145\n",
      "Sample R4A-0B_S14:    Input reads: 2545558; Output reads: 2408620; Passing rate: 0.9462\n",
      "Sample R4B-inputA_S15:    Input reads: 2546170; Output reads: 2325271; Passing rate: 0.9132\n",
      "Sample RFB-1250A_S16:    Input reads: 1616903; Output reads: 1510053; Passing rate: 0.9339\n",
      "Sample R4B-250A_S17:    Input reads: 3186047; Output reads: 2958593; Passing rate: 0.9286\n",
      "Sample R4B-50A_S18:    Input reads: 3661611; Output reads: 3322675; Passing rate: 0.9074\n",
      "Sample R4B-10A_S19:    Input reads: 3801334; Output reads: 3450131; Passing rate: 0.9076\n",
      "Sample R4B-2A_S20:    Input reads: 2569753; Output reads: 2335473; Passing rate: 0.9088\n",
      "Sample R4B-0A_S21:    Input reads: 1971970; Output reads: 1855534; Passing rate: 0.9410\n",
      "Sample R4B-inputB_S22:    Input reads: 2340996; Output reads: 2110243; Passing rate: 0.9014\n",
      "Sample RFB-1250B_S23:    Input reads: 3102129; Output reads: 2899869; Passing rate: 0.9348\n",
      "Sample R4B-250B_S24:    Input reads: 3230771; Output reads: 3010679; Passing rate: 0.9319\n",
      "Sample R4B-50B_S25:    Input reads: 2878310; Output reads: 2610268; Passing rate: 0.9069\n",
      "Sample R4B-10B_S26:    Input reads: 2101361; Output reads: 1908811; Passing rate: 0.9084\n",
      "Sample R4B-2B_S27:    Input reads: 2562116; Output reads: 2351197; Passing rate: 0.9177\n",
      "Sample R4B-0B_S28:    Input reads: 2204072; Output reads: 2078977; Passing rate: 0.9432\n"
     ]
    }
   ],
   "source": [
    "def get_joined_fastq_directories():\n",
    "    import glob\n",
    "    root = \"/mnt/chen-nas/SequenceData/Evan/122018_AP1_BFO_kSeq/raw.reads/joined_files/\"\n",
    "    sampleList = [seq[seq.find('/R')+1:] for seq in glob.glob(root + \"*\") if not '@' in seq]\n",
    "    sort_fn = lambda x: int(x[x.find('S')+1:])\n",
    "    sampleList.sort(key=sort_fn)\n",
    "    sampleDircList = [glob.glob(root + sample + '/' + sample + '.joined.fastq')[0] for sample in sampleList]\n",
    "    return sampleList, sampleDircList\n",
    "\n",
    "def filter_fastq_files(sample, dirc, outDirc):\n",
    "    from Bio import SeqIO\n",
    "    seqs = []\n",
    "    with open(dirc, 'r') as handle:\n",
    "        for total,record in enumerate(SeqIO.parse(handle, format='fastq')):\n",
    "            if (not \"N\" in record.seq)and(len(record.seq)==21):\n",
    "                seqs.append(record)\n",
    "    print(\"Sample {}:    Input reads: {}; Output reads: {}; Passing rate: {:,.4f}\".format(sample, total, len(seqs), len(seqs)/total))\n",
    "    with open(outDirc, 'w') as outputHandle:\n",
    "        SeqIO.write(seqs, outputHandle, \"fastq\")\n",
    "        \n",
    "sampleList, sampleDircList = get_joined_fastq_directories()\n",
    "for ix in range(len(sampleList)):\n",
    "    filter_fastq_files(sampleList[ix], sampleDircList[ix], \"/mnt/storage/projects/k-seq/working/dada2/strict_21/{}.joined.filtered.fastq\".format(sampleList[ix]))"
   ]
  },
  {
   "cell_type": "code",
   "execution_count": 44,
   "metadata": {
    "ExecuteTime": {
     "end_time": "2019-03-02T00:21:43.668968Z",
     "start_time": "2019-03-02T00:21:43.655670Z"
    }
   },
   "outputs": [
    {
     "data": {
      "text/plain": [
       "['/mnt/storage/projects/k-seq/working/dada2/strict_21/R4A-inputA_S1.joined.filtered.fastq',\n",
       " '/mnt/storage/projects/k-seq/working/dada2/strict_21/RFA-1250A_S2.joined.filtered.fastq',\n",
       " '/mnt/storage/projects/k-seq/working/dada2/strict_21/R4A-250A_S3.joined.filtered.fastq',\n",
       " '/mnt/storage/projects/k-seq/working/dada2/strict_21/R4A-50A_S4.joined.filtered.fastq',\n",
       " '/mnt/storage/projects/k-seq/working/dada2/strict_21/R4A-10A_S5.joined.filtered.fastq',\n",
       " '/mnt/storage/projects/k-seq/working/dada2/strict_21/R4A-2A_S6.joined.filtered.fastq',\n",
       " '/mnt/storage/projects/k-seq/working/dada2/strict_21/R4A-0A_S7.joined.filtered.fastq',\n",
       " '/mnt/storage/projects/k-seq/working/dada2/strict_21/R4A-inputB_S8.joined.filtered.fastq',\n",
       " '/mnt/storage/projects/k-seq/working/dada2/strict_21/RFA-1250B_S9.joined.filtered.fastq',\n",
       " '/mnt/storage/projects/k-seq/working/dada2/strict_21/R4A-250B_S10.joined.filtered.fastq',\n",
       " '/mnt/storage/projects/k-seq/working/dada2/strict_21/R4A-50B_S11.joined.filtered.fastq',\n",
       " '/mnt/storage/projects/k-seq/working/dada2/strict_21/R4A-10B_S12.joined.filtered.fastq',\n",
       " '/mnt/storage/projects/k-seq/working/dada2/strict_21/R4A-2B_S13.joined.filtered.fastq',\n",
       " '/mnt/storage/projects/k-seq/working/dada2/strict_21/R4A-0B_S14.joined.filtered.fastq',\n",
       " '/mnt/storage/projects/k-seq/working/dada2/strict_21/R4B-inputA_S15.joined.filtered.fastq',\n",
       " '/mnt/storage/projects/k-seq/working/dada2/strict_21/RFB-1250A_S16.joined.filtered.fastq',\n",
       " '/mnt/storage/projects/k-seq/working/dada2/strict_21/R4B-250A_S17.joined.filtered.fastq',\n",
       " '/mnt/storage/projects/k-seq/working/dada2/strict_21/R4B-50A_S18.joined.filtered.fastq',\n",
       " '/mnt/storage/projects/k-seq/working/dada2/strict_21/R4B-10A_S19.joined.filtered.fastq',\n",
       " '/mnt/storage/projects/k-seq/working/dada2/strict_21/R4B-2A_S20.joined.filtered.fastq',\n",
       " '/mnt/storage/projects/k-seq/working/dada2/strict_21/R4B-0A_S21.joined.filtered.fastq',\n",
       " '/mnt/storage/projects/k-seq/working/dada2/strict_21/R4B-inputB_S22.joined.filtered.fastq',\n",
       " '/mnt/storage/projects/k-seq/working/dada2/strict_21/RFB-1250B_S23.joined.filtered.fastq',\n",
       " '/mnt/storage/projects/k-seq/working/dada2/strict_21/R4B-250B_S24.joined.filtered.fastq',\n",
       " '/mnt/storage/projects/k-seq/working/dada2/strict_21/R4B-50B_S25.joined.filtered.fastq',\n",
       " '/mnt/storage/projects/k-seq/working/dada2/strict_21/R4B-10B_S26.joined.filtered.fastq',\n",
       " '/mnt/storage/projects/k-seq/working/dada2/strict_21/R4B-2B_S27.joined.filtered.fastq',\n",
       " '/mnt/storage/projects/k-seq/working/dada2/strict_21/R4B-0B_S28.joined.filtered.fastq']"
      ]
     },
     "execution_count": 44,
     "metadata": {},
     "output_type": "execute_result"
    }
   ],
   "source": [
    "[\"/mnt/storage/projects/k-seq/working/dada2/strict_21/{}.joined.filtered.fastq\".format(sampleList[ix]) for ix in range(28)]"
   ]
  },
  {
   "cell_type": "code",
   "execution_count": null,
   "metadata": {
    "ExecuteTime": {
     "end_time": "2019-03-01T23:38:33.267733Z",
     "start_time": "2019-03-01T23:38:30.486Z"
    }
   },
   "outputs": [],
   "source": [
    "from Bio import SeqIO\n",
    "dirc = \"/mnt/storage/projects/k-seq/working/dada2/{}.joined.filtered.fastq\".format(sampleList[0])\n",
    "seqs = []\n",
    "with open(dirc, 'r') as handle:\n",
    "    for total,record in enumerate(SeqIO.parse(handle, format='fastq')):\n",
    "        "
   ]
  }
 ],
 "metadata": {
  "kernelspec": {
   "display_name": "Python [conda env:anaconda3-5.0.1]",
   "language": "python",
   "name": "conda-env-anaconda3-5.0.1-py"
  },
  "language_info": {
   "codemirror_mode": {
    "name": "ipython",
    "version": 3
   },
   "file_extension": ".py",
   "mimetype": "text/x-python",
   "name": "python",
   "nbconvert_exporter": "python",
   "pygments_lexer": "ipython3",
   "version": "3.6.3"
  },
  "toc": {
   "nav_menu": {},
   "number_sections": true,
   "sideBar": true,
   "skip_h1_title": false,
   "toc_cell": false,
   "toc_position": {},
   "toc_section_display": "block",
   "toc_window_display": false
  }
 },
 "nbformat": 4,
 "nbformat_minor": 2
}
