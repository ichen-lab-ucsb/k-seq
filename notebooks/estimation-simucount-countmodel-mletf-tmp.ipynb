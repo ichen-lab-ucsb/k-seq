{
 "cells": [
  {
   "cell_type": "code",
   "execution_count": 5,
   "metadata": {
    "ExecuteTime": {
     "end_time": "2019-10-18T19:55:04.118684Z",
     "start_time": "2019-10-18T19:55:04.113091Z"
    }
   },
   "outputs": [],
   "source": [
    "from yuning_util.dev_mode import DevMode\n",
    "dev_mode = DevMode(pkg='k-seq')\n",
    "dev_mode.on()"
   ]
  },
  {
   "cell_type": "code",
   "execution_count": 6,
   "metadata": {
    "ExecuteTime": {
     "end_time": "2019-10-18T19:55:07.912671Z",
     "start_time": "2019-10-18T19:55:07.687321Z"
    }
   },
   "outputs": [],
   "source": [
    "from importlib import reload\n",
    "from k_seq.model import count\n",
    "reload(count)\n",
    "import numpy as np"
   ]
  },
  {
   "cell_type": "code",
   "execution_count": 64,
   "metadata": {
    "ExecuteTime": {
     "end_time": "2019-09-20T21:38:11.661359Z",
     "start_time": "2019-09-20T21:38:11.644789Z"
    }
   },
   "outputs": [
    {
     "ename": "TypeError",
     "evalue": "only size-1 arrays can be converted to Python scalars",
     "output_type": "error",
     "traceback": [
      "\u001b[0;31m---------------------------------------------------------------------------\u001b[0m",
      "\u001b[0;31mTypeError\u001b[0m                                 Traceback (most recent call last)",
      "\u001b[0;32m<ipython-input-64-2b61a757c8ac>\u001b[0m in \u001b[0;36m<module>\u001b[0;34m\u001b[0m\n\u001b[0;32m----> 1\u001b[0;31m \u001b[0mcount\u001b[0m\u001b[0;34m.\u001b[0m\u001b[0mMultiNomial\u001b[0m\u001b[0;34m.\u001b[0m\u001b[0mfunc\u001b[0m\u001b[0;34m(\u001b[0m\u001b[0mp\u001b[0m\u001b[0;34m=\u001b[0m\u001b[0;34m[\u001b[0m\u001b[0;36m1\u001b[0m\u001b[0;34m,\u001b[0m \u001b[0;36m3\u001b[0m\u001b[0;34m,\u001b[0m \u001b[0;36m1\u001b[0m\u001b[0;34m,\u001b[0m \u001b[0;36m1\u001b[0m\u001b[0;34m]\u001b[0m\u001b[0;34m,\u001b[0m \u001b[0mN\u001b[0m\u001b[0;34m=\u001b[0m\u001b[0;34m[\u001b[0m\u001b[0;36m10\u001b[0m\u001b[0;34m,\u001b[0m \u001b[0;36m3\u001b[0m\u001b[0;34m,\u001b[0m \u001b[0;36m200\u001b[0m\u001b[0;34m,\u001b[0m \u001b[0;36m1\u001b[0m\u001b[0;34m]\u001b[0m\u001b[0;34m)\u001b[0m\u001b[0;34m\u001b[0m\u001b[0m\n\u001b[0m",
      "\u001b[0;32m~/research/k-seq/src/pkg/k_seq/model/count.py\u001b[0m in \u001b[0;36mfunc\u001b[0;34m(p, N)\u001b[0m\n\u001b[1;32m     81\u001b[0m     \u001b[0;32mdef\u001b[0m \u001b[0mfunc\u001b[0m\u001b[0;34m(\u001b[0m\u001b[0mp\u001b[0m\u001b[0;34m,\u001b[0m \u001b[0mN\u001b[0m\u001b[0;34m)\u001b[0m\u001b[0;34m:\u001b[0m\u001b[0;34m\u001b[0m\u001b[0m\n\u001b[1;32m     82\u001b[0m         \u001b[0;32mfrom\u001b[0m \u001b[0mscipy\u001b[0m\u001b[0;34m.\u001b[0m\u001b[0mstats\u001b[0m \u001b[0;32mimport\u001b[0m \u001b[0mmultinomial\u001b[0m\u001b[0;34m\u001b[0m\u001b[0m\n\u001b[0;32m---> 83\u001b[0;31m         \u001b[0;32mreturn\u001b[0m \u001b[0mmultinomial\u001b[0m\u001b[0;34m.\u001b[0m\u001b[0mrvs\u001b[0m\u001b[0;34m(\u001b[0m\u001b[0mn\u001b[0m\u001b[0;34m=\u001b[0m\u001b[0mN\u001b[0m\u001b[0;34m,\u001b[0m \u001b[0mp\u001b[0m\u001b[0;34m=\u001b[0m\u001b[0mp\u001b[0m\u001b[0;34m)\u001b[0m\u001b[0;34m\u001b[0m\u001b[0m\n\u001b[0m\u001b[1;32m     84\u001b[0m \u001b[0;34m\u001b[0m\u001b[0m\n\u001b[1;32m     85\u001b[0m     \u001b[0;34m@\u001b[0m\u001b[0mstaticmethod\u001b[0m\u001b[0;34m\u001b[0m\u001b[0m\n",
      "\u001b[0;32m~/.pyenv/versions/anaconda3-5.0.1/lib/python3.6/site-packages/scipy/stats/_multivariate.py\u001b[0m in \u001b[0;36mrvs\u001b[0;34m(self, n, p, size, random_state)\u001b[0m\n\u001b[1;32m   3218\u001b[0m         \u001b[0mn\u001b[0m\u001b[0;34m,\u001b[0m \u001b[0mp\u001b[0m\u001b[0;34m,\u001b[0m \u001b[0mnpcond\u001b[0m \u001b[0;34m=\u001b[0m \u001b[0mself\u001b[0m\u001b[0;34m.\u001b[0m\u001b[0m_process_parameters\u001b[0m\u001b[0;34m(\u001b[0m\u001b[0mn\u001b[0m\u001b[0;34m,\u001b[0m \u001b[0mp\u001b[0m\u001b[0;34m)\u001b[0m\u001b[0;34m\u001b[0m\u001b[0m\n\u001b[1;32m   3219\u001b[0m         \u001b[0mrandom_state\u001b[0m \u001b[0;34m=\u001b[0m \u001b[0mself\u001b[0m\u001b[0;34m.\u001b[0m\u001b[0m_get_random_state\u001b[0m\u001b[0;34m(\u001b[0m\u001b[0mrandom_state\u001b[0m\u001b[0;34m)\u001b[0m\u001b[0;34m\u001b[0m\u001b[0m\n\u001b[0;32m-> 3220\u001b[0;31m         \u001b[0;32mreturn\u001b[0m \u001b[0mrandom_state\u001b[0m\u001b[0;34m.\u001b[0m\u001b[0mmultinomial\u001b[0m\u001b[0;34m(\u001b[0m\u001b[0mn\u001b[0m\u001b[0;34m,\u001b[0m \u001b[0mp\u001b[0m\u001b[0;34m,\u001b[0m \u001b[0msize\u001b[0m\u001b[0;34m)\u001b[0m\u001b[0;34m\u001b[0m\u001b[0m\n\u001b[0m\u001b[1;32m   3221\u001b[0m \u001b[0;34m\u001b[0m\u001b[0m\n\u001b[1;32m   3222\u001b[0m \u001b[0;34m\u001b[0m\u001b[0m\n",
      "\u001b[0;32mmtrand.pyx\u001b[0m in \u001b[0;36mmtrand.RandomState.multinomial\u001b[0;34m()\u001b[0m\n",
      "\u001b[0;31mTypeError\u001b[0m: only size-1 arrays can be converted to Python scalars"
     ]
    }
   ],
   "source": [
    "count.MultiNomial.func(p=[1, 3, 1, 1], N=[10, 3, 200, 1])"
   ]
  },
  {
   "cell_type": "code",
   "execution_count": 71,
   "metadata": {
    "ExecuteTime": {
     "end_time": "2019-09-20T21:39:28.370004Z",
     "start_time": "2019-09-20T21:39:28.359768Z"
    }
   },
   "outputs": [
    {
     "ename": "TypeError",
     "evalue": "only size-1 arrays can be converted to Python scalars",
     "output_type": "error",
     "traceback": [
      "\u001b[0;31m---------------------------------------------------------------------------\u001b[0m",
      "\u001b[0;31mTypeError\u001b[0m                                 Traceback (most recent call last)",
      "\u001b[0;32m<ipython-input-71-3faef8dcb959>\u001b[0m in \u001b[0;36m<module>\u001b[0;34m\u001b[0m\n\u001b[0;32m----> 1\u001b[0;31m \u001b[0mmultinomial\u001b[0m\u001b[0;34m.\u001b[0m\u001b[0mrvs\u001b[0m\u001b[0;34m(\u001b[0m\u001b[0mn\u001b[0m\u001b[0;34m=\u001b[0m\u001b[0;34m[\u001b[0m\u001b[0;36m5\u001b[0m\u001b[0;34m,\u001b[0m \u001b[0;36m1\u001b[0m\u001b[0;34m]\u001b[0m\u001b[0;34m,\u001b[0m \u001b[0mp\u001b[0m\u001b[0;34m=\u001b[0m\u001b[0;34m[\u001b[0m\u001b[0;36m0.1\u001b[0m\u001b[0;34m,\u001b[0m \u001b[0;36m0.9\u001b[0m\u001b[0;34m]\u001b[0m\u001b[0;34m)\u001b[0m\u001b[0;34m\u001b[0m\u001b[0m\n\u001b[0m",
      "\u001b[0;32m~/.pyenv/versions/anaconda3-5.0.1/lib/python3.6/site-packages/scipy/stats/_multivariate.py\u001b[0m in \u001b[0;36mrvs\u001b[0;34m(self, n, p, size, random_state)\u001b[0m\n\u001b[1;32m   3218\u001b[0m         \u001b[0mn\u001b[0m\u001b[0;34m,\u001b[0m \u001b[0mp\u001b[0m\u001b[0;34m,\u001b[0m \u001b[0mnpcond\u001b[0m \u001b[0;34m=\u001b[0m \u001b[0mself\u001b[0m\u001b[0;34m.\u001b[0m\u001b[0m_process_parameters\u001b[0m\u001b[0;34m(\u001b[0m\u001b[0mn\u001b[0m\u001b[0;34m,\u001b[0m \u001b[0mp\u001b[0m\u001b[0;34m)\u001b[0m\u001b[0;34m\u001b[0m\u001b[0m\n\u001b[1;32m   3219\u001b[0m         \u001b[0mrandom_state\u001b[0m \u001b[0;34m=\u001b[0m \u001b[0mself\u001b[0m\u001b[0;34m.\u001b[0m\u001b[0m_get_random_state\u001b[0m\u001b[0;34m(\u001b[0m\u001b[0mrandom_state\u001b[0m\u001b[0;34m)\u001b[0m\u001b[0;34m\u001b[0m\u001b[0m\n\u001b[0;32m-> 3220\u001b[0;31m         \u001b[0;32mreturn\u001b[0m \u001b[0mrandom_state\u001b[0m\u001b[0;34m.\u001b[0m\u001b[0mmultinomial\u001b[0m\u001b[0;34m(\u001b[0m\u001b[0mn\u001b[0m\u001b[0;34m,\u001b[0m \u001b[0mp\u001b[0m\u001b[0;34m,\u001b[0m \u001b[0msize\u001b[0m\u001b[0;34m)\u001b[0m\u001b[0;34m\u001b[0m\u001b[0m\n\u001b[0m\u001b[1;32m   3221\u001b[0m \u001b[0;34m\u001b[0m\u001b[0m\n\u001b[1;32m   3222\u001b[0m \u001b[0;34m\u001b[0m\u001b[0m\n",
      "\u001b[0;32mmtrand.pyx\u001b[0m in \u001b[0;36mmtrand.RandomState.multinomial\u001b[0;34m()\u001b[0m\n",
      "\u001b[0;31mTypeError\u001b[0m: only size-1 arrays can be converted to Python scalars"
     ]
    }
   ],
   "source": [
    "multinomial.rvs(n=[5, 1], p=[0.1, 0.9])"
   ]
  },
  {
   "cell_type": "markdown",
   "metadata": {},
   "source": [
    "# Count models with `statsmodel` package"
   ]
  },
  {
   "cell_type": "code",
   "execution_count": 1,
   "metadata": {
    "ExecuteTime": {
     "end_time": "2019-09-19T23:31:15.989379Z",
     "start_time": "2019-09-19T23:31:15.984204Z"
    }
   },
   "outputs": [],
   "source": [
    "import statsmodels as sm"
   ]
  },
  {
   "cell_type": "code",
   "execution_count": 32,
   "metadata": {
    "ExecuteTime": {
     "end_time": "2019-09-20T00:52:10.586338Z",
     "start_time": "2019-09-20T00:52:10.580503Z"
    }
   },
   "outputs": [
    {
     "data": {
      "text/plain": [
       "array([0.064 , 0.032 , 0.0064])"
      ]
     },
     "execution_count": 32,
     "metadata": {},
     "output_type": "execute_result"
    }
   ],
   "source": [
    "from scipy.stats import nbinom\n",
    "\n",
    "nbinom.pmf(k=[1, 2, 3], n=[2, 1, 1], p=[0.2, 0.8, 0.8])"
   ]
  },
  {
   "cell_type": "code",
   "execution_count": 104,
   "metadata": {
    "ExecuteTime": {
     "end_time": "2019-09-20T16:56:22.990971Z",
     "start_time": "2019-09-20T16:56:22.984249Z"
    }
   },
   "outputs": [],
   "source": [
    "from statsmodels.base.model import GenericLikelihoodModel\n",
    "\n",
    "class NBinom(GenericLikelihoodModel):\n",
    "    \n",
    "    def __init__(self, endog, exog=None, **kwargs):\n",
    "        super().__init__(endog, exog=None, **kwargs)\n",
    "        self.nparams = 2\n",
    "    \n",
    "    @staticmethod\n",
    "    def _convert_params(mu, s):\n",
    "        \"\"\"\n",
    "        Convert mean/dispersion parameterization (mu, s) of a negative binomial that\n",
    "          mean = mu\n",
    "          var = mu + 1/s * mu ** 2\n",
    "        to the ones scipy supports NB(n, p) ~ number of success, where\n",
    "          n: num. of failure\n",
    "          p: prob of single failure\n",
    "         where:\n",
    "           mean: (1-p)n/p\n",
    "           var: (1-p)n/(p**2)\n",
    "\n",
    "        See https://en.wikipedia.org/wiki/Negative_binomial_distribution#Alternative_formulations\n",
    "        \"\"\"\n",
    "        var = mu + 1/s * mu ** 2\n",
    "        p = mu / var\n",
    "        n = s\n",
    "        return n, p\n",
    "    \n",
    "    \n",
    "    def nloglikeobs(self, params):\n",
    "        \"\"\"Calculation of negative likelihood of single observation\"\"\"\n",
    "        \n",
    "        n, p = self._convert_params(*params)\n",
    "        from scipy.stats import nbinom\n",
    "        return -nbinom.logpmf(k=self.endog, n=n, p=p)\n",
    "    \n",
    "    def fit(self, start_param=None, maxiter=10000, maxfun=5000, **kwargs):\n",
    "        # self.exog_names.append('alpha')\n",
    "        if start_param is None:\n",
    "            start_param = (1, 0.5)\n",
    "        return super().fit(start_param=start_param,\n",
    "                           maxiter=maxiter,\n",
    "                           maxfun=maxfun, **kwargs)\n"
   ]
  },
  {
   "cell_type": "code",
   "execution_count": 25,
   "metadata": {
    "ExecuteTime": {
     "end_time": "2019-09-20T18:36:44.935383Z",
     "start_time": "2019-09-20T18:36:44.904853Z"
    }
   },
   "outputs": [],
   "source": [
    "from scipy.stats import multinomial\n",
    "multinomial.logpmf?"
   ]
  },
  {
   "cell_type": "code",
   "execution_count": 59,
   "metadata": {
    "ExecuteTime": {
     "end_time": "2019-09-20T20:57:43.321580Z",
     "start_time": "2019-09-20T20:57:43.312899Z"
    },
    "scrolled": false
   },
   "outputs": [
    {
     "ename": "NameError",
     "evalue": "name 'NBinom' is not defined",
     "output_type": "error",
     "traceback": [
      "\u001b[0;31m---------------------------------------------------------------------------\u001b[0m",
      "\u001b[0;31mNameError\u001b[0m                                 Traceback (most recent call last)",
      "\u001b[0;32m<ipython-input-59-b81a6caf4272>\u001b[0m in \u001b[0;36m<module>\u001b[0;34m\u001b[0m\n\u001b[1;32m      1\u001b[0m \u001b[0;32mfrom\u001b[0m \u001b[0mscipy\u001b[0m\u001b[0;34m.\u001b[0m\u001b[0mstats\u001b[0m \u001b[0;32mimport\u001b[0m \u001b[0mnbinom\u001b[0m\u001b[0;34m\u001b[0m\u001b[0m\n\u001b[0;32m----> 2\u001b[0;31m \u001b[0mdata\u001b[0m \u001b[0;34m=\u001b[0m \u001b[0mnbinom\u001b[0m\u001b[0;34m.\u001b[0m\u001b[0mrvs\u001b[0m\u001b[0;34m(\u001b[0m\u001b[0;34m*\u001b[0m\u001b[0mNBinom\u001b[0m\u001b[0;34m.\u001b[0m\u001b[0m_convert_params\u001b[0m\u001b[0;34m(\u001b[0m\u001b[0;36m3\u001b[0m\u001b[0;34m,\u001b[0m \u001b[0;36m1000000\u001b[0m\u001b[0;34m)\u001b[0m\u001b[0;34m,\u001b[0m \u001b[0msize\u001b[0m\u001b[0;34m=\u001b[0m\u001b[0;36m50\u001b[0m\u001b[0;34m)\u001b[0m\u001b[0;34m\u001b[0m\u001b[0m\n\u001b[0m\u001b[1;32m      3\u001b[0m \u001b[0mmodel\u001b[0m \u001b[0;34m=\u001b[0m \u001b[0mNBinom\u001b[0m\u001b[0;34m(\u001b[0m\u001b[0mendog\u001b[0m\u001b[0;34m=\u001b[0m\u001b[0mdata\u001b[0m\u001b[0;34m)\u001b[0m\u001b[0;34m\u001b[0m\u001b[0m\n\u001b[1;32m      4\u001b[0m \u001b[0mmodel_res\u001b[0m \u001b[0;34m=\u001b[0m \u001b[0mmodel\u001b[0m\u001b[0;34m.\u001b[0m\u001b[0mfit\u001b[0m\u001b[0;34m(\u001b[0m\u001b[0;34m)\u001b[0m\u001b[0;34m\u001b[0m\u001b[0m\n\u001b[1;32m      5\u001b[0m \u001b[0mmodel_res\u001b[0m\u001b[0;34m.\u001b[0m\u001b[0msummary\u001b[0m\u001b[0;34m(\u001b[0m\u001b[0;34m)\u001b[0m\u001b[0;34m\u001b[0m\u001b[0m\n",
      "\u001b[0;31mNameError\u001b[0m: name 'NBinom' is not defined"
     ]
    }
   ],
   "source": [
    "from scipy.stats import nbinom\n",
    "data = nbinom.rvs(*NBinom._convert_params(3, 1000000), size=50)\n",
    "model = NBinom(endog=data)\n",
    "model_res = model.fit()\n",
    "model_res.summary()"
   ]
  },
  {
   "cell_type": "code",
   "execution_count": 58,
   "metadata": {
    "ExecuteTime": {
     "end_time": "2019-09-20T20:45:48.004591Z",
     "start_time": "2019-09-20T20:45:47.992046Z"
    }
   },
   "outputs": [
    {
     "data": {
      "text/plain": [
       "array([ -8.12883355, -17.40907983])"
      ]
     },
     "execution_count": 58,
     "metadata": {},
     "output_type": "execute_result"
    }
   ],
   "source": [
    "multinomial.logpmf(n=[10, 12], p=[0.1, 0.5, 0.4], x=[[2, 0, 8], [9, 3, 0]])"
   ]
  },
  {
   "cell_type": "code",
   "execution_count": 5,
   "metadata": {
    "ExecuteTime": {
     "end_time": "2019-09-20T18:10:46.481770Z",
     "start_time": "2019-09-20T18:10:46.477206Z"
    }
   },
   "outputs": [],
   "source": [
    "\n",
    "multi_nom = count.MultiNomial(N=100, p=[0.1, 0.4, 0.8])"
   ]
  },
  {
   "cell_type": "code",
   "execution_count": 32,
   "metadata": {
    "ExecuteTime": {
     "end_time": "2019-09-20T18:44:23.288966Z",
     "start_time": "2019-09-20T18:44:23.283432Z"
    }
   },
   "outputs": [
    {
     "data": {
      "text/plain": [
       "12"
      ]
     },
     "execution_count": 32,
     "metadata": {},
     "output_type": "execute_result"
    }
   ],
   "source": [
    "y = np.array([[0, 1, 3, 1],\n",
    "              [1, 3, 2, 1]])\n",
    "y.sum()"
   ]
  },
  {
   "cell_type": "markdown",
   "metadata": {},
   "source": [
    "## Multinomial model"
   ]
  },
  {
   "cell_type": "code",
   "execution_count": 282,
   "metadata": {
    "ExecuteTime": {
     "end_time": "2019-09-23T19:48:59.661253Z",
     "start_time": "2019-09-23T19:48:59.648786Z"
    }
   },
   "outputs": [
    {
     "data": {
      "text/plain": [
       "array([1.86490371e-10, 1.86490371e-10, 1.86490371e-10, ...,\n",
       "       3.67705410e-06, 4.01231777e-05, 1.86490371e-10])"
      ]
     },
     "execution_count": 282,
     "metadata": {},
     "output_type": "execute_result"
    }
   ],
   "source": [
    "reload(count)\n",
    "MultiNomial = count.MultiNomial\n",
    "\n",
    "def rel_abun_simulator(num_feat=1e5, one_pct=0.8):\n",
    "    from scipy.stats import expon\n",
    "    import numpy as np\n",
    "    p = expon.rvs(size=int(num_feat))\n",
    "    mask = np.random.choice(np.arange(num_feat, dtype=int), size=int(one_pct * num_feat))\n",
    "    p[mask] = p.min()\n",
    "    return p/p.sum()\n",
    "\n",
    "rel_abun_simulator()"
   ]
  },
  {
   "cell_type": "code",
   "execution_count": 283,
   "metadata": {
    "ExecuteTime": {
     "end_time": "2019-09-23T19:49:00.536348Z",
     "start_time": "2019-09-23T19:49:00.531164Z"
    }
   },
   "outputs": [],
   "source": [
    "p = rel_abun_simulator(num_feat=500, one_pct=0.8)\n",
    "simulator = MultiNomial(p=p, N=1e6)\n",
    "y = simulator.predict(size=3, seed=23)"
   ]
  },
  {
   "cell_type": "code",
   "execution_count": 284,
   "metadata": {
    "ExecuteTime": {
     "end_time": "2019-09-23T19:49:01.581784Z",
     "start_time": "2019-09-23T19:49:01.576532Z"
    }
   },
   "outputs": [
    {
     "data": {
      "text/plain": [
       "(3, 500)"
      ]
     },
     "execution_count": 284,
     "metadata": {},
     "output_type": "execute_result"
    }
   ],
   "source": [
    "y.shape"
   ]
  },
  {
   "cell_type": "code",
   "execution_count": 285,
   "metadata": {
    "ExecuteTime": {
     "end_time": "2019-09-23T19:49:02.353093Z",
     "start_time": "2019-09-23T19:49:02.348593Z"
    }
   },
   "outputs": [],
   "source": [
    "model = MultiNomial(y=y)"
   ]
  },
  {
   "cell_type": "code",
   "execution_count": 286,
   "metadata": {
    "ExecuteTime": {
     "end_time": "2019-09-23T19:49:05.803750Z",
     "start_time": "2019-09-23T19:49:03.578670Z"
    },
    "scrolled": false
   },
   "outputs": [],
   "source": [
    "res = model.mle_fit_scipy()"
   ]
  },
  {
   "cell_type": "code",
   "execution_count": 287,
   "metadata": {
    "ExecuteTime": {
     "end_time": "2019-09-23T19:49:09.155425Z",
     "start_time": "2019-09-23T19:49:09.143627Z"
    },
    "scrolled": false
   },
   "outputs": [
    {
     "name": "stdout",
     "output_type": "stream",
     "text": [
      "(0.9999714948695093, 0.0)\n"
     ]
    },
    {
     "data": {
      "text/plain": [
       "     fun: 1401.4737929900487\n",
       "     jac: array([ 2.17067500e+04,  1.50000000e+00,  1.10116667e+04,  9.99999583e+05,\n",
       "        2.91671753e-01,  4.60416718e+01,  2.54166718e+01,  3.57500000e+01,\n",
       "        2.17067500e+04,  4.00000000e+00,  1.10116667e+04,  5.41671753e-01,\n",
       "        9.99999583e+05,  5.54625000e+03,  2.17067500e+04,  7.37695834e+03,\n",
       "        1.10116667e+04,  7.37695834e+03,  2.17067500e+04,  1.10116667e+04,\n",
       "        1.10116667e+04,  9.99999583e+05,  7.37695834e+03,  1.10116667e+04,\n",
       "        4.16671753e-01,  1.10116667e+04,  0.00000000e+00,  2.17067500e+04,\n",
       "        5.54625000e+03,  1.10116667e+04,  7.37695834e+03,  9.99999583e+05,\n",
       "        1.10116667e+04,  1.10116667e+04,  1.00000000e+00,  7.37695834e+03,\n",
       "        5.83343506e-01,  1.10116667e+04,  1.00000000e+01,  3.45834351e+00,\n",
       "        1.25000000e-01,  7.54167175e+00,  8.33435059e-02,  9.99999583e+05,\n",
       "        5.16667175e+00,  2.27083435e+01,  9.99999583e+05,  1.66667175e+00,\n",
       "        1.10116667e+04,  9.99999583e+05,  5.54625000e+03,  1.54167175e+00,\n",
       "        1.20416718e+01,  5.54625000e+03,  4.87500000e+00,  2.08343506e-01,\n",
       "        5.54625000e+03,  2.08343506e-01,  2.12500000e+00,  7.37695834e+03,\n",
       "        2.91671753e-01,  2.08334351e+00,  7.37695834e+03,  1.66667175e+00,\n",
       "        9.99999583e+05,  1.66671753e-01,  7.37695834e+03,  2.12500000e+00,\n",
       "        8.58334351e+00,  2.95834351e+00,  1.75000000e+00,  1.83334351e+00,\n",
       "        5.54625000e+03,  2.17067500e+04,  2.33334351e+00,  2.87500000e+00,\n",
       "        4.16717529e-02,  5.54625000e+03,  3.17916667e+03,  2.17067500e+04,\n",
       "        2.50000000e-01,  1.66671753e-01,  7.37695834e+03,  9.99999583e+05,\n",
       "        9.99999583e+05,  9.99999583e+05,  8.33343506e-01,  5.08334351e+00,\n",
       "        4.44345834e+03,  3.70645834e+03,  7.37700000e+03,  3.75000000e-01,\n",
       "        9.99999583e+05,  1.10116667e+04,  1.10116667e+04,  1.16667175e+00,\n",
       "        1.37500000e+00,  7.04167175e+00,  1.10116667e+04,  2.17067500e+04,\n",
       "        2.75000000e+00,  7.37695834e+03,  3.37500000e+00,  9.99999583e+05,\n",
       "        9.58343506e-01,  5.54625000e+03, -4.16564941e-02,  2.75000000e+00,\n",
       "        7.37695834e+03,  9.99999583e+05,  1.10116667e+04,  1.10116667e+04,\n",
       "        5.50000000e+00,  1.10116667e+04,  2.17067500e+04,  2.17067500e+04,\n",
       "        9.99999583e+05,  1.10116667e+04,  3.95834351e+00,  5.83343506e-01,\n",
       "        9.99999583e+05,  1.20834351e+00,  5.83343506e-01,  3.33343506e-01,\n",
       "        4.44345834e+03,  8.75000000e-01,  8.33343506e-01,  7.37695834e+03,\n",
       "        4.04167175e+00,  2.17067500e+04,  5.54625000e+03,  7.37695834e+03,\n",
       "        4.44345834e+03,  2.91671753e-01,  6.66671753e-01,  1.10116667e+04,\n",
       "        7.37695834e+03,  6.75000000e+00,  5.54625000e+03,  2.16667175e+00,\n",
       "        1.33334351e+00,  1.10116667e+04,  7.37695834e+03,  3.75000000e-01,\n",
       "        1.50000000e+00,  9.99999583e+05,  1.10116667e+04,  2.50000000e-01,\n",
       "        2.04167175e+00,  7.37695834e+03,  1.10116667e+04,  7.37695834e+03,\n",
       "        2.17067500e+04,  4.44345834e+03, -8.33282471e-02,  2.83334351e+00,\n",
       "        7.37695834e+03,  7.50000000e-01,  2.17067500e+04,  1.91667175e+00,\n",
       "        6.45834351e+00,  1.10116667e+04,  1.41667175e+00,  2.17067500e+04,\n",
       "        9.99999583e+05,  1.10116667e+04,  1.50416718e+01,  3.75000000e+00,\n",
       "        2.17067500e+04,  4.44345834e+03,  7.37695834e+03,  2.17067500e+04,\n",
       "        7.91671753e-01,  5.41671753e-01,  4.54167175e+00,  2.31250000e+01,\n",
       "        7.37695834e+03,  4.16671753e-01,  5.41671753e-01,  9.99999583e+05,\n",
       "        2.17067500e+04,  1.70834351e+00,  6.51250000e+01,  1.50000000e+00,\n",
       "        9.99999583e+05,  5.54625000e+03,  2.17067500e+04,  2.17067500e+04,\n",
       "        3.70645834e+03,  9.16671753e-01,  2.41667175e+00,  5.54625000e+03,\n",
       "        7.37695834e+03,  1.10116667e+04,  4.54167175e+00,  2.00000000e+00,\n",
       "        7.37695834e+03,  1.10116667e+04,  1.20834351e+00,  1.66671753e-01,\n",
       "        4.37500000e+00,  7.37695834e+03,  1.39166718e+01,  1.10116667e+04,\n",
       "        6.41667175e+00,  5.83343506e-01,  2.47491667e+03,  1.10116667e+04,\n",
       "        1.10116667e+04,  5.54625000e+03,  1.70834351e+00,  3.29167175e+00,\n",
       "        5.41671753e-01,  7.37695834e+03,  4.33334351e+00,  1.10116667e+04,\n",
       "        3.12500000e+00,  7.37695834e+03,  4.44345834e+03,  2.17067500e+04,\n",
       "        1.02083344e+02,  9.99999583e+05,  9.99999583e+05,  1.10116667e+04,\n",
       "        3.54208344e+02,  1.10116667e+04,  4.58334351e+00,  5.54625000e+03,\n",
       "        1.10116667e+04,  2.17067500e+04,  2.17067500e+04,  2.12500000e+00,\n",
       "        1.10116667e+04,  1.75000000e+00,  1.10116667e+04,  4.44345834e+03,\n",
       "        2.17067500e+04,  1.33334351e+00,  7.37695834e+03,  5.41671753e-01,\n",
       "        3.29167175e+00,  3.75000000e-01,  7.37695834e+03,  9.99999583e+05,\n",
       "        4.79167175e+00,  1.10116667e+04,  9.99999583e+05,  2.17067500e+04,\n",
       "        2.17067500e+04,  5.16667175e+00,  1.87500000e+00,  1.00291672e+02,\n",
       "        1.25000000e+00,  1.95834351e+00,  1.10116667e+04,  1.10116667e+04,\n",
       "        1.91667175e+00,  7.50000000e-01,  1.10116667e+04,  3.17916667e+03,\n",
       "        4.44354167e+03,  3.91667175e+00,  1.10116667e+04,  2.17067500e+04,\n",
       "        3.70650000e+03,  4.44350000e+03,  1.25000000e+00,  1.37500000e+00,\n",
       "        1.66671753e-01,  1.10116667e+04,  9.99999583e+05,  5.54625000e+03,\n",
       "        2.17067500e+04,  7.37695834e+03,  2.25000000e+00,  7.37695834e+03,\n",
       "        5.16667175e+00,  5.41667175e+00,  5.54625000e+03,  4.44350000e+03,\n",
       "        3.33343506e-01,  1.10116667e+04,  5.07500000e+01,  1.10116667e+04,\n",
       "        2.17067500e+04,  2.41667175e+00,  2.17067500e+04,  6.66671753e-01,\n",
       "        9.99999583e+05,  1.29167175e+00,  6.66671753e-01,  7.37700000e+03,\n",
       "        9.20834351e+00,  4.44350000e+03,  1.91667175e+00,  1.08334351e+00,\n",
       "        2.17067500e+04,  2.17067500e+04,  1.10116667e+04,  5.54625000e+03,\n",
       "        9.99999583e+05,  5.54625000e+03,  1.45834351e+00,  5.54625000e+03,\n",
       "        8.33435059e-02,  7.37695834e+03,  6.25000000e-01,  2.17067500e+04,\n",
       "        6.83334351e+00,  1.10116667e+04,  2.50000000e-01,  1.12500000e+00,\n",
       "        1.10116667e+04,  2.17067500e+04,  9.99999583e+05,  2.08334351e+00,\n",
       "        1.04166718e+01,  9.99999583e+05,  7.37700000e+03,  8.75000000e+00,\n",
       "        4.44345834e+03,  1.12500000e+00,  7.91671753e-01, -4.16564941e-02,\n",
       "        1.10116667e+04,  1.10116667e+04,  7.37695834e+03,  2.17067500e+04,\n",
       "        1.45834351e+00,  9.99999583e+05,  4.44350000e+03,  7.37695834e+03,\n",
       "        5.54625000e+03,  7.37695834e+03,  9.99999583e+05,  1.10116667e+04,\n",
       "        6.66671753e-01,  2.00000000e+00,  7.37700000e+03,  1.10116667e+04,\n",
       "        2.17067500e+04,  3.00000000e+00,  1.25000000e+00,  8.75000000e-01,\n",
       "        3.79167175e+00,  9.99999583e+05,  7.37695834e+03,  8.04167175e+00,\n",
       "        2.17067500e+04,  2.17067500e+04,  1.10116667e+04,  6.40416718e+01,\n",
       "        7.37695834e+03,  4.41667175e+00,  3.08334351e+00,  5.54625000e+03,\n",
       "        2.87500000e+00,  2.17067500e+04,  1.10116667e+04,  7.37695834e+03,\n",
       "        9.99999583e+05,  2.17067500e+04,  1.10116667e+04,  2.22916718e+01,\n",
       "        3.41667175e+00,  8.95834351e+00,  1.10116667e+04,  7.37695834e+03,\n",
       "        6.79167175e+00,  1.50000000e+00,  1.05833435e+01,  1.33333435e+01,\n",
       "        2.66667175e+00,  1.10116667e+04,  5.54625000e+03,  9.99999583e+05,\n",
       "        2.17067500e+04,  5.12500000e+00,  1.37500000e+00,  2.08343506e-01,\n",
       "        1.10116667e+04,  1.10116667e+04,  7.37695834e+03,  7.37695834e+03,\n",
       "        1.10116667e+04,  4.54167175e+00,  5.00000000e-01,  6.66671753e-01,\n",
       "        7.37695834e+03,  2.17067500e+04,  2.17067500e+04,  2.45834351e+00,\n",
       "        2.17067500e+04,  7.37695834e+03,  1.29167175e+00,  7.37695834e+03,\n",
       "        6.66671753e-01,  4.44345834e+03,  4.44345834e+03,  3.16667175e+00,\n",
       "        1.10116667e+04,  4.58334351e+00,  2.79167175e+00,  3.66667175e+00,\n",
       "        7.37700000e+03,  2.17067500e+04,  2.17067500e+04,  6.66671753e-01,\n",
       "        1.10116667e+04,  8.70834351e+00,  7.37695834e+03,  3.91667175e+00,\n",
       "        9.99999583e+05,  5.83343506e-01,  1.37500000e+00,  2.33334351e+00,\n",
       "        2.17067500e+04,  2.91671753e-01,  6.66671753e-01,  2.17067500e+04,\n",
       "        9.99999583e+05,  5.54625000e+03,  1.10116667e+04,  4.68750000e+01,\n",
       "        3.70650000e+03,  1.66671753e-01,  2.08334351e+00,  5.00000000e-01,\n",
       "        1.05833435e+01,  4.33334351e+00,  0.00000000e+00,  4.58343506e-01,\n",
       "        1.10116667e+04,  2.20000000e+01,  7.37700000e+03,  4.14583435e+01,\n",
       "        5.54625000e+03,  5.54625000e+03,  5.83343506e-01,  1.82500000e+01,\n",
       "        2.50000000e+00,  7.37700000e+03,  2.54167175e+00,  7.72083435e+01,\n",
       "        2.17067500e+04,  1.10116667e+04,  5.54625000e+03,  1.05833435e+01,\n",
       "        2.08343506e-01,  9.99999583e+05,  7.37700000e+03,  2.04583435e+01,\n",
       "        9.99999583e+05,  1.10116667e+04,  1.10116667e+04,  1.10116667e+04,\n",
       "        1.00000000e+01,  2.25000000e+00,  1.10116667e+04,  7.37700000e+03,\n",
       "        2.66250000e+01,  2.17067500e+04,  7.37695834e+03,  1.10116667e+04,\n",
       "        5.54625000e+03,  8.25000000e+00,  1.50000000e+00,  1.10116667e+04,\n",
       "        1.10116667e+04,  7.37695834e+03,  1.10116667e+04,  2.17067500e+04,\n",
       "        4.44350000e+03,  5.54625000e+03,  2.17067500e+04,  1.10116667e+04,\n",
       "        1.10116667e+04,  7.37695834e+03,  9.33334351e+00,  4.91667175e+00,\n",
       "        2.91671753e-01,  7.37695834e+03,  1.10116667e+04,  5.08334351e+00,\n",
       "        7.37695834e+03,  1.10116667e+04,  1.10116667e+04,  9.58343506e-01,\n",
       "        1.83334351e+00,  2.17067500e+04,  1.20834351e+00,  1.10116667e+04,\n",
       "        2.17067500e+04,  4.45833435e+01,  2.17067500e+04,  1.33334351e+00,\n",
       "        2.00000000e+00,  7.45834351e+00,  9.99999583e+05,  1.10116667e+04])\n",
       " message: 'Positive directional derivative for linesearch'\n",
       "    nfev: 502\n",
       "     nit: 5\n",
       "    njev: 1\n",
       "  status: 8\n",
       " success: False\n",
       "       x: array([3.33333333e-07, 3.95100000e-03, 6.66666667e-07, 1.00000000e-08,\n",
       "       1.03990000e-02, 1.60333333e-04, 2.88333333e-04, 2.06000000e-04,\n",
       "       3.33333333e-07, 1.70633333e-03, 6.66666667e-07, 7.98900000e-03,\n",
       "       1.00000000e-08, 1.33333333e-06, 3.33333333e-07, 1.00000000e-06,\n",
       "       6.66666667e-07, 1.00000000e-06, 3.33333333e-07, 6.66666667e-07,\n",
       "       6.66666667e-07, 1.00000000e-08, 1.00000000e-06, 6.66666667e-07"
      ]
     },
     "execution_count": 287,
     "metadata": {},
     "output_type": "execute_result"
    },
    {
     "data": {
      "text/html": [
       "<b>limit_output extension: Maximum message size of 10000 exceeded with 18451 characters</b>"
      ]
     },
     "metadata": {},
     "output_type": "display_data"
    }
   ],
   "source": [
    "from scipy.stats import pearsonr\n",
    "print(pearsonr(res.x, p))\n",
    "res"
   ]
  },
  {
   "cell_type": "code",
   "execution_count": 146,
   "metadata": {
    "ExecuteTime": {
     "end_time": "2019-09-22T00:43:28.578235Z",
     "start_time": "2019-09-22T00:43:28.572121Z"
    }
   },
   "outputs": [
    {
     "data": {
      "text/plain": [
       "array([-2.02268321, -0.88770328])"
      ]
     },
     "execution_count": 146,
     "metadata": {},
     "output_type": "execute_result"
    }
   ],
   "source": [
    "# from scipy.stats import multinomial\n",
    "\n",
    "multinomial.logpmf(n=[5, 4], p=[0.3, 0.7], x=[[3, 2], [1, 3]])"
   ]
  },
  {
   "cell_type": "code",
   "execution_count": 289,
   "metadata": {
    "ExecuteTime": {
     "end_time": "2019-09-23T21:36:00.270379Z",
     "start_time": "2019-09-23T21:36:00.265557Z"
    }
   },
   "outputs": [
    {
     "data": {
      "text/plain": [
       "0"
      ]
     },
     "execution_count": 289,
     "metadata": {},
     "output_type": "execute_result"
    }
   ],
   "source": []
  },
  {
   "cell_type": "markdown",
   "metadata": {},
   "source": [
    "# Tensorflow engine test"
   ]
  },
  {
   "cell_type": "code",
   "execution_count": 4,
   "metadata": {
    "ExecuteTime": {
     "end_time": "2019-10-18T18:25:02.631085Z",
     "start_time": "2019-10-18T18:25:01.137371Z"
    },
    "scrolled": false
   },
   "outputs": [],
   "source": [
    "import tensorflow_probability as tfp\n",
    "\n",
    "tfd = tfp.distributions"
   ]
  },
  {
   "cell_type": "code",
   "execution_count": 99,
   "metadata": {
    "ExecuteTime": {
     "end_time": "2019-09-26T17:11:50.013671Z",
     "start_time": "2019-09-26T17:11:32.824957Z"
    },
    "scrolled": false
   },
   "outputs": [
    {
     "name": "stdout",
     "output_type": "stream",
     "text": [
      "computation time: 17.1205 seconds\n"
     ]
    }
   ],
   "source": [
    "# follow is an example from Jeff Pollock https://jeffpollock9.github.io/maximum-likelihood-estimation-with-tensorflow-probability-and-pystan/\n",
    "# of fitting a Bernoulli distribution\n",
    "\n",
    "import tensorflow as tf\n",
    "import tensorflow_probability as tfp\n",
    "\n",
    "tfd = tfp.distributions\n",
    "\n",
    "# simulate the dataset\n",
    "\n",
    "N = 1_000_000  # num_observation\n",
    "P = 250 # parameter\n",
    "\n",
    "tf.random.set_random_seed(23)\n",
    "\n",
    "alpha = tfd.Normal(0.666, 1.0).sample() # alpha is a tensor with shape []\n",
    "beta = tfd.Normal(0.0, 3.14).sample([P, 1]) # tensor with shape [250, 1], vertical vector\n",
    "\n",
    "x = tfd.Normal(0.0, 1.0).sample([N, P]) # sampled tensor with shape [1_000_000, 250]\n",
    "y = tfd.Bernoulli(alpha + x @ beta).sample()\n",
    "\n",
    "# define the model\n",
    "\n",
    "def loss(param, x, y):\n",
    "    \"\"\"Negative Log likelihood as loss, reduced on all observations\"\"\"\n",
    "    alpha = param[0]\n",
    "    beta = tf.expand_dims(param[1:], 1)\n",
    "    model = tfd.Bernoulli(alpha + x @ beta)\n",
    "    return -tf.reduce_sum(model.log_prob(y))\n",
    "\n",
    "def loss_and_gradient(param, x, y):\n",
    "    \"\"\"pass a value and gradient object to tfp.optimizer.lbfgs_minimize,\n",
    "    conditioned on the given data: (x, y)\n",
    "    \"\"\"\n",
    "    return tfp.math.value_and_gradient(lambda param: loss(param, x, y),\n",
    "                                       param)\n",
    "\n",
    "def fit(x, y):\n",
    "    \"\"\"a fitting node to conduct fitting\"\"\"\n",
    "    init = tf.zeros(tf.shape(x)[1] + 1)  # get the dimension of params\n",
    "    opt = tfp.optimizer.lbfgs_minimize(\n",
    "        lambda param: loss_and_gradient(param, x, y), init, max_iterations=1000\n",
    "    )\n",
    "    return opt\n",
    "\n",
    "# run training\n",
    "import time\n",
    "\n",
    "with tf.Session() as sess:\n",
    "    start = time.time()\n",
    "    mle = fit(x, y)\n",
    "    res = sess.run(mle)\n",
    "    end = time.time()\n",
    "    print(f\"computation time: {end - start:.4f} seconds\")\n",
    "    \n",
    "#     print(f\"converged: {mle.}\")\n",
    "#     print(f\"iterations: {mle.num_iterations}\")"
   ]
  },
  {
   "cell_type": "code",
   "execution_count": 102,
   "metadata": {
    "ExecuteTime": {
     "end_time": "2019-09-26T17:12:04.607885Z",
     "start_time": "2019-09-26T17:12:04.603312Z"
    }
   },
   "outputs": [
    {
     "ename": "SyntaxError",
     "evalue": "invalid syntax (<ipython-input-102-8ccdd3977c84>, line 1)",
     "output_type": "error",
     "traceback": [
      "\u001b[0;36m  File \u001b[0;32m\"<ipython-input-102-8ccdd3977c84>\"\u001b[0;36m, line \u001b[0;32m1\u001b[0m\n\u001b[0;31m    res.\u001b[0m\n\u001b[0m        ^\u001b[0m\n\u001b[0;31mSyntaxError\u001b[0m\u001b[0;31m:\u001b[0m invalid syntax\n"
     ]
    }
   ],
   "source": [
    "res."
   ]
  },
  {
   "cell_type": "code",
   "execution_count": 23,
   "metadata": {
    "ExecuteTime": {
     "end_time": "2019-09-26T17:47:55.954793Z",
     "start_time": "2019-09-26T17:47:55.933928Z"
    }
   },
   "outputs": [
    {
     "name": "stdout",
     "output_type": "stream",
     "text": [
      "[[23  1  2]\n",
      " [ 0  1  2]\n",
      " [12 12  1]]\n"
     ]
    }
   ],
   "source": [
    "import tensorflow as tf\n",
    "\n",
    "sess = tf.Session()\n",
    "\n",
    "x = tf.constant([23, 1, 2,\n",
    "                 0, 1, 2,\n",
    "                 12, 12, 1])\n",
    "y = tf.reshape(x, [3, -1])\n",
    "\n",
    "with sess.as_default():\n",
    "    print(y.eval())"
   ]
  },
  {
   "cell_type": "markdown",
   "metadata": {},
   "source": [
    "## Tensorflow based count model"
   ]
  },
  {
   "cell_type": "code",
   "execution_count": 114,
   "metadata": {
    "ExecuteTime": {
     "end_time": "2019-09-26T21:39:36.333859Z",
     "start_time": "2019-09-26T21:39:36.318939Z"
    }
   },
   "outputs": [],
   "source": [
    "import tensorflow as tf\n",
    "import tensorflow_probability as tfp\n",
    "tfd = tfp.distributions\n",
    "\n",
    "def reparameterization(theta, psi, phi):\n",
    "    \"\"\"Reparameterize p0, k, and A to avoid constraints\n",
    "    P is the number of features\n",
    "    \n",
    "    Args:\n",
    "        theta: shape [P] tensor\n",
    "        psi: shape [P] tensor\n",
    "        phi: shape [P] tensor\n",
    "    \n",
    "    Returns:\n",
    "        p0: shape [P] tensor\n",
    "        k: shape [P] tensor\n",
    "        A: shape [P] tensor\n",
    "    \"\"\"\n",
    "    \n",
    "    p0 = tf.math.softmax(theta)\n",
    "    k = tf.math.exp(psi)\n",
    "    A = tf.exp(phi) / (1 + tf.exp(phi))\n",
    "    \n",
    "    return p0, k, A\n",
    "\n",
    "\n",
    "def kinetic_model(p0, k, A, c, alpha, t):\n",
    "    \"\"\"A pseudo-first order kinetic model\n",
    "    input intial pool and parameters of observation\n",
    "    output pool composition for all observations shape [N, P]\n",
    "    \"\"\"\n",
    "    \n",
    "    \n",
    "    # expand c(shape [P]) to c_repeat([N, P])\n",
    "    \n",
    "    c_rep = tf.tile(tf.expand_dims(c, -1), [1, tf.shape(p0)[0]])\n",
    "    frac = tf.multiply(1 - tf.exp(-alpha * t * tf.multiply(c_rep, k)), A)\n",
    "    p = tf.multiply(frac, p0)\n",
    "    \n",
    "    return tf.divide(p, tf.expand_dims(tf.reduce_sum(input_tensor=p, axis=1), -1))\n",
    "\n",
    "\n",
    "def loss(params_1d, c, alpha, t, y, mask):\n",
    "    \"\"\"Negative Log likelihood as loss, reduced on all observations\"\"\"\n",
    "    \n",
    "    params = tf.reshape(params_1d, [3, -1])\n",
    "    theta = params[0]\n",
    "    psi = params[1]\n",
    "    phi = params[2]\n",
    "    \n",
    "    p0, k, A = reparameterization(theta, psi, phi)\n",
    "    \n",
    "    probs_reacted = kinetic_model(p0, k, A, tf.boolean_mask(c, mask), alpha, t)\n",
    "    probs_init = tf.tile(tf.expand_dims(p0, 0), [np.sum(~mask), 1])\n",
    "    \n",
    "    #print(y)\n",
    "    N = tf.reduce_sum(y, axis=-1)\n",
    "    #print(N)\n",
    "    total_count = tf.boolean_mask(N, mask)\n",
    "    model_reacted = tfd.Multinomial(total_count=tf.boolean_mask(N, mask), probs=probs_reacted)\n",
    "    total_count = tf.boolean_mask(N, ~mask)\n",
    "    model_init = tfd.Multinomial(total_count=tf.boolean_mask(N, ~mask), probs=probs_init)\n",
    "    \n",
    "    return -tf.reduce_sum(model_reacted.log_prob(tf.boolean_mask(y, mask)))-tf.reduce_sum(model_init.log_prob(tf.boolean_mask(y, ~mask)))\n",
    "\n",
    "def loss_and_gradient(params, alpha, t, c, y, mask):\n",
    "    \"\"\"pass a value and gradient object to tfp.optimizer.lbfgs_minimize,\n",
    "    conditioned on the given data: (c, y)\n",
    "    \"\"\"\n",
    "    value, gradient = tfp.math.value_and_gradient(\n",
    "        lambda params: loss(params, c=c, y=y, alpha=alpha, t=t, mask=mask),\n",
    "        params\n",
    "    )\n",
    "#     print(value)\n",
    "#     print(gradient)\n",
    "    return value, tf.reshape(gradient, [-1])\n",
    "\n",
    "def fit_count_model(var, count, sample_mask, alpha=0.479, t=90, method='lbfgs', init_method='uniform'):\n",
    "    \"\"\"a fitting node to conduct fitting\n",
    "    var: controlled variable, x, here is concentration (c)\n",
    "    count: dependent variable, y\n",
    "    sample_mask: boolean mask indicate init pool (False) or reacted pool (True)\n",
    "    \"\"\"\n",
    "    \n",
    "    if init_method.lower() in ['unif', 'uniform']:\n",
    "        param_init = tf.zeros([3 * tf.shape(count)[1]])  # initialize params [theta, psi, phi] with zero, then\n",
    "    elif init_method.lower() in ['average', 'avg']:\n",
    "        p0_init = count[var < 0].sum(0) + 0.01\n",
    "        theta_init = np.log(p0_init)\n",
    "        param_init = tf.convert_to_tensor(\n",
    "            np.concatenate(\n",
    "                [theta_init, np.zeros_like(theta_init), np.zeros_like(theta_init)]\n",
    "            ), dtype=np.float32\n",
    "        )\n",
    "    opt = tfp.optimizer.lbfgs_minimize(\n",
    "        lambda params: loss_and_gradient(params, c=var, y=count, alpha=alpha, t=t, mask=sample_mask),\n",
    "        initial_position=param_init, max_iterations=1000\n",
    "    )\n",
    "    return opt\n"
   ]
  },
  {
   "cell_type": "code",
   "execution_count": 41,
   "metadata": {
    "ExecuteTime": {
     "end_time": "2019-10-18T20:09:28.907579Z",
     "start_time": "2019-10-18T20:09:28.897820Z"
    }
   },
   "outputs": [],
   "source": [
    "def pool_simulator(ribo_num, seq_to_ribo_ratio, p0_param, a_param, k_param, c_list, N_list, rnd_seed=23, save_to=None):\n",
    "    from k_seq.model import pool, count, kinetic\n",
    "    from k_seq.data import simu\n",
    "    import numpy as np\n",
    "    import pandas as pd\n",
    "    \n",
    "    p0 = simu.pSampler(n=ribo_num).from_lognormal(loc=p0_param['loc'], scale=p0_param['scale'])\n",
    "    A = simu.ASampler(n=ribo_num).from_uniform(low=a_param['low'], high=a_param['high'])\n",
    "    k = simu.kSampler(n=ribo_num).from_lognormal(c95=k_param['c95'])\n",
    "    \n",
    "    truth = pd.DataFrame({'p0': p0, 'a': A, 'k':k})\n",
    "    truth.index.name = 'seq'\n",
    "    \n",
    "    pool_model = pool.PoolModel(count_model=count.MultiNomial, kinetic_model=kinetic.BYOModel)\n",
    "    pool_simulator = simu.Simulator(model=pool_model,\n",
    "                                    repeat=3,\n",
    "                                    parameters=[{'c':c, 'N':N} for c, N in zip(c_list, N_list)],\n",
    "                                    p0=p0, A=A, k=k, seed=rnd_seed)\n",
    "    X = pd.DataFrame({sample: {'c': params['c'] if params['c'] >= 0 else np.nan,\n",
    "                               'n': params['N']}\n",
    "                      for sample, params in pool_simulator.parameters.items()})\n",
    "    y = pool_simulator.to_DataFrame()\n",
    "    y.index.name = 'seq'\n",
    "    \n",
    "    if save_to is not None:\n",
    "        from pathlib import Path\n",
    "        save_path = Path(save_to)\n",
    "        if save_path.suffix == '':\n",
    "            save_path.mkdir(parents=True, exist_ok=True)\n",
    "            X.to_csv(f'{save_path}/X.csv')\n",
    "            y.to_csv(f'{save_path}/y.csv')\n",
    "            truth.to_csv(f'{save_path}/truth.csv')\n",
    "        else:\n",
    "            raise TypeError('save_to should be a directory')\n",
    "        \n",
    "    return X, y, truth\n",
    "    "
   ]
  },
  {
   "cell_type": "code",
   "execution_count": 11,
   "metadata": {
    "ExecuteTime": {
     "end_time": "2019-10-18T19:58:00.359986Z",
     "start_time": "2019-10-18T19:58:00.355279Z"
    }
   },
   "outputs": [],
   "source": [
    "from pathlib import Path"
   ]
  },
  {
   "cell_type": "code",
   "execution_count": 48,
   "metadata": {
    "ExecuteTime": {
     "end_time": "2019-10-18T20:12:23.373395Z",
     "start_time": "2019-10-18T20:12:23.340348Z"
    }
   },
   "outputs": [],
   "source": [
    "import numpy as np\n",
    "\n",
    "ribo_num = int(1e3)\n",
    "seq_to_ribo_ratio = int(100)\n",
    "\n",
    "p0_param = {'loc': 0, 'scale':0}\n",
    "a_param = {'low': 0, 'high': 1}\n",
    "k_param = {'c95': [0.5, 100]}\n",
    "\n",
    "c_list = np.array([-1, 2, 10, 50, 250, 1250]) * 1e-6 #uM --> M\n",
    "N_list = np.repeat(ribo_num * seq_to_ribo_ratio, len(c_list))\n",
    "\n",
    "X, y, truth = pool_simulator(\n",
    "    ribo_num=ribo_num,\n",
    "    seq_to_ribo_ratio=seq_to_ribo_ratio,\n",
    "    p0_param=p0_param,\n",
    "    a_param=a_param,\n",
    "    k_param=k_param,\n",
    "    c_list=c_list,\n",
    "    N_list=N_list,\n",
    "    rnd_seed=23,\n",
    "    save_to=f\"/mnt/storage/projects/k-seq/datasets/count_tests/seq_{ribo_num}_depth_{seq_to_ribo_ratio}_p0var{p0_param['scale']}\"\n",
    ")"
   ]
  },
  {
   "cell_type": "code",
   "execution_count": 45,
   "metadata": {
    "ExecuteTime": {
     "end_time": "2019-10-18T20:10:31.714794Z",
     "start_time": "2019-10-18T20:10:31.709541Z"
    }
   },
   "outputs": [
    {
     "data": {
      "text/plain": [
       "''"
      ]
     },
     "execution_count": 45,
     "metadata": {},
     "output_type": "execute_result"
    }
   ],
   "source": []
  },
  {
   "cell_type": "code",
   "execution_count": 135,
   "metadata": {
    "ExecuteTime": {
     "end_time": "2019-09-26T21:43:05.468239Z",
     "start_time": "2019-09-26T21:42:44.228761Z"
    },
    "scrolled": false
   },
   "outputs": [
    {
     "name": "stdout",
     "output_type": "stream",
     "text": [
      "[-1.00e-03 -1.00e-03 -1.00e-03  2.00e-03  2.00e-03  2.00e-03  1.00e-02\n",
      "  1.00e-02  1.00e-02  5.00e-02  5.00e-02  5.00e-02  2.50e-01  2.50e-01\n",
      "  2.50e-01  1.25e+00  1.25e+00  1.25e+00]\n",
      "[False False False  True  True  True  True  True  True  True  True  True\n",
      "  True  True  True  True  True  True]\n",
      "computation time: 21.2129 seconds\n"
     ]
    }
   ],
   "source": [
    "import time\n",
    "import tensorflow as tf\n",
    "\n",
    "tf.reset_default_graph()\n",
    "\n",
    "with tf.Session() as sess:\n",
    "    start = time.time()\n",
    "    var = np.array([params['c'] for params in pool_simulator.parameters.values()], dtype=np.float32)\n",
    "    print(var)\n",
    "    count = pool_simulator.to_numpy().astype(np.float32)\n",
    "    sample_mask = np.array([c > 0 for c in var])\n",
    "    print(sample_mask)\n",
    "    mle = fit_count_model(var=var, count=count, sample_mask=sample_mask, init_method='average')\n",
    "    res = sess.run(mle)\n",
    "    end = time.time()\n",
    "    print(f\"computation time: {end - start:.4f} seconds\")\n",
    "    assert res.converged"
   ]
  },
  {
   "cell_type": "code",
   "execution_count": null,
   "metadata": {
    "ExecuteTime": {
     "end_time": "2019-09-26T21:36:01.264470Z",
     "start_time": "2019-09-26T21:35:51.916Z"
    },
    "scrolled": false
   },
   "outputs": [],
   "source": [
    "def parse_param(params):\n",
    "    from collections import namedtuple\n",
    "    import numpy as np\n",
    "    from scipy.special import softmax\n",
    "    \n",
    "    params = np.reshape(params, [3, -1])\n",
    "    theta = params[0]\n",
    "    psi = params[1]\n",
    "    phi = params[2]\n",
    "    \n",
    "    p0 = softmax(theta)\n",
    "    k = np.exp(psi)\n",
    "    A = np.exp(phi) / (1 + np.exp(phi))\n",
    "    \n",
    "    Params = namedtuple('Params', ['p0', 'k', 'A'])\n",
    "    return Params(p0=p0, k=k, A=A)\n",
    "\n"
   ]
  },
  {
   "cell_type": "code",
   "execution_count": 136,
   "metadata": {
    "ExecuteTime": {
     "end_time": "2019-09-26T21:43:11.823850Z",
     "start_time": "2019-09-26T21:43:08.535865Z"
    }
   },
   "outputs": [
    {
     "data": {
      "image/png": "[encoded data removed]",
      "text/plain": [
       "<Figure size 864x288 with 3 Axes>"
      ]
     },
     "metadata": {},
     "output_type": "display_data"
    }
   ],
   "source": [
    "params = parse_param(res.position)\n",
    "\n",
    "import matplotlib.pyplot as plt\n",
    "import matplotlib as mpl\n",
    "mpl.style.use('seaborn')\n",
    "\n",
    "fig, axes = plt.subplots(1, 3, figsize=[12, 4])\n",
    "\n",
    "axes[0].scatter(p0, params.p0, marker='.', alpha=0.8)\n",
    "lim = (min(p0.min(), params.p0.min()) * 0.9, max(p0.max(), params.p0.max()) * 1.1)\n",
    "axes[0].set_xlim(lim)\n",
    "axes[0].set_ylim(lim)\n",
    "axes[0].set_xscale('log')\n",
    "axes[0].set_yscale('log')\n",
    "axes[0].set_title('Initial pool abundance', fontsize=14)\n",
    "axes[0].set_xlabel('True p0', fontsize=12)\n",
    "axes[0].set_ylabel('Predicted p0', fontsize=12)\n",
    "\n",
    "\n",
    "axes[1].scatter(k, params.k, marker='.', alpha=0.8)\n",
    "lim = (min(k.min(), params.k.min()) * 0.9, max(k.max(), params.k.max()) * 1.1)\n",
    "axes[1].set_xlim(lim)\n",
    "axes[1].set_ylim(lim)\n",
    "axes[1].set_xscale('log')\n",
    "axes[1].set_yscale('log')\n",
    "axes[1].set_title('k', fontsize=14)\n",
    "axes[1].set_xlabel('True k', fontsize=12)\n",
    "axes[1].set_ylabel('Predicted k', fontsize=12)\n",
    "\n",
    "axes[2].scatter(A, params.A, marker='.', alpha=0.8)\n",
    "axes[2].set_xlim([-0.1, 1.1])\n",
    "axes[2].set_ylim([-0.1, 1.1])\n",
    "axes[2].set_title('A', fontsize=14)\n",
    "axes[2].set_xlabel('True A', fontsize=12)\n",
    "axes[2].set_ylabel('Predicted A', fontsize=12)\n",
    "\n",
    "plt.tight_layout()\n",
    "plt.show()"
   ]
  },
  {
   "cell_type": "code",
   "execution_count": 114,
   "metadata": {
    "ExecuteTime": {
     "end_time": "2019-09-26T18:47:50.019795Z",
     "start_time": "2019-09-26T18:47:50.013173Z"
    }
   },
   "outputs": [
    {
     "data": {
      "text/plain": [
       "LBfgsOptimizerResults(converged=True, failed=False, num_iterations=82, num_objective_evaluations=270, position=array([-1.5478985 ,  0.38503692,  2.2707381 , ...,  0.        ,\n",
       "        0.        ,  0.        ], dtype=float32), objective_value=889700.0, objective_gradient=array([-2.7492287,  7.0260572, -2.4329975, ...,  0.       ,  0.       ,\n",
       "        0.       ], dtype=float32), position_deltas=array([[ 4.18663025e-04,  1.49667263e-04,  1.36613846e-04, ...,\n",
       "         0.00000000e+00,  0.00000000e+00,  0.00000000e+00],\n",
       "       [ 8.38279724e-04,  4.46259975e-04,  1.16825104e-04, ...,\n",
       "         0.00000000e+00,  0.00000000e+00,  0.00000000e+00],\n",
       "       [ 9.57131386e-04,  5.44369221e-04,  9.01222229e-05, ...,\n",
       "         0.00000000e+00,  0.00000000e+00,  0.00000000e+00],\n",
       "       ...,\n",
       "       [ 2.12001801e-03,  2.82883644e-04,  2.30312347e-04, ...,\n",
       "         0.00000000e+00,  0.00000000e+00,  0.00000000e+00],\n",
       "       [ 1.82008743e-03, -4.64022160e-05,  6.91413879e-06, ...,\n",
       "         0.00000000e+00,  0.00000000e+00,  0.00000000e+00],\n",
       "       [ 1.76823139e-03, -2.09569931e-04, -1.09672546e-05, ...,\n",
       "         0.00000000e+00,  0.00000000e+00,  0.00000000e+00]], dtype=float32), gradient_deltas=array([[ 0.5090866,  0.9923916,  5.729658 , ...,  0.       ,  0.       ,\n",
       "         0.       ],\n",
       "       [ 0.9342308,  2.774459 , -2.394011 , ...,  0.       ,  0.       ,\n",
       "         0.       ],\n",
       "       [ 1.303751 ,  5.1696525,  5.522531 , ...,  0.       ,  0.       ,\n",
       "         0.       ],\n",
       "       ...,\n",
       "       [ 2.8519325,  2.2556705, 11.598891 , ...,  0.       ,  0.       ,\n",
       "         0.       ],\n",
       "       [ 2.3565416, -1.4884901, -6.4827166, ...,  0.       ,  0.       ,\n",
       "         0.       ],\n",
       "       [ 2.398288 , -2.299201 , -2.626546 , ...,  0.       ,  0.       ,\n",
       "         0.       ]], dtype=float32))"
      ]
     },
     "execution_count": 114,
     "metadata": {},
     "output_type": "execute_result"
    }
   ],
   "source": [
    "r"
   ]
  },
  {
   "cell_type": "markdown",
   "metadata": {},
   "source": [
    "# Pool Simulator"
   ]
  },
  {
   "cell_type": "code",
   "execution_count": 12,
   "metadata": {
    "ExecuteTime": {
     "end_time": "2019-09-26T02:14:14.540474Z",
     "start_time": "2019-09-26T02:14:12.428310Z"
    }
   },
   "outputs": [],
   "source": [
    "from k_seq.data import CountFileSet\n",
    "\n",
    "bfo_data = CountFileSet.load_default(dataset='bfo')\n",
    "bfo_data.load_data()"
   ]
  },
  {
   "cell_type": "code",
   "execution_count": 15,
   "metadata": {
    "ExecuteTime": {
     "end_time": "2019-09-26T02:17:22.346906Z",
     "start_time": "2019-09-26T02:17:22.302900Z"
    }
   },
   "outputs": [],
   "source": []
  },
  {
   "cell_type": "code",
   "execution_count": 52,
   "metadata": {
    "ExecuteTime": {
     "end_time": "2019-09-26T02:23:10.470269Z",
     "start_time": "2019-09-26T02:23:10.426305Z"
    }
   },
   "outputs": [
    {
     "data": {
      "text/plain": [
       "array([[     1],\n",
       "       [     1],\n",
       "       [     1],\n",
       "       ...,\n",
       "       [ 28860],\n",
       "       [122377],\n",
       "       [605843]])"
      ]
     },
     "execution_count": 52,
     "metadata": {},
     "output_type": "execute_result"
    }
   ],
   "source": []
  },
  {
   "cell_type": "code",
   "execution_count": 59,
   "metadata": {
    "ExecuteTime": {
     "end_time": "2019-09-26T02:25:19.458475Z",
     "start_time": "2019-09-26T02:25:19.426023Z"
    }
   },
   "outputs": [],
   "source": [
    "from k_seq.model import pool, count, kinetic\n",
    "from k_seq.data import simu\n",
    "import pandas as pd\n",
    "reload(pool)\n",
    "reload(count)\n",
    "reload(kinetic)\n",
    "reload(simu)\n",
    "\n",
    "# summarize following into a function\n",
    "\n",
    "p0 = simu.pSampler(n=1e5).from_list(seqs['A-inputA'])\n",
    "A = simu.ASampler(n=1e5).from_uniform(low=0, high=1)\n",
    "k = simu.kSampler(n=1e5).from_lognormal(c95=[0.5, 50])\n",
    "ribo_info = pd.DataFrame({'p0': p0, })"
   ]
  },
  {
   "cell_type": "code",
   "execution_count": null,
   "metadata": {},
   "outputs": [],
   "source": [
    "p0 = simu.pSampler.from_list()"
   ]
  },
  {
   "cell_type": "code",
   "execution_count": 60,
   "metadata": {
    "ExecuteTime": {
     "end_time": "2019-09-26T02:25:25.374341Z",
     "start_time": "2019-09-26T02:25:25.369266Z"
    }
   },
   "outputs": [
    {
     "data": {
      "text/plain": [
       "array([ 2.11322467, 54.20552086,  0.74818859, ...,  2.02509913,\n",
       "       40.57007239, 16.27110082])"
      ]
     },
     "execution_count": 60,
     "metadata": {},
     "output_type": "execute_result"
    }
   ],
   "source": [
    "k"
   ]
  },
  {
   "cell_type": "code",
   "execution_count": null,
   "metadata": {},
   "outputs": [],
   "source": []
  },
  {
   "cell_type": "markdown",
   "metadata": {},
   "source": [
    "# Test the MLE using `cvxpy`\n",
    "\n",
    "\n",
    "A full mle case will be:\n",
    "\n",
    "$$\n",
    "\\mathcal{l} = \\sum_{j=1}^J \\sum_{i=1}^m n_{ji}\\Large[ \\log p_{0i} + \\log A_i + \\log(1-e^{-\\alpha k_i})\\Large] - \n",
    "$$"
   ]
  },
  {
   "cell_type": "code",
   "execution_count": null,
   "metadata": {},
   "outputs": [],
   "source": [
    "def get_mle_problem(x, Y):\n",
    "    import cvxpy as cp\n"
   ]
  },
  {
   "cell_type": "code",
   "execution_count": null,
   "metadata": {},
   "outputs": [],
   "source": []
  }
 ],
 "metadata": {
  "kernelspec": {
   "display_name": "k-seq",
   "language": "python",
   "name": "k-seq"
  },
  "language_info": {
   "codemirror_mode": {
    "name": "ipython",
    "version": 3
   },
   "file_extension": ".py",
   "mimetype": "text/x-python",
   "name": "python",
   "nbconvert_exporter": "python",
   "pygments_lexer": "ipython3",
   "version": "3.7.4"
  },
  "toc": {
   "nav_menu": {},
   "number_sections": true,
   "sideBar": true,
   "skip_h1_title": false,
   "toc_cell": false,
   "toc_position": {},
   "toc_section_display": "block",
   "toc_window_display": false
  }
 },
 "nbformat": 4,
 "nbformat_minor": 2
}
