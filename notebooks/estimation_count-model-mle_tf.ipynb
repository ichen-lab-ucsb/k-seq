{
 "cells": [
  {
   "cell_type": "code",
   "execution_count": 2,
   "metadata": {
    "ExecuteTime": {
     "end_time": "2019-11-21T11:20:37.150763Z",
     "start_time": "2019-11-21T11:20:36.798990Z"
    }
   },
   "outputs": [],
   "source": [
    "from yuning_util.dev_mode import DevMode\n",
    "dev_mode = DevMode(pkg='k-seq')\n",
    "dev_mode.on()\n",
    "from importlib import reload\n",
    "from k_seq.model import count\n",
    "reload(count)\n",
    "import numpy as np"
   ]
  },
  {
   "cell_type": "markdown",
   "metadata": {},
   "source": [
    "# Tensorflow test model"
   ]
  },
  {
   "cell_type": "code",
   "execution_count": 4,
   "metadata": {
    "ExecuteTime": {
     "end_time": "2019-10-18T18:25:02.631085Z",
     "start_time": "2019-10-18T18:25:01.137371Z"
    },
    "scrolled": false
   },
   "outputs": [],
   "source": [
    "import tensorflow_probability as tfp\n",
    "gpus = tf.config.experimental.list_physical_devices('GPU')\n",
    "tf.config.experimental.set_memory_growth(device=gpus[0], enable=True)\n",
    "\n",
    "tfd = tfp.distributions"
   ]
  },
  {
   "cell_type": "code",
   "execution_count": 99,
   "metadata": {
    "ExecuteTime": {
     "end_time": "2019-09-26T17:11:50.013671Z",
     "start_time": "2019-09-26T17:11:32.824957Z"
    },
    "scrolled": false
   },
   "outputs": [
    {
     "name": "stdout",
     "output_type": "stream",
     "text": [
      "computation time: 17.1205 seconds\n"
     ]
    }
   ],
   "source": [
    "# follow is an example from Jeff Pollock https://jeffpollock9.github.io/maximum-likelihood-estimation-with-tensorflow-probability-and-pystan/\n",
    "# of fitting a Bernoulli distribution\n",
    "\n",
    "import tensorflow as tf\n",
    "import tensorflow_probability as tfp\n",
    "\n",
    "tfd = tfp.distributions\n",
    "\n",
    "# simulate the dataset\n",
    "\n",
    "N = 1_000_000  # num_observation\n",
    "P = 250 # parameter\n",
    "\n",
    "tf.random.set_random_seed(23)\n",
    "\n",
    "alpha = tfd.Normal(0.666, 1.0).sample() # alpha is a tensor with shape []\n",
    "beta = tfd.Normal(0.0, 3.14).sample([P, 1]) # tensor with shape [250, 1], vertical vector\n",
    "\n",
    "x = tfd.Normal(0.0, 1.0).sample([N, P]) # sampled tensor with shape [1_000_000, 250]\n",
    "y = tfd.Bernoulli(alpha + x @ beta).sample()\n",
    "\n",
    "# define the model\n",
    "\n",
    "def loss(param, x, y):\n",
    "    \"\"\"Negative Log likelihood as loss, reduced on all observations\"\"\"\n",
    "    alpha = param[0]\n",
    "    beta = tf.expand_dims(param[1:], 1)\n",
    "    model = tfd.Bernoulli(alpha + x @ beta)\n",
    "    return -tf.reduce_sum(model.log_prob(y))\n",
    "\n",
    "def loss_and_gradient(param, x, y):\n",
    "    \"\"\"pass a value and gradient object to tfp.optimizer.lbfgs_minimize,\n",
    "    conditioned on the given data: (x, y)\n",
    "    \"\"\"\n",
    "    return tfp.math.value_and_gradient(lambda param: loss(param, x, y),\n",
    "                                       param)\n",
    "\n",
    "def fit(x, y):\n",
    "    \"\"\"a fitting node to conduct fitting\"\"\"\n",
    "    init = tf.zeros(tf.shape(x)[1] + 1)  # get the dimension of params\n",
    "    opt = tfp.optimizer.lbfgs_minimize(\n",
    "        lambda param: loss_and_gradient(param, x, y), init, max_iterations=1000\n",
    "    )\n",
    "    return opt\n",
    "\n",
    "# run training\n",
    "import time\n",
    "\n",
    "with tf.Session() as sess:\n",
    "    start = time.time()\n",
    "    mle = fit(x, y)\n",
    "    res = sess.run(mle)\n",
    "    end = time.time()\n",
    "    print(f\"computation time: {end - start:.4f} seconds\")\n",
    "    \n",
    "#     print(f\"converged: {mle.}\")\n",
    "#     print(f\"iterations: {mle.num_iterations}\")"
   ]
  },
  {
   "cell_type": "code",
   "execution_count": 23,
   "metadata": {
    "ExecuteTime": {
     "end_time": "2019-09-26T17:47:55.954793Z",
     "start_time": "2019-09-26T17:47:55.933928Z"
    }
   },
   "outputs": [
    {
     "name": "stdout",
     "output_type": "stream",
     "text": [
      "[[23  1  2]\n",
      " [ 0  1  2]\n",
      " [12 12  1]]\n"
     ]
    }
   ],
   "source": [
    "import tensorflow as tf\n",
    "\n",
    "sess = tf.Session()\n",
    "\n",
    "x = tf.constant([23, 1, 2,\n",
    "                 0, 1, 2,\n",
    "                 12, 12, 1])\n",
    "y = tf.reshape(x, [3, -1])\n",
    "\n",
    "with sess.as_default():\n",
    "    print(y.eval())"
   ]
  },
  {
   "cell_type": "markdown",
   "metadata": {},
   "source": [
    "# Tensorflow based count model"
   ]
  },
  {
   "cell_type": "code",
   "execution_count": 2,
   "metadata": {
    "ExecuteTime": {
     "end_time": "2019-11-19T04:48:41.380936Z",
     "start_time": "2019-11-19T04:48:40.175019Z"
    }
   },
   "outputs": [],
   "source": []
  },
  {
   "cell_type": "code",
   "execution_count": 3,
   "metadata": {
    "ExecuteTime": {
     "end_time": "2019-11-19T04:48:44.471810Z",
     "start_time": "2019-11-19T04:48:42.563249Z"
    }
   },
   "outputs": [],
   "source": [
    "from k_seq.data.count_data import CountData\n",
    "\n",
    "count_data = CountData.from_simu_path('/mnt/storage/projects/k-seq/datasets/simulated/')"
   ]
  },
  {
   "cell_type": "code",
   "execution_count": 81,
   "metadata": {
    "ExecuteTime": {
     "end_time": "2019-11-19T04:38:26.131037Z",
     "start_time": "2019-11-19T04:38:26.112482Z"
    }
   },
   "outputs": [
    {
     "data": {
      "text/plain": [
       "<tf.Tensor: id=25596, shape=(3, 5), dtype=int32, numpy=\n",
       "array([[0, 0, 0, 0, 0],\n",
       "       [2, 2, 2, 2, 2],\n",
       "       [1, 1, 1, 1, 1]], dtype=int32)>"
      ]
     },
     "execution_count": 81,
     "metadata": {},
     "output_type": "execute_result"
    }
   ],
   "source": [
    "tf.tile(tf.expand_dims([0, 2, 1], -1), [1, 5])"
   ]
  },
  {
   "cell_type": "code",
   "execution_count": 4,
   "metadata": {
    "ExecuteTime": {
     "end_time": "2019-11-19T04:53:29.415391Z",
     "start_time": "2019-11-19T04:48:47.096395Z"
    },
    "scrolled": false
   },
   "outputs": [
    {
     "name": "stdout",
     "output_type": "stream",
     "text": [
      "Convergence: False\n",
      "--------------------------------------------------\n",
      "It took 4.71 minutes.\n"
     ]
    }
   ],
   "source": [
    "import time\n",
    "import tensorflow as tf\n",
    "from k_seq.utility.log import Timer\n",
    "\n",
    "tf.compat.v1.reset_default_graph()\n",
    "\n",
    "with Timer():\n",
    "    ctrl_var = count_data.ctrl_vars.loc['c'].astype(np.float32).values\n",
    "    counts = count_data.count.to_numpy().astype(np.float32).T\n",
    "    with tf.compat.v1.Session() as sess:\n",
    "        pool_mask = ctrl_var > 0 # True for reacted sample, False for input sample\n",
    "        # shape:\n",
    "        #   ctrl_var [s]\n",
    "        #   counts [s, m]\n",
    "        #   pool_mask [s]\n",
    "        mle_model = fit_count_model(ctrl_vars=ctrl_var, counts=counts, pool_mask=pool_mask, init_method='average')\n",
    "        results = sess.run(mle_model)\n",
    "        print(f'Convergence: {results.converged}')\n"
   ]
  },
  {
   "cell_type": "code",
   "execution_count": 6,
   "metadata": {
    "ExecuteTime": {
     "end_time": "2019-11-19T04:58:57.802963Z",
     "start_time": "2019-11-19T04:58:57.796937Z"
    }
   },
   "outputs": [
    {
     "data": {
      "text/plain": [
       "LBfgsOptimizerResults(converged=False, failed=True, num_iterations=2210, num_objective_evaluations=6647, position=array([-0.00737213,  1.9662449 ,  1.5344262 , ..., -0.09702338,\n",
       "        0.09690278, -0.15281384], dtype=float32), objective_value=24549520.0, objective_gradient=array([ 0.55354404,  2.8157816 ,  2.116477  , ...,  0.02119913,\n",
       "       -2.4748313 ,  1.460489  ], dtype=float32), position_deltas=array([[-1.5692785e-06, -8.1062317e-06, -5.7220459e-06, ...,\n",
       "        -2.7567148e-07,  7.1898103e-06, -4.4107437e-06],\n",
       "       [-1.5762635e-05, -8.8810921e-05, -6.2108040e-05, ...,\n",
       "        -4.4181943e-06,  7.7158213e-05, -5.1915646e-05],\n",
       "       [-2.0029489e-05, -1.1277199e-04, -7.8916550e-05, ...,\n",
       "        -5.5581331e-06,  9.7997487e-05, -6.5907836e-05],\n",
       "       ...,\n",
       "       [ 9.1968104e-07,  5.6028366e-06,  3.8146973e-06, ...,\n",
       "         3.6507845e-07, -4.7460198e-06,  3.3974648e-06],\n",
       "       [ 1.1417083e-05,  6.5326691e-05,  4.5776367e-05, ...,\n",
       "         3.4198165e-06, -5.6661665e-05,  3.8862228e-05],\n",
       "       [ 5.8561563e-06,  3.3378601e-05,  2.3484230e-05, ...,\n",
       "         1.7210841e-06, -2.8997660e-05,  1.9833446e-05]], dtype=float32), gradient_deltas=array([[ 3.6859512e-04,  2.3713112e-03,  1.6205311e-03, ...,\n",
       "         1.3622884e-02,  7.4768066e-04,  7.9107285e-03],\n",
       "       [ 5.4836273e-06, -1.5234947e-03, -4.1985512e-04, ...,\n",
       "         1.0410771e-03,  6.2870979e-04, -8.1241131e-04],\n",
       "       [ 5.8341026e-04,  2.5830269e-03,  2.0494461e-03, ...,\n",
       "         2.2862256e-02,  2.0065308e-03,  1.2576580e-02],\n",
       "       ...,\n",
       "       [ 5.1784515e-04,  3.4885406e-03,  2.3219585e-03, ...,\n",
       "         2.1398690e-02,  1.0752678e-03,  1.3574362e-02],\n",
       "       [-5.1158667e-04, -2.7434826e-03, -1.9569397e-03, ...,\n",
       "        -1.4433242e-02, -1.1868477e-03, -8.1417561e-03],\n",
       "       [ 1.3244152e-04,  1.2719631e-03,  7.2979927e-04, ...,\n",
       "         9.5604807e-03,  2.6130676e-04,  6.0799122e-03]], dtype=float32))"
      ]
     },
     "execution_count": 6,
     "metadata": {},
     "output_type": "execute_result"
    }
   ],
   "source": [
    "results"
   ]
  },
  {
   "cell_type": "code",
   "execution_count": 6,
   "metadata": {
    "ExecuteTime": {
     "end_time": "2019-11-21T11:21:00.915181Z",
     "start_time": "2019-11-21T11:21:00.908529Z"
    },
    "scrolled": false
   },
   "outputs": [],
   "source": [
    "def parse_param(results, index):\n",
    "    import pandas as pd\n",
    "    import numpy as np\n",
    "    from scipy.special import softmax\n",
    "    \n",
    "    params = results.position\n",
    "    params = np.reshape(params, [3, -1])\n",
    "    theta = params[0]\n",
    "    psi = params[1]\n",
    "    phi = params[2]\n",
    "    \n",
    "    p0 = softmax(theta)\n",
    "    k = np.exp(psi)\n",
    "    a = np.exp(phi) / (1 + np.exp(phi))\n",
    "    \n",
    "    return pd.DataFrame({'p0': p0, 'k': k, 'a': a}, index=index)"
   ]
  },
  {
   "cell_type": "code",
   "execution_count": 47,
   "metadata": {
    "ExecuteTime": {
     "end_time": "2019-11-21T11:42:57.759481Z",
     "start_time": "2019-11-21T11:42:57.745955Z"
    }
   },
   "outputs": [],
   "source": [
    "from k_seq.utility.file_tools import read_pickle\n",
    "from k_seq.data.count_data import CountData\n",
    "results = read_pickle('/mnt/storage/projects/k-seq/working/simu_data/count_model_mle/tf_lbfgs/on_doped_s1000_d40_t_12_crct_p_20/results.pkl')\n",
    "count_data = CountData.from_simu_path('/mnt/storage/projects/k-seq/datasets/simulated/on_doped_s1000_d40/')"
   ]
  },
  {
   "cell_type": "code",
   "execution_count": 48,
   "metadata": {
    "ExecuteTime": {
     "end_time": "2019-11-21T11:42:58.802598Z",
     "start_time": "2019-11-21T11:42:58.796238Z"
    }
   },
   "outputs": [
    {
     "data": {
      "text/plain": [
       "LBfgsOptimizerResults(converged=True, failed=False, num_iterations=1275, num_objective_evaluations=3665, position=array([ 1.0653197 ,  1.7708325 ,  2.468448  , ..., -1.846058  ,\n",
       "        0.77026165,  0.5441838 ], dtype=float32), objective_value=23503.773, objective_gradient=array([ 0.00070525,  0.00950931,  0.01054623, ...,  0.0426274 ,\n",
       "       -0.01856064, -0.04493409], dtype=float32), position_deltas=array([[-2.1934509e-05, -9.7036362e-05,  1.7595291e-04, ...,\n",
       "        -1.6391277e-04,  2.9802322e-07,  1.2105703e-04],\n",
       "       [-3.4570694e-06, -3.1590462e-05,  8.3446503e-05, ...,\n",
       "         4.8279762e-05, -4.8875809e-06, -2.0027161e-05],\n",
       "       [-1.7642975e-05, -8.9168549e-05,  1.9168854e-04, ...,\n",
       "         3.6716461e-05, -6.3776970e-06, -1.5497208e-06],\n",
       "       ...,\n",
       "       [ 3.0398369e-05, -4.5537949e-05,  6.6041946e-05, ...,\n",
       "        -2.3686886e-04,  2.5153160e-05,  2.0015240e-04],\n",
       "       [-7.1525574e-07, -3.1948090e-05,  2.9802322e-05, ...,\n",
       "        -7.7605247e-05,  2.3126602e-05,  7.4625015e-05],\n",
       "       [-2.3841858e-07, -6.0439110e-05,  1.0061264e-04, ...,\n",
       "        -1.6844273e-04,  2.1278858e-05,  1.4293194e-04]], dtype=float32), gradient_deltas=array([[-7.78487592e-04, -1.97592005e-03, -6.44860789e-04, ...,\n",
       "        -1.64806843e-05, -1.20400079e-03, -5.40871173e-04],\n",
       "       [-2.23285053e-04, -6.34369440e-04,  1.17308460e-04, ...,\n",
       "        -7.16745853e-06, -1.37739815e-03, -7.92160630e-04],\n",
       "       [-8.96055019e-04, -2.23347731e-03, -1.09533593e-03, ...,\n",
       "        -5.15952706e-06, -1.65098906e-03, -8.16091895e-04],\n",
       "       ...,\n",
       "       [ 2.43658433e-05, -2.73369253e-04,  9.24326945e-04, ...,\n",
       "        -2.46427953e-05,  1.33158639e-04, -9.80161130e-05],\n",
       "       [-3.21229221e-04, -8.41463916e-04, -9.46904067e-04, ...,\n",
       "         4.25800681e-06,  1.49098411e-03,  9.94808972e-04],\n",
       "       [ 1.90207327e-04,  5.17079607e-05,  2.07324559e-03, ...,\n",
       "        -1.50464475e-05,  9.36128199e-05, -8.02278519e-05]], dtype=float32))"
      ]
     },
     "execution_count": 48,
     "metadata": {},
     "output_type": "execute_result"
    }
   ],
   "source": [
    "results"
   ]
  },
  {
   "cell_type": "code",
   "execution_count": 50,
   "metadata": {
    "ExecuteTime": {
     "end_time": "2019-11-21T11:57:51.134685Z",
     "start_time": "2019-11-21T11:57:49.374604Z"
    }
   },
   "outputs": [
    {
     "data": {
      "image/png": "[encoded data removed]",
      "text/plain": [
       "<Figure size 1152x288 with 4 Axes>"
      ]
     },
     "metadata": {
      "needs_background": "light"
     },
     "output_type": "display_data"
    }
   ],
   "source": [
    "import matplotlib.pyplot as plt\n",
    "save_fig_to = '/mnt/storage/projects/k-seq/output/2019-11-21_RU_figs/mle_count-model_tf.jpeg'\n",
    "\n",
    "params = parse_param(results, index=count_data.count.index.values)\n",
    "\n",
    "import matplotlib.pyplot as plt\n",
    "import matplotlib as mpl\n",
    "mpl.style.use('seaborn')\n",
    "\n",
    "fig, axes = plt.subplots(1, 4, figsize=[16, 4])\n",
    "\n",
    "def align_plot(x_data, y_data, ax, ax_log=True, label='value'):\n",
    "    ax.scatter(x_data, y_data, marker='.', alpha=0.8)\n",
    "    if ax_log:\n",
    "        lim = (min(x_data.min(), y_data.min()) * 0.9, max(x_data.max(), y_data.max()) * 1.1)\n",
    "    else:\n",
    "        pad = max(x_data.max(), y_data.max()) * 0.1\n",
    "        lim = (min(x_data.min(), y_data.min()) - pad, max(x_data.max(), y_data.max()) + pad)\n",
    "    ax.set_xlim(lim)\n",
    "    ax.set_ylim(lim)\n",
    "    if ax_log:\n",
    "        ax.set_xscale('log')\n",
    "        ax.set_yscale('log')\n",
    "    from scipy.stats import pearsonr, spearmanr\n",
    "    pearson = pearsonr(x=x_data, y=y_data)\n",
    "    spearman = spearmanr(a=x_data, b=y_data)\n",
    "    ax.set_title(f\"Pearson r: {pearson[0]:.4f} (p-val={pearson[1]:.4f})\\n\"\n",
    "                 f\"Spearman r: {spearman.correlation:.4f} (p-val={spearman.pvalue:.4f})\", fontsize=10)\n",
    "    ax.set_xlabel(f'True {label}', fontsize=12)\n",
    "    ax.set_ylabel(f'Predicted {label}', fontsize=12)\n",
    "    \n",
    "\n",
    "align_plot(count_data.truth.p0 / count_data.truth.p0.sum(), params.p0, ax=axes[0], ax_log=True, label='p0')\n",
    "align_plot(count_data.truth.A, params.a, ax=axes[1], ax_log=False, label='A')\n",
    "align_plot(count_data.truth.k, params.k, ax=axes[2], ax_log=True, label='k')\n",
    "align_plot(count_data.truth.k * count_data.truth.A, params.k * params.a, ax=axes[3], ax_log=True, label='ka')\n",
    "\n",
    "plt.tight_layout()\n",
    "\n",
    "if save_fig_to:\n",
    "    fig.patch.set_alpha(0)\n",
    "    fig.savefig(save_fig_to, bbox_inches='tight', dpi=300)\n",
    "\n",
    "plt.show()"
   ]
  },
  {
   "cell_type": "code",
   "execution_count": null,
   "metadata": {},
   "outputs": [],
   "source": []
  },
  {
   "cell_type": "code",
   "execution_count": 55,
   "metadata": {
    "ExecuteTime": {
     "end_time": "2019-11-21T11:58:31.599665Z",
     "start_time": "2019-11-21T11:58:30.020197Z"
    }
   },
   "outputs": [
    {
     "data": {
      "image/png": "[encoded data removed]",
      "text/plain": [
       "<Figure size 864x288 with 3 Axes>"
      ]
     },
     "metadata": {
      "needs_background": "light"
     },
     "output_type": "display_data"
    }
   ],
   "source": [
    "import matplotlib.pyplot as plt\n",
    "save_fig_to = '/mnt/storage/projects/k-seq/output/2019-11-21_RU_figs/mle_count-model_ls.jpeg'\n",
    "\n",
    "import matplotlib.pyplot as plt\n",
    "import matplotlib as mpl\n",
    "mpl.style.use('seaborn')\n",
    "\n",
    "fig, axes = plt.subplots(1, 3, figsize=[12, 4])\n",
    "\n",
    "def align_plot(x_data, y_data, ax, ax_log=True, label='value'):\n",
    "    ax.scatter(x_data, y_data, marker='.', alpha=0.8)\n",
    "    if ax_log:\n",
    "        lim = (min(x_data.min(), y_data.min()) * 0.9, max(x_data.max(), y_data.max()) * 1.1)\n",
    "    else:\n",
    "        pad = max(x_data.max(), y_data.max()) * 0.1\n",
    "        lim = (min(x_data.min(), y_data.min()) - pad, max(x_data.max(), y_data.max()) + pad)\n",
    "    ax.set_xlim(lim)\n",
    "    ax.set_ylim(lim)\n",
    "    if ax_log:\n",
    "        ax.set_xscale('log')\n",
    "        ax.set_yscale('log')\n",
    "    from scipy.stats import pearsonr, spearmanr\n",
    "    pearson = pearsonr(x=x_data, y=y_data)\n",
    "    spearman = spearmanr(a=x_data, b=y_data)\n",
    "    ax.set_title(f\"Pearson r: {pearson[0]:.4f} (p-val={pearson[1]:.4f})\\n\"\n",
    "                 f\"Spearman r: {spearman.correlation:.4f} (p-val={spearman.pvalue:.4f})\", fontsize=10)\n",
    "    ax.set_xlabel(f'True {label}', fontsize=12)\n",
    "    ax.set_ylabel(f'Predicted {label}', fontsize=12)\n",
    "    \n",
    "seq_list = list(ls_results.index)\n",
    "align_plot(count_data.truth.A.loc[seq_list], ls_results['A'], ax=axes[0], ax_log=False, label='A')\n",
    "align_plot(count_data.truth.k.loc[seq_list], ls_results['k'], ax=axes[1], ax_log=True, label='k')\n",
    "align_plot(count_data.truth.k.loc[seq_list] * count_data.truth.A.loc[seq_list],\n",
    "           ls_results['kA'], ax=axes[2], ax_log=True, label='ka')\n",
    "\n",
    "plt.tight_layout()\n",
    "if save_fig_to:\n",
    "    fig.patch.set_alpha(0)\n",
    "    fig.savefig(save_fig_to, bbox_inches='tight', dpi=300)\n",
    "plt.show()"
   ]
  },
  {
   "cell_type": "code",
   "execution_count": 52,
   "metadata": {
    "ExecuteTime": {
     "end_time": "2019-11-21T11:58:26.198781Z",
     "start_time": "2019-11-21T11:58:26.191660Z"
    }
   },
   "outputs": [],
   "source": [
    "import pandas as pd\n",
    "ls_results = pd.read_csv('/mnt/storage/projects/k-seq/working/simu_data/least_squared/on_doped_s1000_d40_data_bs_500/fit_summary.csv', index_col=0)"
   ]
  },
  {
   "cell_type": "code",
   "execution_count": 53,
   "metadata": {
    "ExecuteTime": {
     "end_time": "2019-11-21T11:58:26.902978Z",
     "start_time": "2019-11-21T11:58:26.891592Z"
    }
   },
   "outputs": [],
   "source": [
    "count_data = CountData.from_simu_path('/mnt/storage/projects/k-seq/datasets/simulated/on_doped_s1000_d40/')"
   ]
  },
  {
   "cell_type": "code",
   "execution_count": 54,
   "metadata": {
    "ExecuteTime": {
     "end_time": "2019-11-21T11:58:27.575381Z",
     "start_time": "2019-11-21T11:58:27.569627Z"
    }
   },
   "outputs": [],
   "source": [
    "count_data.truth['seq_ix'] = np.arange(1000)\n",
    "count_data.truth.set_index('seq_ix', inplace=True)"
   ]
  },
  {
   "cell_type": "code",
   "execution_count": 97,
   "metadata": {
    "ExecuteTime": {
     "end_time": "2019-11-19T04:43:48.799657Z",
     "start_time": "2019-11-19T04:43:48.793459Z"
    }
   },
   "outputs": [
    {
     "data": {
      "text/plain": [
       "0.0009036517454963842"
      ]
     },
     "execution_count": 97,
     "metadata": {},
     "output_type": "execute_result"
    }
   ],
   "source": []
  },
  {
   "cell_type": "markdown",
   "metadata": {},
   "source": [
    "## On BYO-doped pool"
   ]
  },
  {
   "cell_type": "code",
   "execution_count": 3,
   "metadata": {
    "ExecuteTime": {
     "end_time": "2019-10-21T19:40:38.759740Z",
     "start_time": "2019-10-21T19:40:34.001993Z"
    }
   },
   "outputs": [
    {
     "name": "stdout",
     "output_type": "stream",
     "text": [
      "Load BYO-doped pool data from pickled record at /mnt/storage/projects/k-seq/datasets/byo_doped.pkl\n",
      "Imported!\n"
     ]
    }
   ],
   "source": [
    "from k_seq.data import seq_table\n",
    "byo_doped = seq_table.SeqTable.load_default_dataset(dataset='byo_doped')"
   ]
  },
  {
   "cell_type": "code",
   "execution_count": 4,
   "metadata": {
    "ExecuteTime": {
     "end_time": "2019-10-21T19:40:40.508617Z",
     "start_time": "2019-10-21T19:40:40.441341Z"
    }
   },
   "outputs": [
    {
     "data": {
      "text/html": [
       "<div>\n",
       "<style scoped>\n",
       "    .dataframe tbody tr th:only-of-type {\n",
       "        vertical-align: middle;\n",
       "    }\n",
       "\n",
       "    .dataframe tbody tr th {\n",
       "        vertical-align: top;\n",
       "    }\n",
       "\n",
       "    .dataframe thead th {\n",
       "        text-align: right;\n",
       "    }\n",
       "</style>\n",
       "<table border=\"1\" class=\"dataframe\">\n",
       "  <thead>\n",
       "    <tr style=\"text-align: right;\">\n",
       "      <th></th>\n",
       "      <th>A1</th>\n",
       "      <th>A2</th>\n",
       "      <th>A3</th>\n",
       "      <th>B1</th>\n",
       "      <th>B2</th>\n",
       "      <th>B3</th>\n",
       "      <th>C1</th>\n",
       "      <th>C2</th>\n",
       "      <th>C3</th>\n",
       "      <th>D1</th>\n",
       "      <th>D2</th>\n",
       "      <th>D3</th>\n",
       "      <th>E1</th>\n",
       "      <th>E2</th>\n",
       "      <th>E3</th>\n",
       "      <th>R0</th>\n",
       "    </tr>\n",
       "  </thead>\n",
       "  <tbody>\n",
       "    <tr>\n",
       "      <td>CTACTTCAAACAATCGGTCTG</td>\n",
       "      <td>2073359</td>\n",
       "      <td>2223890</td>\n",
       "      <td>4673972</td>\n",
       "      <td>2375053</td>\n",
       "      <td>2925890</td>\n",
       "      <td>2602711</td>\n",
       "      <td>1509853</td>\n",
       "      <td>2060371</td>\n",
       "      <td>2188132</td>\n",
       "      <td>1894508</td>\n",
       "      <td>2005826</td>\n",
       "      <td>1712433</td>\n",
       "      <td>768138</td>\n",
       "      <td>1903080</td>\n",
       "      <td>1535263</td>\n",
       "      <td>1452168</td>\n",
       "    </tr>\n",
       "    <tr>\n",
       "      <td>CCACACTTCAAGCAATCGGTC</td>\n",
       "      <td>1918612</td>\n",
       "      <td>2063146</td>\n",
       "      <td>4473364</td>\n",
       "      <td>2005514</td>\n",
       "      <td>2398999</td>\n",
       "      <td>2190556</td>\n",
       "      <td>1125797</td>\n",
       "      <td>1509769</td>\n",
       "      <td>1555068</td>\n",
       "      <td>1362890</td>\n",
       "      <td>1470216</td>\n",
       "      <td>1155490</td>\n",
       "      <td>529124</td>\n",
       "      <td>1337152</td>\n",
       "      <td>1026848</td>\n",
       "      <td>1246770</td>\n",
       "    </tr>\n",
       "    <tr>\n",
       "      <td>ATTACCCTGGTCATCGAGTGA</td>\n",
       "      <td>1231995</td>\n",
       "      <td>1116392</td>\n",
       "      <td>2439960</td>\n",
       "      <td>1476384</td>\n",
       "      <td>1534694</td>\n",
       "      <td>1481682</td>\n",
       "      <td>2217682</td>\n",
       "      <td>1945364</td>\n",
       "      <td>2359447</td>\n",
       "      <td>3419619</td>\n",
       "      <td>3071206</td>\n",
       "      <td>3270499</td>\n",
       "      <td>1822663</td>\n",
       "      <td>4514332</td>\n",
       "      <td>4338722</td>\n",
       "      <td>1114058</td>\n",
       "    </tr>\n",
       "    <tr>\n",
       "      <td>AAGTTTGCTAATAGTCGCAAG</td>\n",
       "      <td>989320</td>\n",
       "      <td>852125</td>\n",
       "      <td>1917147</td>\n",
       "      <td>1065499</td>\n",
       "      <td>976044</td>\n",
       "      <td>901923</td>\n",
       "      <td>626570</td>\n",
       "      <td>582849</td>\n",
       "      <td>718972</td>\n",
       "      <td>746781</td>\n",
       "      <td>554123</td>\n",
       "      <td>516678</td>\n",
       "      <td>311240</td>\n",
       "      <td>420069</td>\n",
       "      <td>430141</td>\n",
       "      <td>1421715</td>\n",
       "    </tr>\n",
       "    <tr>\n",
       "      <td>GTACTTCAAACAATCGGTCTG</td>\n",
       "      <td>98231</td>\n",
       "      <td>93653</td>\n",
       "      <td>199970</td>\n",
       "      <td>99669</td>\n",
       "      <td>114584</td>\n",
       "      <td>100818</td>\n",
       "      <td>58189</td>\n",
       "      <td>75606</td>\n",
       "      <td>77390</td>\n",
       "      <td>71419</td>\n",
       "      <td>70333</td>\n",
       "      <td>55207</td>\n",
       "      <td>27347</td>\n",
       "      <td>59957</td>\n",
       "      <td>47546</td>\n",
       "      <td>85808</td>\n",
       "    </tr>\n",
       "    <tr>\n",
       "      <td>...</td>\n",
       "      <td>...</td>\n",
       "      <td>...</td>\n",
       "      <td>...</td>\n",
       "      <td>...</td>\n",
       "      <td>...</td>\n",
       "      <td>...</td>\n",
       "      <td>...</td>\n",
       "      <td>...</td>\n",
       "      <td>...</td>\n",
       "      <td>...</td>\n",
       "      <td>...</td>\n",
       "      <td>...</td>\n",
       "      <td>...</td>\n",
       "      <td>...</td>\n",
       "      <td>...</td>\n",
       "      <td>...</td>\n",
       "    </tr>\n",
       "    <tr>\n",
       "      <td>ACACGCCACACGCAATCGGTC</td>\n",
       "      <td>0</td>\n",
       "      <td>0</td>\n",
       "      <td>0</td>\n",
       "      <td>0</td>\n",
       "      <td>0</td>\n",
       "      <td>0</td>\n",
       "      <td>0</td>\n",
       "      <td>0</td>\n",
       "      <td>0</td>\n",
       "      <td>0</td>\n",
       "      <td>0</td>\n",
       "      <td>0</td>\n",
       "      <td>0</td>\n",
       "      <td>0</td>\n",
       "      <td>0</td>\n",
       "      <td>2</td>\n",
       "    </tr>\n",
       "    <tr>\n",
       "      <td>AACTCTGCGAATAATCGCAAG</td>\n",
       "      <td>0</td>\n",
       "      <td>0</td>\n",
       "      <td>0</td>\n",
       "      <td>0</td>\n",
       "      <td>0</td>\n",
       "      <td>0</td>\n",
       "      <td>0</td>\n",
       "      <td>0</td>\n",
       "      <td>0</td>\n",
       "      <td>0</td>\n",
       "      <td>0</td>\n",
       "      <td>0</td>\n",
       "      <td>0</td>\n",
       "      <td>0</td>\n",
       "      <td>0</td>\n",
       "      <td>2</td>\n",
       "    </tr>\n",
       "    <tr>\n",
       "      <td>ATTACTATGGTCGTCGAGTGC</td>\n",
       "      <td>0</td>\n",
       "      <td>0</td>\n",
       "      <td>0</td>\n",
       "      <td>0</td>\n",
       "      <td>0</td>\n",
       "      <td>0</td>\n",
       "      <td>0</td>\n",
       "      <td>0</td>\n",
       "      <td>0</td>\n",
       "      <td>0</td>\n",
       "      <td>0</td>\n",
       "      <td>0</td>\n",
       "      <td>0</td>\n",
       "      <td>0</td>\n",
       "      <td>0</td>\n",
       "      <td>2</td>\n",
       "    </tr>\n",
       "    <tr>\n",
       "      <td>ATTGCCTTGGTCATCGACAGA</td>\n",
       "      <td>0</td>\n",
       "      <td>0</td>\n",
       "      <td>0</td>\n",
       "      <td>0</td>\n",
       "      <td>0</td>\n",
       "      <td>0</td>\n",
       "      <td>0</td>\n",
       "      <td>0</td>\n",
       "      <td>0</td>\n",
       "      <td>0</td>\n",
       "      <td>0</td>\n",
       "      <td>0</td>\n",
       "      <td>0</td>\n",
       "      <td>0</td>\n",
       "      <td>0</td>\n",
       "      <td>2</td>\n",
       "    </tr>\n",
       "    <tr>\n",
       "      <td>CCACAATTGAAGCAGTCGGCC</td>\n",
       "      <td>0</td>\n",
       "      <td>0</td>\n",
       "      <td>0</td>\n",
       "      <td>0</td>\n",
       "      <td>0</td>\n",
       "      <td>0</td>\n",
       "      <td>0</td>\n",
       "      <td>0</td>\n",
       "      <td>0</td>\n",
       "      <td>0</td>\n",
       "      <td>0</td>\n",
       "      <td>0</td>\n",
       "      <td>0</td>\n",
       "      <td>0</td>\n",
       "      <td>0</td>\n",
       "      <td>2</td>\n",
       "    </tr>\n",
       "  </tbody>\n",
       "</table>\n",
       "<p>1344671 rows × 16 columns</p>\n",
       "</div>"
      ],
      "text/plain": [
       "                            A1       A2       A3       B1       B2       B3  \\\n",
       "CTACTTCAAACAATCGGTCTG  2073359  2223890  4673972  2375053  2925890  2602711   \n",
       "CCACACTTCAAGCAATCGGTC  1918612  2063146  4473364  2005514  2398999  2190556   \n",
       "ATTACCCTGGTCATCGAGTGA  1231995  1116392  2439960  1476384  1534694  1481682   \n",
       "AAGTTTGCTAATAGTCGCAAG   989320   852125  1917147  1065499   976044   901923   \n",
       "GTACTTCAAACAATCGGTCTG    98231    93653   199970    99669   114584   100818   \n",
       "...                        ...      ...      ...      ...      ...      ...   \n",
       "ACACGCCACACGCAATCGGTC        0        0        0        0        0        0   \n",
       "AACTCTGCGAATAATCGCAAG        0        0        0        0        0        0   \n",
       "ATTACTATGGTCGTCGAGTGC        0        0        0        0        0        0   \n",
       "ATTGCCTTGGTCATCGACAGA        0        0        0        0        0        0   \n",
       "CCACAATTGAAGCAGTCGGCC        0        0        0        0        0        0   \n",
       "\n",
       "                            C1       C2       C3       D1       D2       D3  \\\n",
       "CTACTTCAAACAATCGGTCTG  1509853  2060371  2188132  1894508  2005826  1712433   \n",
       "CCACACTTCAAGCAATCGGTC  1125797  1509769  1555068  1362890  1470216  1155490   \n",
       "ATTACCCTGGTCATCGAGTGA  2217682  1945364  2359447  3419619  3071206  3270499   \n",
       "AAGTTTGCTAATAGTCGCAAG   626570   582849   718972   746781   554123   516678   \n",
       "GTACTTCAAACAATCGGTCTG    58189    75606    77390    71419    70333    55207   \n",
       "...                        ...      ...      ...      ...      ...      ...   \n",
       "ACACGCCACACGCAATCGGTC        0        0        0        0        0        0   \n",
       "AACTCTGCGAATAATCGCAAG        0        0        0        0        0        0   \n",
       "ATTACTATGGTCGTCGAGTGC        0        0        0        0        0        0   \n",
       "ATTGCCTTGGTCATCGACAGA        0        0        0        0        0        0   \n",
       "CCACAATTGAAGCAGTCGGCC        0        0        0        0        0        0   \n",
       "\n",
       "                            E1       E2       E3       R0  \n",
       "CTACTTCAAACAATCGGTCTG   768138  1903080  1535263  1452168  \n",
       "CCACACTTCAAGCAATCGGTC   529124  1337152  1026848  1246770  \n",
       "ATTACCCTGGTCATCGAGTGA  1822663  4514332  4338722  1114058  \n",
       "AAGTTTGCTAATAGTCGCAAG   311240   420069   430141  1421715  \n",
       "GTACTTCAAACAATCGGTCTG    27347    59957    47546    85808  \n",
       "...                        ...      ...      ...      ...  \n",
       "ACACGCCACACGCAATCGGTC        0        0        0        2  \n",
       "AACTCTGCGAATAATCGCAAG        0        0        0        2  \n",
       "ATTACTATGGTCGTCGAGTGC        0        0        0        2  \n",
       "ATTGCCTTGGTCATCGACAGA        0        0        0        2  \n",
       "CCACAATTGAAGCAGTCGGCC        0        0        0        2  \n",
       "\n",
       "[1344671 rows x 16 columns]"
      ]
     },
     "execution_count": 4,
     "metadata": {},
     "output_type": "execute_result"
    }
   ],
   "source": [
    "byo_doped.filtered_table"
   ]
  },
  {
   "cell_type": "code",
   "execution_count": 11,
   "metadata": {
    "ExecuteTime": {
     "end_time": "2019-10-21T19:41:25.001483Z",
     "start_time": "2019-10-21T19:41:24.933752Z"
    }
   },
   "outputs": [],
   "source": [
    "var = np.array(list(np.array([2, 10, 50, 250, 1250]) * 1e-6) * 3 + [-1], dtype=np.float32)\n",
    "counts = byo_doped.filtered_table.to_numpy().T.astype(np.float32)"
   ]
  },
  {
   "cell_type": "code",
   "execution_count": 37,
   "metadata": {
    "ExecuteTime": {
     "end_time": "2019-10-21T19:52:33.818713Z",
     "start_time": "2019-10-21T19:50:14.933351Z"
    }
   },
   "outputs": [
    {
     "name": "stdout",
     "output_type": "stream",
     "text": [
      "[ 2.00e-06  1.00e-05  5.00e-05  2.50e-04  1.25e-03  2.00e-06  1.00e-05\n",
      "  5.00e-05  2.50e-04  1.25e-03  2.00e-06  1.00e-05  5.00e-05  2.50e-04\n",
      "  1.25e-03 -1.00e+00]\n",
      "[ True  True  True  True  True  True  True  True  True  True  True  True\n",
      "  True  True  True False]\n",
      "computation time: 138.2386 seconds\n"
     ]
    },
    {
     "ename": "AssertionError",
     "evalue": "",
     "output_type": "error",
     "traceback": [
      "\u001b[0;31m---------------------------------------------------------------------------\u001b[0m",
      "\u001b[0;31mAssertionError\u001b[0m                            Traceback (most recent call last)",
      "\u001b[0;32m<ipython-input-37-5a7a66018dc1>\u001b[0m in \u001b[0;36m<module>\u001b[0;34m\u001b[0m\n\u001b[1;32m     13\u001b[0m     \u001b[0mend\u001b[0m \u001b[0;34m=\u001b[0m \u001b[0mtime\u001b[0m\u001b[0;34m.\u001b[0m\u001b[0mtime\u001b[0m\u001b[0;34m(\u001b[0m\u001b[0;34m)\u001b[0m\u001b[0;34m\u001b[0m\u001b[0;34m\u001b[0m\u001b[0m\n\u001b[1;32m     14\u001b[0m     \u001b[0mprint\u001b[0m\u001b[0;34m(\u001b[0m\u001b[0;34mf\"computation time: {end - start:.4f} seconds\"\u001b[0m\u001b[0;34m)\u001b[0m\u001b[0;34m\u001b[0m\u001b[0;34m\u001b[0m\u001b[0m\n\u001b[0;32m---> 15\u001b[0;31m     \u001b[0;32massert\u001b[0m \u001b[0mres\u001b[0m\u001b[0;34m.\u001b[0m\u001b[0mconverged\u001b[0m\u001b[0;34m\u001b[0m\u001b[0;34m\u001b[0m\u001b[0m\n\u001b[0m",
      "\u001b[0;31mAssertionError\u001b[0m: "
     ]
    }
   ],
   "source": [
    "import time\n",
    "import tensorflow as tf\n",
    "\n",
    "tf.compat.v1.reset_default_graph()\n",
    "\n",
    "with tf.compat.v1.Session() as sess:\n",
    "    start = time.time()\n",
    "    print(var)\n",
    "    sample_mask = np.array([c > 0 for c in var])\n",
    "    print(sample_mask)\n",
    "    mle = fit_count_model(var=var, count=counts, sample_mask=sample_mask, init_method='average')\n",
    "    res = sess.run(mle)\n",
    "    end = time.time()\n",
    "    print(f\"computation time: {end - start:.4f} seconds\")\n",
    "    assert res.converged"
   ]
  },
  {
   "cell_type": "code",
   "execution_count": 38,
   "metadata": {
    "ExecuteTime": {
     "end_time": "2019-10-21T19:52:37.817827Z",
     "start_time": "2019-10-21T19:52:37.723135Z"
    }
   },
   "outputs": [],
   "source": [
    "params = parse_param(res.position)"
   ]
  },
  {
   "cell_type": "code",
   "execution_count": 44,
   "metadata": {
    "ExecuteTime": {
     "end_time": "2019-10-21T19:53:17.500348Z",
     "start_time": "2019-10-21T19:53:17.093662Z"
    }
   },
   "outputs": [
    {
     "data": {
      "image/png": "[encoded data removed]",
      "text/plain": [
       "<Figure size 432x288 with 1 Axes>"
      ]
     },
     "metadata": {
      "needs_background": "light"
     },
     "output_type": "display_data"
    }
   ],
   "source": [
    "bins = np.logspace(-1, 2, 100)\n",
    "plt.hist(params.k, bins=bins)\n",
    "plt.xscale('log')\n",
    "plt.show()"
   ]
  },
  {
   "cell_type": "code",
   "execution_count": 40,
   "metadata": {
    "ExecuteTime": {
     "end_time": "2019-10-21T19:52:56.153491Z",
     "start_time": "2019-10-21T19:52:56.143288Z"
    }
   },
   "outputs": [
    {
     "data": {
      "text/plain": [
       "array([19.420952  , 24.393702  , 13.759039  , ...,  0.99073625,\n",
       "        0.99073625,  0.99073625], dtype=float32)"
      ]
     },
     "execution_count": 40,
     "metadata": {},
     "output_type": "execute_result"
    }
   ],
   "source": [
    "params.k"
   ]
  },
  {
   "cell_type": "markdown",
   "metadata": {},
   "source": [
    "# Pool Simulator"
   ]
  },
  {
   "cell_type": "code",
   "execution_count": 12,
   "metadata": {
    "ExecuteTime": {
     "end_time": "2019-09-26T02:14:14.540474Z",
     "start_time": "2019-09-26T02:14:12.428310Z"
    }
   },
   "outputs": [],
   "source": [
    "from k_seq.data import CountFileSet\n",
    "\n",
    "bfo_data = CountFileSet.load_default(dataset='bfo')\n",
    "bfo_data.load_data()"
   ]
  },
  {
   "cell_type": "code",
   "execution_count": 15,
   "metadata": {
    "ExecuteTime": {
     "end_time": "2019-09-26T02:17:22.346906Z",
     "start_time": "2019-09-26T02:17:22.302900Z"
    }
   },
   "outputs": [],
   "source": []
  },
  {
   "cell_type": "code",
   "execution_count": 52,
   "metadata": {
    "ExecuteTime": {
     "end_time": "2019-09-26T02:23:10.470269Z",
     "start_time": "2019-09-26T02:23:10.426305Z"
    }
   },
   "outputs": [
    {
     "data": {
      "text/plain": [
       "array([[     1],\n",
       "       [     1],\n",
       "       [     1],\n",
       "       ...,\n",
       "       [ 28860],\n",
       "       [122377],\n",
       "       [605843]])"
      ]
     },
     "execution_count": 52,
     "metadata": {},
     "output_type": "execute_result"
    }
   ],
   "source": []
  },
  {
   "cell_type": "code",
   "execution_count": 59,
   "metadata": {
    "ExecuteTime": {
     "end_time": "2019-09-26T02:25:19.458475Z",
     "start_time": "2019-09-26T02:25:19.426023Z"
    }
   },
   "outputs": [],
   "source": [
    "from k_seq.model import pool, count, kinetic\n",
    "from k_seq.data import simu\n",
    "import pandas as pd\n",
    "reload(pool)\n",
    "reload(count)\n",
    "reload(kinetic)\n",
    "reload(simu)\n",
    "\n",
    "# summarize following into a function\n",
    "\n",
    "p0 = simu.pSampler(n=1e5).from_list(seqs['A-inputA'])\n",
    "A = simu.ASampler(n=1e5).from_uniform(low=0, high=1)\n",
    "k = simu.kSampler(n=1e5).from_lognormal(c95=[0.5, 50])\n",
    "ribo_info = pd.DataFrame({'p0': p0, })"
   ]
  },
  {
   "cell_type": "code",
   "execution_count": null,
   "metadata": {},
   "outputs": [],
   "source": [
    "p0 = simu.pSampler.from_list()"
   ]
  },
  {
   "cell_type": "code",
   "execution_count": 60,
   "metadata": {
    "ExecuteTime": {
     "end_time": "2019-09-26T02:25:25.374341Z",
     "start_time": "2019-09-26T02:25:25.369266Z"
    }
   },
   "outputs": [
    {
     "data": {
      "text/plain": [
       "array([ 2.11322467, 54.20552086,  0.74818859, ...,  2.02509913,\n",
       "       40.57007239, 16.27110082])"
      ]
     },
     "execution_count": 60,
     "metadata": {},
     "output_type": "execute_result"
    }
   ],
   "source": [
    "k"
   ]
  },
  {
   "cell_type": "code",
   "execution_count": null,
   "metadata": {},
   "outputs": [],
   "source": []
  }
 ],
 "metadata": {
  "kernelspec": {
   "display_name": "SSH yuning@128.111.194.197 k-seq",
   "language": "python",
   "name": "rik_ssh_yuning_128_111_194_197_kseq"
  },
  "language_info": {
   "codemirror_mode": {
    "name": "ipython",
    "version": 3
   },
   "file_extension": ".py",
   "mimetype": "text/x-python",
   "name": "python",
   "nbconvert_exporter": "python",
   "pygments_lexer": "ipython3",
   "version": "3.7.4"
  },
  "toc": {
   "nav_menu": {},
   "number_sections": true,
   "sideBar": true,
   "skip_h1_title": false,
   "toc_cell": false,
   "toc_position": {},
   "toc_section_display": "block",
   "toc_window_display": false
  },
  "varInspector": {
   "cols": {
    "lenName": 16,
    "lenType": 16,
    "lenVar": 40
   },
   "kernels_config": {
    "python": {
     "delete_cmd_postfix": "",
     "delete_cmd_prefix": "del ",
     "library": "var_list.py",
     "varRefreshCmd": "print(var_dic_list())"
    },
    "r": {
     "delete_cmd_postfix": ") ",
     "delete_cmd_prefix": "rm(",
     "library": "var_list.r",
     "varRefreshCmd": "cat(var_dic_list()) "
    }
   },
   "types_to_exclude": [
    "module",
    "function",
    "builtin_function_or_method",
    "instance",
    "_Feature"
   ],
   "window_display": false
  }
 },
 "nbformat": 4,
 "nbformat_minor": 2
}
