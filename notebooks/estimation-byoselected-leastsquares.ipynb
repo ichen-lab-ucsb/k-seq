{
 "cells": [
  {
   "cell_type": "markdown",
   "metadata": {},
   "source": [
    "# BYO-selection pool least-squares estimation results\n",
    "\n",
    "\n",
    "Some k-seq data property should be investigated and illustrated\n",
    "\n",
    "- zero counts vs relative abundance (assumption, if exists zero counts, the relative aboundance (or absolute amount? which contribute to the low count number?) on average should be low)\n",
    "- relative abundance distribution\n",
    "- theoratical support of not observed?"
   ]
  },
  {
   "cell_type": "code",
   "execution_count": 1,
   "metadata": {
    "ExecuteTime": {
     "end_time": "2019-12-11T20:23:53.298331Z",
     "start_time": "2019-12-11T20:23:52.991010Z"
    }
   },
   "outputs": [],
   "source": [
    "from yuning_util.dev_mode import DevMode\n",
    "dev_mode = DevMode('k-seq')\n",
    "dev_mode.on()\n",
    "\n",
    "from importlib import reload\n",
    "import pandas as pd\n",
    "import numpy as np\n",
    "import matplotlib.pyplot as plt\n",
    "plt.style.use('seaborn')\n",
    "import matplotlib as mpl\n",
    "mpl.rcParams['figure.dpi'] = 240"
   ]
  },
  {
   "cell_type": "code",
   "execution_count": 3,
   "metadata": {
    "ExecuteTime": {
     "end_time": "2019-12-11T20:24:17.646401Z",
     "start_time": "2019-12-11T20:24:17.641576Z"
    }
   },
   "outputs": [],
   "source": [
    "from k_seq.utility.file_tools import read_pickle"
   ]
  },
  {
   "cell_type": "code",
   "execution_count": 4,
   "metadata": {
    "ExecuteTime": {
     "end_time": "2019-12-11T20:24:23.472693Z",
     "start_time": "2019-12-11T20:24:23.171255Z"
    }
   },
   "outputs": [],
   "source": [
    "results = read_pickle('/mnt/storage/projects/k-seq/working/archive/repeat_res/fittingRes_byo_abeData_fix_min6_clean_2.pkl')"
   ]
  },
  {
   "cell_type": "code",
   "execution_count": 9,
   "metadata": {
    "ExecuteTime": {
     "end_time": "2019-12-11T21:13:19.562993Z",
     "start_time": "2019-12-11T21:13:19.554229Z"
    },
    "scrolled": false
   },
   "outputs": [],
   "source": [
    "def parse_old_results(results, filter_seq_length=True):\n",
    "    if filter_seq_length:\n",
    "        results = [res for res in results if len(res['seq']) == 21]\n",
    "    \n",
    "    def expand(res):\n",
    "        return {\n",
    "            'config': res['config'],\n",
    "            'k': res['pointEstimation']['k'],\n",
    "            'A': res['pointEstimation']['A'],\n",
    "            'kA': res['pointEstimation']['kA'],\n",
    "            'k_std': res['stddev']['k'],\n",
    "            'A_std': res['stddev']['A'],\n",
    "            'kA_std': res['stddev']['kA'],\n",
    "            'k_2.5%': res['bootstrapRes']['k']['2.5'],\n",
    "            'k_50%': res['bootstrapRes']['k']['median'],\n",
    "            'k_97.5%': res['bootstrapRes']['k']['97.5'],\n",
    "            'k_mean': res['bootstrapRes']['k']['mean'],\n",
    "            'A_2.5%': res['bootstrapRes']['A']['2.5'],\n",
    "            'A_50%': res['bootstrapRes']['A']['median'],\n",
    "            'A_97.5%': res['bootstrapRes']['A']['97.5'],\n",
    "            'A_mean': res['bootstrapRes']['A']['mean'],\n",
    "            'kA_2.5%': res['bootstrapRes']['kA']['2.5'],\n",
    "            'kA_50%': res['bootstrapRes']['kA']['median'],\n",
    "            'kA_97.5%': res['bootstrapRes']['kA']['97.5'],\n",
    "            'kA_mean': res['bootstrapRes']['kA']['mean'],\n",
    "        }\n",
    "    import pandas as pd\n",
    "    return pd.DataFrame.from_dict({res['seq']:expand(res) for res in results}, orient='index')"
   ]
  },
  {
   "cell_type": "code",
   "execution_count": 10,
   "metadata": {
    "ExecuteTime": {
     "end_time": "2019-12-11T21:13:33.234822Z",
     "start_time": "2019-12-11T21:13:32.671599Z"
    }
   },
   "outputs": [],
   "source": [
    "results = parse_old_results(results)"
   ]
  },
  {
   "cell_type": "code",
   "execution_count": 16,
   "metadata": {
    "ExecuteTime": {
     "end_time": "2019-12-11T21:16:00.612489Z",
     "start_time": "2019-12-11T21:16:00.490266Z"
    }
   },
   "outputs": [],
   "source": [
    "new_bs_res = pd.read_csv('/mnt/storage/projects/k-seq/working/byo_doped/least_square/bs-pct-res-bounded_pod_10-27-19/', index_col='Unnamed: 0')"
   ]
  },
  {
   "cell_type": "code",
   "execution_count": 22,
   "metadata": {
    "ExecuteTime": {
     "end_time": "2019-12-11T21:17:04.503988Z",
     "start_time": "2019-12-11T21:17:04.493586Z"
    }
   },
   "outputs": [],
   "source": [
    "shared_seq = set(new_bs_res.index.values) & set(results.index.values)"
   ]
  },
  {
   "cell_type": "code",
   "execution_count": null,
   "metadata": {},
   "outputs": [],
   "source": []
  },
  {
   "cell_type": "code",
   "execution_count": 23,
   "metadata": {
    "ExecuteTime": {
     "end_time": "2019-12-11T21:33:01.608661Z",
     "start_time": "2019-12-11T21:33:01.577963Z"
    }
   },
   "outputs": [
    {
     "ename": "AttributeError",
     "evalue": "type object 'BYOModel' has no attribute 'func_react_frac_no_slope'",
     "output_type": "error",
     "traceback": [
      "\u001b[0;31m---------------------------------------------------------------------------\u001b[0m",
      "\u001b[0;31mAttributeError\u001b[0m                            Traceback (most recent call last)",
      "\u001b[0;32m<ipython-input-23-90dec60cf1fd>\u001b[0m in \u001b[0;36m<module>\u001b[0;34m\u001b[0m\n\u001b[0;32m----> 1\u001b[0;31m \u001b[0mread_pickle\u001b[0m\u001b[0;34m(\u001b[0m\u001b[0;34m'/mnt/storage/projects/k-seq/working/byo_doped/least_square/bs_data_bounded_pod_10-28-19/model.pkl'\u001b[0m\u001b[0;34m)\u001b[0m\u001b[0;34m\u001b[0m\u001b[0;34m\u001b[0m\u001b[0m\n\u001b[0m",
      "\u001b[0;32m~/.pyenv/versions/anaconda3-5.0.1/envs/k-seq/lib/python3.7/site-packages/k_seq/utility/file_tools.py\u001b[0m in \u001b[0;36mread_pickle\u001b[0;34m(path)\u001b[0m\n\u001b[1;32m    198\u001b[0m \u001b[0;34m\u001b[0m\u001b[0m\n\u001b[1;32m    199\u001b[0m     \u001b[0;32mwith\u001b[0m \u001b[0mopen\u001b[0m\u001b[0;34m(\u001b[0m\u001b[0mpath\u001b[0m\u001b[0;34m,\u001b[0m \u001b[0;34m'rb'\u001b[0m\u001b[0;34m)\u001b[0m \u001b[0;32mas\u001b[0m \u001b[0mhandle\u001b[0m\u001b[0;34m:\u001b[0m\u001b[0;34m\u001b[0m\u001b[0;34m\u001b[0m\u001b[0m\n\u001b[0;32m--> 200\u001b[0;31m         \u001b[0;32mreturn\u001b[0m \u001b[0mpickle\u001b[0m\u001b[0;34m.\u001b[0m\u001b[0mload\u001b[0m\u001b[0;34m(\u001b[0m\u001b[0mhandle\u001b[0m\u001b[0;34m)\u001b[0m\u001b[0;34m\u001b[0m\u001b[0;34m\u001b[0m\u001b[0m\n\u001b[0m\u001b[1;32m    201\u001b[0m \u001b[0;34m\u001b[0m\u001b[0m\n\u001b[1;32m    202\u001b[0m \u001b[0;34m\u001b[0m\u001b[0m\n",
      "\u001b[0;31mAttributeError\u001b[0m: type object 'BYOModel' has no attribute 'func_react_frac_no_slope'"
     ]
    }
   ],
   "source": [
    "read_pickle('/mnt/storage/projects/k-seq/working/byo_doped/least_square/bs_data_bounded_pod_10-28-19/model.pkl')"
   ]
  }
 ],
 "metadata": {
  "kernelspec": {
   "display_name": "SSH yuning@128.111.194.197 k-seq",
   "language": "python",
   "name": "rik_ssh_yuning_128_111_194_197_kseq"
  },
  "language_info": {
   "codemirror_mode": {
    "name": "ipython",
    "version": 3
   },
   "file_extension": ".py",
   "mimetype": "text/x-python",
   "name": "python",
   "nbconvert_exporter": "python",
   "pygments_lexer": "ipython3",
   "version": "3.7.4"
  },
  "toc": {
   "nav_menu": {},
   "number_sections": true,
   "sideBar": true,
   "skip_h1_title": false,
   "toc_cell": false,
   "toc_position": {},
   "toc_section_display": "block",
   "toc_window_display": false
  },
  "varInspector": {
   "cols": {
    "lenName": 16,
    "lenType": 16,
    "lenVar": 40
   },
   "kernels_config": {
    "python": {
     "delete_cmd_postfix": "",
     "delete_cmd_prefix": "del ",
     "library": "var_list.py",
     "varRefreshCmd": "print(var_dic_list())"
    },
    "r": {
     "delete_cmd_postfix": ") ",
     "delete_cmd_prefix": "rm(",
     "library": "var_list.r",
     "varRefreshCmd": "cat(var_dic_list()) "
    }
   },
   "types_to_exclude": [
    "module",
    "function",
    "builtin_function_or_method",
    "instance",
    "_Feature"
   ],
   "window_display": false
  }
 },
 "nbformat": 4,
 "nbformat_minor": 2
}
