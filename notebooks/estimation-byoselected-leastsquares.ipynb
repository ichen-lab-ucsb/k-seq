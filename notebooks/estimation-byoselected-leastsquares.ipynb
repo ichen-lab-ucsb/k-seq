{
 "cells": [
  {
   "cell_type": "markdown",
   "metadata": {},
   "source": [
    "# BYO-selection pool least-squares estimation results\n",
    "\n",
    "\n",
    "Some k-seq data property should be investigated and illustrated\n",
    "\n",
    "- zero counts vs relative abundance (assumption, if exists zero counts, the relative aboundance (or absolute amount? which contribute to the low count number?) on average should be low)\n",
    "- relative abundance distribution\n",
    "- theoratical support of not observed?"
   ]
  },
  {
   "cell_type": "code",
   "execution_count": 1,
   "metadata": {
    "ExecuteTime": {
     "end_time": "2019-12-11T20:23:53.298331Z",
     "start_time": "2019-12-11T20:23:52.991010Z"
    }
   },
   "outputs": [],
   "source": [
    "from yuning_util.dev_mode import DevMode\n",
    "dev_mode = DevMode('k-seq')\n",
    "dev_mode.on()\n",
    "\n",
    "from importlib import reload\n",
    "import pandas as pd\n",
    "import numpy as np\n",
    "import matplotlib.pyplot as plt\n",
    "plt.style.use('seaborn')\n",
    "import matplotlib as mpl\n",
    "mpl.rcParams['figure.dpi'] = 240"
   ]
  },
  {
   "cell_type": "code",
   "execution_count": null,
   "metadata": {},
   "outputs": [],
   "source": []
  },
  {
   "cell_type": "code",
   "execution_count": 3,
   "metadata": {
    "ExecuteTime": {
     "end_time": "2019-12-11T20:24:17.646401Z",
     "start_time": "2019-12-11T20:24:17.641576Z"
    }
   },
   "outputs": [],
   "source": [
    "from k_seq.utility.file_tools import read_pickle"
   ]
  },
  {
   "cell_type": "code",
   "execution_count": 4,
   "metadata": {
    "ExecuteTime": {
     "end_time": "2019-12-11T20:24:23.472693Z",
     "start_time": "2019-12-11T20:24:23.171255Z"
    }
   },
   "outputs": [],
   "source": [
    "results = read_pickle('/mnt/storage/projects/k-seq/working/archive/repeat_res/fittingRes_byo_abeData_fix_min6_clean_2.pkl')"
   ]
  },
  {
   "cell_type": "code",
   "execution_count": 7,
   "metadata": {
    "ExecuteTime": {
     "end_time": "2019-12-11T20:25:05.051854Z",
     "start_time": "2019-12-11T20:25:04.993278Z"
    },
    "scrolled": false
   },
   "outputs": [
    {
     "data": {
      "text/html": [
       "<div>\n",
       "<style scoped>\n",
       "    .dataframe tbody tr th:only-of-type {\n",
       "        vertical-align: middle;\n",
       "    }\n",
       "\n",
       "    .dataframe tbody tr th {\n",
       "        vertical-align: top;\n",
       "    }\n",
       "\n",
       "    .dataframe thead th {\n",
       "        text-align: right;\n",
       "    }\n",
       "</style>\n",
       "<table border=\"1\" class=\"dataframe\">\n",
       "  <thead>\n",
       "    <tr style=\"text-align: right;\">\n",
       "      <th></th>\n",
       "      <th>seq</th>\n",
       "      <th>config</th>\n",
       "      <th>pointEstimation</th>\n",
       "      <th>stddev</th>\n",
       "      <th>bootstrapRes</th>\n",
       "    </tr>\n",
       "  </thead>\n",
       "  <tbody>\n",
       "    <tr>\n",
       "      <td>0</td>\n",
       "      <td>GTTACCCTGGTCATCGAGTGTTT</td>\n",
       "      <td>[6, 5, 3, 4]</td>\n",
       "      <td>{'A': 0.2853965985401185, 'k': 1289.5076961970...</td>\n",
       "      <td>{'A': 0.040529803085566495, 'k': 493.861125718...</td>\n",
       "      <td>{'A': {'2.5': 0.24195547865115197, 'median': 0...</td>\n",
       "    </tr>\n",
       "    <tr>\n",
       "      <td>1</td>\n",
       "      <td>GTTACCCTGGTCATCGGGTGTTT</td>\n",
       "      <td>[6, 5, 3, 4]</td>\n",
       "      <td>{'A': 0.29733778638383307, 'k': 884.3621355850...</td>\n",
       "      <td>{'A': 0.025660004069564576, 'k': 243.172135571...</td>\n",
       "      <td>{'A': {'2.5': 0.23492550237098422, 'median': 0...</td>\n",
       "    </tr>\n",
       "    <tr>\n",
       "      <td>2</td>\n",
       "      <td>GTTACCCTGGTCATCGAGTGAT</td>\n",
       "      <td>[6, 5, 3, 4]</td>\n",
       "      <td>{'A': 0.3527717329965419, 'k': 659.29595855257...</td>\n",
       "      <td>{'A': 0.06199847744717288, 'k': 297.2616640897...</td>\n",
       "      <td>{'A': {'2.5': 0.2694747096145283, 'median': 0....</td>\n",
       "    </tr>\n",
       "    <tr>\n",
       "      <td>3</td>\n",
       "      <td>GTTACCCTGGTCATCGAGTGTT</td>\n",
       "      <td>[6, 5, 3, 4]</td>\n",
       "      <td>{'A': 0.1708843438332211, 'k': 880.41466483020...</td>\n",
       "      <td>{'A': 0.023211614090636084, 'k': 290.310264506...</td>\n",
       "      <td>{'A': {'2.5': 0.15637417928836803, 'median': 0...</td>\n",
       "    </tr>\n",
       "    <tr>\n",
       "      <td>4</td>\n",
       "      <td>GTTACCCTGGTCATCGGGTGA</td>\n",
       "      <td>[6, 5, 3, 4]</td>\n",
       "      <td>{'A': 0.37195043019244906, 'k': 446.3896138069...</td>\n",
       "      <td>{'A': 0.10901235403788694, 'k': 270.2392682075...</td>\n",
       "      <td>{'A': {'2.5': 0.25096266891342656, 'median': 0...</td>\n",
       "    </tr>\n",
       "    <tr>\n",
       "      <td>...</td>\n",
       "      <td>...</td>\n",
       "      <td>...</td>\n",
       "      <td>...</td>\n",
       "      <td>...</td>\n",
       "      <td>...</td>\n",
       "    </tr>\n",
       "    <tr>\n",
       "      <td>28082</td>\n",
       "      <td>CGA</td>\n",
       "      <td>[6, 3, 3, 4]</td>\n",
       "      <td>{'A': 0.0034227502207681507, 'k': 308.51985027...</td>\n",
       "      <td>{'A': 0.31007603022390956, 'k': 426.1399954663...</td>\n",
       "      <td>{'A': {'2.5': 0.0030461989720672973, 'median':...</td>\n",
       "    </tr>\n",
       "    <tr>\n",
       "      <td>28083</td>\n",
       "      <td>CCGATAAAGTCAGGTCCAAGG</td>\n",
       "      <td>[2, 1, 2, 2]</td>\n",
       "      <td>{'A': 0.004813165097794104, 'k': 719.630961204...</td>\n",
       "      <td>{'A': 0.24808410869520595, 'k': 257.4591949232...</td>\n",
       "      <td>{'A': {'2.5': 0.0041014398952410195, 'median':...</td>\n",
       "    </tr>\n",
       "    <tr>\n",
       "      <td>28084</td>\n",
       "      <td>CCA</td>\n",
       "      <td>[5, 3, 2, 4]</td>\n",
       "      <td>{'A': 0.0037364703735715456, 'k': 456.84348942...</td>\n",
       "      <td>{'A': 0.22820682384065688, 'k': 545.7939607880...</td>\n",
       "      <td>{'A': {'2.5': 0.0028445420963465954, 'median':...</td>\n",
       "    </tr>\n",
       "    <tr>\n",
       "      <td>28085</td>\n",
       "      <td>ACCG</td>\n",
       "      <td>[3, 1, 0, 3]</td>\n",
       "      <td>{'A': 0.7264662518691019, 'k': 0.5830678810947...</td>\n",
       "      <td>{'A': 0.42877417768817827, 'k': 583.8283363566...</td>\n",
       "      <td>{'A': {'2.5': 0.005347485855180917, 'median': ...</td>\n",
       "    </tr>\n",
       "    <tr>\n",
       "      <td>28086</td>\n",
       "      <td>CC</td>\n",
       "      <td>[4, 4, 1, 4]</td>\n",
       "      <td>{'A': 0.5311247974462849, 'k': 0.4532486123542...</td>\n",
       "      <td>{'A': 0.4692300007794365, 'k': 514.88812043444...</td>\n",
       "      <td>{'A': {'2.5': 0.003579838471714738, 'median': ...</td>\n",
       "    </tr>\n",
       "  </tbody>\n",
       "</table>\n",
       "<p>28087 rows × 5 columns</p>\n",
       "</div>"
      ],
      "text/plain": [
       "                           seq        config  \\\n",
       "0      GTTACCCTGGTCATCGAGTGTTT  [6, 5, 3, 4]   \n",
       "1      GTTACCCTGGTCATCGGGTGTTT  [6, 5, 3, 4]   \n",
       "2       GTTACCCTGGTCATCGAGTGAT  [6, 5, 3, 4]   \n",
       "3       GTTACCCTGGTCATCGAGTGTT  [6, 5, 3, 4]   \n",
       "4        GTTACCCTGGTCATCGGGTGA  [6, 5, 3, 4]   \n",
       "...                        ...           ...   \n",
       "28082                      CGA  [6, 3, 3, 4]   \n",
       "28083    CCGATAAAGTCAGGTCCAAGG  [2, 1, 2, 2]   \n",
       "28084                      CCA  [5, 3, 2, 4]   \n",
       "28085                     ACCG  [3, 1, 0, 3]   \n",
       "28086                       CC  [4, 4, 1, 4]   \n",
       "\n",
       "                                         pointEstimation  \\\n",
       "0      {'A': 0.2853965985401185, 'k': 1289.5076961970...   \n",
       "1      {'A': 0.29733778638383307, 'k': 884.3621355850...   \n",
       "2      {'A': 0.3527717329965419, 'k': 659.29595855257...   \n",
       "3      {'A': 0.1708843438332211, 'k': 880.41466483020...   \n",
       "4      {'A': 0.37195043019244906, 'k': 446.3896138069...   \n",
       "...                                                  ...   \n",
       "28082  {'A': 0.0034227502207681507, 'k': 308.51985027...   \n",
       "28083  {'A': 0.004813165097794104, 'k': 719.630961204...   \n",
       "28084  {'A': 0.0037364703735715456, 'k': 456.84348942...   \n",
       "28085  {'A': 0.7264662518691019, 'k': 0.5830678810947...   \n",
       "28086  {'A': 0.5311247974462849, 'k': 0.4532486123542...   \n",
       "\n",
       "                                                  stddev  \\\n",
       "0      {'A': 0.040529803085566495, 'k': 493.861125718...   \n",
       "1      {'A': 0.025660004069564576, 'k': 243.172135571...   \n",
       "2      {'A': 0.06199847744717288, 'k': 297.2616640897...   \n",
       "3      {'A': 0.023211614090636084, 'k': 290.310264506...   \n",
       "4      {'A': 0.10901235403788694, 'k': 270.2392682075...   \n",
       "...                                                  ...   \n",
       "28082  {'A': 0.31007603022390956, 'k': 426.1399954663...   \n",
       "28083  {'A': 0.24808410869520595, 'k': 257.4591949232...   \n",
       "28084  {'A': 0.22820682384065688, 'k': 545.7939607880...   \n",
       "28085  {'A': 0.42877417768817827, 'k': 583.8283363566...   \n",
       "28086  {'A': 0.4692300007794365, 'k': 514.88812043444...   \n",
       "\n",
       "                                            bootstrapRes  \n",
       "0      {'A': {'2.5': 0.24195547865115197, 'median': 0...  \n",
       "1      {'A': {'2.5': 0.23492550237098422, 'median': 0...  \n",
       "2      {'A': {'2.5': 0.2694747096145283, 'median': 0....  \n",
       "3      {'A': {'2.5': 0.15637417928836803, 'median': 0...  \n",
       "4      {'A': {'2.5': 0.25096266891342656, 'median': 0...  \n",
       "...                                                  ...  \n",
       "28082  {'A': {'2.5': 0.0030461989720672973, 'median':...  \n",
       "28083  {'A': {'2.5': 0.0041014398952410195, 'median':...  \n",
       "28084  {'A': {'2.5': 0.0028445420963465954, 'median':...  \n",
       "28085  {'A': {'2.5': 0.005347485855180917, 'median': ...  \n",
       "28086  {'A': {'2.5': 0.003579838471714738, 'median': ...  \n",
       "\n",
       "[28087 rows x 5 columns]"
      ]
     },
     "execution_count": 7,
     "metadata": {},
     "output_type": "execute_result"
    }
   ],
   "source": [
    "import pandas as pd\n",
    "pd.DataFrame.from_dict(results)"
   ]
  },
  {
   "cell_type": "code",
   "execution_count": 36,
   "metadata": {
    "ExecuteTime": {
     "end_time": "2019-09-18T03:36:50.095385Z",
     "start_time": "2019-09-18T03:36:50.083949Z"
    }
   },
   "outputs": [
    {
     "data": {
      "text/plain": [
       "array([5, 0])"
      ]
     },
     "execution_count": 36,
     "metadata": {},
     "output_type": "execute_result"
    }
   ],
   "source": [
    "from scipy.stats import poisson\n",
    "\n",
    "poisson.rvs(mu=[5, 0])"
   ]
  }
 ],
 "metadata": {
  "kernelspec": {
   "display_name": "SSH yuning@128.111.194.197 k-seq",
   "language": "python",
   "name": "rik_ssh_yuning_128_111_194_197_kseq"
  },
  "language_info": {
   "codemirror_mode": {
    "name": "ipython",
    "version": 3
   },
   "file_extension": ".py",
   "mimetype": "text/x-python",
   "name": "python",
   "nbconvert_exporter": "python",
   "pygments_lexer": "ipython3",
   "version": "3.7.4"
  },
  "toc": {
   "nav_menu": {},
   "number_sections": true,
   "sideBar": true,
   "skip_h1_title": false,
   "toc_cell": false,
   "toc_position": {},
   "toc_section_display": "block",
   "toc_window_display": false
  },
  "varInspector": {
   "cols": {
    "lenName": 16,
    "lenType": 16,
    "lenVar": 40
   },
   "kernels_config": {
    "python": {
     "delete_cmd_postfix": "",
     "delete_cmd_prefix": "del ",
     "library": "var_list.py",
     "varRefreshCmd": "print(var_dic_list())"
    },
    "r": {
     "delete_cmd_postfix": ") ",
     "delete_cmd_prefix": "rm(",
     "library": "var_list.r",
     "varRefreshCmd": "cat(var_dic_list()) "
    }
   },
   "types_to_exclude": [
    "module",
    "function",
    "builtin_function_or_method",
    "instance",
    "_Feature"
   ],
   "window_display": false
  }
 },
 "nbformat": 4,
 "nbformat_minor": 2
}
