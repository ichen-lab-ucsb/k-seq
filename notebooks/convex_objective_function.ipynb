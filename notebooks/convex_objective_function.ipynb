{
 "cells": [
  {
   "cell_type": "markdown",
   "metadata": {},
   "source": [
    "# Maximum likelihood estimation for RNA count model\n",
    "\n",
    "## kinetic-sequencing results model\n",
    "Given an RNA pool that has dynamic composition follows individual kinetic models, infer the initial pool composition `p0`, and kinetic coefficient `k` and `a` defined in the model for each RNA sequence\n",
    "\n",
    "- first-order kinetic model\n",
    "\n",
    "$$\n",
    "\\mathbf{p}_t = \\mathbf{p}_0 \\odot \\mathbf{a}_0 \\odot (1 - \\exp(-\\alpha t \\mathbf{k} \\times \\mathbf{c}))\n",
    "$$\n",
    "\n",
    "- count-model, Multinomial($\\mathbf{p}_j$, $n_j$)\n",
    "$$\n",
    "p(n_{j1}, n_{j2}, \\dots, n_{jm} | \\mathbf{p}_j) = n_j! \\prod_{i=1}^m \\frac{p_{ji}^{n_{ji}}}{n_{ji}!}\n",
    "$$\n",
    "where $\\sum_{i=1}^m p_i = 1$, $\\sum_{i=1}^m n_{ji} = n_j$\n",
    "\n",
    "Thus the equivalent log-likelihood function to maximize could be written as:\n",
    "\n",
    "$$\n",
    "\\mathcal{l}(\\mathbf{p}_0, \\mathbf{a}, \\mathbf{k}|\\mathbf{N}, \\mathbf{c}) = \\sum_{j=1}^J \\sum_{i=1}^m n_{ji}\\log (p_ji)\n",
    "$$\n",
    "where\n",
    "\n",
    "$$\n",
    "\\mathcal{l}(\\mathbf{p}_0, \\mathbf{a}, \\mathbf{k}|\\mathbf{N}, \\mathbf{c}) = \\sum_{j=1}^J \\sum_{i=1}^m \\mathbb{I}_{c_j = 0} n_{ji}\\log (p_{0i}) + \\mathbb{I}_{c_j\\not = 0} n_{ji}\\large[ \\log(p_{0i}) + \\log(a_i) + \\log((1 - \\exp(-\\alpha t k_{ji} c_{j}))) - \\log(\\sum_{q=1}^m p_{0q}a_{q}(1 - \\exp(-\\alpha t k_{q} c_j)))\\large]\n",
    "$$\n",
    "\n",
    "\n",
    "The easy version we are trying to optimize is\n",
    "\n",
    "$$\n",
    "\\mathcal{l}(\\mathbf{p}_0, \\mathbf{a}, \\mathbf{k}|\\mathbf{N}, \\mathbf{c}) = \\sum_{j=1}^J \\sum_{i=1}^m \\mathbb{I}_{c_j = 0} n_{ji}\\log (p_{0i}) + \\mathbb{I}_{c_j\\not = 0} n_{ji}[ \\log(p_{0i}) + \\log(a_i) + \\log((1 - \\exp(-\\alpha t k_{ji} c_{j})))\n",
    "$$\n",
    "\n",
    "which the normalization term for probability is removed"
   ]
  },
  {
   "cell_type": "code",
   "execution_count": 109,
   "metadata": {
    "ExecuteTime": {
     "end_time": "2019-11-05T19:02:34.039914Z",
     "start_time": "2019-11-05T19:02:34.037473Z"
    }
   },
   "outputs": [],
   "source": [
    "import cvxpy as cp\n",
    "import pandas as pd\n",
    "import numpy as np\n",
    "from time import time\n",
    "import matplotlib.pyplot as plt"
   ]
  },
  {
   "cell_type": "code",
   "execution_count": 302,
   "metadata": {
    "ExecuteTime": {
     "end_time": "2019-11-14T04:54:40.998270Z",
     "start_time": "2019-11-14T04:54:40.942441Z"
    }
   },
   "outputs": [
    {
     "name": "stdout",
     "output_type": "stream",
     "text": [
      "{\n",
      "  \"shell_port\": 40309,\n",
      "  \"iopub_port\": 56261,\n",
      "  \"stdin_port\": 52393,\n",
      "  \"control_port\": 49099,\n",
      "  \"hb_port\": 34561,\n",
      "  \"ip\": \"127.0.0.1\",\n",
      "  \"key\": \"33227685-431297bdaa663434f05b6c14\",\n",
      "  \"transport\": \"tcp\",\n",
      "  \"signature_scheme\": \"hmac-sha256\",\n",
      "  \"kernel_name\": \"\"\n",
      "}\n",
      "\n",
      "Paste the above JSON into a file, and connect with:\n",
      "    $> jupyter <app> --existing <file>\n",
      "or, if you are local, you can connect with just:\n",
      "    $> jupyter <app> --existing kernel-661a8409-2fa2-4ab9-8571-b84fcb4c074c.json\n",
      "or even just:\n",
      "    $> jupyter <app> --existing\n",
      "if this is the most recent Jupyter kernel you have started.\n"
     ]
    }
   ],
   "source": [
    "%connect_info"
   ]
  },
  {
   "cell_type": "code",
   "execution_count": 117,
   "metadata": {
    "ExecuteTime": {
     "end_time": "2019-11-05T19:09:59.916861Z",
     "start_time": "2019-11-05T19:09:59.892437Z"
    }
   },
   "outputs": [],
   "source": [
    "class Timer():\n",
    "    def __init__(self, message=None, save_to=None):\n",
    "        if message:\n",
    "            self.message = message\n",
    "        else:\n",
    "            self.message = 'It took {elapsed_time:.2f} {unit}.'\n",
    "        self.save_to = save_to\n",
    "  \n",
    "\n",
    "    def __enter__(self):\n",
    "        self.start = time()\n",
    "        return None\n",
    "\n",
    "    def __exit__(self, type, value, traceback):\n",
    "        elapsed_time = time() - self.start\n",
    "        if elapsed_time < 60:\n",
    "            unit = 'seconds'\n",
    "        elif elapsed_time < 3600:\n",
    "            unit = 'minutes'\n",
    "            elapsed_time /= 60.0\n",
    "        else:\n",
    "            unit = 'hours'\n",
    "            elapsed_time /= 3600.0\n",
    "        print('-'* 50)\n",
    "        print(self.message.format(elapsed_time=elapsed_time, unit=unit))\n",
    "        if self.save_to is not None:\n",
    "            with open(self.save_to, 'w') as f:\n",
    "                f.write(self.message.format(elapsed_time=elapsed_time, unit=unit))\n",
    "\n",
    "        \n",
    "class FileLogger(object):\n",
    "    \"\"\"Log standard output to a file\"\"\"\n",
    "\n",
    "\n",
    "    def __init__(self, file_path):\n",
    "        if not '.log' in file_path:\n",
    "            self.stdout = file_path + '.log'\n",
    "\n",
    "    def __enter__(self):\n",
    "        self.sys_stdout = sys.stdout\n",
    "        self.sys_stderr = sys.stderr\n",
    "        \n",
    "        sys.stdout = open(self.stdout, 'w')\n",
    "        sys.stderr = sys.stdout\n",
    "\n",
    "    def __exit__(self):\n",
    "        sys.stdout.close()\n",
    "        sys.stdout = self.sys_stdout\n",
    "        sys.stderr = self.sys_stderr"
   ]
  },
  {
   "cell_type": "code",
   "execution_count": 172,
   "metadata": {
    "ExecuteTime": {
     "end_time": "2019-11-05T19:30:58.676107Z",
     "start_time": "2019-11-05T19:30:58.666135Z"
    }
   },
   "outputs": [],
   "source": [
    "class CountData:\n",
    "    \n",
    "    def __repr__(self):\n",
    "        return self.note\n",
    "    \n",
    "    def __init__(self, path, note):\n",
    "        import pandas as pd\n",
    "        \n",
    "        try:\n",
    "            self.truth = pd.read_csv(f'{path}/truth.csv', index_col=0)\n",
    "        except:\n",
    "            pass\n",
    "        \n",
    "        self.count = pd.read_csv(f'{path}/y.csv', index_col='seq')\n",
    "        self.c_vars = pd.read_csv(f'{path}/X.csv', index_col=0)\n",
    "        self.note = note\n",
    "        \n",
    "    def select(self, n, shuffle=False):\n",
    "        import numpy as np\n",
    "        from copy import deepcopy\n",
    "        \n",
    "        new_data = deepcopy(self)\n",
    "        idx = np.arange(self.m)\n",
    "        if shuffle:\n",
    "            np.random.shuffle(idx)\n",
    "        idx = idx[:n]\n",
    "        new_data.count = self.count.iloc[idx, :]\n",
    "        if hasattr(self, 'truth'):\n",
    "            new_data.truth = self.truth.iloc[idx, :]\n",
    "        new_data.note = f'{self.note} (select n={n})'\n",
    "        \n",
    "        return new_data\n",
    "    \n",
    "    @property\n",
    "    def m(self):\n",
    "        return self.count.shape[0]\n",
    "        \n",
    "    @property\n",
    "    def j(self):\n",
    "        return self.count.shape[1]\n",
    "    \n",
    "    @property\n",
    "    def count_init(self):\n",
    "        return self.count.loc[:, self.c_vars.loc['c'].isna()]\n",
    "    \n",
    "    @property\n",
    "    def c_vars_init(self):\n",
    "        return self.c_vars.loc[:, self.c_vars.loc['c'].isna()]\n",
    "    \n",
    "    @property\n",
    "    def count_reacted(self):\n",
    "        return self.count.loc[:, ~self.c_vars.loc['c'].isna()]\n",
    "    \n",
    "    @property\n",
    "    def c_vars_reacted(self):\n",
    "        return self.c_vars.loc[:, ~self.c_vars.loc['c'].isna()]"
   ]
  },
  {
   "cell_type": "code",
   "execution_count": 173,
   "metadata": {
    "ExecuteTime": {
     "end_time": "2019-11-05T19:31:02.737397Z",
     "start_time": "2019-11-05T19:31:02.726420Z"
    }
   },
   "outputs": [],
   "source": [
    "data = CountData(path='/mnt/storage/projects/k-seq/datasets/count_tests/seq_1000_depth_100_p0var0/',\n",
    "                 note='simulation homogenous pool with 1000 seqs')"
   ]
  },
  {
   "cell_type": "code",
   "execution_count": 301,
   "metadata": {
    "ExecuteTime": {
     "end_time": "2019-11-14T00:25:01.103002Z",
     "start_time": "2019-11-14T00:25:00.955637Z"
    }
   },
   "outputs": [
    {
     "data": {
      "text/html": [
       "<div>\n",
       "<style scoped>\n",
       "    .dataframe tbody tr th:only-of-type {\n",
       "        vertical-align: middle;\n",
       "    }\n",
       "\n",
       "    .dataframe tbody tr th {\n",
       "        vertical-align: top;\n",
       "    }\n",
       "\n",
       "    .dataframe thead th {\n",
       "        text-align: right;\n",
       "    }\n",
       "</style>\n",
       "<table border=\"1\" class=\"dataframe\">\n",
       "  <thead>\n",
       "    <tr style=\"text-align: right;\">\n",
       "      <th></th>\n",
       "      <th>S0-0</th>\n",
       "      <th>S0-1</th>\n",
       "      <th>S0-2</th>\n",
       "      <th>S1-0</th>\n",
       "      <th>S1-1</th>\n",
       "      <th>S1-2</th>\n",
       "      <th>S2-0</th>\n",
       "      <th>S2-1</th>\n",
       "      <th>S2-2</th>\n",
       "      <th>S3-0</th>\n",
       "      <th>S3-1</th>\n",
       "      <th>S3-2</th>\n",
       "      <th>S4-0</th>\n",
       "      <th>S4-1</th>\n",
       "      <th>S4-2</th>\n",
       "      <th>S5-0</th>\n",
       "      <th>S5-1</th>\n",
       "      <th>S5-2</th>\n",
       "    </tr>\n",
       "  </thead>\n",
       "  <tbody>\n",
       "    <tr>\n",
       "      <td>c</td>\n",
       "      <td>NaN</td>\n",
       "      <td>NaN</td>\n",
       "      <td>NaN</td>\n",
       "      <td>0.000002</td>\n",
       "      <td>0.000002</td>\n",
       "      <td>0.000002</td>\n",
       "      <td>0.00001</td>\n",
       "      <td>0.00001</td>\n",
       "      <td>0.00001</td>\n",
       "      <td>0.00005</td>\n",
       "      <td>0.00005</td>\n",
       "      <td>0.00005</td>\n",
       "      <td>0.00025</td>\n",
       "      <td>0.00025</td>\n",
       "      <td>0.00025</td>\n",
       "      <td>0.00125</td>\n",
       "      <td>0.00125</td>\n",
       "      <td>0.00125</td>\n",
       "    </tr>\n",
       "    <tr>\n",
       "      <td>n</td>\n",
       "      <td>100000.0</td>\n",
       "      <td>100000.0</td>\n",
       "      <td>100000.0</td>\n",
       "      <td>100000.000000</td>\n",
       "      <td>100000.000000</td>\n",
       "      <td>100000.000000</td>\n",
       "      <td>100000.00000</td>\n",
       "      <td>100000.00000</td>\n",
       "      <td>100000.00000</td>\n",
       "      <td>100000.00000</td>\n",
       "      <td>100000.00000</td>\n",
       "      <td>100000.00000</td>\n",
       "      <td>100000.00000</td>\n",
       "      <td>100000.00000</td>\n",
       "      <td>100000.00000</td>\n",
       "      <td>100000.00000</td>\n",
       "      <td>100000.00000</td>\n",
       "      <td>100000.00000</td>\n",
       "    </tr>\n",
       "  </tbody>\n",
       "</table>\n",
       "</div>"
      ],
      "text/plain": [
       "       S0-0      S0-1      S0-2           S1-0           S1-1           S1-2  \\\n",
       "c       NaN       NaN       NaN       0.000002       0.000002       0.000002   \n",
       "n  100000.0  100000.0  100000.0  100000.000000  100000.000000  100000.000000   \n",
       "\n",
       "           S2-0          S2-1          S2-2          S3-0          S3-1  \\\n",
       "c       0.00001       0.00001       0.00001       0.00005       0.00005   \n",
       "n  100000.00000  100000.00000  100000.00000  100000.00000  100000.00000   \n",
       "\n",
       "           S3-2          S4-0          S4-1          S4-2          S5-0  \\\n",
       "c       0.00005       0.00025       0.00025       0.00025       0.00125   \n",
       "n  100000.00000  100000.00000  100000.00000  100000.00000  100000.00000   \n",
       "\n",
       "           S5-1          S5-2  \n",
       "c       0.00125       0.00125  \n",
       "n  100000.00000  100000.00000  "
      ]
     },
     "execution_count": 301,
     "metadata": {},
     "output_type": "execute_result"
    }
   ],
   "source": [
    "data.c_vars"
   ]
  },
  {
   "cell_type": "markdown",
   "metadata": {},
   "source": [
    "## convex Model"
   ]
  },
  {
   "cell_type": "code",
   "execution_count": 283,
   "metadata": {
    "ExecuteTime": {
     "end_time": "2019-11-05T20:19:35.161004Z",
     "start_time": "2019-11-05T20:19:35.146090Z"
    }
   },
   "outputs": [],
   "source": [
    "def get_convex_model(data):\n",
    "\n",
    "    # Variables.\n",
    "    p0 = cp.Variable((data.m))\n",
    "    a = cp.Variable((data.m))\n",
    "    k = cp.Variable((data.m))\n",
    "    t = 90\n",
    "    alpha = 0.476\n",
    "\n",
    "    # LL matrix\n",
    "    # LL for initial pool\n",
    "    # n_ij \\log p_i0 for any j in initial pool\n",
    "    ll_init = cp.sum(\n",
    "        cp.multiply(data.count_init.values.T,\n",
    "                    cp.log(cp.vstack([p0 for _ in range(data.c_vars_init.shape[1])])))\n",
    "    )\n",
    "    ## LL for reacted pool\n",
    "    # n_ij (\\log p_i0 + \\log a_i + \\log (1 - exp(-alpha * t * k_i * c_js )))\n",
    "    ll_reacted = cp.sum(\n",
    "        cp.multiply(\n",
    "            data.count_reacted.values.T,\n",
    "            cp.vstack([(cp.log(p0) + cp.log(a)) for _ in range(data.c_vars_reacted.shape[1])]) \\\n",
    "            + cp.log(1 - cp.exp(- alpha * t * cp.vstack([c * k for c in data.c_vars_reacted.loc['c'].values])))\n",
    "        )\n",
    "    )\n",
    "    \n",
    "    # Convex neg-likelihood function\n",
    "    nll = -ll_init - ll_reacted\n",
    "    objective = cp.Minimize(nll)\n",
    "\n",
    "    # Constraints.\n",
    "    constraints = (\n",
    "        [0 <= p0,\n",
    "         cp.sum(p0) == 1,\n",
    "         a >= 0,\n",
    "         a <= 1,\n",
    "         k >= 0]\n",
    "    )\n",
    "\n",
    "    # Problem.\n",
    "    prob = cp.Problem(objective, constraints)\n",
    "    \n",
    "    from collections import namedtuple\n",
    "    Params = namedtuple(field_names=['p0', 'a', 'k'], typename='params')\n",
    "    \n",
    "    return prob, Params(p0=p0, a=a, k=k)\n",
    "\n",
    "def run_solver(prob, solver=cp.SCS, verbose=True, log_dir=None):\n",
    "    \n",
    "    if log_dir is not None:\n",
    "        with FileLogger(file_path=log_dir), Timer():\n",
    "            solution = prob.solve(solver, verbose=verbose)\n",
    "    else:\n",
    "        with Timer():\n",
    "            solution = prob.solve(solver, verbose=verbose)\n",
    "            \n",
    "            \n",
    "            \n",
    "def compare_to_truth(data, params, **kwargs):\n",
    "    import matplotlib.pyplot as plt\n",
    "    plt.style.use('seaborn')\n",
    "    fig, axes = plt.subplots(1, 4, figsize=[16, 4])\n",
    "    \n",
    "    def scale_free_plot(x, y, ax, log=False, label=None, **kwargs):\n",
    "        from scipy import stats\n",
    "        \n",
    "        x_lim = np.min(x) * 0.9, np.max(x) * 1.1\n",
    "        y_lim = np.min(y) * 0.9, np.max(y) * 1.1\n",
    "        ax.scatter(x, y, **kwargs)\n",
    "        ax.set_xlim(x_lim)\n",
    "        ax.set_ylim(y_lim)\n",
    "        if log:\n",
    "            ax.set_xscale('log')\n",
    "            ax.set_yscale('log')\n",
    "        ax.set_title(f\"Pearson: {stats.pearsonr(x, y)[0]:.4f}\\nSpearman: {stats.spearmanr(x, y)[0]:.4f}\")\n",
    "        ax.tick_params(which='both', bottom=False, labelbottom=False, left=False, labelleft=False)\n",
    "        if label is not None:\n",
    "            ax.set_xlabel(label, fontsize=12)\n",
    "    \n",
    "    scale_free_plot(x=data.truth['p0'], y=params.p0.value, ax=axes[0], log=True, label='p0', **kwargs)\n",
    "    scale_free_plot(x=data.truth['a'], y=params.a.value, ax=axes[1], log=False, label='a', **kwargs)\n",
    "    scale_free_plot(x=data.truth['k'], y=params.k.value, ax=axes[2], log=True, label='k',**kwargs)\n",
    "    scale_free_plot(x=data.truth['k'] * data.truth['a'], \n",
    "                    y=params.a.value * params.k.value,\n",
    "                    ax=axes[3], log=True, label='a*k', **kwargs)\n",
    "    plt.show()"
   ]
  },
  {
   "cell_type": "code",
   "execution_count": 133,
   "metadata": {
    "ExecuteTime": {
     "end_time": "2019-11-05T19:19:26.080632Z",
     "start_time": "2019-11-05T19:19:26.074920Z"
    }
   },
   "outputs": [],
   "source": [
    "from collections import namedtuple\n",
    "\n",
    "Params = namedtuple(field_names=['p0', 'a', 'k'], typename='params')\n",
    "\n",
    "params = Params(p0=0, a=0, k=0)"
   ]
  },
  {
   "cell_type": "code",
   "execution_count": 135,
   "metadata": {
    "ExecuteTime": {
     "end_time": "2019-11-05T19:19:32.639051Z",
     "start_time": "2019-11-05T19:19:32.632736Z"
    }
   },
   "outputs": [
    {
     "data": {
      "text/plain": [
       "0"
      ]
     },
     "execution_count": 135,
     "metadata": {},
     "output_type": "execute_result"
    }
   ],
   "source": [
    "params.k"
   ]
  },
  {
   "cell_type": "code",
   "execution_count": 73,
   "metadata": {
    "ExecuteTime": {
     "end_time": "2019-11-05T02:15:10.167891Z",
     "start_time": "2019-11-05T01:28:17.494500Z"
    },
    "scrolled": false
   },
   "outputs": [
    {
     "name": "stdout",
     "output_type": "stream",
     "text": [
      "----------------------------------------------------------------------------\n",
      "\tSCS v2.1.1 - Splitting Conic Solver\n",
      "\t(c) Brendan O'Donoghue, Stanford University, 2012\n",
      "----------------------------------------------------------------------------\n",
      "Lin-sys: sparse-direct, nnz in A = 131000\n",
      "eps = 1.00e-04, alpha = 1.50, max_iters = 5000, normalize = 1, scale = 1.00\n",
      "acceleration_lookback = 10, rho_x = 1.00e-03\n",
      "Variables n = 66000, constraints m = 193001\n",
      "Cones:\tprimal zero / dual free vars: 1\n",
      "\tlinear vars: 4000\n",
      "\texp vars: 189000, dual exp vars: 0\n",
      "Setup time: 4.66e-02s\n",
      "----------------------------------------------------------------------------\n",
      " Iter | pri res | dua res | rel gap | pri obj | dua obj | kap/tau | time (s)\n",
      "----------------------------------------------------------------------------\n",
      "     0| 6.36e+21  3.67e+22  1.00e+00 -6.41e+28  1.60e+29  1.38e+29  8.05e-01 \n",
      "   100| 1.76e-01  1.55e-01  4.50e-03  1.05e+07  1.06e+07  1.34e-08  5.80e+01 \n",
      "   200| 2.36e-01  3.04e-01  1.71e-02  9.72e+06  1.01e+07  4.72e-09  1.12e+02 \n",
      "   300| 6.73e-02  1.59e-01  7.14e-04  1.11e+07  1.11e+07  3.30e-10  1.63e+02 \n",
      "   400| 5.35e-02  1.03e-01  2.12e-03  1.12e+07  1.12e+07  5.08e-09  2.16e+02 \n",
      "   500| 1.32e-02  2.30e-02  3.07e-03  1.16e+07  1.17e+07  2.37e-09  2.70e+02 \n",
      "   600| 8.76e-03  2.59e-02  1.38e-03  1.17e+07  1.17e+07  2.34e-09  3.26e+02 \n",
      "   700| 6.68e-03  1.87e-02  2.56e-03  1.17e+07  1.17e+07  3.06e-09  3.82e+02 \n",
      "   800| 7.11e-03  2.07e-02  2.70e-03  1.18e+07  1.17e+07  1.00e-08  4.38e+02 \n",
      "   900| 6.35e-03  1.94e-02  2.37e-03  1.18e+07  1.17e+07  2.69e-09  4.94e+02 \n",
      "  1000| 6.58e-03  2.16e-02  2.81e-03  1.17e+07  1.17e+07  1.46e-09  5.50e+02 \n",
      "  1100| 5.41e-03  1.72e-02  2.01e-03  1.17e+07  1.17e+07  3.53e-09  6.06e+02 \n",
      "  1200| 5.67e-03  1.92e-02  2.12e-03  1.18e+07  1.17e+07  6.54e-09  6.63e+02 \n",
      "  1300| 5.10e-03  1.56e-02  1.78e-03  1.18e+07  1.17e+07  5.56e-09  7.19e+02 \n",
      "  1400| 4.68e-03  1.44e-02  1.85e-03  1.18e+07  1.17e+07  3.22e-09  7.75e+02 \n",
      "  1500| 4.83e-03  1.26e-02  2.49e-04  1.17e+07  1.17e+07  8.61e-10  8.31e+02 \n",
      "  1600| 4.64e-03  1.52e-02  2.24e-03  1.18e+07  1.17e+07  1.81e-09  8.87e+02 \n",
      "  1700| 4.76e-03  1.45e-02  1.39e-03  1.18e+07  1.17e+07  1.40e-09  9.44e+02 \n",
      "  1800| 3.55e-03  1.05e-02  1.14e-03  1.17e+07  1.17e+07  8.74e-09  1.00e+03 \n",
      "  1900| 3.94e-03  1.12e-02  1.73e-05  1.17e+07  1.17e+07  9.89e-09  1.06e+03 \n",
      "  2000| 5.01e-03  1.47e-02  7.75e-04  1.18e+07  1.17e+07  2.77e-09  1.11e+03 \n",
      "  2100| 3.44e-03  1.08e-02  1.04e-03  1.17e+07  1.17e+07  7.75e-09  1.17e+03 \n",
      "  2200| 3.01e-03  1.02e-02  3.49e-04  1.17e+07  1.17e+07  5.31e-09  1.23e+03 \n",
      "  2300| 4.00e-03  1.22e-02  6.38e-04  1.18e+07  1.17e+07  8.91e-10  1.28e+03 \n",
      "  2400| 3.10e-03  1.16e-02  6.25e-04  1.17e+07  1.17e+07  7.55e-10  1.34e+03 \n",
      "  2500| 3.35e-03  1.13e-02  4.88e-04  1.17e+07  1.17e+07  8.52e-09  1.39e+03 \n",
      "  2600| 3.10e-03  1.15e-02  3.07e-04  1.17e+07  1.17e+07  3.74e-09  1.45e+03 \n",
      "  2700| 3.18e-03  1.03e-02  4.14e-04  1.17e+07  1.17e+07  1.48e-09  1.51e+03 \n",
      "  2800| 3.44e-03  1.22e-02  4.46e-04  1.17e+07  1.17e+07  2.14e-09  1.56e+03 \n",
      "  2900| 2.85e-03  9.09e-03  4.22e-05  1.17e+07  1.17e+07  5.36e-09  1.62e+03 \n",
      "  3000| 3.04e-03  1.08e-02  5.40e-05  1.17e+07  1.17e+07  4.42e-09  1.68e+03 \n",
      "  3100| 2.61e-03  9.92e-03  3.22e-05  1.17e+07  1.17e+07  9.16e-10  1.73e+03 \n",
      "  3200| 2.83e-03  9.07e-03  3.48e-04  1.17e+07  1.17e+07  4.29e-09  1.79e+03 \n",
      "  3300| 2.60e-03  9.10e-03  1.01e-04  1.17e+07  1.17e+07  9.71e-09  1.85e+03 \n",
      "  3400| 2.50e-03  8.81e-03  1.43e-04  1.17e+07  1.17e+07  9.89e-09  1.90e+03 \n",
      "  3500| 2.48e-03  1.01e-02  1.51e-05  1.17e+07  1.17e+07  5.53e-09  1.96e+03 \n",
      "  3600| 2.85e-03  1.08e-02  2.32e-04  1.17e+07  1.17e+07  6.21e-10  2.02e+03 \n",
      "  3800| 2.06e-03  7.59e-03  4.84e-05  1.17e+07  1.17e+07  5.37e-09  2.13e+03 \n",
      "  3900| 2.32e-03  8.44e-03  1.57e-04  1.17e+07  1.17e+07  1.54e-09  2.19e+03 \n",
      "  4000| 2.01e-03  7.65e-03  7.23e-05  1.17e+07  1.17e+07  7.53e-09  2.24e+03 \n",
      "  4100| 2.05e-03  6.79e-03  2.07e-05  1.17e+07  1.17e+07  1.90e-09  2.30e+03 \n",
      "  4200| 1.79e-03  5.98e-03  3.88e-05  1.17e+07  1.17e+07  5.21e-10  2.36e+03 \n",
      "  4300| 2.11e-03  7.26e-03  3.30e-05  1.17e+07  1.17e+07  5.56e-09  2.41e+03 \n",
      "  4400| 1.94e-03  6.22e-03  4.39e-05  1.17e+07  1.17e+07  2.55e-09  2.47e+03 \n",
      "  4500| 2.31e-03  7.53e-03  1.39e-04  1.17e+07  1.17e+07  2.59e-09  2.53e+03 \n",
      "  4600| 1.95e-03  7.22e-03  1.29e-04  1.17e+07  1.17e+07  3.41e-09  2.59e+03 \n",
      "  4700| 1.74e-03  6.49e-03  1.43e-04  1.17e+07  1.17e+07  1.12e-08  2.64e+03 \n",
      "  4800| 2.50e-03  8.74e-03  8.66e-05  1.17e+07  1.17e+07  3.29e-09  2.70e+03 \n",
      "  4900| 1.61e-03  6.25e-03  2.08e-05  1.17e+07  1.17e+07  2.81e-09  2.76e+03 \n",
      "  5000| 2.34e-03  7.77e-03  7.90e-06  1.17e+07  1.17e+07  9.16e-09  2.81e+03 \n",
      "----------------------------------------------------------------------------\n",
      "Status: Solved/Inaccurate\n",
      "Hit max_iters, solution may be inaccurate\n",
      "Timing: Solve time: 2.81e+03s\n",
      "\tLin-sys: nnz in L factor: 390001, avg solve time: 1.31e-03s\n",
      "\tCones: avg projection time: 4.91e-01s\n",
      "\tAcceleration: avg step time: 6.67e-02s\n",
      "----------------------------------------------------------------------------\n",
      "Error metrics:\n",
      "dist(s, K) = 9.5561e-06, dist(y, K*) = 4.1166e-03, s'y/|s||y| = 9.4266e-11\n",
      "primal res: |Ax + s - b|_2 / (1 + |b|_2) = 2.3405e-03\n",
      "dual res:   |A'y + c|_2 / (1 + |c|_2) = 7.7725e-03\n",
      "rel gap:    |c'x + b'y| / (1 + |c'x| + |b'y|) = 7.8954e-06\n",
      "----------------------------------------------------------------------------\n",
      "c'x = 11724779.0478, -b'y = 11724964.1918\n",
      "============================================================================\n"
     ]
    }
   ],
   "source": [
    "with Timer():\n",
    "    prob = get_convex_model(data)\n",
    "    solution = prob.solve(cp.SCS, verbose=True)"
   ]
  },
  {
   "cell_type": "code",
   "execution_count": 72,
   "metadata": {
    "ExecuteTime": {
     "end_time": "2019-11-05T01:27:22.777538Z",
     "start_time": "2019-11-05T01:27:22.640549Z"
    }
   },
   "outputs": [
    {
     "data": {
      "image/png": "[encoded data removed]",
      "text/plain": [
       "<Figure size 432x288 with 1 Axes>"
      ]
     },
     "metadata": {
      "needs_background": "light"
     },
     "output_type": "display_data"
    }
   ],
   "source": [
    "print()\n",
    "import matplotlib.pyplot as plt\n",
    "\n",
    "plt.scatter(data.truth['k'], k.value);"
   ]
  },
  {
   "cell_type": "code",
   "execution_count": 80,
   "metadata": {
    "ExecuteTime": {
     "end_time": "2019-11-05T03:18:14.737566Z",
     "start_time": "2019-11-05T03:18:14.613861Z"
    }
   },
   "outputs": [
    {
     "name": "stdout",
     "output_type": "stream",
     "text": [
      "\n"
     ]
    },
    {
     "data": {
      "image/png": "[encoded data removed]",
      "text/plain": [
       "<Figure size 432x288 with 1 Axes>"
      ]
     },
     "metadata": {
      "needs_background": "light"
     },
     "output_type": "display_data"
    }
   ],
   "source": [
    "print()\n",
    "import matplotlib.pyplot as plt\n",
    "\n",
    "plt.scatter(data.truth['k'], k.value);\n",
    "from scipy import stats\n",
    "\n",
    "stats.pearsonr(x=data.truth['k'], y=k.value)"
   ]
  },
  {
   "cell_type": "code",
   "execution_count": 81,
   "metadata": {
    "ExecuteTime": {
     "end_time": "2019-11-05T03:18:37.423762Z",
     "start_time": "2019-11-05T03:18:37.304541Z"
    }
   },
   "outputs": [
    {
     "name": "stdout",
     "output_type": "stream",
     "text": [
      "\n"
     ]
    },
    {
     "data": {
      "image/png": "[encoded data removed]",
      "text/plain": [
       "<Figure size 432x288 with 1 Axes>"
      ]
     },
     "metadata": {
      "needs_background": "light"
     },
     "output_type": "display_data"
    }
   ],
   "source": [
    "print()\n",
    "import matplotlib.pyplot as plt\n",
    "\n",
    "plt.scatter(data.truth['a'], a.value);"
   ]
  },
  {
   "cell_type": "markdown",
   "metadata": {},
   "source": [
    "### Only top seqs"
   ]
  },
  {
   "cell_type": "code",
   "execution_count": 285,
   "metadata": {
    "ExecuteTime": {
     "end_time": "2019-11-05T20:19:56.391644Z",
     "start_time": "2019-11-05T20:19:56.379774Z"
    }
   },
   "outputs": [],
   "source": [
    "data_10 = data.select(n=10, shuffle=True)\n",
    "prob_10, param_10 = get_convex_model(data=data_10)"
   ]
  },
  {
   "cell_type": "code",
   "execution_count": 286,
   "metadata": {
    "ExecuteTime": {
     "end_time": "2019-11-05T20:20:20.517419Z",
     "start_time": "2019-11-05T20:19:57.349105Z"
    }
   },
   "outputs": [
    {
     "name": "stdout",
     "output_type": "stream",
     "text": [
      "----------------------------------------------------------------------------\n",
      "\tSCS v2.1.1 - Splitting Conic Solver\n",
      "\t(c) Brendan O'Donoghue, Stanford University, 2012\n",
      "----------------------------------------------------------------------------\n",
      "Lin-sys: sparse-direct, nnz in A = 1310\n",
      "eps = 1.00e-04, alpha = 1.50, max_iters = 5000, normalize = 1, scale = 1.00\n",
      "acceleration_lookback = 10, rho_x = 1.00e-03\n",
      "Variables n = 660, constraints m = 1931\n",
      "Cones:\tprimal zero / dual free vars: 1\n",
      "\tlinear vars: 40\n",
      "\texp vars: 1890, dual exp vars: 0\n",
      "Setup time: 3.91e-03s\n",
      "----------------------------------------------------------------------------\n",
      " Iter | pri res | dua res | rel gap | pri obj | dua obj | kap/tau | time (s)\n",
      "----------------------------------------------------------------------------\n",
      "     0| 6.17e+20  3.68e+21  1.00e+00 -3.51e+25  8.69e+25  7.54e+25  1.07e-02 \n",
      "   100| 4.06e-02  1.03e-01  6.31e-03  4.73e+04  4.79e+04  1.28e-11  5.42e-01 \n",
      "   200| 6.55e-02  1.62e-01  4.04e-03  4.32e+04  4.35e+04  3.96e-11  1.05e+00 \n",
      "   300| 1.22e-02  2.84e-02  2.45e-03  4.01e+04  4.03e+04  4.10e-11  1.56e+00 \n",
      "   400| 2.49e-02  6.85e-02  3.65e-03  3.64e+04  3.66e+04  2.13e-11  2.07e+00 \n",
      "   500| 1.34e-02  3.75e-02  3.28e-03  3.52e+04  3.54e+04  1.33e-11  2.58e+00 \n",
      "   600| 7.52e-03  2.52e-02  8.54e-04  3.53e+04  3.53e+04  4.10e-11  3.09e+00 \n",
      "   700| 1.16e-02  5.32e-02  2.67e-04  3.50e+04  3.49e+04  2.76e-11  3.60e+00 \n",
      "   800| 5.67e-03  1.61e-02  1.52e-03  3.48e+04  3.49e+04  1.84e-11  4.11e+00 \n",
      "   900| 2.04e-02  5.60e-02  4.11e-03  3.34e+04  3.37e+04  1.94e-11  4.62e+00 \n",
      "  1000| 1.68e-02  3.51e-02  3.49e-03  3.08e+04  3.10e+04  4.40e-11  5.12e+00 \n",
      "  1100| 8.68e-03  1.50e-02  1.82e-03  3.09e+04  3.10e+04  2.50e-12  5.61e+00 \n",
      "  1200| 1.06e-02  1.75e-02  7.75e-04  3.07e+04  3.08e+04  3.92e-11  6.10e+00 \n",
      "  1300| 3.02e-03  4.06e-03  3.82e-04  3.07e+04  3.07e+04  6.35e-13  6.58e+00 \n",
      "  1400| 4.56e-03  9.85e-03  9.08e-04  3.06e+04  3.07e+04  5.31e-11  7.07e+00 \n",
      "  1500| 3.96e-03  5.49e-03  9.11e-05  3.05e+04  3.05e+04  1.30e-11  7.55e+00 \n",
      "  1600| 3.63e-03  4.38e-03  1.85e-04  3.03e+04  3.03e+04  2.94e-11  8.02e+00 \n",
      "  1700| 2.39e-03  1.81e-03  4.09e-04  3.03e+04  3.02e+04  1.39e-11  8.48e+00 \n",
      "  1800| 2.93e-03  2.79e-03  7.10e-04  3.03e+04  3.02e+04  1.62e-11  8.93e+00 \n",
      "  1900| 1.60e-03  2.27e-03  3.65e-04  3.02e+04  3.02e+04  2.48e-11  9.38e+00 \n",
      "  2000| 1.34e-03  2.34e-03  1.88e-04  3.02e+04  3.02e+04  2.08e-11  9.83e+00 \n",
      "  2100| 1.06e-03  3.47e-03  1.53e-04  3.02e+04  3.02e+04  6.88e-12  1.03e+01 \n",
      "  2200| 1.64e-03  2.54e-03  9.16e-05  3.02e+04  3.02e+04  7.13e-13  1.07e+01 \n",
      "  2300| 7.83e-04  2.10e-03  1.44e-04  3.02e+04  3.02e+04  1.36e-11  1.12e+01 \n",
      "  2400| 5.70e-04  3.11e-03  9.70e-05  3.02e+04  3.02e+04  7.03e-12  1.16e+01 \n",
      "  2500| 2.83e-04  1.90e-03  1.23e-05  3.02e+04  3.02e+04  7.56e-12  1.21e+01 \n",
      "  2600| 4.17e-04  2.00e-03  1.81e-05  3.02e+04  3.02e+04  2.33e-12  1.25e+01 \n",
      "  2700| 3.64e-04  3.15e-03  4.93e-07  3.02e+04  3.02e+04  4.22e-11  1.29e+01 \n",
      "  2800| 3.35e-04  1.96e-03  5.18e-05  3.02e+04  3.02e+04  3.37e-11  1.34e+01 \n",
      "  2900| 1.52e-04  2.53e-03  5.38e-05  3.02e+04  3.02e+04  6.79e-11  1.38e+01 \n",
      "  3000| 1.75e-04  1.50e-03  2.97e-05  3.02e+04  3.02e+04  2.24e-11  1.43e+01 \n",
      "  3100| 1.39e-04  2.33e-03  2.74e-05  3.02e+04  3.02e+04  2.14e-11  1.47e+01 \n",
      "  3200| 1.42e-04  2.19e-03  4.20e-05  3.02e+04  3.02e+04  9.18e-13  1.52e+01 \n",
      "  3300| 1.42e-04  1.39e-03  3.28e-06  3.02e+04  3.02e+04  4.30e-12  1.56e+01 \n",
      "  3400| 1.74e-04  2.43e-03  3.44e-06  3.02e+04  3.02e+04  3.65e-11  1.61e+01 \n",
      "  3500| 2.87e-04  2.57e-03  2.07e-05  3.02e+04  3.02e+04  1.63e-12  1.65e+01 \n",
      "  3600| 3.08e-04  1.89e-03  1.28e-05  3.02e+04  3.02e+04  1.41e-11  1.70e+01 \n",
      "  3700| 1.06e-03  3.07e-03  2.54e-04  3.02e+04  3.02e+04  1.91e-11  1.74e+01 \n",
      "  3800| 1.17e-03  3.98e-03  1.15e-04  3.02e+04  3.02e+04  8.25e-12  1.78e+01 \n",
      "  3900| 3.03e-04  3.95e-03  2.07e-05  3.02e+04  3.02e+04  1.47e-11  1.83e+01 \n",
      "  4000| 3.12e-04  4.15e-03  3.48e-05  3.02e+04  3.02e+04  1.81e-11  1.87e+01 \n",
      "  4100| 1.51e-04  3.39e-03  3.00e-06  3.02e+04  3.02e+04  1.84e-12  1.91e+01 \n",
      "  4200| 8.86e-05  2.62e-03  1.29e-05  3.02e+04  3.02e+04  7.88e-12  1.96e+01 \n",
      "  4300| 8.35e-05  2.43e-03  1.38e-05  3.02e+04  3.02e+04  9.24e-12  2.00e+01 \n",
      "  4400| 6.00e-05  2.82e-03  1.90e-06  3.02e+04  3.02e+04  2.49e-11  2.05e+01 \n",
      "  4500| 6.63e-05  2.96e-03  5.98e-06  3.02e+04  3.02e+04  1.47e-11  2.09e+01 \n",
      "  4600| 4.82e-05  3.17e-03  4.68e-06  3.02e+04  3.02e+04  2.35e-12  2.13e+01 \n",
      "  4700| 5.81e-03  2.14e-01  1.94e-04  3.02e+04  3.02e+04  1.48e-11  2.18e+01 \n",
      "  4800| 5.41e-05  3.79e-03  5.10e-06  3.02e+04  3.02e+04  7.05e-12  2.22e+01 \n",
      "  4900| 4.93e-05  3.32e-03  5.34e-06  3.02e+04  3.02e+04  2.94e-11  2.26e+01 \n",
      "  5000| 5.53e-05  3.97e-03  5.14e-06  3.02e+04  3.02e+04  2.98e-11  2.31e+01 \n",
      "----------------------------------------------------------------------------\n",
      "Status: Solved/Inaccurate\n",
      "Hit max_iters, solution may be inaccurate\n",
      "Timing: Solve time: 2.31e+01s\n",
      "\tLin-sys: nnz in L factor: 3901, avg solve time: 8.12e-06s\n",
      "\tCones: avg projection time: 3.98e-03s\n",
      "\tAcceleration: avg step time: 5.94e-04s\n",
      "----------------------------------------------------------------------------\n",
      "Error metrics:\n",
      "dist(s, K) = 2.9075e-04, dist(y, K*) = 4.8660e-08, s'y/|s||y| = 4.7281e-08\n",
      "primal res: |Ax + s - b|_2 / (1 + |b|_2) = 5.5324e-05\n",
      "dual res:   |A'y + c|_2 / (1 + |c|_2) = 3.9717e-03\n",
      "rel gap:    |c'x + b'y| / (1 + |c'x| + |b'y|) = 5.1443e-06\n",
      "----------------------------------------------------------------------------\n",
      "c'x = 30204.7174, -b'y = 30205.0282\n",
      "============================================================================\n",
      "--------------------------------------------------\n",
      "It took 23.16 seconds.\n"
     ]
    }
   ],
   "source": [
    "run_solver(prob=prob_10)"
   ]
  },
  {
   "cell_type": "code",
   "execution_count": 287,
   "metadata": {
    "ExecuteTime": {
     "end_time": "2019-11-05T20:21:46.198215Z",
     "start_time": "2019-11-05T20:21:45.163389Z"
    }
   },
   "outputs": [
    {
     "name": "stderr",
     "output_type": "stream",
     "text": [
      "/home/yuning/.pyenv/versions/k-seq/lib/python3.7/site-packages/scipy/stats/stats.py:3399: PearsonRConstantInputWarning: An input array is constant; the correlation coefficent is not defined.\n",
      "  warnings.warn(PearsonRConstantInputWarning())\n",
      "/home/yuning/.pyenv/versions/k-seq/lib/python3.7/site-packages/numpy/lib/function_base.py:2534: RuntimeWarning: invalid value encountered in true_divide\n",
      "  c /= stddev[:, None]\n",
      "/home/yuning/.pyenv/versions/k-seq/lib/python3.7/site-packages/numpy/lib/function_base.py:2535: RuntimeWarning: invalid value encountered in true_divide\n",
      "  c /= stddev[None, :]\n",
      "/home/yuning/.pyenv/versions/k-seq/lib/python3.7/site-packages/scipy/stats/_distn_infrastructure.py:901: RuntimeWarning: invalid value encountered in greater\n",
      "  return (a < x) & (x < b)\n",
      "/home/yuning/.pyenv/versions/k-seq/lib/python3.7/site-packages/scipy/stats/_distn_infrastructure.py:901: RuntimeWarning: invalid value encountered in less\n",
      "  return (a < x) & (x < b)\n",
      "/home/yuning/.pyenv/versions/k-seq/lib/python3.7/site-packages/scipy/stats/_distn_infrastructure.py:1892: RuntimeWarning: invalid value encountered in less_equal\n",
      "  cond2 = cond0 & (x <= _a)\n"
     ]
    },
    {
     "data": {
      "image/png": "[encoded data removed]",
      "text/plain": [
       "<Figure size 1152x288 with 4 Axes>"
      ]
     },
     "metadata": {},
     "output_type": "display_data"
    }
   ],
   "source": [
    "compare_to_truth(data_10, param_10)"
   ]
  },
  {
   "cell_type": "markdown",
   "metadata": {},
   "source": [
    "#### USE Mosek"
   ]
  },
  {
   "cell_type": "code",
   "execution_count": 289,
   "metadata": {
    "ExecuteTime": {
     "end_time": "2019-11-05T20:22:31.044190Z",
     "start_time": "2019-11-05T20:22:30.816285Z"
    }
   },
   "outputs": [
    {
     "name": "stdout",
     "output_type": "stream",
     "text": [
      "\n",
      "\n",
      "Problem\n",
      "  Name                   :                 \n",
      "  Objective sense        : min             \n",
      "  Type                   : CONIC (conic optimization problem)\n",
      "  Constraints            : 1931            \n",
      "  Cones                  : 630             \n",
      "  Scalar variables       : 2550            \n",
      "  Matrix variables       : 0               \n",
      "  Integer variables      : 0               \n",
      "\n",
      "Optimizer started.\n",
      "Problem\n",
      "  Name                   :                 \n",
      "  Objective sense        : min             \n",
      "  Type                   : CONIC (conic optimization problem)\n",
      "  Constraints            : 1931            \n",
      "  Cones                  : 630             \n",
      "  Scalar variables       : 2550            \n",
      "  Matrix variables       : 0               \n",
      "  Integer variables      : 0               \n",
      "\n",
      "Optimizer  - threads                : 4               \n",
      "Optimizer  - solved problem         : the dual        \n",
      "Optimizer  - Constraints            : 180\n",
      "Optimizer  - Cones                  : 631\n",
      "Optimizer  - Scalar variables       : 1932              conic                  : 1892            \n",
      "Optimizer  - Semi-definite variables: 0                 scalarized             : 0               \n",
      "Factor     - setup time             : 0.00              dense det. time        : 0.00            \n",
      "Factor     - ML order time          : 0.00              GP order time          : 0.00            \n",
      "Factor     - nonzeros before factor : 375               after factor           : 375             \n",
      "Factor     - dense dim.             : 0                 flops                  : 5.92e+03        \n",
      "ITE PFEAS    DFEAS    GFEAS    PRSTATUS   POBJ              DOBJ              MU       TIME  \n",
      "0   1.3e+00  2.5e+02  2.2e+04  0.00e+00   2.140444181e+04   -5.927740561e+02  1.0e+00  0.01  \n",
      "1   4.4e-01  8.3e+01  1.3e+04  -9.87e-01  1.963669658e+04   -1.956323069e+03  3.4e-01  0.02  \n",
      "2   7.7e-02  1.5e+01  4.8e+03  -9.38e-01  8.669957781e+03   -9.872466553e+03  5.9e-02  0.02  \n",
      "3   1.7e-02  3.2e+00  1.4e+03  -5.94e-01  -5.769363021e+03  -1.603862078e+04  1.3e-02  0.02  \n",
      "4   1.0e-02  1.9e+00  7.9e+02  5.14e-02   -1.276966735e+03  -9.327865736e+03  7.8e-03  0.02  \n",
      "5   3.8e-03  7.3e-01  2.6e+02  1.23e-01   5.275656539e+03   7.067415334e+02   3.0e-03  0.02  \n",
      "6   1.7e-03  3.3e-01  9.9e+01  3.08e-01   9.714172903e+03   7.065036851e+03   1.3e-03  0.02  \n",
      "7   1.2e-03  2.3e-01  6.6e+01  3.74e-01   1.163272204e+04   9.475414544e+03   9.5e-04  0.02  \n",
      "8   4.4e-04  8.4e-02  1.9e+01  3.82e-01   1.619207783e+04   1.514225383e+04   3.4e-04  0.03  \n",
      "9   2.2e-04  4.3e-02  8.0e+00  4.94e-01   1.848702930e+04   1.784252465e+04   1.7e-04  0.03  \n",
      "10  1.6e-04  3.0e-02  5.2e+00  5.22e-01   1.944353194e+04   1.893526572e+04   1.2e-04  0.03  \n",
      "11  7.1e-05  1.3e-02  1.8e+00  5.58e-01   2.104217844e+04   2.077501187e+04   5.5e-05  0.03  \n",
      "12  3.2e-05  6.1e-03  6.0e-01  6.64e-01   2.194733555e+04   2.181180468e+04   2.5e-05  0.03  \n",
      "13  6.3e-06  1.2e-03  6.2e-02  7.71e-01   2.265052099e+04   2.262025684e+04   4.9e-06  0.03  \n",
      "14  2.3e-06  4.3e-04  1.4e-02  8.76e-01   2.275185761e+04   2.274041410e+04   1.8e-06  0.03  \n",
      "15  6.1e-07  1.2e-04  2.1e-03  9.32e-01   2.279628117e+04   2.279306739e+04   4.8e-07  0.04  \n",
      "16  1.9e-07  3.5e-05  3.7e-04  9.30e-01   2.280631566e+04   2.280530414e+04   1.4e-07  0.04  \n",
      "17  6.6e-08  1.3e-05  8.4e-05  9.40e-01   2.280882029e+04   2.280844505e+04   5.2e-08  0.04  \n",
      "18  2.1e-08  4.0e-06  1.5e-05  9.43e-01   2.280969653e+04   2.280957521e+04   1.6e-08  0.04  \n",
      "19  7.8e-09  1.5e-06  3.7e-06  9.40e-01   2.280989326e+04   2.280984606e+04   6.1e-09  0.04  \n",
      "20  2.6e-09  4.9e-07  7.2e-07  9.45e-01   2.280996197e+04   2.280994596e+04   2.0e-09  0.04  \n",
      "21  8.6e-10  1.6e-07  1.5e-07  9.43e-01   2.280997742e+04   2.280997187e+04   6.7e-10  0.04  \n",
      "22  2.9e-10  5.6e-08  2.9e-08  9.44e-01   2.280998036e+04   2.280997842e+04   2.3e-10  0.05  \n",
      "23  2.7e-10  5.1e-08  2.6e-08  9.45e-01   2.280998041e+04   2.280997863e+04   2.1e-10  0.05  \n",
      "24  2.6e-10  5.0e-08  2.5e-08  9.37e-01   2.280998042e+04   2.280997866e+04   2.0e-10  0.05  \n",
      "25  2.6e-10  5.0e-08  2.5e-08  9.40e-01   2.280998042e+04   2.280997868e+04   2.0e-10  0.06  \n",
      "26  2.6e-10  4.9e-08  2.5e-08  9.43e-01   2.280998043e+04   2.280997870e+04   2.0e-10  0.06  \n",
      "27  2.5e-10  4.8e-08  2.4e-08  9.72e-01   2.280998042e+04   2.280997873e+04   2.0e-10  0.06  \n",
      "28  2.5e-10  4.8e-08  2.4e-08  9.39e-01   2.280998043e+04   2.280997874e+04   2.0e-10  0.07  \n",
      "29  2.5e-10  4.7e-08  2.3e-08  9.44e-01   2.280998044e+04   2.280997879e+04   1.9e-10  0.07  \n",
      "30  2.5e-10  4.7e-08  2.3e-08  9.43e-01   2.280998044e+04   2.280997880e+04   1.9e-10  0.07  \n",
      "31  2.5e-10  4.7e-08  2.3e-08  9.79e-01   2.280998044e+04   2.280997880e+04   1.9e-10  0.08  \n",
      "32  2.5e-10  4.7e-08  2.3e-08  9.38e-01   2.280998044e+04   2.280997880e+04   1.9e-10  0.08  \n",
      "33  2.5e-10  4.7e-08  2.3e-08  9.65e-01   2.280998044e+04   2.280997880e+04   1.9e-10  0.09  \n",
      "34  2.5e-10  4.7e-08  2.3e-08  9.68e-01   2.280998044e+04   2.280997880e+04   1.9e-10  0.09  \n",
      "35  2.5e-10  4.7e-08  2.3e-08  9.25e-01   2.280998044e+04   2.280997880e+04   1.9e-10  0.10  \n",
      "Optimizer terminated. Time: 0.11    \n",
      "\n",
      "\n",
      "Interior-point solution summary\n",
      "  Problem status  : PRIMAL_AND_DUAL_FEASIBLE\n",
      "  Solution status : OPTIMAL\n",
      "  Primal.  obj: 2.2809980442e+04    nrm: 2e+05    Viol.  con: 8e-08    var: 0e+00    cones: 2e-07  \n",
      "  Dual.    obj: 2.2809978797e+04    nrm: 1e+04    Viol.  con: 2e-09    var: 1e-06    cones: 0e+00  \n",
      "--------------------------------------------------\n",
      "It took 0.22 seconds.\n"
     ]
    }
   ],
   "source": [
    "data_10 = data.select(n=10, shuffle=True)\n",
    "prob_10_mosek, param_10_mosek = get_convex_model(data=data_10)\n",
    "run_solver(prob=prob_10_mosek, solver=cp.MOSEK)"
   ]
  },
  {
   "cell_type": "code",
   "execution_count": 290,
   "metadata": {
    "ExecuteTime": {
     "end_time": "2019-11-05T20:22:34.836121Z",
     "start_time": "2019-11-05T20:22:33.846782Z"
    }
   },
   "outputs": [
    {
     "name": "stderr",
     "output_type": "stream",
     "text": [
      "/home/yuning/.pyenv/versions/k-seq/lib/python3.7/site-packages/scipy/stats/stats.py:3399: PearsonRConstantInputWarning: An input array is constant; the correlation coefficent is not defined.\n",
      "  warnings.warn(PearsonRConstantInputWarning())\n",
      "/home/yuning/.pyenv/versions/k-seq/lib/python3.7/site-packages/numpy/lib/function_base.py:2534: RuntimeWarning: invalid value encountered in true_divide\n",
      "  c /= stddev[:, None]\n",
      "/home/yuning/.pyenv/versions/k-seq/lib/python3.7/site-packages/numpy/lib/function_base.py:2535: RuntimeWarning: invalid value encountered in true_divide\n",
      "  c /= stddev[None, :]\n",
      "/home/yuning/.pyenv/versions/k-seq/lib/python3.7/site-packages/scipy/stats/_distn_infrastructure.py:901: RuntimeWarning: invalid value encountered in greater\n",
      "  return (a < x) & (x < b)\n",
      "/home/yuning/.pyenv/versions/k-seq/lib/python3.7/site-packages/scipy/stats/_distn_infrastructure.py:901: RuntimeWarning: invalid value encountered in less\n",
      "  return (a < x) & (x < b)\n",
      "/home/yuning/.pyenv/versions/k-seq/lib/python3.7/site-packages/scipy/stats/_distn_infrastructure.py:1892: RuntimeWarning: invalid value encountered in less_equal\n",
      "  cond2 = cond0 & (x <= _a)\n"
     ]
    },
    {
     "data": {
      "image/png": "[encoded data removed]",
      "text/plain": [
       "<Figure size 1152x288 with 4 Axes>"
      ]
     },
     "metadata": {},
     "output_type": "display_data"
    }
   ],
   "source": [
    "compare_to_truth(data_10, param_10_mosek)"
   ]
  },
  {
   "cell_type": "markdown",
   "metadata": {},
   "source": [
    "### Size 100 simu model"
   ]
  },
  {
   "cell_type": "code",
   "execution_count": 267,
   "metadata": {
    "ExecuteTime": {
     "end_time": "2019-11-05T20:08:07.837853Z",
     "start_time": "2019-11-05T20:08:07.805790Z"
    }
   },
   "outputs": [],
   "source": [
    "data_100 = data.select(n=100, shuffle=True)\n",
    "prob_100, param_100 = get_convex_model(data=data_100)"
   ]
  },
  {
   "cell_type": "code",
   "execution_count": 268,
   "metadata": {
    "ExecuteTime": {
     "end_time": "2019-11-05T20:12:29.514444Z",
     "start_time": "2019-11-05T20:08:11.142639Z"
    }
   },
   "outputs": [
    {
     "name": "stdout",
     "output_type": "stream",
     "text": [
      "----------------------------------------------------------------------------\n",
      "\tSCS v2.1.1 - Splitting Conic Solver\n",
      "\t(c) Brendan O'Donoghue, Stanford University, 2012\n",
      "----------------------------------------------------------------------------\n",
      "Lin-sys: sparse-direct, nnz in A = 13100\n",
      "eps = 1.00e-04, alpha = 1.50, max_iters = 5000, normalize = 1, scale = 1.00\n",
      "acceleration_lookback = 10, rho_x = 1.00e-03\n",
      "Variables n = 6600, constraints m = 19301\n",
      "Cones:\tprimal zero / dual free vars: 1\n",
      "\tlinear vars: 400\n",
      "\texp vars: 18900, dual exp vars: 0\n",
      "Setup time: 7.26e-03s\n",
      "----------------------------------------------------------------------------\n",
      " Iter | pri res | dua res | rel gap | pri obj | dua obj | kap/tau | time (s)\n",
      "----------------------------------------------------------------------------\n",
      "     0| 2.00e+21  1.16e+22  1.00e+00 -2.04e+27  5.09e+27  4.39e+27  8.28e-02 \n",
      "   100| 2.34e-01  3.10e-01  2.14e-02  9.44e+05  9.86e+05  1.41e-11  5.66e+00 \n",
      "   200| 4.29e-01  2.56e-01  5.89e-03  9.23e+05  9.12e+05  3.45e-11  1.09e+01 \n",
      "   300| 2.04e-02  6.09e-02  8.21e-03  8.56e+05  8.70e+05  1.07e-10  1.61e+01 \n",
      "   400| 5.52e-03  1.74e-02  1.96e-03  8.72e+05  8.75e+05  1.83e-10  2.12e+01 \n",
      "   500| 4.29e-03  1.08e-02  9.12e-04  8.73e+05  8.75e+05  3.50e-11  2.64e+01 \n",
      "   600| 4.12e-03  1.37e-02  3.06e-04  8.75e+05  8.75e+05  1.09e-10  3.16e+01 \n",
      "   700| 4.01e-03  1.39e-02  2.29e-03  8.81e+05  8.77e+05  3.55e-10  3.67e+01 \n",
      "   800| 4.12e-03  1.32e-02  1.57e-03  8.73e+05  8.76e+05  9.00e-11  4.19e+01 \n",
      "   900| 3.84e-03  1.16e-02  4.69e-04  8.77e+05  8.76e+05  5.37e-11  4.70e+01 \n",
      "  1000| 3.28e-03  1.05e-02  8.50e-05  8.77e+05  8.77e+05  3.02e-11  5.21e+01 \n",
      "  1100| 3.85e-03  1.24e-02  2.05e-03  8.72e+05  8.75e+05  1.77e-11  5.73e+01 \n",
      "  1200| 4.18e-03  1.11e-02  1.75e-03  8.80e+05  8.77e+05  3.64e-10  6.25e+01 \n",
      "  1300| 3.26e-03  1.03e-02  1.15e-04  8.76e+05  8.77e+05  2.32e-10  6.76e+01 \n",
      "  1400| 3.80e-03  1.26e-02  1.64e-03  8.72e+05  8.74e+05  4.28e-10  7.27e+01 \n",
      "  1500| 3.36e-03  1.28e-02  4.21e-04  8.75e+05  8.75e+05  1.00e-09  7.79e+01 \n",
      "  1600| 3.40e-03  1.35e-02  1.40e-03  8.78e+05  8.76e+05  9.56e-10  8.30e+01 \n",
      "  1700| 2.74e-03  1.12e-02  6.77e-04  8.74e+05  8.75e+05  2.69e-10  8.82e+01 \n",
      "  1800| 3.47e-03  1.16e-02  1.23e-03  8.72e+05  8.74e+05  2.72e-10  9.33e+01 \n",
      "  1900| 3.14e-03  9.21e-03  1.10e-03  8.77e+05  8.75e+05  1.25e-10  9.85e+01 \n",
      "  2000| 4.01e-03  1.59e-02  1.56e-03  8.78e+05  8.75e+05  1.06e-09  1.04e+02 \n",
      "  2100| 3.39e-03  1.07e-02  5.15e-04  8.74e+05  8.75e+05  4.79e-10  1.09e+02 \n",
      "  2200| 3.54e-03  1.18e-02  1.63e-03  8.71e+05  8.74e+05  1.11e-09  1.14e+02 \n",
      "  2300| 2.90e-03  1.02e-02  3.25e-04  8.73e+05  8.73e+05  8.22e-10  1.19e+02 \n",
      "  2400| 3.06e-03  9.39e-03  1.03e-03  8.76e+05  8.74e+05  1.27e-10  1.24e+02 \n",
      "  2500| 2.91e-03  1.05e-02  7.54e-04  8.76e+05  8.75e+05  6.67e-10  1.29e+02 \n",
      "  2600| 2.95e-03  1.07e-02  5.83e-04  8.73e+05  8.74e+05  4.28e-10  1.35e+02 \n",
      "  2700| 3.15e-03  1.06e-02  1.63e-03  8.70e+05  8.73e+05  9.11e-10  1.40e+02 \n",
      "  2800| 3.56e-03  1.14e-02  1.02e-03  8.71e+05  8.73e+05  1.12e-09  1.45e+02 \n",
      "  2900| 3.03e-03  9.85e-03  5.90e-04  8.74e+05  8.73e+05  3.65e-10  1.50e+02 \n",
      "  3000| 3.71e-03  1.07e-02  1.23e-03  8.76e+05  8.74e+05  3.66e-10  1.55e+02 \n",
      "  3100| 2.83e-03  1.02e-02  2.15e-04  8.74e+05  8.74e+05  3.89e-10  1.60e+02 \n",
      "  3200| 3.48e-03  1.10e-02  1.46e-03  8.70e+05  8.72e+05  1.64e-10  1.66e+02 \n",
      "  3300| 2.73e-03  1.14e-02  7.59e-04  8.71e+05  8.72e+05  6.95e-10  1.71e+02 \n",
      "  3400| 3.09e-03  1.02e-02  3.86e-04  8.73e+05  8.72e+05  7.80e-10  1.76e+02 \n",
      "  3500| 2.80e-03  8.72e-03  1.23e-03  8.75e+05  8.73e+05  7.79e-10  1.81e+02 \n",
      "  3600| 3.35e-03  1.08e-02  5.47e-04  8.74e+05  8.73e+05  8.98e-10  1.86e+02 \n",
      "  3700| 3.19e-03  8.73e-03  1.07e-03  8.70e+05  8.72e+05  2.77e-10  1.91e+02 \n",
      "  3800| 3.24e-03  1.18e-02  1.66e-03  8.68e+05  8.71e+05  5.03e-10  1.96e+02 \n",
      "  3900| 3.44e-03  1.08e-02  6.36e-05  8.71e+05  8.71e+05  1.09e-09  2.02e+02 \n",
      "  4000| 2.62e-03  1.01e-02  9.39e-04  8.73e+05  8.72e+05  4.38e-10  2.07e+02 \n",
      "  4100| 3.72e-03  1.30e-02  1.18e-03  8.75e+05  8.72e+05  3.39e-10  2.12e+02 \n",
      "  4200| 2.46e-03  9.95e-03  4.69e-04  8.71e+05  8.72e+05  4.64e-10  2.17e+02 \n",
      "  4300| 3.58e-03  1.26e-02  1.60e-03  8.68e+05  8.71e+05  1.45e-10  2.22e+02 \n",
      "  4400| 2.36e-03  9.66e-03  7.62e-04  8.69e+05  8.70e+05  1.19e-09  2.27e+02 \n",
      "  4500| 3.29e-03  1.04e-02  4.75e-04  8.72e+05  8.71e+05  8.66e-10  2.33e+02 \n",
      "  4600| 2.57e-03  8.25e-03  9.68e-04  8.73e+05  8.71e+05  9.08e-10  2.38e+02 \n",
      "  4700| 2.88e-03  1.01e-02  1.03e-03  8.73e+05  8.71e+05  7.73e-10  2.43e+02 \n",
      "  4800| 2.77e-03  7.64e-03  5.14e-04  8.70e+05  8.71e+05  5.87e-10  2.48e+02 \n",
      "  4900| 2.88e-03  8.37e-03  1.40e-03  8.68e+05  8.70e+05  3.32e-10  2.53e+02 \n",
      "  5000| 2.94e-03  9.72e-03  4.37e-04  8.71e+05  8.70e+05  4.09e-10  2.58e+02 \n",
      "----------------------------------------------------------------------------\n",
      "Status: Solved/Inaccurate\n",
      "Hit max_iters, solution may be inaccurate\n",
      "Timing: Solve time: 2.58e+02s\n",
      "\tLin-sys: nnz in L factor: 39001, avg solve time: 1.05e-04s\n",
      "\tCones: avg projection time: 4.50e-02s\n",
      "\tAcceleration: avg step time: 6.21e-03s\n",
      "----------------------------------------------------------------------------\n",
      "Error metrics:\n",
      "dist(s, K) = 8.5704e-05, dist(y, K*) = 5.0543e-07, s'y/|s||y| = 7.5818e-11\n",
      "primal res: |Ax + s - b|_2 / (1 + |b|_2) = 2.9436e-03\n",
      "dual res:   |A'y + c|_2 / (1 + |c|_2) = 9.7238e-03\n",
      "rel gap:    |c'x + b'y| / (1 + |c'x| + |b'y|) = 4.3715e-04\n",
      "----------------------------------------------------------------------------\n",
      "c'x = 870822.0006, -b'y = 870060.9695\n",
      "============================================================================\n",
      "--------------------------------------------------\n",
      "It took 4.31 minutes.\n"
     ]
    }
   ],
   "source": [
    "run_solver(prob=prob_100)"
   ]
  },
  {
   "cell_type": "code",
   "execution_count": 279,
   "metadata": {
    "ExecuteTime": {
     "end_time": "2019-11-05T20:16:45.972868Z",
     "start_time": "2019-11-05T20:16:44.810069Z"
    }
   },
   "outputs": [
    {
     "name": "stderr",
     "output_type": "stream",
     "text": [
      "/home/yuning/.pyenv/versions/k-seq/lib/python3.7/site-packages/scipy/stats/stats.py:3399: PearsonRConstantInputWarning: An input array is constant; the correlation coefficent is not defined.\n",
      "  warnings.warn(PearsonRConstantInputWarning())\n",
      "/home/yuning/.pyenv/versions/k-seq/lib/python3.7/site-packages/numpy/lib/function_base.py:2534: RuntimeWarning: invalid value encountered in true_divide\n",
      "  c /= stddev[:, None]\n",
      "/home/yuning/.pyenv/versions/k-seq/lib/python3.7/site-packages/numpy/lib/function_base.py:2535: RuntimeWarning: invalid value encountered in true_divide\n",
      "  c /= stddev[None, :]\n",
      "/home/yuning/.pyenv/versions/k-seq/lib/python3.7/site-packages/scipy/stats/_distn_infrastructure.py:901: RuntimeWarning: invalid value encountered in greater\n",
      "  return (a < x) & (x < b)\n",
      "/home/yuning/.pyenv/versions/k-seq/lib/python3.7/site-packages/scipy/stats/_distn_infrastructure.py:901: RuntimeWarning: invalid value encountered in less\n",
      "  return (a < x) & (x < b)\n",
      "/home/yuning/.pyenv/versions/k-seq/lib/python3.7/site-packages/scipy/stats/_distn_infrastructure.py:1892: RuntimeWarning: invalid value encountered in less_equal\n",
      "  cond2 = cond0 & (x <= _a)\n"
     ]
    },
    {
     "data": {
      "image/png": "[encoded data removed]",
      "text/plain": [
       "<Figure size 1152x288 with 4 Axes>"
      ]
     },
     "metadata": {},
     "output_type": "display_data"
    }
   ],
   "source": [
    "compare_to_truth(data_100, param_100)"
   ]
  },
  {
   "cell_type": "code",
   "execution_count": 280,
   "metadata": {
    "ExecuteTime": {
     "end_time": "2019-11-05T20:17:19.636561Z",
     "start_time": "2019-11-05T20:17:19.105087Z"
    }
   },
   "outputs": [
    {
     "name": "stdout",
     "output_type": "stream",
     "text": [
      "\n",
      "\n",
      "Problem\n",
      "  Name                   :                 \n",
      "  Objective sense        : min             \n",
      "  Type                   : CONIC (conic optimization problem)\n",
      "  Constraints            : 19301           \n",
      "  Cones                  : 6300            \n",
      "  Scalar variables       : 25500           \n",
      "  Matrix variables       : 0               \n",
      "  Integer variables      : 0               \n",
      "\n",
      "Optimizer started.\n",
      "Problem\n",
      "  Name                   :                 \n",
      "  Objective sense        : min             \n",
      "  Type                   : CONIC (conic optimization problem)\n",
      "  Constraints            : 19301           \n",
      "  Cones                  : 6300            \n",
      "  Scalar variables       : 25500           \n",
      "  Matrix variables       : 0               \n",
      "  Integer variables      : 0               \n",
      "\n",
      "Optimizer  - threads                : 4               \n",
      "Optimizer  - solved problem         : the dual        \n",
      "Optimizer  - Constraints            : 1800\n",
      "Optimizer  - Cones                  : 6301\n",
      "Optimizer  - Scalar variables       : 19302             conic                  : 18902           \n",
      "Optimizer  - Semi-definite variables: 0                 scalarized             : 0               \n",
      "Factor     - setup time             : 0.01              dense det. time        : 0.00            \n",
      "Factor     - ML order time          : 0.00              GP order time          : 0.00            \n",
      "Factor     - nonzeros before factor : 8250              after factor           : 8250            \n",
      "Factor     - dense dim.             : 0                 flops                  : 4.12e+05        \n",
      "ITE PFEAS    DFEAS    GFEAS    PRSTATUS   POBJ              DOBJ              MU       TIME  \n",
      "0   1.3e+00  1.3e+03  4.1e+05  0.00e+00   4.018739100e+05   -5.927740561e+03  1.0e+00  0.04  \n",
      "1   7.7e-01  7.9e+02  3.1e+05  -9.96e-01  3.959875621e+05   -1.071897517e+04  5.9e-01  0.06  \n",
      "2   3.0e-01  3.1e+02  1.9e+05  -9.89e-01  3.728690851e+05   -2.925929835e+04  2.3e-01  0.07  \n",
      "3   6.8e-02  7.1e+01  8.8e+04  -9.60e-01  2.459409310e+05   -1.268715198e+05  5.3e-02  0.08  \n",
      "4   1.9e-02  2.0e+01  3.7e+04  -7.80e-01  -2.134401516e+03  -2.862974232e+05  1.5e-02  0.10  \n",
      "5   8.3e-03  8.6e+00  1.6e+04  -2.67e-01  -5.215628436e+04  -2.404177658e+05  6.4e-03  0.11  \n",
      "6   7.2e-03  7.5e+00  1.4e+04  6.53e-02   -3.766289244e+04  -2.142126562e+05  5.6e-03  0.12  \n",
      "7   4.4e-03  4.6e+00  7.9e+03  8.78e-02   6.998874319e+03   -1.299334953e+05  3.4e-03  0.13  \n",
      "8   1.5e-03  1.6e+00  2.3e+03  1.65e-01   1.126930175e+05   4.212787260e+04   1.2e-03  0.14  \n",
      "9   6.9e-04  7.1e-01  9.1e+02  3.41e-01   1.990893291e+05   1.568062367e+05   5.3e-04  0.15  \n",
      "10  4.8e-04  5.0e-01  6.1e+02  3.06e-01   2.437315912e+05   2.088209367e+05   3.7e-04  0.16  \n",
      "11  2.3e-04  2.4e-01  2.7e+02  2.67e-01   3.274124082e+05   3.046806296e+05   1.8e-04  0.17  \n",
      "12  1.2e-04  1.2e-01  1.2e+02  3.00e-01   3.956192866e+05   3.806622615e+05   9.0e-05  0.18  \n",
      "13  6.5e-05  6.7e-02  6.5e+01  2.52e-01   4.523192546e+05   4.414852876e+05   5.0e-05  0.19  \n",
      "14  3.5e-05  3.6e-02  3.3e+01  2.35e-01   5.075087129e+05   4.999297619e+05   2.7e-05  0.20  \n",
      "15  1.3e-05  1.3e-02  1.0e+01  2.36e-01   5.859155054e+05   5.819537653e+05   9.7e-06  0.21  \n",
      "16  1.0e-05  1.0e-02  8.0e+00  3.00e-01   6.008943028e+05   5.973867274e+05   7.7e-06  0.22  \n",
      "17  3.9e-06  4.0e-03  2.8e+00  2.78e-01   6.569101143e+05   6.549845157e+05   3.0e-06  0.23  \n",
      "18  1.9e-06  2.0e-03  1.2e+00  3.42e-01   6.912568409e+05   6.900548048e+05   1.5e-06  0.24  \n",
      "19  1.1e-06  1.1e-03  6.0e-01  3.98e-01   7.129942403e+05   7.121777153e+05   8.3e-07  0.25  \n",
      "20  6.1e-07  6.3e-04  3.0e-01  4.73e-01   7.294242370e+05   7.288863597e+05   4.7e-07  0.26  \n",
      "21  3.8e-07  3.9e-04  1.6e-01  5.76e-01   7.396884639e+05   7.393223487e+05   2.9e-07  0.27  \n",
      "22  6.6e-08  6.9e-05  1.6e-02  6.74e-01   7.569931499e+05   7.569181495e+05   5.1e-08  0.28  \n",
      "23  1.0e-08  1.1e-05  1.0e-03  9.04e-01   7.609552173e+05   7.609429645e+05   8.0e-09  0.29  \n",
      "24  1.4e-09  1.5e-06  5.3e-05  9.79e-01   7.616116663e+05   7.616099686e+05   1.1e-09  0.29  \n",
      "25  7.8e-11  8.1e-08  6.9e-07  9.95e-01   7.617114902e+05   7.617113970e+05   6.0e-11  0.30  \n",
      "26  1.3e-11  1.3e-08  4.7e-08  9.94e-01   7.617162095e+05   7.617161940e+05   1.0e-11  0.33  \n",
      "27  1.8e-12  1.9e-09  2.4e-09  9.97e-01   7.617170283e+05   7.617170262e+05   1.4e-12  0.35  \n",
      "Optimizer terminated. Time: 0.36    \n",
      "\n",
      "\n",
      "Interior-point solution summary\n",
      "  Problem status  : PRIMAL_AND_DUAL_FEASIBLE\n",
      "  Solution status : OPTIMAL\n",
      "  Primal.  obj: 7.6171702834e+05    nrm: 4e+05    Viol.  con: 5e-09    var: 0e+00    cones: 2e-08  \n",
      "  Dual.    obj: 7.6171702618e+05    nrm: 2e+05    Viol.  con: 1e-10    var: 5e-07    cones: 0e+00  \n",
      "--------------------------------------------------\n",
      "It took 0.52 seconds.\n"
     ]
    }
   ],
   "source": [
    "prob_100_mosek, param_100_mosek = get_convex_model(data=data_100)\n",
    "run_solver(prob=prob_100_mosek, solver=cp.MOSEK)"
   ]
  },
  {
   "cell_type": "code",
   "execution_count": 282,
   "metadata": {
    "ExecuteTime": {
     "end_time": "2019-11-05T20:17:59.111892Z",
     "start_time": "2019-11-05T20:17:57.999936Z"
    }
   },
   "outputs": [
    {
     "name": "stderr",
     "output_type": "stream",
     "text": [
      "/home/yuning/.pyenv/versions/k-seq/lib/python3.7/site-packages/scipy/stats/stats.py:3399: PearsonRConstantInputWarning: An input array is constant; the correlation coefficent is not defined.\n",
      "  warnings.warn(PearsonRConstantInputWarning())\n",
      "/home/yuning/.pyenv/versions/k-seq/lib/python3.7/site-packages/numpy/lib/function_base.py:2534: RuntimeWarning: invalid value encountered in true_divide\n",
      "  c /= stddev[:, None]\n",
      "/home/yuning/.pyenv/versions/k-seq/lib/python3.7/site-packages/numpy/lib/function_base.py:2535: RuntimeWarning: invalid value encountered in true_divide\n",
      "  c /= stddev[None, :]\n",
      "/home/yuning/.pyenv/versions/k-seq/lib/python3.7/site-packages/scipy/stats/_distn_infrastructure.py:901: RuntimeWarning: invalid value encountered in greater\n",
      "  return (a < x) & (x < b)\n",
      "/home/yuning/.pyenv/versions/k-seq/lib/python3.7/site-packages/scipy/stats/_distn_infrastructure.py:901: RuntimeWarning: invalid value encountered in less\n",
      "  return (a < x) & (x < b)\n",
      "/home/yuning/.pyenv/versions/k-seq/lib/python3.7/site-packages/scipy/stats/_distn_infrastructure.py:1892: RuntimeWarning: invalid value encountered in less_equal\n",
      "  cond2 = cond0 & (x <= _a)\n"
     ]
    },
    {
     "data": {
      "image/png": "[encoded data removed]",
      "text/plain": [
       "<Figure size 1152x288 with 4 Axes>"
      ]
     },
     "metadata": {},
     "output_type": "display_data"
    }
   ],
   "source": [
    "compare_to_truth(data_100, param_100_mosek)"
   ]
  },
  {
   "cell_type": "code",
   "execution_count": null,
   "metadata": {},
   "outputs": [],
   "source": []
  },
  {
   "cell_type": "markdown",
   "metadata": {},
   "source": [
    "#### 1000 seq"
   ]
  },
  {
   "cell_type": "code",
   "execution_count": 296,
   "metadata": {
    "ExecuteTime": {
     "end_time": "2019-11-05T20:38:27.493374Z",
     "start_time": "2019-11-05T20:38:27.483306Z"
    }
   },
   "outputs": [],
   "source": [
    "prob_1000, param_1000 = get_convex_model(data=data)"
   ]
  },
  {
   "cell_type": "code",
   "execution_count": null,
   "metadata": {
    "ExecuteTime": {
     "start_time": "2019-11-05T20:38:41.852Z"
    }
   },
   "outputs": [
    {
     "name": "stdout",
     "output_type": "stream",
     "text": [
      "----------------------------------------------------------------------------\n",
      "\tSCS v2.1.1 - Splitting Conic Solver\n",
      "\t(c) Brendan O'Donoghue, Stanford University, 2012\n",
      "----------------------------------------------------------------------------\n",
      "Lin-sys: sparse-direct, nnz in A = 131000\n",
      "eps = 1.00e-04, alpha = 1.50, max_iters = 5000, normalize = 1, scale = 1.00\n",
      "acceleration_lookback = 10, rho_x = 1.00e-03\n",
      "Variables n = 66000, constraints m = 193001\n",
      "Cones:\tprimal zero / dual free vars: 1\n",
      "\tlinear vars: 4000\n",
      "\texp vars: 189000, dual exp vars: 0\n",
      "Setup time: 4.70e-02s\n",
      "----------------------------------------------------------------------------\n",
      " Iter | pri res | dua res | rel gap | pri obj | dua obj | kap/tau | time (s)\n",
      "----------------------------------------------------------------------------\n",
      "     0| 6.36e+21  3.67e+22  1.00e+00 -6.41e+28  1.60e+29  1.38e+29  8.03e-01 \n",
      "   100| 1.76e-01  1.55e-01  4.50e-03  1.05e+07  1.06e+07  1.34e-08  5.80e+01 \n"
     ]
    }
   ],
   "source": [
    "run_solver(prob=prob_1000)"
   ]
  },
  {
   "cell_type": "code",
   "execution_count": 299,
   "metadata": {
    "ExecuteTime": {
     "end_time": "2019-11-06T17:48:27.581564Z",
     "start_time": "2019-11-06T17:48:26.290951Z"
    }
   },
   "outputs": [
    {
     "name": "stderr",
     "output_type": "stream",
     "text": [
      "/home/yuning/.pyenv/versions/k-seq/lib/python3.7/site-packages/scipy/stats/stats.py:3399: PearsonRConstantInputWarning: An input array is constant; the correlation coefficent is not defined.\n",
      "  warnings.warn(PearsonRConstantInputWarning())\n",
      "/home/yuning/.pyenv/versions/k-seq/lib/python3.7/site-packages/numpy/lib/function_base.py:2534: RuntimeWarning: invalid value encountered in true_divide\n",
      "  c /= stddev[:, None]\n",
      "/home/yuning/.pyenv/versions/k-seq/lib/python3.7/site-packages/numpy/lib/function_base.py:2535: RuntimeWarning: invalid value encountered in true_divide\n",
      "  c /= stddev[None, :]\n",
      "/home/yuning/.pyenv/versions/k-seq/lib/python3.7/site-packages/scipy/stats/_distn_infrastructure.py:901: RuntimeWarning: invalid value encountered in greater\n",
      "  return (a < x) & (x < b)\n",
      "/home/yuning/.pyenv/versions/k-seq/lib/python3.7/site-packages/scipy/stats/_distn_infrastructure.py:901: RuntimeWarning: invalid value encountered in less\n",
      "  return (a < x) & (x < b)\n",
      "/home/yuning/.pyenv/versions/k-seq/lib/python3.7/site-packages/scipy/stats/_distn_infrastructure.py:1892: RuntimeWarning: invalid value encountered in less_equal\n",
      "  cond2 = cond0 & (x <= _a)\n"
     ]
    },
    {
     "data": {
      "image/png": "[encoded data removed]",
      "text/plain": [
       "<Figure size 1152x288 with 4 Axes>"
      ]
     },
     "metadata": {},
     "output_type": "display_data"
    }
   ],
   "source": [
    "compare_to_truth(data, param_1000)"
   ]
  },
  {
   "cell_type": "code",
   "execution_count": null,
   "metadata": {},
   "outputs": [],
   "source": []
  },
  {
   "cell_type": "code",
   "execution_count": 293,
   "metadata": {
    "ExecuteTime": {
     "end_time": "2019-11-05T20:36:27.449120Z",
     "start_time": "2019-11-05T20:36:27.440111Z"
    }
   },
   "outputs": [],
   "source": [
    "prob_1000_mosek, param_1000_mosek = get_convex_model(data=data)"
   ]
  },
  {
   "cell_type": "code",
   "execution_count": 294,
   "metadata": {
    "ExecuteTime": {
     "end_time": "2019-11-05T20:36:43.920328Z",
     "start_time": "2019-11-05T20:36:39.088649Z"
    }
   },
   "outputs": [
    {
     "name": "stdout",
     "output_type": "stream",
     "text": [
      "\n",
      "\n",
      "Problem\n",
      "  Name                   :                 \n",
      "  Objective sense        : min             \n",
      "  Type                   : CONIC (conic optimization problem)\n",
      "  Constraints            : 193001          \n",
      "  Cones                  : 63000           \n",
      "  Scalar variables       : 255000          \n",
      "  Matrix variables       : 0               \n",
      "  Integer variables      : 0               \n",
      "\n",
      "Optimizer started.\n",
      "Problem\n",
      "  Name                   :                 \n",
      "  Objective sense        : min             \n",
      "  Type                   : CONIC (conic optimization problem)\n",
      "  Constraints            : 193001          \n",
      "  Cones                  : 63000           \n",
      "  Scalar variables       : 255000          \n",
      "  Matrix variables       : 0               \n",
      "  Integer variables      : 0               \n",
      "\n",
      "Optimizer  - threads                : 4               \n",
      "Optimizer  - solved problem         : the dual        \n",
      "Optimizer  - Constraints            : 18000\n",
      "Optimizer  - Cones                  : 63001\n",
      "Optimizer  - Scalar variables       : 193002            conic                  : 189002          \n",
      "Optimizer  - Semi-definite variables: 0                 scalarized             : 0               \n",
      "Factor     - setup time             : 0.06              dense det. time        : 0.00            \n",
      "Factor     - ML order time          : 0.00              GP order time          : 0.00            \n",
      "Factor     - nonzeros before factor : 3.40e+04          after factor           : 3.40e+04        \n",
      "Factor     - dense dim.             : 3                 flops                  : 5.36e+05        \n",
      "ITE PFEAS    DFEAS    GFEAS    PRSTATUS   POBJ              DOBJ              MU       TIME  \n",
      "0   1.3e+00  3.5e+03  3.9e+06  0.00e+00   3.864489608e+06   -5.927740561e+04  1.0e+00  0.37  \n",
      "1   1.1e+00  3.0e+03  3.6e+06  -9.96e-01  3.848032851e+06   -7.177237599e+04  8.5e-01  0.52  \n",
      "2   9.9e-01  2.7e+03  3.4e+06  -9.94e-01  3.837077193e+06   -8.072946959e+04  7.7e-01  0.65  \n",
      "3   8.6e-01  2.3e+03  3.2e+06  -9.92e-01  3.820060378e+06   -9.462207069e+04  6.7e-01  0.78  \n",
      "4   4.9e-01  1.3e+03  2.4e+06  -9.90e-01  3.721536811e+06   -1.743046144e+05  3.8e-01  0.91  \n",
      "5   1.5e-01  4.1e+02  1.3e+06  -9.77e-01  3.199375430e+06   -5.846409748e+05  1.2e-01  1.03  \n",
      "6   6.2e-02  1.7e+02  7.7e+05  -9.07e-01  2.186569889e+06   -1.321364376e+06  4.8e-02  1.15  \n",
      "7   1.8e-02  4.8e+01  3.2e+05  -7.37e-01  -1.563794508e+05  -2.735990930e+06  1.4e-02  1.26  \n",
      "8   9.2e-03  2.5e+01  1.6e+05  -2.00e-01  -2.592188843e+05  -2.134883916e+06  7.1e-03  1.38  \n",
      "9   7.9e-03  2.1e+01  1.4e+05  3.50e-02   -1.493266300e+05  -1.904909393e+06  6.1e-03  1.49  \n",
      "10  4.7e-03  1.3e+01  7.6e+04  6.23e-02   2.459102987e+05   -1.088000069e+06  3.6e-03  1.60  \n",
      "11  3.1e-03  8.3e+00  4.7e+04  1.58e-01   6.420181568e+05   -4.199138435e+05  2.4e-03  1.71  \n",
      "12  9.4e-04  2.5e+00  1.2e+04  2.14e-01   1.730195685e+06   1.244310669e+06   7.3e-04  1.82  \n",
      "13  6.0e-04  1.6e+00  7.4e+03  3.43e-01   2.269150688e+06   1.885851293e+06   4.7e-04  1.92  \n",
      "14  4.0e-04  1.1e+00  4.6e+03  3.04e-01   2.720034842e+06   2.421064769e+06   3.1e-04  2.02  \n",
      "15  1.7e-04  4.6e-01  1.8e+03  2.36e-01   3.681245140e+06   3.497126754e+06   1.3e-04  2.12  \n",
      "16  7.9e-05  2.1e-01  7.8e+02  2.76e-01   4.451655749e+06   4.334902492e+06   6.1e-05  2.22  \n",
      "17  4.2e-05  1.1e-01  4.1e+02  1.77e-01   5.101935341e+06   5.016338893e+06   3.3e-05  2.31  \n",
      "18  1.5e-05  4.0e-02  1.4e+02  1.50e-01   6.096043932e+06   6.049090159e+06   1.1e-05  2.41  \n",
      "19  8.9e-06  2.4e-02  8.0e+01  1.70e-01   6.554800824e+06   6.518119720e+06   6.9e-06  2.50  \n",
      "20  3.9e-06  1.1e-02  3.5e+01  1.04e-01   7.304337137e+06   7.280356729e+06   3.0e-06  2.60  \n",
      "21  1.5e-06  4.0e-03  1.3e+01  1.20e-01   8.106796324e+06   8.092698304e+06   1.2e-06  2.69  \n",
      "22  6.5e-07  1.8e-03  5.4e+00  1.37e-01   8.761271477e+06   8.752220702e+06   5.1e-07  2.78  \n",
      "23  2.6e-07  6.9e-04  2.0e+00  1.41e-01   9.445128886e+06   9.439754443e+06   2.0e-07  2.87  \n",
      "24  7.7e-08  2.1e-04  5.4e-01  1.83e-01   1.019676809e+07   1.019423505e+07   5.9e-08  2.96  \n",
      "25  5.6e-08  1.5e-04  3.8e-01  2.57e-01   1.036625947e+07   1.036409403e+07   4.3e-08  3.05  \n",
      "26  2.7e-08  7.2e-05  1.7e-01  2.48e-01   1.073422928e+07   1.073284918e+07   2.1e-08  3.15  \n",
      "27  1.4e-08  3.7e-05  7.6e-02  3.43e-01   1.098581019e+07   1.098491617e+07   1.1e-08  3.23  \n",
      "28  9.1e-09  2.4e-05  4.6e-02  4.18e-01   1.111785104e+07   1.111718067e+07   7.0e-09  3.32  \n",
      "29  5.8e-09  1.6e-05  2.6e-02  4.90e-01   1.123082115e+07   1.123034368e+07   4.5e-09  3.41  \n",
      "30  3.8e-09  1.0e-05  1.5e-02  5.88e-01   1.131218180e+07   1.131184449e+07   2.9e-09  3.50  \n",
      "31  6.6e-10  1.8e-06  1.4e-03  6.75e-01   1.147018146e+07   1.147011329e+07   5.1e-10  3.59  \n",
      "32  8.7e-11  2.3e-07  7.2e-05  9.08e-01   1.150697893e+07   1.150696958e+07   6.7e-11  3.68  \n",
      "33  1.8e-11  4.9e-08  6.8e-06  9.86e-01   1.151148569e+07   1.151148375e+07   1.4e-11  3.76  \n",
      "34  1.4e-12  3.8e-09  1.5e-07  9.97e-01   1.151258026e+07   1.151258011e+07   1.1e-12  3.84  \n",
      "35  1.4e-13  3.7e-10  4.5e-09  9.99e-01   1.151266472e+07   1.151266471e+07   1.0e-13  4.08  \n",
      "Optimizer terminated. Time: 4.14    \n",
      "\n",
      "\n",
      "Interior-point solution summary\n",
      "  Problem status  : PRIMAL_AND_DUAL_FEASIBLE\n",
      "  Solution status : OPTIMAL\n",
      "  Primal.  obj: 1.1512664720e+07    nrm: 3e+06    Viol.  con: 4e-09    var: 0e+00    cones: 1e-08  \n",
      "  Dual.    obj: 1.1512664706e+07    nrm: 2e+06    Viol.  con: 8e-11    var: 1e-05    cones: 0e+00  \n",
      "--------------------------------------------------\n",
      "It took 4.83 seconds.\n"
     ]
    }
   ],
   "source": [
    "run_solver(prob=prob_1000_mosek, solver=cp.MOSEK)"
   ]
  },
  {
   "cell_type": "code",
   "execution_count": 295,
   "metadata": {
    "ExecuteTime": {
     "end_time": "2019-11-05T20:37:26.950851Z",
     "start_time": "2019-11-05T20:37:25.793277Z"
    }
   },
   "outputs": [
    {
     "name": "stderr",
     "output_type": "stream",
     "text": [
      "/home/yuning/.pyenv/versions/k-seq/lib/python3.7/site-packages/scipy/stats/stats.py:3399: PearsonRConstantInputWarning: An input array is constant; the correlation coefficent is not defined.\n",
      "  warnings.warn(PearsonRConstantInputWarning())\n",
      "/home/yuning/.pyenv/versions/k-seq/lib/python3.7/site-packages/numpy/lib/function_base.py:2534: RuntimeWarning: invalid value encountered in true_divide\n",
      "  c /= stddev[:, None]\n",
      "/home/yuning/.pyenv/versions/k-seq/lib/python3.7/site-packages/numpy/lib/function_base.py:2535: RuntimeWarning: invalid value encountered in true_divide\n",
      "  c /= stddev[None, :]\n",
      "/home/yuning/.pyenv/versions/k-seq/lib/python3.7/site-packages/scipy/stats/_distn_infrastructure.py:901: RuntimeWarning: invalid value encountered in greater\n",
      "  return (a < x) & (x < b)\n",
      "/home/yuning/.pyenv/versions/k-seq/lib/python3.7/site-packages/scipy/stats/_distn_infrastructure.py:901: RuntimeWarning: invalid value encountered in less\n",
      "  return (a < x) & (x < b)\n",
      "/home/yuning/.pyenv/versions/k-seq/lib/python3.7/site-packages/scipy/stats/_distn_infrastructure.py:1892: RuntimeWarning: invalid value encountered in less_equal\n",
      "  cond2 = cond0 & (x <= _a)\n"
     ]
    },
    {
     "data": {
      "image/png": "[encoded data removed]",
      "text/plain": [
       "<Figure size 1152x288 with 4 Axes>"
      ]
     },
     "metadata": {},
     "output_type": "display_data"
    }
   ],
   "source": [
    "compare_to_truth(data, param_1000_mosek)"
   ]
  },
  {
   "cell_type": "code",
   "execution_count": null,
   "metadata": {},
   "outputs": [],
   "source": []
  },
  {
   "cell_type": "code",
   "execution_count": null,
   "metadata": {},
   "outputs": [],
   "source": []
  },
  {
   "cell_type": "markdown",
   "metadata": {},
   "source": [
    "## non-matrix model"
   ]
  },
  {
   "cell_type": "code",
   "execution_count": 148,
   "metadata": {},
   "outputs": [
    {
     "data": {
      "text/plain": [
       "array([     nan,      nan,      nan, 2.00e-06, 2.00e-06, 2.00e-06,\n",
       "       1.00e-05, 1.00e-05, 1.00e-05, 5.00e-05, 5.00e-05, 5.00e-05,\n",
       "       2.50e-04, 2.50e-04, 2.50e-04, 1.25e-03, 1.25e-03, 1.25e-03])"
      ]
     },
     "execution_count": 148,
     "metadata": {},
     "output_type": "execute_result"
    }
   ],
   "source": [
    "\n",
    "# (J, m) = n.shape\n",
    "\n",
    "# # Variables.\n",
    "# P = cp.Variable(J, m)\n",
    "\n",
    "\n",
    "# # Loss.\n",
    "# loss = cp.sum_entries(cp.mul_elemwise(n, cp.log(P)))\n",
    "# # s = 0\n",
    "# # for j in range(J):\n",
    "# #     for i in range(m):\n",
    "# #         s += n[j, i] * cp.log(P[j, i])\n",
    "# # loss = s\n",
    "# objective = cp.Maximize(loss)\n",
    "\n",
    "# # Constraints.\n",
    "# constraints = (\n",
    "#     [0 <= P,\n",
    "#      cp.sum_entries(P, axis=0) == 1]) # np.ones((1, 18))])\n",
    "\n",
    "# # Problem.\n",
    "# prob = cp.Problem(objective, constraints)\n",
    "\n",
    "# # Solving the problem.\n",
    "# res = prob.solve(cp.MOSEK)"
   ]
  },
  {
   "cell_type": "code",
   "execution_count": 149,
   "metadata": {},
   "outputs": [],
   "source": [
    "# (J, m) = n.shape\n",
    "\n",
    "# # Variables.\n",
    "# P = cp.Variable(J, m)\n",
    "\n",
    "\n",
    "# # Loss.\n",
    "# loss = cp.sum_entries(cp.mul_elemwise(n, cp.log(P)))\n",
    "# # s = 0\n",
    "# # for j in range(J):\n",
    "# #     for i in range(m):\n",
    "# #         s += n[j, i] * cp.log(P[j, i])\n",
    "# # loss = s\n",
    "# objective = cp.Maximize(loss)\n",
    "\n",
    "# # Constraints.\n",
    "# constraints = (\n",
    "#     [0 <= P,\n",
    "#      cp.sum_entries(P, axis=0) == 1]) # np.ones((1, 18))])\n",
    "\n",
    "# # Problem.\n",
    "# prob = cp.Problem(objective, constraints)\n",
    "\n",
    "# # Solving the problem.\n",
    "# res = prob.solve(cp.MOSEK)"
   ]
  },
  {
   "cell_type": "code",
   "execution_count": null,
   "metadata": {},
   "outputs": [
    {
     "name": "stdout",
     "output_type": "stream",
     "text": [
      "WARN: A->p (column pointers) not strictly increasing, column 1306 empty\n",
      "WARN: A->p (column pointers) not strictly increasing, column 1789 empty\n",
      "WARN: A->p (column pointers) not strictly increasing, column 2306 empty\n",
      "WARN: A->p (column pointers) not strictly increasing, column 2789 empty\n"
     ]
    }
   ],
   "source": [
    "with Timer():\n",
    "    (J, m) = n.shape\n",
    "\n",
    "    # Variables.\n",
    "    p0 = cp.Variable(1, m)\n",
    "    a = cp.Variable(1, m)\n",
    "    k = cp.Variable(1, m)\n",
    "    t = 90 * 0.476\n",
    "\n",
    "    # LL.\n",
    "    ll = 0\n",
    "    for j in range(J):\n",
    "    #     denomj = 0\n",
    "    #     for q in range(m):\n",
    "    #         denomj += p0[q] * a[q] * (1 - cp.exp(-k[q] * t * c[j]))\n",
    "        for i in range(m):\n",
    "            if np.isnan(c[j]):\n",
    "                ll += n[j, i] * cp.log(p0[i])\n",
    "            else:\n",
    "                ll += n[j, i] * (cp.log(p0[i]) + cp.log(a[i]) + cp.log(1 - cp.exp(-k[i] * t * c[j])))  # - cp.log(denomj))\n",
    "    objective = cp.Maximize(ll)\n",
    "\n",
    "    # Constraints.\n",
    "    constraints = (\n",
    "        [0 <= p0,\n",
    "         cp.sum_entries(p0) == 1])\n",
    "\n",
    "    # Problem.\n",
    "    prob = cp.Problem(objective, constraints)\n",
    "\n",
    "    # Solving the problem.\n",
    "    res = prob.solve(cp.SCS)"
   ]
  },
  {
   "cell_type": "code",
   "execution_count": null,
   "metadata": {},
   "outputs": [],
   "source": [
    "np.sum(p0.value)"
   ]
  },
  {
   "cell_type": "code",
   "execution_count": null,
   "metadata": {},
   "outputs": [],
   "source": [
    "plt.plot(np.array(k.value).squeeze());"
   ]
  },
  {
   "cell_type": "code",
   "execution_count": null,
   "metadata": {},
   "outputs": [],
   "source": [
    "plt.plot(truth.k);"
   ]
  },
  {
   "cell_type": "code",
   "execution_count": null,
   "metadata": {},
   "outputs": [],
   "source": [
    "stats.pearsonr(np.array(k.value).squeeze(), truth.k)"
   ]
  },
  {
   "cell_type": "code",
   "execution_count": null,
   "metadata": {},
   "outputs": [],
   "source": []
  },
  {
   "cell_type": "code",
   "execution_count": null,
   "metadata": {},
   "outputs": [],
   "source": []
  },
  {
   "cell_type": "code",
   "execution_count": null,
   "metadata": {},
   "outputs": [],
   "source": []
  },
  {
   "cell_type": "code",
   "execution_count": null,
   "metadata": {},
   "outputs": [],
   "source": []
  },
  {
   "cell_type": "code",
   "execution_count": 11,
   "metadata": {},
   "outputs": [],
   "source": [
    "# c = np.ones(J)"
   ]
  },
  {
   "cell_type": "code",
   "execution_count": 55,
   "metadata": {},
   "outputs": [],
   "source": [
    "# (J, m) = n.shape\n",
    "\n",
    "# # Variables.\n",
    "# p0 = cp.Variable(1, m)\n",
    "# a = cp.Variable(1, m)\n",
    "# k = cp.Variable(1, m)\n",
    "# t = 90 * 0.476\n",
    "\n",
    "# # Loss.\n",
    "# # P = cp.vstack([cp.log(p0) + cp.log(a) + cp.log(1-cp.exp(-k*t*c)) for i in range(J)])\n",
    "# s = 0\n",
    "# for j in range(J):\n",
    "#     for i in range(m):\n",
    "#         s += n[j, i] * (cp.log(p0[i]) + cp.log(a[i]) + cp.log(1 - cp.exp(-k[i] * t * c[j])))\n",
    "# # ll = cp.sum_entries(cp.mul_elemwise(n, P))\n",
    "# ll = s\n",
    "# objective = cp.Maximize(ll)\n",
    "\n",
    "# # # Constraints.\n",
    "# # constraints = (\n",
    "# #     [0 <= P,\n",
    "# #      cp.sum_entries(P, axis=0) == 1]) # np.ones((1, 18))])\n",
    "\n",
    "# # Problem.\n",
    "# prob = cp.Problem(objective)\n",
    "\n",
    "# # Solving the problem.\n",
    "# res = prob.solve(cp.SCS)"
   ]
  },
  {
   "cell_type": "code",
   "execution_count": 56,
   "metadata": {},
   "outputs": [
    {
     "data": {
      "text/plain": [
       "29419960.153901663"
      ]
     },
     "execution_count": 56,
     "metadata": {},
     "output_type": "execute_result"
    }
   ],
   "source": [
    "# res"
   ]
  },
  {
   "cell_type": "code",
   "execution_count": 72,
   "metadata": {},
   "outputs": [
    {
     "data": {
      "image/png": "[encoded data removed]",
      "text/plain": [
       "<matplotlib.figure.Figure at 0x7f60c887deb8>"
      ]
     },
     "metadata": {
      "needs_background": "light"
     },
     "output_type": "display_data"
    }
   ],
   "source": [
    "# plt.plot(p0.value.T);"
   ]
  },
  {
   "cell_type": "code",
   "execution_count": 73,
   "metadata": {},
   "outputs": [
    {
     "data": {
      "image/png": "[encoded data removed]",
      "text/plain": [
       "<matplotlib.figure.Figure at 0x7f60c880c518>"
      ]
     },
     "metadata": {
      "needs_background": "light"
     },
     "output_type": "display_data"
    }
   ],
   "source": [
    "# plt.plot(a.value.T);"
   ]
  },
  {
   "cell_type": "code",
   "execution_count": 74,
   "metadata": {},
   "outputs": [
    {
     "data": {
      "image/png": "[encoded data removed]",
      "text/plain": [
       "<matplotlib.figure.Figure at 0x7f60c87c37b8>"
      ]
     },
     "metadata": {
      "needs_background": "light"
     },
     "output_type": "display_data"
    }
   ],
   "source": [
    "# plt.plot(k.value.T);"
   ]
  },
  {
   "cell_type": "code",
   "execution_count": null,
   "metadata": {},
   "outputs": [],
   "source": []
  },
  {
   "cell_type": "code",
   "execution_count": null,
   "metadata": {},
   "outputs": [],
   "source": []
  },
  {
   "cell_type": "code",
   "execution_count": null,
   "metadata": {},
   "outputs": [],
   "source": []
  },
  {
   "cell_type": "code",
   "execution_count": null,
   "metadata": {},
   "outputs": [],
   "source": []
  },
  {
   "cell_type": "markdown",
   "metadata": {},
   "source": [
    "# Swapping variables with exp"
   ]
  },
  {
   "cell_type": "code",
   "execution_count": 111,
   "metadata": {},
   "outputs": [
    {
     "ename": "DCPError",
     "evalue": "Problem does not follow DCP rules.",
     "output_type": "error",
     "traceback": [
      "\u001b[0;31m---------------------------------------------------------------------------\u001b[0m",
      "\u001b[0;31mDCPError\u001b[0m                                  Traceback (most recent call last)",
      "\u001b[0;32m<ipython-input-111-62a27766512c>\u001b[0m in \u001b[0;36m<module>\u001b[0;34m()\u001b[0m\n\u001b[1;32m     31\u001b[0m \u001b[0;34m\u001b[0m\u001b[0m\n\u001b[1;32m     32\u001b[0m \u001b[0;31m# Solving the problem.\u001b[0m\u001b[0;34m\u001b[0m\u001b[0;34m\u001b[0m\u001b[0m\n\u001b[0;32m---> 33\u001b[0;31m \u001b[0mres\u001b[0m \u001b[0;34m=\u001b[0m \u001b[0mprob\u001b[0m\u001b[0;34m.\u001b[0m\u001b[0msolve\u001b[0m\u001b[0;34m(\u001b[0m\u001b[0mcp\u001b[0m\u001b[0;34m.\u001b[0m\u001b[0mMOSEK\u001b[0m\u001b[0;34m)\u001b[0m\u001b[0;34m\u001b[0m\u001b[0m\n\u001b[0m",
      "\u001b[0;32m/home/omid/.local/lib/python3.5/site-packages/cvxpy/problems/problem.py\u001b[0m in \u001b[0;36msolve\u001b[0;34m(self, *args, **kwargs)\u001b[0m\n\u001b[1;32m    207\u001b[0m             \u001b[0;32mreturn\u001b[0m \u001b[0mfunc\u001b[0m\u001b[0;34m(\u001b[0m\u001b[0mself\u001b[0m\u001b[0;34m,\u001b[0m \u001b[0;34m*\u001b[0m\u001b[0margs\u001b[0m\u001b[0;34m,\u001b[0m \u001b[0;34m**\u001b[0m\u001b[0mkwargs\u001b[0m\u001b[0;34m)\u001b[0m\u001b[0;34m\u001b[0m\u001b[0m\n\u001b[1;32m    208\u001b[0m         \u001b[0;32melse\u001b[0m\u001b[0;34m:\u001b[0m\u001b[0;34m\u001b[0m\u001b[0m\n\u001b[0;32m--> 209\u001b[0;31m             \u001b[0;32mreturn\u001b[0m \u001b[0mself\u001b[0m\u001b[0;34m.\u001b[0m\u001b[0m_solve\u001b[0m\u001b[0;34m(\u001b[0m\u001b[0;34m*\u001b[0m\u001b[0margs\u001b[0m\u001b[0;34m,\u001b[0m \u001b[0;34m**\u001b[0m\u001b[0mkwargs\u001b[0m\u001b[0;34m)\u001b[0m\u001b[0;34m\u001b[0m\u001b[0m\n\u001b[0m\u001b[1;32m    210\u001b[0m \u001b[0;34m\u001b[0m\u001b[0m\n\u001b[1;32m    211\u001b[0m     \u001b[0;34m@\u001b[0m\u001b[0mclassmethod\u001b[0m\u001b[0;34m\u001b[0m\u001b[0m\n",
      "\u001b[0;32m/home/omid/.local/lib/python3.5/site-packages/cvxpy/problems/problem.py\u001b[0m in \u001b[0;36m_solve\u001b[0;34m(self, solver, ignore_dcp, warm_start, verbose, parallel, **kwargs)\u001b[0m\n\u001b[1;32m    281\u001b[0m                       \"Solving a convex relaxation.\")\n\u001b[1;32m    282\u001b[0m             \u001b[0;32melse\u001b[0m\u001b[0;34m:\u001b[0m\u001b[0;34m\u001b[0m\u001b[0m\n\u001b[0;32m--> 283\u001b[0;31m                 \u001b[0;32mraise\u001b[0m \u001b[0mDCPError\u001b[0m\u001b[0;34m(\u001b[0m\u001b[0;34m\"Problem does not follow DCP rules.\"\u001b[0m\u001b[0;34m)\u001b[0m\u001b[0;34m\u001b[0m\u001b[0m\n\u001b[0m\u001b[1;32m    284\u001b[0m \u001b[0;34m\u001b[0m\u001b[0m\n\u001b[1;32m    285\u001b[0m         \u001b[0;32mif\u001b[0m \u001b[0msolver\u001b[0m \u001b[0;34m==\u001b[0m \u001b[0ms\u001b[0m\u001b[0;34m.\u001b[0m\u001b[0mLS\u001b[0m\u001b[0;34m:\u001b[0m\u001b[0;34m\u001b[0m\u001b[0m\n",
      "\u001b[0;31mDCPError\u001b[0m: Problem does not follow DCP rules."
     ]
    }
   ],
   "source": [
    "# # (J, m) = n.shape\n",
    "# m = 20\n",
    "\n",
    "# # Variables.\n",
    "# p0p = cp.Variable(1, m)\n",
    "# ap = cp.Variable(1, m)\n",
    "# k = cp.Variable(1, m)\n",
    "# t = 90 * 0.476\n",
    "\n",
    "# # LL.\n",
    "# ll = 0\n",
    "# for j in range(J):\n",
    "#     denomj = 0\n",
    "#     for q in range(m):\n",
    "#         denomj += (cp.exp(p0p[q] + ap[q]) - cp.exp(p0p[q] + ap[q] - k[q] * t * c[j]))\n",
    "#     for i in range(m):\n",
    "#         if np.isnan(c[j]):\n",
    "#             ll += n[j, i] * p0p[i]\n",
    "#         else:\n",
    "#             ll += n[j, i] * (\n",
    "#                 cp.log(cp.exp(p0p[i] + ap[i]) - cp.exp(p0p[i] + ap[i] - k[i] * t * c[j])) - cp.log(denomj))\n",
    "# objective = cp.Maximize(ll)\n",
    "\n",
    "# # # Constraints.\n",
    "# # constraints = (\n",
    "# #     [0 <= p0p,\n",
    "# #      cp.sum_entries(p0) == 1])\n",
    "\n",
    "# # Problem.\n",
    "# prob = cp.Problem(objective)  #, constraints)\n",
    "\n",
    "# # Solving the problem.\n",
    "# res = prob.solve(cp.MOSEK)"
   ]
  },
  {
   "cell_type": "code",
   "execution_count": null,
   "metadata": {},
   "outputs": [],
   "source": []
  }
 ],
 "metadata": {
  "kernelspec": {
   "display_name": "k-seq",
   "language": "python",
   "name": "k-seq"
  },
  "language_info": {
   "codemirror_mode": {
    "name": "ipython",
    "version": 3
   },
   "file_extension": ".py",
   "mimetype": "text/x-python",
   "name": "python",
   "nbconvert_exporter": "python",
   "pygments_lexer": "ipython3",
   "version": "3.7.4"
  },
  "toc": {
   "nav_menu": {},
   "number_sections": true,
   "sideBar": true,
   "skip_h1_title": false,
   "toc_cell": false,
   "toc_position": {},
   "toc_section_display": "block",
   "toc_window_display": false
  }
 },
 "nbformat": 4,
 "nbformat_minor": 2
}
