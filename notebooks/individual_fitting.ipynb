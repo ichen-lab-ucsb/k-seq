{
 "cells": [
  {
   "cell_type": "code",
   "execution_count": 43,
   "metadata": {
    "ExecuteTime": {
     "end_time": "2019-10-12T02:05:14.346285Z",
     "start_time": "2019-10-12T02:05:14.336220Z"
    }
   },
   "outputs": [
    {
     "data": {
      "text/plain": [
       "<module 'k_seq.data.seq_table' from '/home/yuning/research/k-seq/src/pkg/k_seq/data/seq_table.py'>"
      ]
     },
     "execution_count": 43,
     "metadata": {},
     "output_type": "execute_result"
    }
   ],
   "source": [
    "class DevMode:\n",
    "\n",
    "    def __init__(self, pkg, auto_on=True):\n",
    "        from pathlib import Path\n",
    "        \n",
    "        pkgs = {\n",
    "            'k-seq': '/home/yuning/research/k-seq/src/pkg/'\n",
    "        }\n",
    "        \n",
    "        if pkg in pkgs.keys():\n",
    "            self.pkg_path = pkgs[pkg]\n",
    "        elif Path(pkg).is_dir():\n",
    "            self.pkg_path = pkg\n",
    "        else:\n",
    "            raise ValueError('Package {} is not built-in or valid path')\n",
    "        if auto_on:\n",
    "            self.on()\n",
    "    \n",
    "    def on(self):\n",
    "        import sys\n",
    "        if self.pkg_path not in sys.path:\n",
    "            sys.path.insert(0, self.pkg_path)\n",
    "        elif sys.path.index(self.pkg_path) !=0:\n",
    "            sys.path.remove(self.pkg_path)\n",
    "            sys.path.insert(0, self.pkg_path)\n",
    "    \n",
    "    def off(self):\n",
    "        if self.pkg_path in sys.path:\n",
    "            sys.path.remove(self.pkg_path)\n",
    "\n",
    "            \n",
    "pkg_dev = DevMode(pkg='k-seq')\n",
    "import numpy as np\n",
    "import pandas as pd\n",
    "from k_seq.data import seq_table\n",
    "from importlib import reload\n",
    "reload(seq_table)"
   ]
  },
  {
   "cell_type": "code",
   "execution_count": 3,
   "metadata": {
    "ExecuteTime": {
     "end_time": "2019-10-12T01:11:53.174728Z",
     "start_time": "2019-10-12T01:11:11.848226Z"
    }
   },
   "outputs": [
    {
     "name": "stdout",
     "output_type": "stream",
     "text": [
      "Generate SeqTable instance for BYO-doped pool...\n",
      "Importing from /mnt/storage/projects/k-seq/input/byo_doped/counts...this could take a couple of minutes...\n",
      "Finished!\n"
     ]
    }
   ],
   "source": [
    "byo_doped = seq_table.SeqTable.load_default_dataset(dataset='byo_doped', from_count_file=True)"
   ]
  },
  {
   "cell_type": "code",
   "execution_count": 9,
   "metadata": {
    "ExecuteTime": {
     "end_time": "2019-10-12T00:44:55.707316Z",
     "start_time": "2019-10-12T00:44:49.865413Z"
    }
   },
   "outputs": [],
   "source": [
    "byo_doped.to_pickle('/mnt/storage/projects/k-seq/datasets/byo_doped.pkl')"
   ]
  },
  {
   "cell_type": "code",
   "execution_count": 16,
   "metadata": {
    "ExecuteTime": {
     "end_time": "2019-10-12T01:27:41.354467Z",
     "start_time": "2019-10-12T01:27:07.478230Z"
    }
   },
   "outputs": [],
   "source": [
    "\n",
    "\n",
    "hashed = byo_doped.reacted_frac_filtered.apply(hash_series, axis=1)"
   ]
  },
  {
   "cell_type": "code",
   "execution_count": 44,
   "metadata": {
    "ExecuteTime": {
     "end_time": "2019-10-12T02:05:39.039399Z",
     "start_time": "2019-10-12T02:05:39.004698Z"
    }
   },
   "outputs": [],
   "source": [
    "hashed_inv = pd.Series(data=hashed.index, index=hashed.values)"
   ]
  },
  {
   "cell_type": "code",
   "execution_count": 47,
   "metadata": {
    "ExecuteTime": {
     "end_time": "2019-10-12T02:06:03.678753Z",
     "start_time": "2019-10-12T02:06:03.485886Z"
    }
   },
   "outputs": [],
   "source": [
    "hashed_dict = hashed_inv.to_dict()"
   ]
  },
  {
   "cell_type": "code",
   "execution_count": 52,
   "metadata": {
    "ExecuteTime": {
     "end_time": "2019-10-12T02:07:21.904750Z",
     "start_time": "2019-10-12T02:07:21.899646Z"
    }
   },
   "outputs": [
    {
     "data": {
      "text/plain": [
       "'CCACACTTCAAGCATTCGGTC'"
      ]
     },
     "execution_count": 52,
     "metadata": {},
     "output_type": "execute_result"
    }
   ],
   "source": [
    "hashed_dict[4383684264136671735]"
   ]
  },
  {
   "cell_type": "code",
   "execution_count": 34,
   "metadata": {
    "ExecuteTime": {
     "end_time": "2019-10-12T02:01:50.987996Z",
     "start_time": "2019-10-12T02:01:46.888251Z"
    }
   },
   "outputs": [
    {
     "name": "stdout",
     "output_type": "stream",
     "text": [
      "5.04 ms ± 8.25 µs per loop (mean ± std. dev. of 7 runs, 100 loops each)\n"
     ]
    }
   ],
   "source": [
    "\n",
    "\n",
    "%timeit hash_series(byo_doped.reacted_frac_filtered.loc['CTACTTCAAACAATCGGTCTG'])"
   ]
  },
  {
   "cell_type": "code",
   "execution_count": 37,
   "metadata": {
    "ExecuteTime": {
     "end_time": "2019-10-12T02:02:59.160796Z",
     "start_time": "2019-10-12T02:02:59.149466Z"
    }
   },
   "outputs": [],
   "source": [
    "row = byo_doped.reacted_frac_filtered.loc['CTACTTCAAACAATCGGTCTG']"
   ]
  },
  {
   "cell_type": "code",
   "execution_count": 39,
   "metadata": {
    "ExecuteTime": {
     "end_time": "2019-10-12T02:03:30.568156Z",
     "start_time": "2019-10-12T02:03:27.361143Z"
    }
   },
   "outputs": [
    {
     "name": "stdout",
     "output_type": "stream",
     "text": [
      "39.1 µs ± 108 ns per loop (mean ± std. dev. of 7 runs, 10000 loops each)\n"
     ]
    }
   ],
   "source": [
    "%timeit hash_series(row)"
   ]
  },
  {
   "cell_type": "code",
   "execution_count": 56,
   "metadata": {
    "ExecuteTime": {
     "end_time": "2019-10-12T02:08:11.968145Z",
     "start_time": "2019-10-12T02:08:11.952360Z"
    }
   },
   "outputs": [
    {
     "data": {
      "text/plain": [
       "2312735342105765440    ATTATTCTGGTCATCTAGTGT\n",
       "2312735342105765440    AGTGCTCTGGTCAACGAGTGA\n",
       "2312735342105765440    ATTACCTCGTTCACCGAGTGA\n",
       "2312735342105765440    GTTACGCTAGTCATCGAGTCA\n",
       "2312735342105765440    ATTATCCTGGTTATCTAGTGT\n",
       "                               ...          \n",
       "2312735342105765440    CAACAATTCAAGCAATCGGGT\n",
       "2312735342105765440    AATTCTCCTAATCGTCGCAAG\n",
       "2312735342105765440    CCTCACTTCAAGCCATTGATC\n",
       "2312735342105765440    AAGTTTGCTAATGGCTGCAAA\n",
       "2312735342105765440    CGACCTCAAACAACCGGTCAG\n",
       "Length: 6803, dtype: object"
      ]
     },
     "execution_count": 56,
     "metadata": {},
     "output_type": "execute_result"
    }
   ],
   "source": [
    "hashed_inv[2312735342105765440]"
   ]
  },
  {
   "cell_type": "code",
   "execution_count": 15,
   "metadata": {
    "ExecuteTime": {
     "end_time": "2019-10-12T01:26:21.667745Z",
     "start_time": "2019-10-12T01:26:21.654736Z"
    }
   },
   "outputs": [
    {
     "data": {
      "text/plain": [
       "A1    0.270427\n",
       "A2    0.369641\n",
       "A3    0.598627\n",
       "B1    0.378180\n",
       "B2    0.400688\n",
       "B3    0.378988\n",
       "C1    0.153022\n",
       "C2    0.129371\n",
       "C3    0.154642\n",
       "D1    0.030471\n",
       "D2    0.029956\n",
       "D3    0.029584\n",
       "E1    0.006454\n",
       "E2    0.006420\n",
       "E3    0.005430\n",
       "Name: CTACTTCAAACAATCGGTCTG, dtype: Sparse[float64, nan]"
      ]
     },
     "execution_count": 15,
     "metadata": {},
     "output_type": "execute_result"
    }
   ],
   "source": [
    "byo_doped.reacted_frac_filtered.loc['CTACTTCAAACAATCGGTCTG']"
   ]
  },
  {
   "cell_type": "code",
   "execution_count": 53,
   "metadata": {
    "ExecuteTime": {
     "end_time": "2019-10-12T02:07:38.722629Z",
     "start_time": "2019-10-12T02:07:38.680143Z"
    }
   },
   "outputs": [
    {
     "data": {
      "text/html": [
       "<div>\n",
       "<style scoped>\n",
       "    .dataframe tbody tr th:only-of-type {\n",
       "        vertical-align: middle;\n",
       "    }\n",
       "\n",
       "    .dataframe tbody tr th {\n",
       "        vertical-align: top;\n",
       "    }\n",
       "\n",
       "    .dataframe thead th {\n",
       "        text-align: right;\n",
       "    }\n",
       "</style>\n",
       "<table border=\"1\" class=\"dataframe\">\n",
       "  <thead>\n",
       "    <tr style=\"text-align: right;\">\n",
       "      <th></th>\n",
       "      <th>A1</th>\n",
       "      <th>A2</th>\n",
       "      <th>A3</th>\n",
       "      <th>B1</th>\n",
       "      <th>B2</th>\n",
       "      <th>B3</th>\n",
       "      <th>C1</th>\n",
       "      <th>C2</th>\n",
       "      <th>C3</th>\n",
       "      <th>D1</th>\n",
       "      <th>D2</th>\n",
       "      <th>D3</th>\n",
       "      <th>E1</th>\n",
       "      <th>E2</th>\n",
       "      <th>E3</th>\n",
       "    </tr>\n",
       "  </thead>\n",
       "  <tbody>\n",
       "    <tr>\n",
       "      <td>CTACTTCAAACAATCGGTCTG</td>\n",
       "      <td>0.270427</td>\n",
       "      <td>0.369641</td>\n",
       "      <td>0.598627</td>\n",
       "      <td>0.378180</td>\n",
       "      <td>0.400688</td>\n",
       "      <td>0.378988</td>\n",
       "      <td>0.153022</td>\n",
       "      <td>0.129371</td>\n",
       "      <td>0.154642</td>\n",
       "      <td>0.030471</td>\n",
       "      <td>0.029956</td>\n",
       "      <td>0.029584</td>\n",
       "      <td>0.006454</td>\n",
       "      <td>0.006420</td>\n",
       "      <td>0.005430</td>\n",
       "    </tr>\n",
       "    <tr>\n",
       "      <td>CCACACTTCAAGCAATCGGTC</td>\n",
       "      <td>0.291469</td>\n",
       "      <td>0.399418</td>\n",
       "      <td>0.667322</td>\n",
       "      <td>0.371948</td>\n",
       "      <td>0.382656</td>\n",
       "      <td>0.371522</td>\n",
       "      <td>0.132896</td>\n",
       "      <td>0.110417</td>\n",
       "      <td>0.128007</td>\n",
       "      <td>0.025532</td>\n",
       "      <td>0.025574</td>\n",
       "      <td>0.023251</td>\n",
       "      <td>0.005178</td>\n",
       "      <td>0.005254</td>\n",
       "      <td>0.004230</td>\n",
       "    </tr>\n",
       "    <tr>\n",
       "      <td>ATTACCCTGGTCATCGAGTGA</td>\n",
       "      <td>0.209456</td>\n",
       "      <td>0.241876</td>\n",
       "      <td>0.407345</td>\n",
       "      <td>0.306432</td>\n",
       "      <td>0.273955</td>\n",
       "      <td>0.281231</td>\n",
       "      <td>0.292973</td>\n",
       "      <td>0.159222</td>\n",
       "      <td>0.217357</td>\n",
       "      <td>0.071694</td>\n",
       "      <td>0.059787</td>\n",
       "      <td>0.073648</td>\n",
       "      <td>0.019961</td>\n",
       "      <td>0.019851</td>\n",
       "      <td>0.020001</td>\n",
       "    </tr>\n",
       "    <tr>\n",
       "      <td>AAGTTTGCTAATAGTCGCAAG</td>\n",
       "      <td>0.131800</td>\n",
       "      <td>0.144669</td>\n",
       "      <td>0.250802</td>\n",
       "      <td>0.173294</td>\n",
       "      <td>0.136528</td>\n",
       "      <td>0.134145</td>\n",
       "      <td>0.064863</td>\n",
       "      <td>0.037381</td>\n",
       "      <td>0.051900</td>\n",
       "      <td>0.012268</td>\n",
       "      <td>0.008453</td>\n",
       "      <td>0.009117</td>\n",
       "      <td>0.002671</td>\n",
       "      <td>0.001447</td>\n",
       "      <td>0.001554</td>\n",
       "    </tr>\n",
       "    <tr>\n",
       "      <td>GTACTTCAAACAATCGGTCTG</td>\n",
       "      <td>0.216827</td>\n",
       "      <td>0.263438</td>\n",
       "      <td>0.433435</td>\n",
       "      <td>0.268581</td>\n",
       "      <td>0.265559</td>\n",
       "      <td>0.248443</td>\n",
       "      <td>0.099804</td>\n",
       "      <td>0.080341</td>\n",
       "      <td>0.092561</td>\n",
       "      <td>0.019440</td>\n",
       "      <td>0.017776</td>\n",
       "      <td>0.016141</td>\n",
       "      <td>0.003888</td>\n",
       "      <td>0.003423</td>\n",
       "      <td>0.002846</td>\n",
       "    </tr>\n",
       "    <tr>\n",
       "      <td>...</td>\n",
       "      <td>...</td>\n",
       "      <td>...</td>\n",
       "      <td>...</td>\n",
       "      <td>...</td>\n",
       "      <td>...</td>\n",
       "      <td>...</td>\n",
       "      <td>...</td>\n",
       "      <td>...</td>\n",
       "      <td>...</td>\n",
       "      <td>...</td>\n",
       "      <td>...</td>\n",
       "      <td>...</td>\n",
       "      <td>...</td>\n",
       "      <td>...</td>\n",
       "      <td>...</td>\n",
       "    </tr>\n",
       "    <tr>\n",
       "      <td>CCTCACTTCAAGCCATTGATC</td>\n",
       "      <td>0.000000</td>\n",
       "      <td>0.000000</td>\n",
       "      <td>0.000000</td>\n",
       "      <td>0.000000</td>\n",
       "      <td>0.000000</td>\n",
       "      <td>0.000000</td>\n",
       "      <td>0.000000</td>\n",
       "      <td>0.000000</td>\n",
       "      <td>0.000000</td>\n",
       "      <td>0.000000</td>\n",
       "      <td>0.000000</td>\n",
       "      <td>0.000000</td>\n",
       "      <td>0.000000</td>\n",
       "      <td>0.000000</td>\n",
       "      <td>0.002568</td>\n",
       "    </tr>\n",
       "    <tr>\n",
       "      <td>AAGTTTGCTAATGGCTGCAAA</td>\n",
       "      <td>0.000000</td>\n",
       "      <td>0.000000</td>\n",
       "      <td>0.000000</td>\n",
       "      <td>0.000000</td>\n",
       "      <td>0.000000</td>\n",
       "      <td>0.000000</td>\n",
       "      <td>0.000000</td>\n",
       "      <td>0.000000</td>\n",
       "      <td>0.000000</td>\n",
       "      <td>0.000000</td>\n",
       "      <td>0.000000</td>\n",
       "      <td>0.000000</td>\n",
       "      <td>0.000000</td>\n",
       "      <td>0.000000</td>\n",
       "      <td>0.002568</td>\n",
       "    </tr>\n",
       "    <tr>\n",
       "      <td>CCACACCTCAACCAATCTGCC</td>\n",
       "      <td>0.000000</td>\n",
       "      <td>0.000000</td>\n",
       "      <td>0.000000</td>\n",
       "      <td>0.000000</td>\n",
       "      <td>0.000000</td>\n",
       "      <td>0.000000</td>\n",
       "      <td>0.000000</td>\n",
       "      <td>0.000000</td>\n",
       "      <td>0.000000</td>\n",
       "      <td>0.000000</td>\n",
       "      <td>0.000000</td>\n",
       "      <td>0.000000</td>\n",
       "      <td>0.000000</td>\n",
       "      <td>0.000000</td>\n",
       "      <td>0.005136</td>\n",
       "    </tr>\n",
       "    <tr>\n",
       "      <td>CGACCTCAAACAACCGGTCAG</td>\n",
       "      <td>0.000000</td>\n",
       "      <td>0.000000</td>\n",
       "      <td>0.000000</td>\n",
       "      <td>0.000000</td>\n",
       "      <td>0.000000</td>\n",
       "      <td>0.000000</td>\n",
       "      <td>0.000000</td>\n",
       "      <td>0.000000</td>\n",
       "      <td>0.000000</td>\n",
       "      <td>0.000000</td>\n",
       "      <td>0.000000</td>\n",
       "      <td>0.000000</td>\n",
       "      <td>0.000000</td>\n",
       "      <td>0.000000</td>\n",
       "      <td>0.002568</td>\n",
       "    </tr>\n",
       "    <tr>\n",
       "      <td>ATTACTCGGGTCGTTGAGTGA</td>\n",
       "      <td>0.000000</td>\n",
       "      <td>0.000000</td>\n",
       "      <td>0.000000</td>\n",
       "      <td>0.000000</td>\n",
       "      <td>0.000000</td>\n",
       "      <td>0.000000</td>\n",
       "      <td>0.000000</td>\n",
       "      <td>0.000000</td>\n",
       "      <td>0.000000</td>\n",
       "      <td>0.000000</td>\n",
       "      <td>0.000000</td>\n",
       "      <td>0.000000</td>\n",
       "      <td>0.000000</td>\n",
       "      <td>0.000000</td>\n",
       "      <td>0.005136</td>\n",
       "    </tr>\n",
       "  </tbody>\n",
       "</table>\n",
       "<p>841431 rows × 15 columns</p>\n",
       "</div>"
      ],
      "text/plain": [
       "                             A1        A2        A3        B1        B2  \\\n",
       "CTACTTCAAACAATCGGTCTG  0.270427  0.369641  0.598627  0.378180  0.400688   \n",
       "CCACACTTCAAGCAATCGGTC  0.291469  0.399418  0.667322  0.371948  0.382656   \n",
       "ATTACCCTGGTCATCGAGTGA  0.209456  0.241876  0.407345  0.306432  0.273955   \n",
       "AAGTTTGCTAATAGTCGCAAG  0.131800  0.144669  0.250802  0.173294  0.136528   \n",
       "GTACTTCAAACAATCGGTCTG  0.216827  0.263438  0.433435  0.268581  0.265559   \n",
       "...                         ...       ...       ...       ...       ...   \n",
       "CCTCACTTCAAGCCATTGATC  0.000000  0.000000  0.000000  0.000000  0.000000   \n",
       "AAGTTTGCTAATGGCTGCAAA  0.000000  0.000000  0.000000  0.000000  0.000000   \n",
       "CCACACCTCAACCAATCTGCC  0.000000  0.000000  0.000000  0.000000  0.000000   \n",
       "CGACCTCAAACAACCGGTCAG  0.000000  0.000000  0.000000  0.000000  0.000000   \n",
       "ATTACTCGGGTCGTTGAGTGA  0.000000  0.000000  0.000000  0.000000  0.000000   \n",
       "\n",
       "                             B3        C1        C2        C3        D1  \\\n",
       "CTACTTCAAACAATCGGTCTG  0.378988  0.153022  0.129371  0.154642  0.030471   \n",
       "CCACACTTCAAGCAATCGGTC  0.371522  0.132896  0.110417  0.128007  0.025532   \n",
       "ATTACCCTGGTCATCGAGTGA  0.281231  0.292973  0.159222  0.217357  0.071694   \n",
       "AAGTTTGCTAATAGTCGCAAG  0.134145  0.064863  0.037381  0.051900  0.012268   \n",
       "GTACTTCAAACAATCGGTCTG  0.248443  0.099804  0.080341  0.092561  0.019440   \n",
       "...                         ...       ...       ...       ...       ...   \n",
       "CCTCACTTCAAGCCATTGATC  0.000000  0.000000  0.000000  0.000000  0.000000   \n",
       "AAGTTTGCTAATGGCTGCAAA  0.000000  0.000000  0.000000  0.000000  0.000000   \n",
       "CCACACCTCAACCAATCTGCC  0.000000  0.000000  0.000000  0.000000  0.000000   \n",
       "CGACCTCAAACAACCGGTCAG  0.000000  0.000000  0.000000  0.000000  0.000000   \n",
       "ATTACTCGGGTCGTTGAGTGA  0.000000  0.000000  0.000000  0.000000  0.000000   \n",
       "\n",
       "                             D2        D3        E1        E2        E3  \n",
       "CTACTTCAAACAATCGGTCTG  0.029956  0.029584  0.006454  0.006420  0.005430  \n",
       "CCACACTTCAAGCAATCGGTC  0.025574  0.023251  0.005178  0.005254  0.004230  \n",
       "ATTACCCTGGTCATCGAGTGA  0.059787  0.073648  0.019961  0.019851  0.020001  \n",
       "AAGTTTGCTAATAGTCGCAAG  0.008453  0.009117  0.002671  0.001447  0.001554  \n",
       "GTACTTCAAACAATCGGTCTG  0.017776  0.016141  0.003888  0.003423  0.002846  \n",
       "...                         ...       ...       ...       ...       ...  \n",
       "CCTCACTTCAAGCCATTGATC  0.000000  0.000000  0.000000  0.000000  0.002568  \n",
       "AAGTTTGCTAATGGCTGCAAA  0.000000  0.000000  0.000000  0.000000  0.002568  \n",
       "CCACACCTCAACCAATCTGCC  0.000000  0.000000  0.000000  0.000000  0.005136  \n",
       "CGACCTCAAACAACCGGTCAG  0.000000  0.000000  0.000000  0.000000  0.002568  \n",
       "ATTACTCGGGTCGTTGAGTGA  0.000000  0.000000  0.000000  0.000000  0.005136  \n",
       "\n",
       "[841431 rows x 15 columns]"
      ]
     },
     "execution_count": 53,
     "metadata": {},
     "output_type": "execute_result"
    }
   ],
   "source": [
    "byo_doped.reacted_frac_filtered"
   ]
  },
  {
   "cell_type": "code",
   "execution_count": null,
   "metadata": {},
   "outputs": [],
   "source": []
  },
  {
   "cell_type": "markdown",
   "metadata": {},
   "source": [
    "# `cvxpy` test"
   ]
  },
  {
   "cell_type": "code",
   "execution_count": 2,
   "metadata": {
    "ExecuteTime": {
     "end_time": "2019-10-18T05:52:31.788407Z",
     "start_time": "2019-10-18T05:52:31.723500Z"
    }
   },
   "outputs": [],
   "source": [
    "import cvxpy as cp"
   ]
  },
  {
   "cell_type": "code",
   "execution_count": null,
   "metadata": {},
   "outputs": [],
   "source": []
  },
  {
   "cell_type": "code",
   "execution_count": null,
   "metadata": {},
   "outputs": [],
   "source": []
  }
 ],
 "metadata": {
  "kernelspec": {
   "display_name": "Python [conda env:k-seq]",
   "language": "python",
   "name": "conda-env-k-seq-py"
  },
  "language_info": {
   "codemirror_mode": {
    "name": "ipython",
    "version": 3
   },
   "file_extension": ".py",
   "mimetype": "text/x-python",
   "name": "python",
   "nbconvert_exporter": "python",
   "pygments_lexer": "ipython3",
   "version": "3.7.4"
  },
  "toc": {
   "nav_menu": {},
   "number_sections": true,
   "sideBar": true,
   "skip_h1_title": false,
   "toc_cell": false,
   "toc_position": {},
   "toc_section_display": "block",
   "toc_window_display": false
  }
 },
 "nbformat": 4,
 "nbformat_minor": 2
}
