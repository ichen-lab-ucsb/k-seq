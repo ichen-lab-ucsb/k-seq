{
 "cells": [
  {
   "cell_type": "code",
   "execution_count": 332,
   "metadata": {
    "ExecuteTime": {
     "end_time": "2020-03-04T08:48:27.019059Z",
     "start_time": "2020-03-04T08:48:27.014449Z"
    }
   },
   "outputs": [],
   "source": [
    "from yutility.dev_mode import DevMode, logging\n",
    "dev_mode = DevMode()\n",
    "dev_mode.on('k-seq')\n",
    "\n",
    "from importlib import reload\n",
    "import pandas as pd\n",
    "import numpy as np\n",
    "import matplotlib.pyplot as plt\n",
    "plt.style.use('seaborn')\n",
    "import matplotlib as mpl\n",
    "mpl.rcParams['figure.dpi'] = 240"
   ]
  },
  {
   "cell_type": "code",
   "execution_count": 333,
   "metadata": {
    "ExecuteTime": {
     "end_time": "2020-03-04T08:48:27.897234Z",
     "start_time": "2020-03-04T08:48:27.825595Z"
    }
   },
   "outputs": [
    {
     "data": {
      "text/plain": [
       "<module 'k_seq.data.grouper' from '/Users/yuning/research/k-seq/src/k_seq/data/grouper.py'>"
      ]
     },
     "execution_count": 333,
     "metadata": {},
     "output_type": "execute_result"
    }
   ],
   "source": [
    "from k_seq.data import seq_data, datasets, transform, filters, grouper\n",
    "reload(seq_data)\n",
    "reload(datasets)\n",
    "reload(transform)\n",
    "reload(filters)\n",
    "reload(grouper)"
   ]
  },
  {
   "cell_type": "code",
   "execution_count": 334,
   "metadata": {
    "ExecuteTime": {
     "end_time": "2020-03-04T08:48:28.479290Z",
     "start_time": "2020-03-04T08:48:28.473439Z"
    }
   },
   "outputs": [],
   "source": [
    "mtx = np.array([[4, 2],\n",
    "                [0, 3],\n",
    "                [5, 0]])\n",
    "full_table = pd.DataFrame({'A': pd.arrays.SparseArray(mtx[:, 0]),\n",
    "                           'B': pd.arrays.SparseArray(mtx[:, 1])})\n",
    "\n",
    "total_amounts = {'A': 0.5, 'B': 0.3}\n",
    "transformed = transform.TotalAmountNormalizer(\n",
    "    full_table=full_table,\n",
    "    total_amounts=total_amounts)\n"
   ]
  },
  {
   "cell_type": "code",
   "execution_count": 335,
   "metadata": {
    "ExecuteTime": {
     "end_time": "2020-03-04T08:48:29.141564Z",
     "start_time": "2020-03-04T08:48:29.130814Z"
    }
   },
   "outputs": [
    {
     "data": {
      "text/html": [
       "<div>\n",
       "<style scoped>\n",
       "    .dataframe tbody tr th:only-of-type {\n",
       "        vertical-align: middle;\n",
       "    }\n",
       "\n",
       "    .dataframe tbody tr th {\n",
       "        vertical-align: top;\n",
       "    }\n",
       "\n",
       "    .dataframe thead th {\n",
       "        text-align: right;\n",
       "    }\n",
       "</style>\n",
       "<table border=\"1\" class=\"dataframe\">\n",
       "  <thead>\n",
       "    <tr style=\"text-align: right;\">\n",
       "      <th></th>\n",
       "      <th>A</th>\n",
       "      <th>B</th>\n",
       "    </tr>\n",
       "  </thead>\n",
       "  <tbody>\n",
       "    <tr>\n",
       "      <th>0</th>\n",
       "      <td>0.222222</td>\n",
       "      <td>0.12</td>\n",
       "    </tr>\n",
       "    <tr>\n",
       "      <th>1</th>\n",
       "      <td>0.000000</td>\n",
       "      <td>0.18</td>\n",
       "    </tr>\n",
       "    <tr>\n",
       "      <th>2</th>\n",
       "      <td>0.277778</td>\n",
       "      <td>0.00</td>\n",
       "    </tr>\n",
       "  </tbody>\n",
       "</table>\n",
       "</div>"
      ],
      "text/plain": [
       "          A     B\n",
       "0  0.222222  0.12\n",
       "1  0.000000  0.18\n",
       "2  0.277778  0.00"
      ]
     },
     "execution_count": 335,
     "metadata": {},
     "output_type": "execute_result"
    }
   ],
   "source": [
    "transformed.apply(full_table)"
   ]
  },
  {
   "cell_type": "code",
   "execution_count": 320,
   "metadata": {
    "ExecuteTime": {
     "end_time": "2020-03-04T08:45:39.033639Z",
     "start_time": "2020-03-04T08:45:38.858893Z"
    },
    "scrolled": false
   },
   "outputs": [
    {
     "name": "stdout",
     "output_type": "stream",
     "text": [
      "Generate SeqData instance for BYO-doped pool...\n",
      "Importing from /Users/yuning/research/k-seq-data/input/byo-doped/count-top50/...this could take a couple of minutes...\n",
      "SeqData created\n",
      "Calculating distance of seqs to center using edit distance...\n",
      "  Finished\n",
      "Calculating distance of seqs to center using hamming distance...\n",
      "  Finished\n",
      "Calculating distance of seqs to center using hamming distance...\n",
      "  Finished\n",
      "Calculating distance of seqs to center using hamming distance...\n",
      "  Finished\n",
      "Calculating distance of seqs to center using hamming distance...\n",
      "  Finished\n",
      "Finished!\n"
     ]
    }
   ],
   "source": [
    "byo_doped = datasets.load_dataset(\n",
    "    'byo-doped', from_count_file=True,\n",
    "    count_file_path='/Users/yuning/research/k-seq-data/input/byo-doped/count-top50/',\n",
    "    doped_norm_path='/Users/yuning/research/k-seq-data/input/byo-doped/doped-norms.txt',\n",
    "    pandaseq_joined=True\n",
    ")"
   ]
  },
  {
   "cell_type": "code",
   "execution_count": 324,
   "metadata": {
    "ExecuteTime": {
     "end_time": "2020-03-04T08:46:07.058186Z",
     "start_time": "2020-03-04T08:46:07.035194Z"
    }
   },
   "outputs": [
    {
     "data": {
      "text/html": [
       "<div>\n",
       "<style scoped>\n",
       "    .dataframe tbody tr th:only-of-type {\n",
       "        vertical-align: middle;\n",
       "    }\n",
       "\n",
       "    .dataframe tbody tr th {\n",
       "        vertical-align: top;\n",
       "    }\n",
       "\n",
       "    .dataframe thead th {\n",
       "        text-align: right;\n",
       "    }\n",
       "</style>\n",
       "<table border=\"1\" class=\"dataframe\">\n",
       "  <thead>\n",
       "    <tr style=\"text-align: right;\">\n",
       "      <th></th>\n",
       "      <th>A1</th>\n",
       "      <th>A2</th>\n",
       "      <th>A3</th>\n",
       "      <th>B1</th>\n",
       "      <th>B2</th>\n",
       "      <th>B3</th>\n",
       "      <th>C1</th>\n",
       "      <th>C2</th>\n",
       "      <th>C3</th>\n",
       "      <th>D1</th>\n",
       "      <th>D2</th>\n",
       "      <th>D3</th>\n",
       "      <th>E1</th>\n",
       "      <th>E2</th>\n",
       "      <th>E3</th>\n",
       "    </tr>\n",
       "  </thead>\n",
       "  <tbody>\n",
       "    <tr>\n",
       "      <th>CTACTTCAAACAATCGGTCTG</th>\n",
       "      <td>0.087631</td>\n",
       "      <td>0.096147</td>\n",
       "      <td>0.133298</td>\n",
       "      <td>0.086845</td>\n",
       "      <td>0.091067</td>\n",
       "      <td>0.078193</td>\n",
       "      <td>0.031070</td>\n",
       "      <td>0.025917</td>\n",
       "      <td>0.033057</td>\n",
       "      <td>0.006266</td>\n",
       "      <td>0.004836</td>\n",
       "      <td>0.005803</td>\n",
       "      <td>0.001109</td>\n",
       "      <td>0.000797</td>\n",
       "      <td>0.001087</td>\n",
       "    </tr>\n",
       "    <tr>\n",
       "      <th>CCACACTTCAAGCAATCGGTC</th>\n",
       "      <td>0.094431</td>\n",
       "      <td>0.103888</td>\n",
       "      <td>0.148549</td>\n",
       "      <td>0.085426</td>\n",
       "      <td>0.086933</td>\n",
       "      <td>0.076604</td>\n",
       "      <td>0.026971</td>\n",
       "      <td>0.022108</td>\n",
       "      <td>0.027334</td>\n",
       "      <td>0.005246</td>\n",
       "      <td>0.004127</td>\n",
       "      <td>0.004555</td>\n",
       "      <td>0.000890</td>\n",
       "      <td>0.000652</td>\n",
       "      <td>0.000846</td>\n",
       "    </tr>\n",
       "    <tr>\n",
       "      <th>ATTACCCTGGTCATCGAGTGA</th>\n",
       "      <td>0.068012</td>\n",
       "      <td>0.063068</td>\n",
       "      <td>0.090898</td>\n",
       "      <td>0.070571</td>\n",
       "      <td>0.062410</td>\n",
       "      <td>0.058143</td>\n",
       "      <td>0.059637</td>\n",
       "      <td>0.031974</td>\n",
       "      <td>0.046565</td>\n",
       "      <td>0.014773</td>\n",
       "      <td>0.009678</td>\n",
       "      <td>0.014476</td>\n",
       "      <td>0.003439</td>\n",
       "      <td>0.002469</td>\n",
       "      <td>0.004012</td>\n",
       "    </tr>\n",
       "    <tr>\n",
       "      <th>AAGTTTGCTAATAGTCGCAAG</th>\n",
       "      <td>0.042744</td>\n",
       "      <td>0.037646</td>\n",
       "      <td>0.055906</td>\n",
       "      <td>0.039841</td>\n",
       "      <td>0.031055</td>\n",
       "      <td>0.027677</td>\n",
       "      <td>0.013174</td>\n",
       "      <td>0.007489</td>\n",
       "      <td>0.011092</td>\n",
       "      <td>0.002522</td>\n",
       "      <td>0.001365</td>\n",
       "      <td>0.001788</td>\n",
       "      <td>0.000459</td>\n",
       "      <td>0.000180</td>\n",
       "      <td>0.000311</td>\n",
       "    </tr>\n",
       "    <tr>\n",
       "      <th>GTACTTCAAACAATCGGTCTG</th>\n",
       "      <td>0.070395</td>\n",
       "      <td>0.068681</td>\n",
       "      <td>0.096645</td>\n",
       "      <td>0.061824</td>\n",
       "      <td>0.060457</td>\n",
       "      <td>0.051387</td>\n",
       "      <td>0.020296</td>\n",
       "      <td>0.016111</td>\n",
       "      <td>0.019798</td>\n",
       "      <td>0.004000</td>\n",
       "      <td>0.002874</td>\n",
       "      <td>0.003163</td>\n",
       "      <td>0.000668</td>\n",
       "      <td>0.000425</td>\n",
       "      <td>0.000569</td>\n",
       "    </tr>\n",
       "    <tr>\n",
       "      <th>TCACACTTCAAGCAATCGGTC</th>\n",
       "      <td>0.084095</td>\n",
       "      <td>0.097742</td>\n",
       "      <td>0.134200</td>\n",
       "      <td>0.076838</td>\n",
       "      <td>0.077783</td>\n",
       "      <td>0.066402</td>\n",
       "      <td>0.022571</td>\n",
       "      <td>0.018539</td>\n",
       "      <td>0.023152</td>\n",
       "      <td>0.004339</td>\n",
       "      <td>0.003389</td>\n",
       "      <td>0.003771</td>\n",
       "      <td>0.000741</td>\n",
       "      <td>0.000534</td>\n",
       "      <td>0.000700</td>\n",
       "    </tr>\n",
       "    <tr>\n",
       "      <th>CTACTTCAATCAATCGGTCTG</th>\n",
       "      <td>0.068207</td>\n",
       "      <td>0.081428</td>\n",
       "      <td>0.116333</td>\n",
       "      <td>0.054166</td>\n",
       "      <td>0.055893</td>\n",
       "      <td>0.046189</td>\n",
       "      <td>0.015985</td>\n",
       "      <td>0.012531</td>\n",
       "      <td>0.015627</td>\n",
       "      <td>0.003436</td>\n",
       "      <td>0.002730</td>\n",
       "      <td>0.002981</td>\n",
       "      <td>0.000556</td>\n",
       "      <td>0.000363</td>\n",
       "      <td>0.000488</td>\n",
       "    </tr>\n",
       "    <tr>\n",
       "      <th>CCACTCTTCAAGCAATCGGTC</th>\n",
       "      <td>0.087439</td>\n",
       "      <td>0.095817</td>\n",
       "      <td>0.132198</td>\n",
       "      <td>0.058847</td>\n",
       "      <td>0.058116</td>\n",
       "      <td>0.050303</td>\n",
       "      <td>0.015507</td>\n",
       "      <td>0.012571</td>\n",
       "      <td>0.015503</td>\n",
       "      <td>0.003080</td>\n",
       "      <td>0.002424</td>\n",
       "      <td>0.002628</td>\n",
       "      <td>0.000524</td>\n",
       "      <td>0.000358</td>\n",
       "      <td>0.000463</td>\n",
       "    </tr>\n",
       "    <tr>\n",
       "      <th>CTTCTTCAAACAATCGGTCTG</th>\n",
       "      <td>0.073969</td>\n",
       "      <td>0.084155</td>\n",
       "      <td>0.115068</td>\n",
       "      <td>0.062011</td>\n",
       "      <td>0.064372</td>\n",
       "      <td>0.053371</td>\n",
       "      <td>0.019404</td>\n",
       "      <td>0.015344</td>\n",
       "      <td>0.019439</td>\n",
       "      <td>0.003985</td>\n",
       "      <td>0.003121</td>\n",
       "      <td>0.003577</td>\n",
       "      <td>0.000675</td>\n",
       "      <td>0.000447</td>\n",
       "      <td>0.000622</td>\n",
       "    </tr>\n",
       "    <tr>\n",
       "      <th>CCTCACTTCAAGCAATCGGTC</th>\n",
       "      <td>0.073703</td>\n",
       "      <td>0.083201</td>\n",
       "      <td>0.120454</td>\n",
       "      <td>0.068366</td>\n",
       "      <td>0.070119</td>\n",
       "      <td>0.060784</td>\n",
       "      <td>0.023118</td>\n",
       "      <td>0.019219</td>\n",
       "      <td>0.023679</td>\n",
       "      <td>0.004422</td>\n",
       "      <td>0.003390</td>\n",
       "      <td>0.003845</td>\n",
       "      <td>0.000810</td>\n",
       "      <td>0.000564</td>\n",
       "      <td>0.000731</td>\n",
       "    </tr>\n",
       "    <tr>\n",
       "      <th>GCACACTTCAAGCAATCGGTC</th>\n",
       "      <td>0.053556</td>\n",
       "      <td>0.061794</td>\n",
       "      <td>0.094723</td>\n",
       "      <td>0.049060</td>\n",
       "      <td>0.047220</td>\n",
       "      <td>0.042051</td>\n",
       "      <td>0.014695</td>\n",
       "      <td>0.011042</td>\n",
       "      <td>0.013515</td>\n",
       "      <td>0.002959</td>\n",
       "      <td>0.002248</td>\n",
       "      <td>0.002253</td>\n",
       "      <td>0.000485</td>\n",
       "      <td>0.000301</td>\n",
       "      <td>0.000399</td>\n",
       "    </tr>\n",
       "    <tr>\n",
       "      <th>TTACTTCAAACAATCGGTCTG</th>\n",
       "      <td>0.069695</td>\n",
       "      <td>0.074884</td>\n",
       "      <td>0.099862</td>\n",
       "      <td>0.069910</td>\n",
       "      <td>0.072878</td>\n",
       "      <td>0.059310</td>\n",
       "      <td>0.023298</td>\n",
       "      <td>0.019569</td>\n",
       "      <td>0.025224</td>\n",
       "      <td>0.004682</td>\n",
       "      <td>0.003512</td>\n",
       "      <td>0.004251</td>\n",
       "      <td>0.000817</td>\n",
       "      <td>0.000565</td>\n",
       "      <td>0.000794</td>\n",
       "    </tr>\n",
       "    <tr>\n",
       "      <th>ATACTTCAAACAATCGGTCTG</th>\n",
       "      <td>0.054239</td>\n",
       "      <td>0.054271</td>\n",
       "      <td>0.074525</td>\n",
       "      <td>0.034910</td>\n",
       "      <td>0.035447</td>\n",
       "      <td>0.029302</td>\n",
       "      <td>0.013102</td>\n",
       "      <td>0.009428</td>\n",
       "      <td>0.011556</td>\n",
       "      <td>0.002891</td>\n",
       "      <td>0.002242</td>\n",
       "      <td>0.002394</td>\n",
       "      <td>0.000480</td>\n",
       "      <td>0.000276</td>\n",
       "      <td>0.000397</td>\n",
       "    </tr>\n",
       "    <tr>\n",
       "      <th>ACACACTTCAAGCAATCGGTC</th>\n",
       "      <td>0.060820</td>\n",
       "      <td>0.068863</td>\n",
       "      <td>0.101172</td>\n",
       "      <td>0.048140</td>\n",
       "      <td>0.046801</td>\n",
       "      <td>0.040601</td>\n",
       "      <td>0.013448</td>\n",
       "      <td>0.010283</td>\n",
       "      <td>0.012531</td>\n",
       "      <td>0.002702</td>\n",
       "      <td>0.002088</td>\n",
       "      <td>0.002116</td>\n",
       "      <td>0.000444</td>\n",
       "      <td>0.000277</td>\n",
       "      <td>0.000365</td>\n",
       "    </tr>\n",
       "    <tr>\n",
       "      <th>CCACACTTCAATCAATCGGTC</th>\n",
       "      <td>0.062613</td>\n",
       "      <td>0.073879</td>\n",
       "      <td>0.112644</td>\n",
       "      <td>0.058755</td>\n",
       "      <td>0.060450</td>\n",
       "      <td>0.049645</td>\n",
       "      <td>0.017524</td>\n",
       "      <td>0.014101</td>\n",
       "      <td>0.017267</td>\n",
       "      <td>0.003555</td>\n",
       "      <td>0.002890</td>\n",
       "      <td>0.002980</td>\n",
       "      <td>0.000582</td>\n",
       "      <td>0.000388</td>\n",
       "      <td>0.000513</td>\n",
       "    </tr>\n",
       "    <tr>\n",
       "      <th>CCGCACTTCAAGCAATCGGTC</th>\n",
       "      <td>0.056231</td>\n",
       "      <td>0.067852</td>\n",
       "      <td>0.107647</td>\n",
       "      <td>0.067016</td>\n",
       "      <td>0.069773</td>\n",
       "      <td>0.060808</td>\n",
       "      <td>0.026343</td>\n",
       "      <td>0.021102</td>\n",
       "      <td>0.025834</td>\n",
       "      <td>0.005095</td>\n",
       "      <td>0.004005</td>\n",
       "      <td>0.004304</td>\n",
       "      <td>0.000886</td>\n",
       "      <td>0.000629</td>\n",
       "      <td>0.000797</td>\n",
       "    </tr>\n",
       "    <tr>\n",
       "      <th>ATTTCCCTGGTCATCGAGTGA</th>\n",
       "      <td>0.051685</td>\n",
       "      <td>0.046304</td>\n",
       "      <td>0.064705</td>\n",
       "      <td>0.036397</td>\n",
       "      <td>0.030737</td>\n",
       "      <td>0.027591</td>\n",
       "      <td>0.011760</td>\n",
       "      <td>0.007483</td>\n",
       "      <td>0.010905</td>\n",
       "      <td>0.002358</td>\n",
       "      <td>0.001566</td>\n",
       "      <td>0.002248</td>\n",
       "      <td>0.000554</td>\n",
       "      <td>0.000314</td>\n",
       "      <td>0.000516</td>\n",
       "    </tr>\n",
       "  </tbody>\n",
       "</table>\n",
       "</div>"
      ],
      "text/plain": [
       "                             A1        A2        A3        B1        B2  \\\n",
       "CTACTTCAAACAATCGGTCTG  0.087631  0.096147  0.133298  0.086845  0.091067   \n",
       "CCACACTTCAAGCAATCGGTC  0.094431  0.103888  0.148549  0.085426  0.086933   \n",
       "ATTACCCTGGTCATCGAGTGA  0.068012  0.063068  0.090898  0.070571  0.062410   \n",
       "AAGTTTGCTAATAGTCGCAAG  0.042744  0.037646  0.055906  0.039841  0.031055   \n",
       "GTACTTCAAACAATCGGTCTG  0.070395  0.068681  0.096645  0.061824  0.060457   \n",
       "TCACACTTCAAGCAATCGGTC  0.084095  0.097742  0.134200  0.076838  0.077783   \n",
       "CTACTTCAATCAATCGGTCTG  0.068207  0.081428  0.116333  0.054166  0.055893   \n",
       "CCACTCTTCAAGCAATCGGTC  0.087439  0.095817  0.132198  0.058847  0.058116   \n",
       "CTTCTTCAAACAATCGGTCTG  0.073969  0.084155  0.115068  0.062011  0.064372   \n",
       "CCTCACTTCAAGCAATCGGTC  0.073703  0.083201  0.120454  0.068366  0.070119   \n",
       "GCACACTTCAAGCAATCGGTC  0.053556  0.061794  0.094723  0.049060  0.047220   \n",
       "TTACTTCAAACAATCGGTCTG  0.069695  0.074884  0.099862  0.069910  0.072878   \n",
       "ATACTTCAAACAATCGGTCTG  0.054239  0.054271  0.074525  0.034910  0.035447   \n",
       "ACACACTTCAAGCAATCGGTC  0.060820  0.068863  0.101172  0.048140  0.046801   \n",
       "CCACACTTCAATCAATCGGTC  0.062613  0.073879  0.112644  0.058755  0.060450   \n",
       "CCGCACTTCAAGCAATCGGTC  0.056231  0.067852  0.107647  0.067016  0.069773   \n",
       "ATTTCCCTGGTCATCGAGTGA  0.051685  0.046304  0.064705  0.036397  0.030737   \n",
       "\n",
       "                             B3        C1        C2        C3        D1  \\\n",
       "CTACTTCAAACAATCGGTCTG  0.078193  0.031070  0.025917  0.033057  0.006266   \n",
       "CCACACTTCAAGCAATCGGTC  0.076604  0.026971  0.022108  0.027334  0.005246   \n",
       "ATTACCCTGGTCATCGAGTGA  0.058143  0.059637  0.031974  0.046565  0.014773   \n",
       "AAGTTTGCTAATAGTCGCAAG  0.027677  0.013174  0.007489  0.011092  0.002522   \n",
       "GTACTTCAAACAATCGGTCTG  0.051387  0.020296  0.016111  0.019798  0.004000   \n",
       "TCACACTTCAAGCAATCGGTC  0.066402  0.022571  0.018539  0.023152  0.004339   \n",
       "CTACTTCAATCAATCGGTCTG  0.046189  0.015985  0.012531  0.015627  0.003436   \n",
       "CCACTCTTCAAGCAATCGGTC  0.050303  0.015507  0.012571  0.015503  0.003080   \n",
       "CTTCTTCAAACAATCGGTCTG  0.053371  0.019404  0.015344  0.019439  0.003985   \n",
       "CCTCACTTCAAGCAATCGGTC  0.060784  0.023118  0.019219  0.023679  0.004422   \n",
       "GCACACTTCAAGCAATCGGTC  0.042051  0.014695  0.011042  0.013515  0.002959   \n",
       "TTACTTCAAACAATCGGTCTG  0.059310  0.023298  0.019569  0.025224  0.004682   \n",
       "ATACTTCAAACAATCGGTCTG  0.029302  0.013102  0.009428  0.011556  0.002891   \n",
       "ACACACTTCAAGCAATCGGTC  0.040601  0.013448  0.010283  0.012531  0.002702   \n",
       "CCACACTTCAATCAATCGGTC  0.049645  0.017524  0.014101  0.017267  0.003555   \n",
       "CCGCACTTCAAGCAATCGGTC  0.060808  0.026343  0.021102  0.025834  0.005095   \n",
       "ATTTCCCTGGTCATCGAGTGA  0.027591  0.011760  0.007483  0.010905  0.002358   \n",
       "\n",
       "                             D2        D3        E1        E2        E3  \n",
       "CTACTTCAAACAATCGGTCTG  0.004836  0.005803  0.001109  0.000797  0.001087  \n",
       "CCACACTTCAAGCAATCGGTC  0.004127  0.004555  0.000890  0.000652  0.000846  \n",
       "ATTACCCTGGTCATCGAGTGA  0.009678  0.014476  0.003439  0.002469  0.004012  \n",
       "AAGTTTGCTAATAGTCGCAAG  0.001365  0.001788  0.000459  0.000180  0.000311  \n",
       "GTACTTCAAACAATCGGTCTG  0.002874  0.003163  0.000668  0.000425  0.000569  \n",
       "TCACACTTCAAGCAATCGGTC  0.003389  0.003771  0.000741  0.000534  0.000700  \n",
       "CTACTTCAATCAATCGGTCTG  0.002730  0.002981  0.000556  0.000363  0.000488  \n",
       "CCACTCTTCAAGCAATCGGTC  0.002424  0.002628  0.000524  0.000358  0.000463  \n",
       "CTTCTTCAAACAATCGGTCTG  0.003121  0.003577  0.000675  0.000447  0.000622  \n",
       "CCTCACTTCAAGCAATCGGTC  0.003390  0.003845  0.000810  0.000564  0.000731  \n",
       "GCACACTTCAAGCAATCGGTC  0.002248  0.002253  0.000485  0.000301  0.000399  \n",
       "TTACTTCAAACAATCGGTCTG  0.003512  0.004251  0.000817  0.000565  0.000794  \n",
       "ATACTTCAAACAATCGGTCTG  0.002242  0.002394  0.000480  0.000276  0.000397  \n",
       "ACACACTTCAAGCAATCGGTC  0.002088  0.002116  0.000444  0.000277  0.000365  \n",
       "CCACACTTCAATCAATCGGTC  0.002890  0.002980  0.000582  0.000388  0.000513  \n",
       "CCGCACTTCAAGCAATCGGTC  0.004005  0.004304  0.000886  0.000629  0.000797  \n",
       "ATTTCCCTGGTCATCGAGTGA  0.001566  0.002248  0.000554  0.000314  0.000516  "
      ]
     },
     "execution_count": 324,
     "metadata": {},
     "output_type": "execute_result"
    }
   ],
   "source": [
    "byo_doped.table.reacted_frac_qpcr_seq_in_all_smpl"
   ]
  },
  {
   "cell_type": "code",
   "execution_count": 281,
   "metadata": {
    "ExecuteTime": {
     "end_time": "2020-03-04T08:01:06.644161Z",
     "start_time": "2020-03-04T08:01:06.640439Z"
    }
   },
   "outputs": [
    {
     "data": {
      "text/plain": [
       "<k_seq.data.transform.TotalAmountNormalizer at 0x11ff24c18>"
      ]
     },
     "execution_count": 281,
     "metadata": {},
     "output_type": "execute_result"
    }
   ],
   "source": [
    "byo_doped.sample_total"
   ]
  },
  {
   "cell_type": "code",
   "execution_count": 218,
   "metadata": {
    "ExecuteTime": {
     "end_time": "2020-03-04T02:55:40.605476Z",
     "start_time": "2020-03-04T02:55:40.599429Z"
    }
   },
   "outputs": [
    {
     "data": {
      "text/plain": [
       "A1     91.692945\n",
       "A2    118.228543\n",
       "A3    194.990690\n",
       "B1    120.084280\n",
       "B2    117.611908\n",
       "B3    114.187537\n",
       "C1     59.213451\n",
       "C2     41.644657\n",
       "C3     51.871682\n",
       "D1     12.570993\n",
       "D2     11.267063\n",
       "D3     12.035507\n",
       "E1      3.008320\n",
       "E2      2.856437\n",
       "E3      2.672022\n",
       "R0    439.432052\n",
       "dtype: float64"
      ]
     },
     "execution_count": 218,
     "metadata": {},
     "output_type": "execute_result"
    }
   ],
   "source": [
    "byo_doped.spike_in.norm_factor * byo_doped.spike_in.base_table.sum(axis=0)"
   ]
  },
  {
   "cell_type": "code",
   "execution_count": 43,
   "metadata": {
    "ExecuteTime": {
     "end_time": "2020-02-28T01:13:50.699633Z",
     "start_time": "2020-02-28T01:13:50.693794Z"
    }
   },
   "outputs": [],
   "source": [
    "class Table(pd.DataFrame):\n",
    "    \"\"\"Subclass pd.DataFrame with \"\"\"\n",
    "\n",
    "    def __repr__(self):\n",
    "        # TODO: add repr\n",
    "        return \"Some new inf\\n\" + super().__repr__()\n",
    "\n",
    "    def __init__(self, data, **kwargs):\n",
    "        if isinstance(data, pd.DataFrame):\n",
    "            super().__init__(data.values, index=data.index, columns=data.columns)\n",
    "        else:\n",
    "            super().__init__(data, **kwargs)\n",
    "        logging.info('Table created')"
   ]
  },
  {
   "cell_type": "code",
   "execution_count": 114,
   "metadata": {
    "ExecuteTime": {
     "end_time": "2020-02-29T04:49:36.784342Z",
     "start_time": "2020-02-29T04:49:36.735083Z"
    }
   },
   "outputs": [
    {
     "data": {
      "text/plain": [
       "<module 'k_seq.data.filters' from '/Users/yuning/research/k-seq/src/k_seq/data/filters.py'>"
      ]
     },
     "execution_count": 114,
     "metadata": {},
     "output_type": "execute_result"
    }
   ],
   "source": [
    "from k_seq.data import filters\n",
    "reload(filters)"
   ]
  },
  {
   "cell_type": "code",
   "execution_count": 109,
   "metadata": {
    "ExecuteTime": {
     "end_time": "2020-02-29T03:19:43.439249Z",
     "start_time": "2020-02-29T03:19:43.436255Z"
    }
   },
   "outputs": [],
   "source": [
    "def filter_fn(df):\n",
    "    return df.sum(axis=1) > 10\n",
    "\n",
    "one_filter = filters.CustomizedFilter(filter_fn)\n",
    "one_filter(pd.DataFrame([[0, 1, 2, 3], [9, 1, 2, 23]]))"
   ]
  },
  {
   "cell_type": "code",
   "execution_count": 111,
   "metadata": {
    "ExecuteTime": {
     "end_time": "2020-02-29T03:19:45.671209Z",
     "start_time": "2020-02-29T03:19:45.664664Z"
    }
   },
   "outputs": [
    {
     "data": {
      "text/html": [
       "<div>\n",
       "<style scoped>\n",
       "    .dataframe tbody tr th:only-of-type {\n",
       "        vertical-align: middle;\n",
       "    }\n",
       "\n",
       "    .dataframe tbody tr th {\n",
       "        vertical-align: top;\n",
       "    }\n",
       "\n",
       "    .dataframe thead th {\n",
       "        text-align: right;\n",
       "    }\n",
       "</style>\n",
       "<table border=\"1\" class=\"dataframe\">\n",
       "  <thead>\n",
       "    <tr style=\"text-align: right;\">\n",
       "      <th></th>\n",
       "      <th>0</th>\n",
       "      <th>1</th>\n",
       "      <th>2</th>\n",
       "      <th>3</th>\n",
       "    </tr>\n",
       "  </thead>\n",
       "  <tbody>\n",
       "    <tr>\n",
       "      <th>0</th>\n",
       "      <td>0</td>\n",
       "      <td>1</td>\n",
       "      <td>2</td>\n",
       "      <td>3</td>\n",
       "    </tr>\n",
       "    <tr>\n",
       "      <th>1</th>\n",
       "      <td>9</td>\n",
       "      <td>1</td>\n",
       "      <td>2</td>\n",
       "      <td>23</td>\n",
       "    </tr>\n",
       "  </tbody>\n",
       "</table>\n",
       "</div>"
      ],
      "text/plain": [
       "   0  1  2   3\n",
       "0  0  1  2   3\n",
       "1  9  1  2  23"
      ]
     },
     "execution_count": 111,
     "metadata": {},
     "output_type": "execute_result"
    }
   ],
   "source": [
    "pd.DataFrame([[0, 1, 2, 3], [9, 1, 2, 23]])"
   ]
  },
  {
   "cell_type": "code",
   "execution_count": 113,
   "metadata": {
    "ExecuteTime": {
     "end_time": "2020-02-29T03:19:53.897649Z",
     "start_time": "2020-02-29T03:19:53.888566Z"
    }
   },
   "outputs": [
    {
     "data": {
      "text/html": [
       "<div>\n",
       "<style scoped>\n",
       "    .dataframe tbody tr th:only-of-type {\n",
       "        vertical-align: middle;\n",
       "    }\n",
       "\n",
       "    .dataframe tbody tr th {\n",
       "        vertical-align: top;\n",
       "    }\n",
       "\n",
       "    .dataframe thead th {\n",
       "        text-align: right;\n",
       "    }\n",
       "</style>\n",
       "<table border=\"1\" class=\"dataframe\">\n",
       "  <thead>\n",
       "    <tr style=\"text-align: right;\">\n",
       "      <th></th>\n",
       "      <th>0</th>\n",
       "      <th>1</th>\n",
       "      <th>2</th>\n",
       "      <th>3</th>\n",
       "    </tr>\n",
       "  </thead>\n",
       "  <tbody>\n",
       "    <tr>\n",
       "      <th>1</th>\n",
       "      <td>9</td>\n",
       "      <td>1</td>\n",
       "      <td>2</td>\n",
       "      <td>23</td>\n",
       "    </tr>\n",
       "  </tbody>\n",
       "</table>\n",
       "</div>"
      ],
      "text/plain": [
       "   0  1  2   3\n",
       "1  9  1  2  23"
      ]
     },
     "execution_count": 113,
     "metadata": {},
     "output_type": "execute_result"
    }
   ],
   "source": []
  },
  {
   "cell_type": "code",
   "execution_count": 64,
   "metadata": {
    "ExecuteTime": {
     "end_time": "2020-02-03T23:44:15.133973Z",
     "start_time": "2020-02-03T23:44:15.088334Z"
    }
   },
   "outputs": [],
   "source": [
    "from k_seq.estimator import least_square\n",
    "reload(least_square)\n",
    "fit_res = _read_seq_json(path=result_root + '/seqs/-8471193594612481418.json')"
   ]
  },
  {
   "cell_type": "code",
   "execution_count": 74,
   "metadata": {
    "ExecuteTime": {
     "end_time": "2020-02-03T23:48:13.148266Z",
     "start_time": "2020-02-03T23:48:13.143228Z"
    }
   },
   "outputs": [
    {
     "data": {
      "text/plain": [
       "('TGGTTTCAAACAATCGGTCTG',\n",
       " PosixPath('/mnt/storage/projects/k-seq/working/byo_doped/least_square/pandaSeq/bootstrap_201912-202002/table-seq-in-all_bs-num-1000_bs-mtd-data_no-zero-false_inv-weight-false_core-40/results/seqs/-4217963938457622377.json'))"
      ]
     },
     "execution_count": 74,
     "metadata": {},
     "output_type": "execute_result"
    }
   ],
   "source": [
    "next(file_list)"
   ]
  },
  {
   "cell_type": "code",
   "execution_count": 3,
   "metadata": {
    "ExecuteTime": {
     "end_time": "2020-01-31T05:30:27.370420Z",
     "start_time": "2020-01-31T05:30:27.188068Z"
    }
   },
   "outputs": [
    {
     "ename": "ModuleNotFoundError",
     "evalue": "No module named 'k_seq'",
     "output_type": "error",
     "traceback": [
      "\u001b[0;31m---------------------------------------------------------------------------\u001b[0m",
      "\u001b[0;31mModuleNotFoundError\u001b[0m                       Traceback (most recent call last)",
      "\u001b[0;32m<ipython-input-3-fbfe9ab64a39>\u001b[0m in \u001b[0;36m<module>\u001b[0;34m\u001b[0m\n\u001b[0;32m----> 1\u001b[0;31m \u001b[0;32mfrom\u001b[0m \u001b[0mk_seq\u001b[0m\u001b[0;34m.\u001b[0m\u001b[0mestimator\u001b[0m \u001b[0;32mimport\u001b[0m \u001b[0mleast_square\u001b[0m\u001b[0;34m\u001b[0m\u001b[0;34m\u001b[0m\u001b[0m\n\u001b[0m\u001b[1;32m      2\u001b[0m \u001b[0;32mfrom\u001b[0m \u001b[0mk_seq\u001b[0m\u001b[0;34m.\u001b[0m\u001b[0mdata\u001b[0m \u001b[0;32mimport\u001b[0m \u001b[0mseq_table\u001b[0m\u001b[0;34m\u001b[0m\u001b[0;34m\u001b[0m\u001b[0m\n\u001b[1;32m      3\u001b[0m \u001b[0mreload\u001b[0m\u001b[0;34m(\u001b[0m\u001b[0mseq_table\u001b[0m\u001b[0;34m)\u001b[0m\u001b[0;34m\u001b[0m\u001b[0;34m\u001b[0m\u001b[0m\n\u001b[1;32m      4\u001b[0m \u001b[0mreload\u001b[0m\u001b[0;34m(\u001b[0m\u001b[0mleast_square\u001b[0m\u001b[0;34m)\u001b[0m\u001b[0;34m\u001b[0m\u001b[0;34m\u001b[0m\u001b[0m\n",
      "\u001b[0;31mModuleNotFoundError\u001b[0m: No module named 'k_seq'"
     ]
    }
   ],
   "source": [
    "from k_seq.estimator import least_square\n",
    "from k_seq.data import seq_table\n",
    "reload(seq_table)\n",
    "reload(least_square)"
   ]
  },
  {
   "cell_type": "code",
   "execution_count": null,
   "metadata": {},
   "outputs": [],
   "source": [
    "from "
   ]
  },
  {
   "cell_type": "code",
   "execution_count": 220,
   "metadata": {
    "ExecuteTime": {
     "end_time": "2020-01-31T03:35:00.853321Z",
     "start_time": "2020-01-31T03:34:24.606604Z"
    }
   },
   "outputs": [
    {
     "name": "stdout",
     "output_type": "stream",
     "text": [
      "Generate SeqTable instance for BYO-doped pool...\n",
      "Importing from /mnt/storage/projects/k-seq/working/byo_doped/read_join/no-mismatch-assembly-first/counts...this could take a couple of minutes...\n"
     ]
    },
    {
     "ename": "ValueError",
     "evalue": "The truth value of a DataFrame is ambiguous. Use a.empty, a.bool(), a.item(), a.any() or a.all().",
     "output_type": "error",
     "traceback": [
      "\u001b[0;31m---------------------------------------------------------------------------\u001b[0m",
      "\u001b[0;31mValueError\u001b[0m                                Traceback (most recent call last)",
      "\u001b[0;32m<ipython-input-220-80ab93b87d0a>\u001b[0m in \u001b[0;36m<module>\u001b[0;34m\u001b[0m\n\u001b[0;32m----> 1\u001b[0;31m \u001b[0mbyo_doped\u001b[0m \u001b[0;34m=\u001b[0m \u001b[0mseq_table\u001b[0m\u001b[0;34m.\u001b[0m\u001b[0mSeqTable\u001b[0m\u001b[0;34m.\u001b[0m\u001b[0mload_dataset\u001b[0m\u001b[0;34m(\u001b[0m\u001b[0;34m'byo-doped'\u001b[0m\u001b[0;34m,\u001b[0m \u001b[0mfrom_count_file\u001b[0m\u001b[0;34m=\u001b[0m\u001b[0;32mTrue\u001b[0m\u001b[0;34m)\u001b[0m\u001b[0;34m\u001b[0m\u001b[0;34m\u001b[0m\u001b[0m\n\u001b[0m",
      "\u001b[0;32m~/research/k-seq/src/k_seq/data/seq_table.py\u001b[0m in \u001b[0;36mload_dataset\u001b[0;34m(cls, dataset, from_count_file, **kwargs)\u001b[0m\n\u001b[1;32m    391\u001b[0m         \u001b[0;32mfrom\u001b[0m \u001b[0;34m.\u001b[0m\u001b[0mdatasets\u001b[0m \u001b[0;32mimport\u001b[0m \u001b[0mload_byo_doped\u001b[0m\u001b[0;34m,\u001b[0m \u001b[0mload_byo_selected\u001b[0m\u001b[0;34m\u001b[0m\u001b[0;34m\u001b[0m\u001b[0m\n\u001b[1;32m    392\u001b[0m         \u001b[0;32mif\u001b[0m \u001b[0mdataset\u001b[0m\u001b[0;34m.\u001b[0m\u001b[0mlower\u001b[0m\u001b[0;34m(\u001b[0m\u001b[0;34m)\u001b[0m \u001b[0;32min\u001b[0m \u001b[0;34m[\u001b[0m\u001b[0;34m'byo_doped'\u001b[0m\u001b[0;34m,\u001b[0m \u001b[0;34m'byo-doped'\u001b[0m\u001b[0;34m,\u001b[0m \u001b[0;34m'doped'\u001b[0m\u001b[0;34m]\u001b[0m\u001b[0;34m:\u001b[0m\u001b[0;34m\u001b[0m\u001b[0;34m\u001b[0m\u001b[0m\n\u001b[0;32m--> 393\u001b[0;31m             \u001b[0;32mreturn\u001b[0m \u001b[0mload_byo_doped\u001b[0m\u001b[0;34m(\u001b[0m\u001b[0mfrom_count_file\u001b[0m\u001b[0;34m=\u001b[0m\u001b[0mfrom_count_file\u001b[0m\u001b[0;34m,\u001b[0m \u001b[0;34m**\u001b[0m\u001b[0mkwargs\u001b[0m\u001b[0;34m)\u001b[0m\u001b[0;34m\u001b[0m\u001b[0;34m\u001b[0m\u001b[0m\n\u001b[0m\u001b[1;32m    394\u001b[0m         \u001b[0;32melif\u001b[0m \u001b[0mdataset\u001b[0m\u001b[0;34m.\u001b[0m\u001b[0mlower\u001b[0m\u001b[0;34m(\u001b[0m\u001b[0;34m)\u001b[0m \u001b[0;32min\u001b[0m \u001b[0;34m[\u001b[0m\u001b[0;34m'byo_selected'\u001b[0m\u001b[0;34m,\u001b[0m \u001b[0;34m'byo-selected'\u001b[0m\u001b[0;34m]\u001b[0m\u001b[0;34m:\u001b[0m\u001b[0;34m\u001b[0m\u001b[0;34m\u001b[0m\u001b[0m\n\u001b[1;32m    395\u001b[0m             \u001b[0;32mreturn\u001b[0m \u001b[0mload_byo_selected\u001b[0m\u001b[0;34m(\u001b[0m\u001b[0mfrom_count_file\u001b[0m\u001b[0;34m=\u001b[0m\u001b[0mfrom_count_file\u001b[0m\u001b[0;34m,\u001b[0m \u001b[0;34m**\u001b[0m\u001b[0mkwargs\u001b[0m\u001b[0;34m)\u001b[0m\u001b[0;34m\u001b[0m\u001b[0;34m\u001b[0m\u001b[0m\n",
      "\u001b[0;32m~/research/k-seq/src/k_seq/data/datasets.py\u001b[0m in \u001b[0;36mload_byo_doped\u001b[0;34m(from_count_file, count_file_path, doped_norm_path, pickled_path, pandaseq_joined, radius)\u001b[0m\n\u001b[1;32m     94\u001b[0m         \u001b[0;31m# filtered table by removing spike-in within 4 edit distance and seqs not with 21 nt\u001b[0m\u001b[0;34m\u001b[0m\u001b[0;34m\u001b[0m\u001b[0;34m\u001b[0m\u001b[0m\n\u001b[1;32m     95\u001b[0m         byo_doped.table_filtered = seq_length_filter.get_filtered_table(\n\u001b[0;32m---> 96\u001b[0;31m                 \u001b[0mtarget\u001b[0m\u001b[0;34m=\u001b[0m\u001b[0mspike_in_filter\u001b[0m\u001b[0;34m.\u001b[0m\u001b[0mget_filtered_table\u001b[0m\u001b[0;34m(\u001b[0m\u001b[0;34m)\u001b[0m\u001b[0;34m\u001b[0m\u001b[0;34m\u001b[0m\u001b[0m\n\u001b[0m\u001b[1;32m     97\u001b[0m         )\n\u001b[1;32m     98\u001b[0m         \u001b[0;32mfrom\u001b[0m \u001b[0;34m.\u001b[0m \u001b[0;32mimport\u001b[0m \u001b[0mlandscape\u001b[0m\u001b[0;34m\u001b[0m\u001b[0;34m\u001b[0m\u001b[0m\n",
      "\u001b[0;32m~/research/k-seq/src/k_seq/data/filters.py\u001b[0m in \u001b[0;36mget_filtered_table\u001b[0;34m(self, target, remove_zero, reverse, axis, *args, **kwargs)\u001b[0m\n\u001b[1;32m     65\u001b[0m                            \u001b[0mkeys\u001b[0m\u001b[0;34m=\u001b[0m\u001b[0mself\u001b[0m\u001b[0;34m.\u001b[0m\u001b[0mget_passed_item\u001b[0m\u001b[0;34m(\u001b[0m\u001b[0mtarget\u001b[0m\u001b[0;34m=\u001b[0m\u001b[0mtarget\u001b[0m\u001b[0;34m,\u001b[0m \u001b[0mreverse\u001b[0m\u001b[0;34m=\u001b[0m\u001b[0mreverse\u001b[0m\u001b[0;34m,\u001b[0m \u001b[0;34m*\u001b[0m\u001b[0margs\u001b[0m\u001b[0;34m,\u001b[0m \u001b[0;34m**\u001b[0m\u001b[0mkwargs\u001b[0m\u001b[0;34m)\u001b[0m\u001b[0;34m,\u001b[0m\u001b[0;34m\u001b[0m\u001b[0;34m\u001b[0m\u001b[0m\n\u001b[1;32m     66\u001b[0m                            \u001b[0maxis\u001b[0m\u001b[0;34m=\u001b[0m\u001b[0maxis\u001b[0m\u001b[0;34m,\u001b[0m\u001b[0;34m\u001b[0m\u001b[0;34m\u001b[0m\u001b[0m\n\u001b[0;32m---> 67\u001b[0;31m                            remove_zero=remove_zero)\n\u001b[0m\u001b[1;32m     68\u001b[0m \u001b[0;34m\u001b[0m\u001b[0m\n\u001b[1;32m     69\u001b[0m     \u001b[0;32mdef\u001b[0m \u001b[0msummary\u001b[0m\u001b[0;34m(\u001b[0m\u001b[0mself\u001b[0m\u001b[0;34m,\u001b[0m \u001b[0mtarget\u001b[0m\u001b[0;34m=\u001b[0m\u001b[0;32mNone\u001b[0m\u001b[0;34m,\u001b[0m \u001b[0;34m**\u001b[0m\u001b[0mkwargs\u001b[0m\u001b[0;34m)\u001b[0m\u001b[0;34m:\u001b[0m\u001b[0;34m\u001b[0m\u001b[0;34m\u001b[0m\u001b[0m\n",
      "\u001b[0;32m~/research/k-seq/src/k_seq/data/seq_table.py\u001b[0m in \u001b[0;36mslice_table\u001b[0;34m(table, axis, remove_zero, keys, mask)\u001b[0m\n\u001b[1;32m     45\u001b[0m         \u001b[0;32mraise\u001b[0m \u001b[0mValueError\u001b[0m\u001b[0;34m(\u001b[0m\u001b[0;34m'`keys` or `mask` must be provided'\u001b[0m\u001b[0;34m)\u001b[0m\u001b[0;34m\u001b[0m\u001b[0;34m\u001b[0m\u001b[0m\n\u001b[1;32m     46\u001b[0m \u001b[0;34m\u001b[0m\u001b[0m\n\u001b[0;32m---> 47\u001b[0;31m     \u001b[0;32mif\u001b[0m \u001b[0maxis\u001b[0m \u001b[0;34m==\u001b[0m \u001b[0;36m0\u001b[0m\u001b[0;34m:\u001b[0m\u001b[0;34m\u001b[0m\u001b[0;34m\u001b[0m\u001b[0m\n\u001b[0m\u001b[1;32m     48\u001b[0m         \u001b[0;32mif\u001b[0m \u001b[0mkeys\u001b[0m \u001b[0;32mis\u001b[0m \u001b[0;32mnot\u001b[0m \u001b[0;32mNone\u001b[0m\u001b[0;34m:\u001b[0m\u001b[0;34m\u001b[0m\u001b[0;34m\u001b[0m\u001b[0m\n\u001b[1;32m     49\u001b[0m             \u001b[0msub_table\u001b[0m \u001b[0;34m=\u001b[0m \u001b[0mtable\u001b[0m\u001b[0;34m.\u001b[0m\u001b[0mloc\u001b[0m\u001b[0;34m[\u001b[0m\u001b[0mkeys\u001b[0m\u001b[0;34m]\u001b[0m\u001b[0;34m\u001b[0m\u001b[0;34m\u001b[0m\u001b[0m\n",
      "\u001b[0;32m~/.pyenv/versions/anaconda3-5.0.1/envs/k-seq/lib/python3.7/site-packages/pandas/core/generic.py\u001b[0m in \u001b[0;36m__nonzero__\u001b[0;34m(self)\u001b[0m\n\u001b[1;32m   1553\u001b[0m             \u001b[0;34m\"The truth value of a {0} is ambiguous. \"\u001b[0m\u001b[0;34m\u001b[0m\u001b[0;34m\u001b[0m\u001b[0m\n\u001b[1;32m   1554\u001b[0m             \"Use a.empty, a.bool(), a.item(), a.any() or a.all().\".format(\n\u001b[0;32m-> 1555\u001b[0;31m                 \u001b[0mself\u001b[0m\u001b[0;34m.\u001b[0m\u001b[0m__class__\u001b[0m\u001b[0;34m.\u001b[0m\u001b[0m__name__\u001b[0m\u001b[0;34m\u001b[0m\u001b[0;34m\u001b[0m\u001b[0m\n\u001b[0m\u001b[1;32m   1556\u001b[0m             )\n\u001b[1;32m   1557\u001b[0m         )\n",
      "\u001b[0;31mValueError\u001b[0m: The truth value of a DataFrame is ambiguous. Use a.empty, a.bool(), a.item(), a.any() or a.all()."
     ]
    }
   ],
   "source": [
    "byo_doped = seq_table.SeqTable.load_dataset('byo-doped', from_count_file=True)"
   ]
  },
  {
   "cell_type": "code",
   "execution_count": 217,
   "metadata": {
    "ExecuteTime": {
     "end_time": "2020-01-31T03:34:15.568786Z",
     "start_time": "2020-01-31T03:34:15.555848Z"
    }
   },
   "outputs": [
    {
     "ename": "TypeError",
     "evalue": "__repr__ returned non-string (type NoneType)",
     "output_type": "error",
     "traceback": [
      "\u001b[0;31m---------------------------------------------------------------------------\u001b[0m",
      "\u001b[0;31mTypeError\u001b[0m                                 Traceback (most recent call last)",
      "\u001b[0;32m~/.pyenv/versions/anaconda3-5.0.1/envs/k-seq/lib/python3.7/site-packages/IPython/core/formatters.py\u001b[0m in \u001b[0;36m__call__\u001b[0;34m(self, obj)\u001b[0m\n\u001b[1;32m    700\u001b[0m                 \u001b[0mtype_pprinters\u001b[0m\u001b[0;34m=\u001b[0m\u001b[0mself\u001b[0m\u001b[0;34m.\u001b[0m\u001b[0mtype_printers\u001b[0m\u001b[0;34m,\u001b[0m\u001b[0;34m\u001b[0m\u001b[0;34m\u001b[0m\u001b[0m\n\u001b[1;32m    701\u001b[0m                 deferred_pprinters=self.deferred_printers)\n\u001b[0;32m--> 702\u001b[0;31m             \u001b[0mprinter\u001b[0m\u001b[0;34m.\u001b[0m\u001b[0mpretty\u001b[0m\u001b[0;34m(\u001b[0m\u001b[0mobj\u001b[0m\u001b[0;34m)\u001b[0m\u001b[0;34m\u001b[0m\u001b[0;34m\u001b[0m\u001b[0m\n\u001b[0m\u001b[1;32m    703\u001b[0m             \u001b[0mprinter\u001b[0m\u001b[0;34m.\u001b[0m\u001b[0mflush\u001b[0m\u001b[0;34m(\u001b[0m\u001b[0;34m)\u001b[0m\u001b[0;34m\u001b[0m\u001b[0;34m\u001b[0m\u001b[0m\n\u001b[1;32m    704\u001b[0m             \u001b[0;32mreturn\u001b[0m \u001b[0mstream\u001b[0m\u001b[0;34m.\u001b[0m\u001b[0mgetvalue\u001b[0m\u001b[0;34m(\u001b[0m\u001b[0;34m)\u001b[0m\u001b[0;34m\u001b[0m\u001b[0;34m\u001b[0m\u001b[0m\n",
      "\u001b[0;32m~/.pyenv/versions/anaconda3-5.0.1/envs/k-seq/lib/python3.7/site-packages/IPython/lib/pretty.py\u001b[0m in \u001b[0;36mpretty\u001b[0;34m(self, obj)\u001b[0m\n\u001b[1;32m    400\u001b[0m                         \u001b[0;32mif\u001b[0m \u001b[0mcls\u001b[0m \u001b[0;32mis\u001b[0m \u001b[0;32mnot\u001b[0m \u001b[0mobject\u001b[0m\u001b[0;31m \u001b[0m\u001b[0;31m\\\u001b[0m\u001b[0;34m\u001b[0m\u001b[0;34m\u001b[0m\u001b[0m\n\u001b[1;32m    401\u001b[0m                                 \u001b[0;32mand\u001b[0m \u001b[0mcallable\u001b[0m\u001b[0;34m(\u001b[0m\u001b[0mcls\u001b[0m\u001b[0;34m.\u001b[0m\u001b[0m__dict__\u001b[0m\u001b[0;34m.\u001b[0m\u001b[0mget\u001b[0m\u001b[0;34m(\u001b[0m\u001b[0;34m'__repr__'\u001b[0m\u001b[0;34m)\u001b[0m\u001b[0;34m)\u001b[0m\u001b[0;34m:\u001b[0m\u001b[0;34m\u001b[0m\u001b[0;34m\u001b[0m\u001b[0m\n\u001b[0;32m--> 402\u001b[0;31m                             \u001b[0;32mreturn\u001b[0m \u001b[0m_repr_pprint\u001b[0m\u001b[0;34m(\u001b[0m\u001b[0mobj\u001b[0m\u001b[0;34m,\u001b[0m \u001b[0mself\u001b[0m\u001b[0;34m,\u001b[0m \u001b[0mcycle\u001b[0m\u001b[0;34m)\u001b[0m\u001b[0;34m\u001b[0m\u001b[0;34m\u001b[0m\u001b[0m\n\u001b[0m\u001b[1;32m    403\u001b[0m \u001b[0;34m\u001b[0m\u001b[0m\n\u001b[1;32m    404\u001b[0m             \u001b[0;32mreturn\u001b[0m \u001b[0m_default_pprint\u001b[0m\u001b[0;34m(\u001b[0m\u001b[0mobj\u001b[0m\u001b[0;34m,\u001b[0m \u001b[0mself\u001b[0m\u001b[0;34m,\u001b[0m \u001b[0mcycle\u001b[0m\u001b[0;34m)\u001b[0m\u001b[0;34m\u001b[0m\u001b[0;34m\u001b[0m\u001b[0m\n",
      "\u001b[0;32m~/.pyenv/versions/anaconda3-5.0.1/envs/k-seq/lib/python3.7/site-packages/IPython/lib/pretty.py\u001b[0m in \u001b[0;36m_repr_pprint\u001b[0;34m(obj, p, cycle)\u001b[0m\n\u001b[1;32m    695\u001b[0m     \u001b[0;34m\"\"\"A pprint that just redirects to the normal repr function.\"\"\"\u001b[0m\u001b[0;34m\u001b[0m\u001b[0;34m\u001b[0m\u001b[0m\n\u001b[1;32m    696\u001b[0m     \u001b[0;31m# Find newlines and replace them with p.break_()\u001b[0m\u001b[0;34m\u001b[0m\u001b[0;34m\u001b[0m\u001b[0;34m\u001b[0m\u001b[0m\n\u001b[0;32m--> 697\u001b[0;31m     \u001b[0moutput\u001b[0m \u001b[0;34m=\u001b[0m \u001b[0mrepr\u001b[0m\u001b[0;34m(\u001b[0m\u001b[0mobj\u001b[0m\u001b[0;34m)\u001b[0m\u001b[0;34m\u001b[0m\u001b[0;34m\u001b[0m\u001b[0m\n\u001b[0m\u001b[1;32m    698\u001b[0m     \u001b[0;32mfor\u001b[0m \u001b[0midx\u001b[0m\u001b[0;34m,\u001b[0m\u001b[0moutput_line\u001b[0m \u001b[0;32min\u001b[0m \u001b[0menumerate\u001b[0m\u001b[0;34m(\u001b[0m\u001b[0moutput\u001b[0m\u001b[0;34m.\u001b[0m\u001b[0msplitlines\u001b[0m\u001b[0;34m(\u001b[0m\u001b[0;34m)\u001b[0m\u001b[0;34m)\u001b[0m\u001b[0;34m:\u001b[0m\u001b[0;34m\u001b[0m\u001b[0;34m\u001b[0m\u001b[0m\n\u001b[1;32m    699\u001b[0m         \u001b[0;32mif\u001b[0m \u001b[0midx\u001b[0m\u001b[0;34m:\u001b[0m\u001b[0;34m\u001b[0m\u001b[0;34m\u001b[0m\u001b[0m\n",
      "\u001b[0;31mTypeError\u001b[0m: __repr__ returned non-string (type NoneType)"
     ]
    }
   ],
   "source": [
    "sample_table"
   ]
  },
  {
   "cell_type": "code",
   "execution_count": 147,
   "metadata": {
    "ExecuteTime": {
     "end_time": "2020-01-31T00:56:23.441561Z",
     "start_time": "2020-01-31T00:56:23.419961Z"
    }
   },
   "outputs": [
    {
     "name": "stdout",
     "output_type": "stream",
     "text": [
      "Single fitter for test<k_seq.estimator.least_squareSingleFitter at 0x7fb6fb4061d0> initiated\n"
     ]
    }
   ],
   "source": [
    "from k_seq.model import kinetic\n",
    "reload(kinetic)\n",
    "samples = byo_doped.table_filtered_seq_in_all_smpl_reacted_frac_total_dna.columns\n",
    "single_fitter = least_square.SingleFitter(\n",
    "    x_data=byo_doped.x_values[samples],\n",
    "    y_data=byo_doped.table_filtered_seq_in_all_smpl_reacted_frac_total_dna[samples].iloc[0],\n",
    "    model=kinetic.BYOModel.reacted_frac,\n",
    "    name='test',\n",
    "    bootstrap_num=10,\n",
    "    bs_record_num=10,\n",
    "    conv_reps=10,\n",
    "    metrics={'kA': lambda param: param[0] * param[1]}\n",
    ")"
   ]
  },
  {
   "cell_type": "code",
   "execution_count": 121,
   "metadata": {
    "ExecuteTime": {
     "end_time": "2020-01-30T23:52:16.860117Z",
     "start_time": "2020-01-30T23:52:16.855223Z"
    }
   },
   "outputs": [
    {
     "data": {
      "text/plain": [
       "['k', 'A']"
      ]
     },
     "execution_count": 121,
     "metadata": {},
     "output_type": "execute_result"
    }
   ],
   "source": [
    "single_fitter.parameters"
   ]
  },
  {
   "cell_type": "code",
   "execution_count": 151,
   "metadata": {
    "ExecuteTime": {
     "end_time": "2020-01-31T02:04:59.706124Z",
     "start_time": "2020-01-31T02:04:59.700473Z"
    }
   },
   "outputs": [
    {
     "data": {
      "text/plain": [
       "An attribute class with keys: ['summary', 'records']"
      ]
     },
     "execution_count": 151,
     "metadata": {},
     "output_type": "execute_result"
    }
   ],
   "source": [
    "single_fitter.results.convergence"
   ]
  },
  {
   "cell_type": "code",
   "execution_count": 150,
   "metadata": {
    "ExecuteTime": {
     "end_time": "2020-01-31T00:56:42.169411Z",
     "start_time": "2020-01-31T00:56:42.162656Z"
    }
   },
   "outputs": [
    {
     "data": {
      "text/plain": [
       "k                1.892311e+02\n",
       "A                3.504375e-01\n",
       "k_mean           2.026144e+02\n",
       "k_std            7.002587e+01\n",
       "k_2.5%           1.172074e+02\n",
       "k_50%            2.060924e+02\n",
       "k_97.5%          2.878115e+02\n",
       "A_mean           2.961044e-01\n",
       "A_std            3.846229e-02\n",
       "A_2.5%           2.390013e-01\n",
       "A_50%            3.023879e-01\n",
       "A_97.5%          3.420583e-01\n",
       "kA_mean          5.806667e+01\n",
       "kA_std           1.523354e+01\n",
       "kA_2.5%          3.677254e+01\n",
       "kA_50%           5.813546e+01\n",
       "kA_97.5%         7.768224e+01\n",
       "conv_k_mean      1.892307e+02\n",
       "conv_k_std       2.982662e-04\n",
       "conv_k_range     8.560931e-04\n",
       "conv_A_mean      3.504376e-01\n",
       "conv_A_std       9.671174e-08\n",
       "conv_A_range     2.775501e-07\n",
       "conv_kA_mean     6.631357e+01\n",
       "conv_kA_std      8.622286e-05\n",
       "conv_kA_range    2.474862e-04\n",
       "Name: test, dtype: float64"
      ]
     },
     "execution_count": 150,
     "metadata": {},
     "output_type": "execute_result"
    }
   ],
   "source": [
    "single_fitter.results.to_series()"
   ]
  },
  {
   "cell_type": "code",
   "execution_count": 4,
   "metadata": {
    "ExecuteTime": {
     "end_time": "2020-03-03T02:13:23.713261Z",
     "start_time": "2020-03-03T02:13:23.598789Z"
    },
    "scrolled": true
   },
   "outputs": [],
   "source": [
    "from k_seq.utility import func_tools"
   ]
  },
  {
   "cell_type": "code",
   "execution_count": 7,
   "metadata": {
    "ExecuteTime": {
     "end_time": "2020-03-03T02:13:57.765082Z",
     "start_time": "2020-03-03T02:13:57.674229Z"
    }
   },
   "outputs": [
    {
     "ename": "TypeError",
     "evalue": "update_none() missing 1 required positional argument: 'update_by'",
     "output_type": "error",
     "traceback": [
      "\u001b[0;31m---------------------------------------------------------------------------\u001b[0m",
      "\u001b[0;31mTypeError\u001b[0m                                 Traceback (most recent call last)",
      "\u001b[0;32m<ipython-input-7-738837b6bbfe>\u001b[0m in \u001b[0;36m<module>\u001b[0;34m\u001b[0m\n\u001b[0;32m----> 1\u001b[0;31m \u001b[0mfunc_tools\u001b[0m\u001b[0;34m.\u001b[0m\u001b[0mupdate_none\u001b[0m\u001b[0;34m(\u001b[0m\u001b[0marg\u001b[0m\u001b[0;34m=\u001b[0m\u001b[0;32mNone\u001b[0m\u001b[0;34m)\u001b[0m\u001b[0;34m\u001b[0m\u001b[0m\n\u001b[0m",
      "\u001b[0;31mTypeError\u001b[0m: update_none() missing 1 required positional argument: 'update_by'"
     ]
    }
   ],
   "source": [
    "func_tools.update_none(arg=None)"
   ]
  }
 ],
 "metadata": {
  "kernelspec": {
   "display_name": "k-seq",
   "language": "python",
   "name": "k-seq"
  },
  "language_info": {
   "codemirror_mode": {
    "name": "ipython",
    "version": 3
   },
   "file_extension": ".py",
   "mimetype": "text/x-python",
   "name": "python",
   "nbconvert_exporter": "python",
   "pygments_lexer": "ipython3",
   "version": "3.6.3"
  }
 },
 "nbformat": 4,
 "nbformat_minor": 4
}
