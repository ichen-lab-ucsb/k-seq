{
 "cells": [
  {
   "cell_type": "code",
   "execution_count": 272,
   "metadata": {
    "ExecuteTime": {
     "end_time": "2020-03-04T08:00:16.343418Z",
     "start_time": "2020-03-04T08:00:16.338396Z"
    }
   },
   "outputs": [],
   "source": [
    "from yutility.dev_mode import DevMode, logging\n",
    "dev_mode = DevMode()\n",
    "dev_mode.on('k-seq')\n",
    "\n",
    "from importlib import reload\n",
    "import pandas as pd\n",
    "import numpy as np\n",
    "import matplotlib.pyplot as plt\n",
    "plt.style.use('seaborn')\n",
    "import matplotlib as mpl\n",
    "mpl.rcParams['figure.dpi'] = 240"
   ]
  },
  {
   "cell_type": "code",
   "execution_count": 273,
   "metadata": {
    "ExecuteTime": {
     "end_time": "2020-03-04T08:00:17.036595Z",
     "start_time": "2020-03-04T08:00:16.964836Z"
    }
   },
   "outputs": [
    {
     "data": {
      "text/plain": [
       "<module 'k_seq.data.grouper' from '/Users/yuning/research/k-seq/src/k_seq/data/grouper.py'>"
      ]
     },
     "execution_count": 273,
     "metadata": {},
     "output_type": "execute_result"
    }
   ],
   "source": [
    "from k_seq.data import seq_data, datasets, transform, filters, grouper\n",
    "reload(seq_data)\n",
    "reload(datasets)\n",
    "reload(transform)\n",
    "reload(filters)\n",
    "reload(grouper)"
   ]
  },
  {
   "cell_type": "code",
   "execution_count": 274,
   "metadata": {
    "ExecuteTime": {
     "end_time": "2020-03-04T08:00:17.863464Z",
     "start_time": "2020-03-04T08:00:17.669619Z"
    },
    "scrolled": false
   },
   "outputs": [
    {
     "name": "stdout",
     "output_type": "stream",
     "text": [
      "Generate SeqData instance for BYO-doped pool...\n",
      "Importing from /Users/yuning/research/k-seq-data/input/byo-doped/count-top50/...this could take a couple of minutes...\n",
      "SeqData created\n",
      "Calculating distance of seqs to center using edit distance...\n",
      "  Finished\n",
      "Calculating distance of seqs to center using hamming distance...\n",
      "  Finished\n",
      "Calculating distance of seqs to center using hamming distance...\n",
      "  Finished\n",
      "Calculating distance of seqs to center using hamming distance...\n",
      "  Finished\n",
      "Calculating distance of seqs to center using hamming distance...\n",
      "  Finished\n",
      "Finished!\n"
     ]
    }
   ],
   "source": [
    "byo_doped = datasets.load_dataset(\n",
    "    'byo-doped', from_count_file=True,\n",
    "    count_file_path='/Users/yuning/research/k-seq-data/input/byo-doped/count-top50/',\n",
    "    doped_norm_path='/Users/yuning/research/k-seq-data/input/byo-doped/doped-norms.txt',\n",
    "    pandaseq_joined=True\n",
    ")"
   ]
  },
  {
   "cell_type": "code",
   "execution_count": 279,
   "metadata": {
    "ExecuteTime": {
     "end_time": "2020-03-04T08:00:44.367369Z",
     "start_time": "2020-03-04T08:00:44.362602Z"
    }
   },
   "outputs": [
    {
     "data": {
      "text/plain": [
       "0     A1\n",
       "1     A2\n",
       "2     A3\n",
       "3     B1\n",
       "4     B2\n",
       "5     B3\n",
       "6     C1\n",
       "7     C2\n",
       "8     C3\n",
       "9     D1\n",
       "10    D2\n",
       "11    D3\n",
       "12    E1\n",
       "13    E2\n",
       "14    E3\n",
       "dtype: object"
      ]
     },
     "execution_count": 279,
     "metadata": {},
     "output_type": "execute_result"
    }
   ],
   "source": [
    "byo_doped.table"
   ]
  },
  {
   "cell_type": "code",
   "execution_count": 281,
   "metadata": {
    "ExecuteTime": {
     "end_time": "2020-03-04T08:01:06.644161Z",
     "start_time": "2020-03-04T08:01:06.640439Z"
    }
   },
   "outputs": [
    {
     "data": {
      "text/plain": [
       "<k_seq.data.transform.TotalAmountNormalizer at 0x11ff24c18>"
      ]
     },
     "execution_count": 281,
     "metadata": {},
     "output_type": "execute_result"
    }
   ],
   "source": [
    "byo_doped.sample_total"
   ]
  },
  {
   "cell_type": "code",
   "execution_count": 218,
   "metadata": {
    "ExecuteTime": {
     "end_time": "2020-03-04T02:55:40.605476Z",
     "start_time": "2020-03-04T02:55:40.599429Z"
    }
   },
   "outputs": [
    {
     "data": {
      "text/plain": [
       "A1     91.692945\n",
       "A2    118.228543\n",
       "A3    194.990690\n",
       "B1    120.084280\n",
       "B2    117.611908\n",
       "B3    114.187537\n",
       "C1     59.213451\n",
       "C2     41.644657\n",
       "C3     51.871682\n",
       "D1     12.570993\n",
       "D2     11.267063\n",
       "D3     12.035507\n",
       "E1      3.008320\n",
       "E2      2.856437\n",
       "E3      2.672022\n",
       "R0    439.432052\n",
       "dtype: float64"
      ]
     },
     "execution_count": 218,
     "metadata": {},
     "output_type": "execute_result"
    }
   ],
   "source": [
    "byo_doped.spike_in.norm_factor * byo_doped.spike_in.base_table.sum(axis=0)"
   ]
  },
  {
   "cell_type": "code",
   "execution_count": 43,
   "metadata": {
    "ExecuteTime": {
     "end_time": "2020-02-28T01:13:50.699633Z",
     "start_time": "2020-02-28T01:13:50.693794Z"
    }
   },
   "outputs": [],
   "source": [
    "class Table(pd.DataFrame):\n",
    "    \"\"\"Subclass pd.DataFrame with \"\"\"\n",
    "\n",
    "    def __repr__(self):\n",
    "        # TODO: add repr\n",
    "        return \"Some new inf\\n\" + super().__repr__()\n",
    "\n",
    "    def __init__(self, data, **kwargs):\n",
    "        if isinstance(data, pd.DataFrame):\n",
    "            super().__init__(data.values, index=data.index, columns=data.columns)\n",
    "        else:\n",
    "            super().__init__(data, **kwargs)\n",
    "        logging.info('Table created')"
   ]
  },
  {
   "cell_type": "code",
   "execution_count": 114,
   "metadata": {
    "ExecuteTime": {
     "end_time": "2020-02-29T04:49:36.784342Z",
     "start_time": "2020-02-29T04:49:36.735083Z"
    }
   },
   "outputs": [
    {
     "data": {
      "text/plain": [
       "<module 'k_seq.data.filters' from '/Users/yuning/research/k-seq/src/k_seq/data/filters.py'>"
      ]
     },
     "execution_count": 114,
     "metadata": {},
     "output_type": "execute_result"
    }
   ],
   "source": [
    "from k_seq.data import filters\n",
    "reload(filters)"
   ]
  },
  {
   "cell_type": "code",
   "execution_count": 109,
   "metadata": {
    "ExecuteTime": {
     "end_time": "2020-02-29T03:19:43.439249Z",
     "start_time": "2020-02-29T03:19:43.436255Z"
    }
   },
   "outputs": [],
   "source": [
    "def filter_fn(df):\n",
    "    return df.sum(axis=1) > 10\n",
    "\n",
    "one_filter = filters.CustomizedFilter(filter_fn)\n",
    "one_filter(pd.DataFrame([[0, 1, 2, 3], [9, 1, 2, 23]]))"
   ]
  },
  {
   "cell_type": "code",
   "execution_count": 111,
   "metadata": {
    "ExecuteTime": {
     "end_time": "2020-02-29T03:19:45.671209Z",
     "start_time": "2020-02-29T03:19:45.664664Z"
    }
   },
   "outputs": [
    {
     "data": {
      "text/html": [
       "<div>\n",
       "<style scoped>\n",
       "    .dataframe tbody tr th:only-of-type {\n",
       "        vertical-align: middle;\n",
       "    }\n",
       "\n",
       "    .dataframe tbody tr th {\n",
       "        vertical-align: top;\n",
       "    }\n",
       "\n",
       "    .dataframe thead th {\n",
       "        text-align: right;\n",
       "    }\n",
       "</style>\n",
       "<table border=\"1\" class=\"dataframe\">\n",
       "  <thead>\n",
       "    <tr style=\"text-align: right;\">\n",
       "      <th></th>\n",
       "      <th>0</th>\n",
       "      <th>1</th>\n",
       "      <th>2</th>\n",
       "      <th>3</th>\n",
       "    </tr>\n",
       "  </thead>\n",
       "  <tbody>\n",
       "    <tr>\n",
       "      <th>0</th>\n",
       "      <td>0</td>\n",
       "      <td>1</td>\n",
       "      <td>2</td>\n",
       "      <td>3</td>\n",
       "    </tr>\n",
       "    <tr>\n",
       "      <th>1</th>\n",
       "      <td>9</td>\n",
       "      <td>1</td>\n",
       "      <td>2</td>\n",
       "      <td>23</td>\n",
       "    </tr>\n",
       "  </tbody>\n",
       "</table>\n",
       "</div>"
      ],
      "text/plain": [
       "   0  1  2   3\n",
       "0  0  1  2   3\n",
       "1  9  1  2  23"
      ]
     },
     "execution_count": 111,
     "metadata": {},
     "output_type": "execute_result"
    }
   ],
   "source": [
    "pd.DataFrame([[0, 1, 2, 3], [9, 1, 2, 23]])"
   ]
  },
  {
   "cell_type": "code",
   "execution_count": 113,
   "metadata": {
    "ExecuteTime": {
     "end_time": "2020-02-29T03:19:53.897649Z",
     "start_time": "2020-02-29T03:19:53.888566Z"
    }
   },
   "outputs": [
    {
     "data": {
      "text/html": [
       "<div>\n",
       "<style scoped>\n",
       "    .dataframe tbody tr th:only-of-type {\n",
       "        vertical-align: middle;\n",
       "    }\n",
       "\n",
       "    .dataframe tbody tr th {\n",
       "        vertical-align: top;\n",
       "    }\n",
       "\n",
       "    .dataframe thead th {\n",
       "        text-align: right;\n",
       "    }\n",
       "</style>\n",
       "<table border=\"1\" class=\"dataframe\">\n",
       "  <thead>\n",
       "    <tr style=\"text-align: right;\">\n",
       "      <th></th>\n",
       "      <th>0</th>\n",
       "      <th>1</th>\n",
       "      <th>2</th>\n",
       "      <th>3</th>\n",
       "    </tr>\n",
       "  </thead>\n",
       "  <tbody>\n",
       "    <tr>\n",
       "      <th>1</th>\n",
       "      <td>9</td>\n",
       "      <td>1</td>\n",
       "      <td>2</td>\n",
       "      <td>23</td>\n",
       "    </tr>\n",
       "  </tbody>\n",
       "</table>\n",
       "</div>"
      ],
      "text/plain": [
       "   0  1  2   3\n",
       "1  9  1  2  23"
      ]
     },
     "execution_count": 113,
     "metadata": {},
     "output_type": "execute_result"
    }
   ],
   "source": []
  },
  {
   "cell_type": "code",
   "execution_count": 64,
   "metadata": {
    "ExecuteTime": {
     "end_time": "2020-02-03T23:44:15.133973Z",
     "start_time": "2020-02-03T23:44:15.088334Z"
    }
   },
   "outputs": [],
   "source": [
    "from k_seq.estimator import least_square\n",
    "reload(least_square)\n",
    "fit_res = _read_seq_json(path=result_root + '/seqs/-8471193594612481418.json')"
   ]
  },
  {
   "cell_type": "code",
   "execution_count": 74,
   "metadata": {
    "ExecuteTime": {
     "end_time": "2020-02-03T23:48:13.148266Z",
     "start_time": "2020-02-03T23:48:13.143228Z"
    }
   },
   "outputs": [
    {
     "data": {
      "text/plain": [
       "('TGGTTTCAAACAATCGGTCTG',\n",
       " PosixPath('/mnt/storage/projects/k-seq/working/byo_doped/least_square/pandaSeq/bootstrap_201912-202002/table-seq-in-all_bs-num-1000_bs-mtd-data_no-zero-false_inv-weight-false_core-40/results/seqs/-4217963938457622377.json'))"
      ]
     },
     "execution_count": 74,
     "metadata": {},
     "output_type": "execute_result"
    }
   ],
   "source": [
    "next(file_list)"
   ]
  },
  {
   "cell_type": "code",
   "execution_count": 3,
   "metadata": {
    "ExecuteTime": {
     "end_time": "2020-01-31T05:30:27.370420Z",
     "start_time": "2020-01-31T05:30:27.188068Z"
    }
   },
   "outputs": [
    {
     "ename": "ModuleNotFoundError",
     "evalue": "No module named 'k_seq'",
     "output_type": "error",
     "traceback": [
      "\u001b[0;31m---------------------------------------------------------------------------\u001b[0m",
      "\u001b[0;31mModuleNotFoundError\u001b[0m                       Traceback (most recent call last)",
      "\u001b[0;32m<ipython-input-3-fbfe9ab64a39>\u001b[0m in \u001b[0;36m<module>\u001b[0;34m\u001b[0m\n\u001b[0;32m----> 1\u001b[0;31m \u001b[0;32mfrom\u001b[0m \u001b[0mk_seq\u001b[0m\u001b[0;34m.\u001b[0m\u001b[0mestimator\u001b[0m \u001b[0;32mimport\u001b[0m \u001b[0mleast_square\u001b[0m\u001b[0;34m\u001b[0m\u001b[0;34m\u001b[0m\u001b[0m\n\u001b[0m\u001b[1;32m      2\u001b[0m \u001b[0;32mfrom\u001b[0m \u001b[0mk_seq\u001b[0m\u001b[0;34m.\u001b[0m\u001b[0mdata\u001b[0m \u001b[0;32mimport\u001b[0m \u001b[0mseq_table\u001b[0m\u001b[0;34m\u001b[0m\u001b[0;34m\u001b[0m\u001b[0m\n\u001b[1;32m      3\u001b[0m \u001b[0mreload\u001b[0m\u001b[0;34m(\u001b[0m\u001b[0mseq_table\u001b[0m\u001b[0;34m)\u001b[0m\u001b[0;34m\u001b[0m\u001b[0;34m\u001b[0m\u001b[0m\n\u001b[1;32m      4\u001b[0m \u001b[0mreload\u001b[0m\u001b[0;34m(\u001b[0m\u001b[0mleast_square\u001b[0m\u001b[0;34m)\u001b[0m\u001b[0;34m\u001b[0m\u001b[0;34m\u001b[0m\u001b[0m\n",
      "\u001b[0;31mModuleNotFoundError\u001b[0m: No module named 'k_seq'"
     ]
    }
   ],
   "source": [
    "from k_seq.estimator import least_square\n",
    "from k_seq.data import seq_table\n",
    "reload(seq_table)\n",
    "reload(least_square)"
   ]
  },
  {
   "cell_type": "code",
   "execution_count": null,
   "metadata": {},
   "outputs": [],
   "source": [
    "from "
   ]
  },
  {
   "cell_type": "code",
   "execution_count": 220,
   "metadata": {
    "ExecuteTime": {
     "end_time": "2020-01-31T03:35:00.853321Z",
     "start_time": "2020-01-31T03:34:24.606604Z"
    }
   },
   "outputs": [
    {
     "name": "stdout",
     "output_type": "stream",
     "text": [
      "Generate SeqTable instance for BYO-doped pool...\n",
      "Importing from /mnt/storage/projects/k-seq/working/byo_doped/read_join/no-mismatch-assembly-first/counts...this could take a couple of minutes...\n"
     ]
    },
    {
     "ename": "ValueError",
     "evalue": "The truth value of a DataFrame is ambiguous. Use a.empty, a.bool(), a.item(), a.any() or a.all().",
     "output_type": "error",
     "traceback": [
      "\u001b[0;31m---------------------------------------------------------------------------\u001b[0m",
      "\u001b[0;31mValueError\u001b[0m                                Traceback (most recent call last)",
      "\u001b[0;32m<ipython-input-220-80ab93b87d0a>\u001b[0m in \u001b[0;36m<module>\u001b[0;34m\u001b[0m\n\u001b[0;32m----> 1\u001b[0;31m \u001b[0mbyo_doped\u001b[0m \u001b[0;34m=\u001b[0m \u001b[0mseq_table\u001b[0m\u001b[0;34m.\u001b[0m\u001b[0mSeqTable\u001b[0m\u001b[0;34m.\u001b[0m\u001b[0mload_dataset\u001b[0m\u001b[0;34m(\u001b[0m\u001b[0;34m'byo-doped'\u001b[0m\u001b[0;34m,\u001b[0m \u001b[0mfrom_count_file\u001b[0m\u001b[0;34m=\u001b[0m\u001b[0;32mTrue\u001b[0m\u001b[0;34m)\u001b[0m\u001b[0;34m\u001b[0m\u001b[0;34m\u001b[0m\u001b[0m\n\u001b[0m",
      "\u001b[0;32m~/research/k-seq/src/k_seq/data/seq_table.py\u001b[0m in \u001b[0;36mload_dataset\u001b[0;34m(cls, dataset, from_count_file, **kwargs)\u001b[0m\n\u001b[1;32m    391\u001b[0m         \u001b[0;32mfrom\u001b[0m \u001b[0;34m.\u001b[0m\u001b[0mdatasets\u001b[0m \u001b[0;32mimport\u001b[0m \u001b[0mload_byo_doped\u001b[0m\u001b[0;34m,\u001b[0m \u001b[0mload_byo_selected\u001b[0m\u001b[0;34m\u001b[0m\u001b[0;34m\u001b[0m\u001b[0m\n\u001b[1;32m    392\u001b[0m         \u001b[0;32mif\u001b[0m \u001b[0mdataset\u001b[0m\u001b[0;34m.\u001b[0m\u001b[0mlower\u001b[0m\u001b[0;34m(\u001b[0m\u001b[0;34m)\u001b[0m \u001b[0;32min\u001b[0m \u001b[0;34m[\u001b[0m\u001b[0;34m'byo_doped'\u001b[0m\u001b[0;34m,\u001b[0m \u001b[0;34m'byo-doped'\u001b[0m\u001b[0;34m,\u001b[0m \u001b[0;34m'doped'\u001b[0m\u001b[0;34m]\u001b[0m\u001b[0;34m:\u001b[0m\u001b[0;34m\u001b[0m\u001b[0;34m\u001b[0m\u001b[0m\n\u001b[0;32m--> 393\u001b[0;31m             \u001b[0;32mreturn\u001b[0m \u001b[0mload_byo_doped\u001b[0m\u001b[0;34m(\u001b[0m\u001b[0mfrom_count_file\u001b[0m\u001b[0;34m=\u001b[0m\u001b[0mfrom_count_file\u001b[0m\u001b[0;34m,\u001b[0m \u001b[0;34m**\u001b[0m\u001b[0mkwargs\u001b[0m\u001b[0;34m)\u001b[0m\u001b[0;34m\u001b[0m\u001b[0;34m\u001b[0m\u001b[0m\n\u001b[0m\u001b[1;32m    394\u001b[0m         \u001b[0;32melif\u001b[0m \u001b[0mdataset\u001b[0m\u001b[0;34m.\u001b[0m\u001b[0mlower\u001b[0m\u001b[0;34m(\u001b[0m\u001b[0;34m)\u001b[0m \u001b[0;32min\u001b[0m \u001b[0;34m[\u001b[0m\u001b[0;34m'byo_selected'\u001b[0m\u001b[0;34m,\u001b[0m \u001b[0;34m'byo-selected'\u001b[0m\u001b[0;34m]\u001b[0m\u001b[0;34m:\u001b[0m\u001b[0;34m\u001b[0m\u001b[0;34m\u001b[0m\u001b[0m\n\u001b[1;32m    395\u001b[0m             \u001b[0;32mreturn\u001b[0m \u001b[0mload_byo_selected\u001b[0m\u001b[0;34m(\u001b[0m\u001b[0mfrom_count_file\u001b[0m\u001b[0;34m=\u001b[0m\u001b[0mfrom_count_file\u001b[0m\u001b[0;34m,\u001b[0m \u001b[0;34m**\u001b[0m\u001b[0mkwargs\u001b[0m\u001b[0;34m)\u001b[0m\u001b[0;34m\u001b[0m\u001b[0;34m\u001b[0m\u001b[0m\n",
      "\u001b[0;32m~/research/k-seq/src/k_seq/data/datasets.py\u001b[0m in \u001b[0;36mload_byo_doped\u001b[0;34m(from_count_file, count_file_path, doped_norm_path, pickled_path, pandaseq_joined, radius)\u001b[0m\n\u001b[1;32m     94\u001b[0m         \u001b[0;31m# filtered table by removing spike-in within 4 edit distance and seqs not with 21 nt\u001b[0m\u001b[0;34m\u001b[0m\u001b[0;34m\u001b[0m\u001b[0;34m\u001b[0m\u001b[0m\n\u001b[1;32m     95\u001b[0m         byo_doped.table_filtered = seq_length_filter.get_filtered_table(\n\u001b[0;32m---> 96\u001b[0;31m                 \u001b[0mtarget\u001b[0m\u001b[0;34m=\u001b[0m\u001b[0mspike_in_filter\u001b[0m\u001b[0;34m.\u001b[0m\u001b[0mget_filtered_table\u001b[0m\u001b[0;34m(\u001b[0m\u001b[0;34m)\u001b[0m\u001b[0;34m\u001b[0m\u001b[0;34m\u001b[0m\u001b[0m\n\u001b[0m\u001b[1;32m     97\u001b[0m         )\n\u001b[1;32m     98\u001b[0m         \u001b[0;32mfrom\u001b[0m \u001b[0;34m.\u001b[0m \u001b[0;32mimport\u001b[0m \u001b[0mlandscape\u001b[0m\u001b[0;34m\u001b[0m\u001b[0;34m\u001b[0m\u001b[0m\n",
      "\u001b[0;32m~/research/k-seq/src/k_seq/data/filters.py\u001b[0m in \u001b[0;36mget_filtered_table\u001b[0;34m(self, target, remove_zero, reverse, axis, *args, **kwargs)\u001b[0m\n\u001b[1;32m     65\u001b[0m                            \u001b[0mkeys\u001b[0m\u001b[0;34m=\u001b[0m\u001b[0mself\u001b[0m\u001b[0;34m.\u001b[0m\u001b[0mget_passed_item\u001b[0m\u001b[0;34m(\u001b[0m\u001b[0mtarget\u001b[0m\u001b[0;34m=\u001b[0m\u001b[0mtarget\u001b[0m\u001b[0;34m,\u001b[0m \u001b[0mreverse\u001b[0m\u001b[0;34m=\u001b[0m\u001b[0mreverse\u001b[0m\u001b[0;34m,\u001b[0m \u001b[0;34m*\u001b[0m\u001b[0margs\u001b[0m\u001b[0;34m,\u001b[0m \u001b[0;34m**\u001b[0m\u001b[0mkwargs\u001b[0m\u001b[0;34m)\u001b[0m\u001b[0;34m,\u001b[0m\u001b[0;34m\u001b[0m\u001b[0;34m\u001b[0m\u001b[0m\n\u001b[1;32m     66\u001b[0m                            \u001b[0maxis\u001b[0m\u001b[0;34m=\u001b[0m\u001b[0maxis\u001b[0m\u001b[0;34m,\u001b[0m\u001b[0;34m\u001b[0m\u001b[0;34m\u001b[0m\u001b[0m\n\u001b[0;32m---> 67\u001b[0;31m                            remove_zero=remove_zero)\n\u001b[0m\u001b[1;32m     68\u001b[0m \u001b[0;34m\u001b[0m\u001b[0m\n\u001b[1;32m     69\u001b[0m     \u001b[0;32mdef\u001b[0m \u001b[0msummary\u001b[0m\u001b[0;34m(\u001b[0m\u001b[0mself\u001b[0m\u001b[0;34m,\u001b[0m \u001b[0mtarget\u001b[0m\u001b[0;34m=\u001b[0m\u001b[0;32mNone\u001b[0m\u001b[0;34m,\u001b[0m \u001b[0;34m**\u001b[0m\u001b[0mkwargs\u001b[0m\u001b[0;34m)\u001b[0m\u001b[0;34m:\u001b[0m\u001b[0;34m\u001b[0m\u001b[0;34m\u001b[0m\u001b[0m\n",
      "\u001b[0;32m~/research/k-seq/src/k_seq/data/seq_table.py\u001b[0m in \u001b[0;36mslice_table\u001b[0;34m(table, axis, remove_zero, keys, mask)\u001b[0m\n\u001b[1;32m     45\u001b[0m         \u001b[0;32mraise\u001b[0m \u001b[0mValueError\u001b[0m\u001b[0;34m(\u001b[0m\u001b[0;34m'`keys` or `mask` must be provided'\u001b[0m\u001b[0;34m)\u001b[0m\u001b[0;34m\u001b[0m\u001b[0;34m\u001b[0m\u001b[0m\n\u001b[1;32m     46\u001b[0m \u001b[0;34m\u001b[0m\u001b[0m\n\u001b[0;32m---> 47\u001b[0;31m     \u001b[0;32mif\u001b[0m \u001b[0maxis\u001b[0m \u001b[0;34m==\u001b[0m \u001b[0;36m0\u001b[0m\u001b[0;34m:\u001b[0m\u001b[0;34m\u001b[0m\u001b[0;34m\u001b[0m\u001b[0m\n\u001b[0m\u001b[1;32m     48\u001b[0m         \u001b[0;32mif\u001b[0m \u001b[0mkeys\u001b[0m \u001b[0;32mis\u001b[0m \u001b[0;32mnot\u001b[0m \u001b[0;32mNone\u001b[0m\u001b[0;34m:\u001b[0m\u001b[0;34m\u001b[0m\u001b[0;34m\u001b[0m\u001b[0m\n\u001b[1;32m     49\u001b[0m             \u001b[0msub_table\u001b[0m \u001b[0;34m=\u001b[0m \u001b[0mtable\u001b[0m\u001b[0;34m.\u001b[0m\u001b[0mloc\u001b[0m\u001b[0;34m[\u001b[0m\u001b[0mkeys\u001b[0m\u001b[0;34m]\u001b[0m\u001b[0;34m\u001b[0m\u001b[0;34m\u001b[0m\u001b[0m\n",
      "\u001b[0;32m~/.pyenv/versions/anaconda3-5.0.1/envs/k-seq/lib/python3.7/site-packages/pandas/core/generic.py\u001b[0m in \u001b[0;36m__nonzero__\u001b[0;34m(self)\u001b[0m\n\u001b[1;32m   1553\u001b[0m             \u001b[0;34m\"The truth value of a {0} is ambiguous. \"\u001b[0m\u001b[0;34m\u001b[0m\u001b[0;34m\u001b[0m\u001b[0m\n\u001b[1;32m   1554\u001b[0m             \"Use a.empty, a.bool(), a.item(), a.any() or a.all().\".format(\n\u001b[0;32m-> 1555\u001b[0;31m                 \u001b[0mself\u001b[0m\u001b[0;34m.\u001b[0m\u001b[0m__class__\u001b[0m\u001b[0;34m.\u001b[0m\u001b[0m__name__\u001b[0m\u001b[0;34m\u001b[0m\u001b[0;34m\u001b[0m\u001b[0m\n\u001b[0m\u001b[1;32m   1556\u001b[0m             )\n\u001b[1;32m   1557\u001b[0m         )\n",
      "\u001b[0;31mValueError\u001b[0m: The truth value of a DataFrame is ambiguous. Use a.empty, a.bool(), a.item(), a.any() or a.all()."
     ]
    }
   ],
   "source": [
    "byo_doped = seq_table.SeqTable.load_dataset('byo-doped', from_count_file=True)"
   ]
  },
  {
   "cell_type": "code",
   "execution_count": 217,
   "metadata": {
    "ExecuteTime": {
     "end_time": "2020-01-31T03:34:15.568786Z",
     "start_time": "2020-01-31T03:34:15.555848Z"
    }
   },
   "outputs": [
    {
     "ename": "TypeError",
     "evalue": "__repr__ returned non-string (type NoneType)",
     "output_type": "error",
     "traceback": [
      "\u001b[0;31m---------------------------------------------------------------------------\u001b[0m",
      "\u001b[0;31mTypeError\u001b[0m                                 Traceback (most recent call last)",
      "\u001b[0;32m~/.pyenv/versions/anaconda3-5.0.1/envs/k-seq/lib/python3.7/site-packages/IPython/core/formatters.py\u001b[0m in \u001b[0;36m__call__\u001b[0;34m(self, obj)\u001b[0m\n\u001b[1;32m    700\u001b[0m                 \u001b[0mtype_pprinters\u001b[0m\u001b[0;34m=\u001b[0m\u001b[0mself\u001b[0m\u001b[0;34m.\u001b[0m\u001b[0mtype_printers\u001b[0m\u001b[0;34m,\u001b[0m\u001b[0;34m\u001b[0m\u001b[0;34m\u001b[0m\u001b[0m\n\u001b[1;32m    701\u001b[0m                 deferred_pprinters=self.deferred_printers)\n\u001b[0;32m--> 702\u001b[0;31m             \u001b[0mprinter\u001b[0m\u001b[0;34m.\u001b[0m\u001b[0mpretty\u001b[0m\u001b[0;34m(\u001b[0m\u001b[0mobj\u001b[0m\u001b[0;34m)\u001b[0m\u001b[0;34m\u001b[0m\u001b[0;34m\u001b[0m\u001b[0m\n\u001b[0m\u001b[1;32m    703\u001b[0m             \u001b[0mprinter\u001b[0m\u001b[0;34m.\u001b[0m\u001b[0mflush\u001b[0m\u001b[0;34m(\u001b[0m\u001b[0;34m)\u001b[0m\u001b[0;34m\u001b[0m\u001b[0;34m\u001b[0m\u001b[0m\n\u001b[1;32m    704\u001b[0m             \u001b[0;32mreturn\u001b[0m \u001b[0mstream\u001b[0m\u001b[0;34m.\u001b[0m\u001b[0mgetvalue\u001b[0m\u001b[0;34m(\u001b[0m\u001b[0;34m)\u001b[0m\u001b[0;34m\u001b[0m\u001b[0;34m\u001b[0m\u001b[0m\n",
      "\u001b[0;32m~/.pyenv/versions/anaconda3-5.0.1/envs/k-seq/lib/python3.7/site-packages/IPython/lib/pretty.py\u001b[0m in \u001b[0;36mpretty\u001b[0;34m(self, obj)\u001b[0m\n\u001b[1;32m    400\u001b[0m                         \u001b[0;32mif\u001b[0m \u001b[0mcls\u001b[0m \u001b[0;32mis\u001b[0m \u001b[0;32mnot\u001b[0m \u001b[0mobject\u001b[0m\u001b[0;31m \u001b[0m\u001b[0;31m\\\u001b[0m\u001b[0;34m\u001b[0m\u001b[0;34m\u001b[0m\u001b[0m\n\u001b[1;32m    401\u001b[0m                                 \u001b[0;32mand\u001b[0m \u001b[0mcallable\u001b[0m\u001b[0;34m(\u001b[0m\u001b[0mcls\u001b[0m\u001b[0;34m.\u001b[0m\u001b[0m__dict__\u001b[0m\u001b[0;34m.\u001b[0m\u001b[0mget\u001b[0m\u001b[0;34m(\u001b[0m\u001b[0;34m'__repr__'\u001b[0m\u001b[0;34m)\u001b[0m\u001b[0;34m)\u001b[0m\u001b[0;34m:\u001b[0m\u001b[0;34m\u001b[0m\u001b[0;34m\u001b[0m\u001b[0m\n\u001b[0;32m--> 402\u001b[0;31m                             \u001b[0;32mreturn\u001b[0m \u001b[0m_repr_pprint\u001b[0m\u001b[0;34m(\u001b[0m\u001b[0mobj\u001b[0m\u001b[0;34m,\u001b[0m \u001b[0mself\u001b[0m\u001b[0;34m,\u001b[0m \u001b[0mcycle\u001b[0m\u001b[0;34m)\u001b[0m\u001b[0;34m\u001b[0m\u001b[0;34m\u001b[0m\u001b[0m\n\u001b[0m\u001b[1;32m    403\u001b[0m \u001b[0;34m\u001b[0m\u001b[0m\n\u001b[1;32m    404\u001b[0m             \u001b[0;32mreturn\u001b[0m \u001b[0m_default_pprint\u001b[0m\u001b[0;34m(\u001b[0m\u001b[0mobj\u001b[0m\u001b[0;34m,\u001b[0m \u001b[0mself\u001b[0m\u001b[0;34m,\u001b[0m \u001b[0mcycle\u001b[0m\u001b[0;34m)\u001b[0m\u001b[0;34m\u001b[0m\u001b[0;34m\u001b[0m\u001b[0m\n",
      "\u001b[0;32m~/.pyenv/versions/anaconda3-5.0.1/envs/k-seq/lib/python3.7/site-packages/IPython/lib/pretty.py\u001b[0m in \u001b[0;36m_repr_pprint\u001b[0;34m(obj, p, cycle)\u001b[0m\n\u001b[1;32m    695\u001b[0m     \u001b[0;34m\"\"\"A pprint that just redirects to the normal repr function.\"\"\"\u001b[0m\u001b[0;34m\u001b[0m\u001b[0;34m\u001b[0m\u001b[0m\n\u001b[1;32m    696\u001b[0m     \u001b[0;31m# Find newlines and replace them with p.break_()\u001b[0m\u001b[0;34m\u001b[0m\u001b[0;34m\u001b[0m\u001b[0;34m\u001b[0m\u001b[0m\n\u001b[0;32m--> 697\u001b[0;31m     \u001b[0moutput\u001b[0m \u001b[0;34m=\u001b[0m \u001b[0mrepr\u001b[0m\u001b[0;34m(\u001b[0m\u001b[0mobj\u001b[0m\u001b[0;34m)\u001b[0m\u001b[0;34m\u001b[0m\u001b[0;34m\u001b[0m\u001b[0m\n\u001b[0m\u001b[1;32m    698\u001b[0m     \u001b[0;32mfor\u001b[0m \u001b[0midx\u001b[0m\u001b[0;34m,\u001b[0m\u001b[0moutput_line\u001b[0m \u001b[0;32min\u001b[0m \u001b[0menumerate\u001b[0m\u001b[0;34m(\u001b[0m\u001b[0moutput\u001b[0m\u001b[0;34m.\u001b[0m\u001b[0msplitlines\u001b[0m\u001b[0;34m(\u001b[0m\u001b[0;34m)\u001b[0m\u001b[0;34m)\u001b[0m\u001b[0;34m:\u001b[0m\u001b[0;34m\u001b[0m\u001b[0;34m\u001b[0m\u001b[0m\n\u001b[1;32m    699\u001b[0m         \u001b[0;32mif\u001b[0m \u001b[0midx\u001b[0m\u001b[0;34m:\u001b[0m\u001b[0;34m\u001b[0m\u001b[0;34m\u001b[0m\u001b[0m\n",
      "\u001b[0;31mTypeError\u001b[0m: __repr__ returned non-string (type NoneType)"
     ]
    }
   ],
   "source": [
    "sample_table"
   ]
  },
  {
   "cell_type": "code",
   "execution_count": 147,
   "metadata": {
    "ExecuteTime": {
     "end_time": "2020-01-31T00:56:23.441561Z",
     "start_time": "2020-01-31T00:56:23.419961Z"
    }
   },
   "outputs": [
    {
     "name": "stdout",
     "output_type": "stream",
     "text": [
      "Single fitter for test<k_seq.estimator.least_squareSingleFitter at 0x7fb6fb4061d0> initiated\n"
     ]
    }
   ],
   "source": [
    "from k_seq.model import kinetic\n",
    "reload(kinetic)\n",
    "samples = byo_doped.table_filtered_seq_in_all_smpl_reacted_frac_total_dna.columns\n",
    "single_fitter = least_square.SingleFitter(\n",
    "    x_data=byo_doped.x_values[samples],\n",
    "    y_data=byo_doped.table_filtered_seq_in_all_smpl_reacted_frac_total_dna[samples].iloc[0],\n",
    "    model=kinetic.BYOModel.reacted_frac,\n",
    "    name='test',\n",
    "    bootstrap_num=10,\n",
    "    bs_record_num=10,\n",
    "    conv_reps=10,\n",
    "    metrics={'kA': lambda param: param[0] * param[1]}\n",
    ")"
   ]
  },
  {
   "cell_type": "code",
   "execution_count": 121,
   "metadata": {
    "ExecuteTime": {
     "end_time": "2020-01-30T23:52:16.860117Z",
     "start_time": "2020-01-30T23:52:16.855223Z"
    }
   },
   "outputs": [
    {
     "data": {
      "text/plain": [
       "['k', 'A']"
      ]
     },
     "execution_count": 121,
     "metadata": {},
     "output_type": "execute_result"
    }
   ],
   "source": [
    "single_fitter.parameters"
   ]
  },
  {
   "cell_type": "code",
   "execution_count": 151,
   "metadata": {
    "ExecuteTime": {
     "end_time": "2020-01-31T02:04:59.706124Z",
     "start_time": "2020-01-31T02:04:59.700473Z"
    }
   },
   "outputs": [
    {
     "data": {
      "text/plain": [
       "An attribute class with keys: ['summary', 'records']"
      ]
     },
     "execution_count": 151,
     "metadata": {},
     "output_type": "execute_result"
    }
   ],
   "source": [
    "single_fitter.results.convergence"
   ]
  },
  {
   "cell_type": "code",
   "execution_count": 150,
   "metadata": {
    "ExecuteTime": {
     "end_time": "2020-01-31T00:56:42.169411Z",
     "start_time": "2020-01-31T00:56:42.162656Z"
    }
   },
   "outputs": [
    {
     "data": {
      "text/plain": [
       "k                1.892311e+02\n",
       "A                3.504375e-01\n",
       "k_mean           2.026144e+02\n",
       "k_std            7.002587e+01\n",
       "k_2.5%           1.172074e+02\n",
       "k_50%            2.060924e+02\n",
       "k_97.5%          2.878115e+02\n",
       "A_mean           2.961044e-01\n",
       "A_std            3.846229e-02\n",
       "A_2.5%           2.390013e-01\n",
       "A_50%            3.023879e-01\n",
       "A_97.5%          3.420583e-01\n",
       "kA_mean          5.806667e+01\n",
       "kA_std           1.523354e+01\n",
       "kA_2.5%          3.677254e+01\n",
       "kA_50%           5.813546e+01\n",
       "kA_97.5%         7.768224e+01\n",
       "conv_k_mean      1.892307e+02\n",
       "conv_k_std       2.982662e-04\n",
       "conv_k_range     8.560931e-04\n",
       "conv_A_mean      3.504376e-01\n",
       "conv_A_std       9.671174e-08\n",
       "conv_A_range     2.775501e-07\n",
       "conv_kA_mean     6.631357e+01\n",
       "conv_kA_std      8.622286e-05\n",
       "conv_kA_range    2.474862e-04\n",
       "Name: test, dtype: float64"
      ]
     },
     "execution_count": 150,
     "metadata": {},
     "output_type": "execute_result"
    }
   ],
   "source": [
    "single_fitter.results.to_series()"
   ]
  },
  {
   "cell_type": "code",
   "execution_count": 4,
   "metadata": {
    "ExecuteTime": {
     "end_time": "2020-03-03T02:13:23.713261Z",
     "start_time": "2020-03-03T02:13:23.598789Z"
    },
    "scrolled": true
   },
   "outputs": [],
   "source": [
    "from k_seq.utility import func_tools"
   ]
  },
  {
   "cell_type": "code",
   "execution_count": 7,
   "metadata": {
    "ExecuteTime": {
     "end_time": "2020-03-03T02:13:57.765082Z",
     "start_time": "2020-03-03T02:13:57.674229Z"
    }
   },
   "outputs": [
    {
     "ename": "TypeError",
     "evalue": "update_none() missing 1 required positional argument: 'update_by'",
     "output_type": "error",
     "traceback": [
      "\u001b[0;31m---------------------------------------------------------------------------\u001b[0m",
      "\u001b[0;31mTypeError\u001b[0m                                 Traceback (most recent call last)",
      "\u001b[0;32m<ipython-input-7-738837b6bbfe>\u001b[0m in \u001b[0;36m<module>\u001b[0;34m\u001b[0m\n\u001b[0;32m----> 1\u001b[0;31m \u001b[0mfunc_tools\u001b[0m\u001b[0;34m.\u001b[0m\u001b[0mupdate_none\u001b[0m\u001b[0;34m(\u001b[0m\u001b[0marg\u001b[0m\u001b[0;34m=\u001b[0m\u001b[0;32mNone\u001b[0m\u001b[0;34m)\u001b[0m\u001b[0;34m\u001b[0m\u001b[0m\n\u001b[0m",
      "\u001b[0;31mTypeError\u001b[0m: update_none() missing 1 required positional argument: 'update_by'"
     ]
    }
   ],
   "source": [
    "func_tools.update_none(arg=None)"
   ]
  }
 ],
 "metadata": {
  "kernelspec": {
   "display_name": "k-seq",
   "language": "python",
   "name": "k-seq"
  },
  "language_info": {
   "codemirror_mode": {
    "name": "ipython",
    "version": 3
   },
   "file_extension": ".py",
   "mimetype": "text/x-python",
   "name": "python",
   "nbconvert_exporter": "python",
   "pygments_lexer": "ipython3",
   "version": "3.6.3"
  }
 },
 "nbformat": 4,
 "nbformat_minor": 4
}
