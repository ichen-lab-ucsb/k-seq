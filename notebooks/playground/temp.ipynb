{
 "cells": [
  {
   "cell_type": "code",
   "execution_count": 61,
   "metadata": {
    "ExecuteTime": {
     "end_time": "2020-02-03T23:44:08.992575Z",
     "start_time": "2020-02-03T23:44:08.986867Z"
    }
   },
   "outputs": [],
   "source": [
    "from yuning_util.dev_mode import DevMode\n",
    "dev_mode = DevMode('k-seq')\n",
    "dev_mode.on()\n",
    "\n",
    "from importlib import reload\n",
    "import pandas as pd\n",
    "import numpy as np\n",
    "import matplotlib.pyplot as plt\n",
    "plt.style.use('seaborn')\n",
    "import matplotlib as mpl\n",
    "mpl.rcParams['figure.dpi'] = 240"
   ]
  },
  {
   "cell_type": "code",
   "execution_count": 96,
   "metadata": {
    "ExecuteTime": {
     "end_time": "2020-02-04T00:06:28.890599Z",
     "start_time": "2020-02-04T00:06:28.853400Z"
    }
   },
   "outputs": [
    {
     "data": {
      "text/plain": [
       "<module 'k_seq.estimator.least_square' from '/home/yuning/research/k-seq/src/k_seq/estimator/least_square.py'>"
      ]
     },
     "execution_count": 96,
     "metadata": {},
     "output_type": "execute_result"
    }
   ],
   "source": [
    "reload(least_square)"
   ]
  },
  {
   "cell_type": "code",
   "execution_count": 93,
   "metadata": {
    "ExecuteTime": {
     "end_time": "2020-02-03T23:57:25.831648Z",
     "start_time": "2020-02-03T23:57:25.823506Z"
    }
   },
   "outputs": [],
   "source": []
  },
  {
   "cell_type": "code",
   "execution_count": 97,
   "metadata": {
    "ExecuteTime": {
     "end_time": "2020-02-04T00:08:05.916000Z",
     "start_time": "2020-02-04T00:07:02.101460Z"
    }
   },
   "outputs": [],
   "source": [
    "result_root = '/mnt/storage/projects/k-seq/working/byo_doped/least_square/pandaSeq/bootstrap_201912-202002/table-seq-in-all_bs-num-1000_bs-mtd-data_no-zero-false_inv-weight-false_core-40/results'\n",
    "result = least_square.BatchFitResults.generate_summary(\n",
    "    result_folder_path=result_root, n_core=8,\n",
    "    save_to='/mnt/storage/projects/k-seq/working/byo_doped/least_square/pandaSeq/bootstrap_201912-202002/table-seq-in-all_bs-num-1000_bs-mtd-data_no-zero-false_inv-weight-false_core-40/summary.csv'\n",
    ")"
   ]
  },
  {
   "cell_type": "code",
   "execution_count": 95,
   "metadata": {
    "ExecuteTime": {
     "end_time": "2020-02-03T23:58:02.340828Z",
     "start_time": "2020-02-03T23:58:02.320235Z"
    }
   },
   "outputs": [
    {
     "data": {
      "text/html": [
       "<div>\n",
       "<style scoped>\n",
       "    .dataframe tbody tr th:only-of-type {\n",
       "        vertical-align: middle;\n",
       "    }\n",
       "\n",
       "    .dataframe tbody tr th {\n",
       "        vertical-align: top;\n",
       "    }\n",
       "\n",
       "    .dataframe thead th {\n",
       "        text-align: right;\n",
       "    }\n",
       "</style>\n",
       "<table border=\"1\" class=\"dataframe\">\n",
       "  <thead>\n",
       "    <tr style=\"text-align: right;\">\n",
       "      <th></th>\n",
       "      <th>k</th>\n",
       "      <th>A</th>\n",
       "      <th>kA</th>\n",
       "      <th>k_count</th>\n",
       "      <th>k_mean</th>\n",
       "      <th>k_std</th>\n",
       "      <th>k_min</th>\n",
       "      <th>k_2.5%</th>\n",
       "      <th>k_50%</th>\n",
       "      <th>k_97.5%</th>\n",
       "      <th>...</th>\n",
       "      <th>A_97.5%</th>\n",
       "      <th>A_max</th>\n",
       "      <th>kA_count</th>\n",
       "      <th>kA_mean</th>\n",
       "      <th>kA_std</th>\n",
       "      <th>kA_min</th>\n",
       "      <th>kA_2.5%</th>\n",
       "      <th>kA_50%</th>\n",
       "      <th>kA_97.5%</th>\n",
       "      <th>kA_max</th>\n",
       "    </tr>\n",
       "  </thead>\n",
       "  <tbody>\n",
       "    <tr>\n",
       "      <td>CTGGTCTTCAAGCAATCGGTC</td>\n",
       "      <td>127.053481</td>\n",
       "      <td>1.000000</td>\n",
       "      <td>127.053481</td>\n",
       "      <td>1000.0</td>\n",
       "      <td>130.517165</td>\n",
       "      <td>28.173645</td>\n",
       "      <td>68.684933</td>\n",
       "      <td>82.931368</td>\n",
       "      <td>127.565602</td>\n",
       "      <td>189.878000</td>\n",
       "      <td>...</td>\n",
       "      <td>1.000000</td>\n",
       "      <td>1.000000</td>\n",
       "      <td>1000.0</td>\n",
       "      <td>130.387016</td>\n",
       "      <td>28.080478</td>\n",
       "      <td>68.684921</td>\n",
       "      <td>82.931368</td>\n",
       "      <td>127.446695</td>\n",
       "      <td>189.294081</td>\n",
       "      <td>226.703344</td>\n",
       "    </tr>\n",
       "    <tr>\n",
       "      <td>ATGCGCTTCAAGCAATCGGTC</td>\n",
       "      <td>303.174066</td>\n",
       "      <td>0.536808</td>\n",
       "      <td>162.746363</td>\n",
       "      <td>1000.0</td>\n",
       "      <td>331.890422</td>\n",
       "      <td>180.590721</td>\n",
       "      <td>39.683047</td>\n",
       "      <td>90.402167</td>\n",
       "      <td>291.229186</td>\n",
       "      <td>795.572693</td>\n",
       "      <td>...</td>\n",
       "      <td>0.787851</td>\n",
       "      <td>1.000000</td>\n",
       "      <td>1000.0</td>\n",
       "      <td>175.808672</td>\n",
       "      <td>84.029946</td>\n",
       "      <td>39.045233</td>\n",
       "      <td>53.219364</td>\n",
       "      <td>162.761443</td>\n",
       "      <td>366.992956</td>\n",
       "      <td>581.647278</td>\n",
       "    </tr>\n",
       "    <tr>\n",
       "      <td>CCGCTCTTCAAACAATCGGTC</td>\n",
       "      <td>262.747044</td>\n",
       "      <td>0.507432</td>\n",
       "      <td>133.326378</td>\n",
       "      <td>1000.0</td>\n",
       "      <td>261.454021</td>\n",
       "      <td>50.825346</td>\n",
       "      <td>120.574093</td>\n",
       "      <td>171.449291</td>\n",
       "      <td>261.999004</td>\n",
       "      <td>363.995638</td>\n",
       "      <td>...</td>\n",
       "      <td>0.630990</td>\n",
       "      <td>0.729271</td>\n",
       "      <td>1000.0</td>\n",
       "      <td>132.106205</td>\n",
       "      <td>15.679792</td>\n",
       "      <td>87.931199</td>\n",
       "      <td>105.943905</td>\n",
       "      <td>131.472174</td>\n",
       "      <td>166.668433</td>\n",
       "      <td>221.980795</td>\n",
       "    </tr>\n",
       "    <tr>\n",
       "      <td>CAATGCTTCAAACAATCGGTC</td>\n",
       "      <td>304.417866</td>\n",
       "      <td>0.476714</td>\n",
       "      <td>145.120110</td>\n",
       "      <td>1000.0</td>\n",
       "      <td>308.739289</td>\n",
       "      <td>79.758935</td>\n",
       "      <td>74.874189</td>\n",
       "      <td>130.372765</td>\n",
       "      <td>304.363768</td>\n",
       "      <td>467.782442</td>\n",
       "      <td>...</td>\n",
       "      <td>0.867447</td>\n",
       "      <td>1.000000</td>\n",
       "      <td>1000.0</td>\n",
       "      <td>145.573101</td>\n",
       "      <td>32.635853</td>\n",
       "      <td>51.961850</td>\n",
       "      <td>82.320696</td>\n",
       "      <td>144.534293</td>\n",
       "      <td>210.297753</td>\n",
       "      <td>271.475424</td>\n",
       "    </tr>\n",
       "    <tr>\n",
       "      <td>TGGTTTCAAACAATCGGTCTG</td>\n",
       "      <td>328.917776</td>\n",
       "      <td>0.426423</td>\n",
       "      <td>140.257962</td>\n",
       "      <td>1000.0</td>\n",
       "      <td>338.309556</td>\n",
       "      <td>134.359615</td>\n",
       "      <td>66.235075</td>\n",
       "      <td>131.443430</td>\n",
       "      <td>312.505300</td>\n",
       "      <td>676.700341</td>\n",
       "      <td>...</td>\n",
       "      <td>0.779896</td>\n",
       "      <td>1.000000</td>\n",
       "      <td>1000.0</td>\n",
       "      <td>144.067828</td>\n",
       "      <td>46.790542</td>\n",
       "      <td>35.962123</td>\n",
       "      <td>76.449419</td>\n",
       "      <td>135.404283</td>\n",
       "      <td>260.180353</td>\n",
       "      <td>366.409322</td>\n",
       "    </tr>\n",
       "    <tr>\n",
       "      <td>...</td>\n",
       "      <td>...</td>\n",
       "      <td>...</td>\n",
       "      <td>...</td>\n",
       "      <td>...</td>\n",
       "      <td>...</td>\n",
       "      <td>...</td>\n",
       "      <td>...</td>\n",
       "      <td>...</td>\n",
       "      <td>...</td>\n",
       "      <td>...</td>\n",
       "      <td>...</td>\n",
       "      <td>...</td>\n",
       "      <td>...</td>\n",
       "      <td>...</td>\n",
       "      <td>...</td>\n",
       "      <td>...</td>\n",
       "      <td>...</td>\n",
       "      <td>...</td>\n",
       "      <td>...</td>\n",
       "      <td>...</td>\n",
       "      <td>...</td>\n",
       "    </tr>\n",
       "    <tr>\n",
       "      <td>ATTACTCTGCGCATCGAGTGA</td>\n",
       "      <td>502.720267</td>\n",
       "      <td>0.015874</td>\n",
       "      <td>7.980045</td>\n",
       "      <td>1000.0</td>\n",
       "      <td>496.708671</td>\n",
       "      <td>265.363057</td>\n",
       "      <td>0.431135</td>\n",
       "      <td>49.182177</td>\n",
       "      <td>467.380832</td>\n",
       "      <td>1177.233944</td>\n",
       "      <td>...</td>\n",
       "      <td>0.021954</td>\n",
       "      <td>0.937726</td>\n",
       "      <td>1000.0</td>\n",
       "      <td>7.616820</td>\n",
       "      <td>2.985351</td>\n",
       "      <td>0.404286</td>\n",
       "      <td>0.977589</td>\n",
       "      <td>7.795882</td>\n",
       "      <td>13.345193</td>\n",
       "      <td>16.577960</td>\n",
       "    </tr>\n",
       "    <tr>\n",
       "      <td>AACTTTGCTAATAGTCGTAAG</td>\n",
       "      <td>16.531567</td>\n",
       "      <td>0.057183</td>\n",
       "      <td>0.945331</td>\n",
       "      <td>1000.0</td>\n",
       "      <td>19.246304</td>\n",
       "      <td>15.855714</td>\n",
       "      <td>0.788993</td>\n",
       "      <td>3.102393</td>\n",
       "      <td>16.526853</td>\n",
       "      <td>46.571816</td>\n",
       "      <td>...</td>\n",
       "      <td>0.256927</td>\n",
       "      <td>0.999817</td>\n",
       "      <td>1000.0</td>\n",
       "      <td>0.972282</td>\n",
       "      <td>0.147169</td>\n",
       "      <td>0.774808</td>\n",
       "      <td>0.797202</td>\n",
       "      <td>0.941132</td>\n",
       "      <td>1.304391</td>\n",
       "      <td>1.995332</td>\n",
       "    </tr>\n",
       "    <tr>\n",
       "      <td>AATACCCTTGTCATCAAGTGA</td>\n",
       "      <td>498.944471</td>\n",
       "      <td>0.015821</td>\n",
       "      <td>7.893913</td>\n",
       "      <td>1000.0</td>\n",
       "      <td>515.269734</td>\n",
       "      <td>331.596720</td>\n",
       "      <td>51.541064</td>\n",
       "      <td>82.140853</td>\n",
       "      <td>477.001372</td>\n",
       "      <td>1280.601934</td>\n",
       "      <td>...</td>\n",
       "      <td>0.023901</td>\n",
       "      <td>0.026043</td>\n",
       "      <td>1000.0</td>\n",
       "      <td>7.762693</td>\n",
       "      <td>4.080518</td>\n",
       "      <td>1.281924</td>\n",
       "      <td>1.845754</td>\n",
       "      <td>7.408683</td>\n",
       "      <td>16.741573</td>\n",
       "      <td>21.261842</td>\n",
       "    </tr>\n",
       "    <tr>\n",
       "      <td>GAGTTTGCTCATAGTCGCAAG</td>\n",
       "      <td>0.696852</td>\n",
       "      <td>0.991357</td>\n",
       "      <td>0.690828</td>\n",
       "      <td>997.0</td>\n",
       "      <td>4.702379</td>\n",
       "      <td>12.129995</td>\n",
       "      <td>0.590066</td>\n",
       "      <td>0.628383</td>\n",
       "      <td>0.780564</td>\n",
       "      <td>20.167688</td>\n",
       "      <td>...</td>\n",
       "      <td>1.000000</td>\n",
       "      <td>1.000000</td>\n",
       "      <td>997.0</td>\n",
       "      <td>0.745648</td>\n",
       "      <td>0.097915</td>\n",
       "      <td>0.525972</td>\n",
       "      <td>0.600488</td>\n",
       "      <td>0.725501</td>\n",
       "      <td>1.001042</td>\n",
       "      <td>1.339923</td>\n",
       "    </tr>\n",
       "    <tr>\n",
       "      <td>ATTACCTGGGTCATCGAGTGA</td>\n",
       "      <td>87.639097</td>\n",
       "      <td>0.022544</td>\n",
       "      <td>1.975759</td>\n",
       "      <td>1000.0</td>\n",
       "      <td>173.704548</td>\n",
       "      <td>175.138336</td>\n",
       "      <td>49.737426</td>\n",
       "      <td>55.547577</td>\n",
       "      <td>93.078074</td>\n",
       "      <td>696.888904</td>\n",
       "      <td>...</td>\n",
       "      <td>0.026960</td>\n",
       "      <td>0.028068</td>\n",
       "      <td>1000.0</td>\n",
       "      <td>3.177429</td>\n",
       "      <td>2.288218</td>\n",
       "      <td>1.349419</td>\n",
       "      <td>1.456998</td>\n",
       "      <td>2.063132</td>\n",
       "      <td>9.493759</td>\n",
       "      <td>12.004845</td>\n",
       "    </tr>\n",
       "  </tbody>\n",
       "</table>\n",
       "<p>10000 rows × 27 columns</p>\n",
       "</div>"
      ],
      "text/plain": [
       "                                k         A          kA  k_count      k_mean  \\\n",
       "CTGGTCTTCAAGCAATCGGTC  127.053481  1.000000  127.053481   1000.0  130.517165   \n",
       "ATGCGCTTCAAGCAATCGGTC  303.174066  0.536808  162.746363   1000.0  331.890422   \n",
       "CCGCTCTTCAAACAATCGGTC  262.747044  0.507432  133.326378   1000.0  261.454021   \n",
       "CAATGCTTCAAACAATCGGTC  304.417866  0.476714  145.120110   1000.0  308.739289   \n",
       "TGGTTTCAAACAATCGGTCTG  328.917776  0.426423  140.257962   1000.0  338.309556   \n",
       "...                           ...       ...         ...      ...         ...   \n",
       "ATTACTCTGCGCATCGAGTGA  502.720267  0.015874    7.980045   1000.0  496.708671   \n",
       "AACTTTGCTAATAGTCGTAAG   16.531567  0.057183    0.945331   1000.0   19.246304   \n",
       "AATACCCTTGTCATCAAGTGA  498.944471  0.015821    7.893913   1000.0  515.269734   \n",
       "GAGTTTGCTCATAGTCGCAAG    0.696852  0.991357    0.690828    997.0    4.702379   \n",
       "ATTACCTGGGTCATCGAGTGA   87.639097  0.022544    1.975759   1000.0  173.704548   \n",
       "\n",
       "                            k_std       k_min      k_2.5%       k_50%  \\\n",
       "CTGGTCTTCAAGCAATCGGTC   28.173645   68.684933   82.931368  127.565602   \n",
       "ATGCGCTTCAAGCAATCGGTC  180.590721   39.683047   90.402167  291.229186   \n",
       "CCGCTCTTCAAACAATCGGTC   50.825346  120.574093  171.449291  261.999004   \n",
       "CAATGCTTCAAACAATCGGTC   79.758935   74.874189  130.372765  304.363768   \n",
       "TGGTTTCAAACAATCGGTCTG  134.359615   66.235075  131.443430  312.505300   \n",
       "...                           ...         ...         ...         ...   \n",
       "ATTACTCTGCGCATCGAGTGA  265.363057    0.431135   49.182177  467.380832   \n",
       "AACTTTGCTAATAGTCGTAAG   15.855714    0.788993    3.102393   16.526853   \n",
       "AATACCCTTGTCATCAAGTGA  331.596720   51.541064   82.140853  477.001372   \n",
       "GAGTTTGCTCATAGTCGCAAG   12.129995    0.590066    0.628383    0.780564   \n",
       "ATTACCTGGGTCATCGAGTGA  175.138336   49.737426   55.547577   93.078074   \n",
       "\n",
       "                           k_97.5%  ...   A_97.5%     A_max  kA_count  \\\n",
       "CTGGTCTTCAAGCAATCGGTC   189.878000  ...  1.000000  1.000000    1000.0   \n",
       "ATGCGCTTCAAGCAATCGGTC   795.572693  ...  0.787851  1.000000    1000.0   \n",
       "CCGCTCTTCAAACAATCGGTC   363.995638  ...  0.630990  0.729271    1000.0   \n",
       "CAATGCTTCAAACAATCGGTC   467.782442  ...  0.867447  1.000000    1000.0   \n",
       "TGGTTTCAAACAATCGGTCTG   676.700341  ...  0.779896  1.000000    1000.0   \n",
       "...                            ...  ...       ...       ...       ...   \n",
       "ATTACTCTGCGCATCGAGTGA  1177.233944  ...  0.021954  0.937726    1000.0   \n",
       "AACTTTGCTAATAGTCGTAAG    46.571816  ...  0.256927  0.999817    1000.0   \n",
       "AATACCCTTGTCATCAAGTGA  1280.601934  ...  0.023901  0.026043    1000.0   \n",
       "GAGTTTGCTCATAGTCGCAAG    20.167688  ...  1.000000  1.000000     997.0   \n",
       "ATTACCTGGGTCATCGAGTGA   696.888904  ...  0.026960  0.028068    1000.0   \n",
       "\n",
       "                          kA_mean     kA_std     kA_min     kA_2.5%  \\\n",
       "CTGGTCTTCAAGCAATCGGTC  130.387016  28.080478  68.684921   82.931368   \n",
       "ATGCGCTTCAAGCAATCGGTC  175.808672  84.029946  39.045233   53.219364   \n",
       "CCGCTCTTCAAACAATCGGTC  132.106205  15.679792  87.931199  105.943905   \n",
       "CAATGCTTCAAACAATCGGTC  145.573101  32.635853  51.961850   82.320696   \n",
       "TGGTTTCAAACAATCGGTCTG  144.067828  46.790542  35.962123   76.449419   \n",
       "...                           ...        ...        ...         ...   \n",
       "ATTACTCTGCGCATCGAGTGA    7.616820   2.985351   0.404286    0.977589   \n",
       "AACTTTGCTAATAGTCGTAAG    0.972282   0.147169   0.774808    0.797202   \n",
       "AATACCCTTGTCATCAAGTGA    7.762693   4.080518   1.281924    1.845754   \n",
       "GAGTTTGCTCATAGTCGCAAG    0.745648   0.097915   0.525972    0.600488   \n",
       "ATTACCTGGGTCATCGAGTGA    3.177429   2.288218   1.349419    1.456998   \n",
       "\n",
       "                           kA_50%    kA_97.5%      kA_max  \n",
       "CTGGTCTTCAAGCAATCGGTC  127.446695  189.294081  226.703344  \n",
       "ATGCGCTTCAAGCAATCGGTC  162.761443  366.992956  581.647278  \n",
       "CCGCTCTTCAAACAATCGGTC  131.472174  166.668433  221.980795  \n",
       "CAATGCTTCAAACAATCGGTC  144.534293  210.297753  271.475424  \n",
       "TGGTTTCAAACAATCGGTCTG  135.404283  260.180353  366.409322  \n",
       "...                           ...         ...         ...  \n",
       "ATTACTCTGCGCATCGAGTGA    7.795882   13.345193   16.577960  \n",
       "AACTTTGCTAATAGTCGTAAG    0.941132    1.304391    1.995332  \n",
       "AATACCCTTGTCATCAAGTGA    7.408683   16.741573   21.261842  \n",
       "GAGTTTGCTCATAGTCGCAAG    0.725501    1.001042    1.339923  \n",
       "ATTACCTGGGTCATCGAGTGA    2.063132    9.493759   12.004845  \n",
       "\n",
       "[10000 rows x 27 columns]"
      ]
     },
     "execution_count": 95,
     "metadata": {},
     "output_type": "execute_result"
    }
   ],
   "source": [
    "result"
   ]
  },
  {
   "cell_type": "code",
   "execution_count": 64,
   "metadata": {
    "ExecuteTime": {
     "end_time": "2020-02-03T23:44:15.133973Z",
     "start_time": "2020-02-03T23:44:15.088334Z"
    }
   },
   "outputs": [],
   "source": [
    "from k_seq.estimator import least_square\n",
    "reload(least_square)\n",
    "fit_res = _read_seq_json(path=result_root + '/seqs/-8471193594612481418.json')"
   ]
  },
  {
   "cell_type": "code",
   "execution_count": 74,
   "metadata": {
    "ExecuteTime": {
     "end_time": "2020-02-03T23:48:13.148266Z",
     "start_time": "2020-02-03T23:48:13.143228Z"
    }
   },
   "outputs": [
    {
     "data": {
      "text/plain": [
       "('TGGTTTCAAACAATCGGTCTG',\n",
       " PosixPath('/mnt/storage/projects/k-seq/working/byo_doped/least_square/pandaSeq/bootstrap_201912-202002/table-seq-in-all_bs-num-1000_bs-mtd-data_no-zero-false_inv-weight-false_core-40/results/seqs/-4217963938457622377.json'))"
      ]
     },
     "execution_count": 74,
     "metadata": {},
     "output_type": "execute_result"
    }
   ],
   "source": [
    "next(file_list)"
   ]
  },
  {
   "cell_type": "code",
   "execution_count": 3,
   "metadata": {
    "ExecuteTime": {
     "end_time": "2020-01-31T05:30:27.370420Z",
     "start_time": "2020-01-31T05:30:27.188068Z"
    }
   },
   "outputs": [
    {
     "ename": "ModuleNotFoundError",
     "evalue": "No module named 'k_seq'",
     "output_type": "error",
     "traceback": [
      "\u001b[0;31m---------------------------------------------------------------------------\u001b[0m",
      "\u001b[0;31mModuleNotFoundError\u001b[0m                       Traceback (most recent call last)",
      "\u001b[0;32m<ipython-input-3-fbfe9ab64a39>\u001b[0m in \u001b[0;36m<module>\u001b[0;34m\u001b[0m\n\u001b[0;32m----> 1\u001b[0;31m \u001b[0;32mfrom\u001b[0m \u001b[0mk_seq\u001b[0m\u001b[0;34m.\u001b[0m\u001b[0mestimator\u001b[0m \u001b[0;32mimport\u001b[0m \u001b[0mleast_square\u001b[0m\u001b[0;34m\u001b[0m\u001b[0;34m\u001b[0m\u001b[0m\n\u001b[0m\u001b[1;32m      2\u001b[0m \u001b[0;32mfrom\u001b[0m \u001b[0mk_seq\u001b[0m\u001b[0;34m.\u001b[0m\u001b[0mdata\u001b[0m \u001b[0;32mimport\u001b[0m \u001b[0mseq_table\u001b[0m\u001b[0;34m\u001b[0m\u001b[0;34m\u001b[0m\u001b[0m\n\u001b[1;32m      3\u001b[0m \u001b[0mreload\u001b[0m\u001b[0;34m(\u001b[0m\u001b[0mseq_table\u001b[0m\u001b[0;34m)\u001b[0m\u001b[0;34m\u001b[0m\u001b[0;34m\u001b[0m\u001b[0m\n\u001b[1;32m      4\u001b[0m \u001b[0mreload\u001b[0m\u001b[0;34m(\u001b[0m\u001b[0mleast_square\u001b[0m\u001b[0;34m)\u001b[0m\u001b[0;34m\u001b[0m\u001b[0;34m\u001b[0m\u001b[0m\n",
      "\u001b[0;31mModuleNotFoundError\u001b[0m: No module named 'k_seq'"
     ]
    }
   ],
   "source": [
    "from k_seq.estimator import least_square\n",
    "from k_seq.data import seq_table\n",
    "reload(seq_table)\n",
    "reload(least_square)"
   ]
  },
  {
   "cell_type": "code",
   "execution_count": null,
   "metadata": {},
   "outputs": [],
   "source": [
    "from "
   ]
  },
  {
   "cell_type": "code",
   "execution_count": 220,
   "metadata": {
    "ExecuteTime": {
     "end_time": "2020-01-31T03:35:00.853321Z",
     "start_time": "2020-01-31T03:34:24.606604Z"
    }
   },
   "outputs": [
    {
     "name": "stdout",
     "output_type": "stream",
     "text": [
      "Generate SeqTable instance for BYO-doped pool...\n",
      "Importing from /mnt/storage/projects/k-seq/working/byo_doped/read_join/no-mismatch-assembly-first/counts...this could take a couple of minutes...\n"
     ]
    },
    {
     "ename": "ValueError",
     "evalue": "The truth value of a DataFrame is ambiguous. Use a.empty, a.bool(), a.item(), a.any() or a.all().",
     "output_type": "error",
     "traceback": [
      "\u001b[0;31m---------------------------------------------------------------------------\u001b[0m",
      "\u001b[0;31mValueError\u001b[0m                                Traceback (most recent call last)",
      "\u001b[0;32m<ipython-input-220-80ab93b87d0a>\u001b[0m in \u001b[0;36m<module>\u001b[0;34m\u001b[0m\n\u001b[0;32m----> 1\u001b[0;31m \u001b[0mbyo_doped\u001b[0m \u001b[0;34m=\u001b[0m \u001b[0mseq_table\u001b[0m\u001b[0;34m.\u001b[0m\u001b[0mSeqTable\u001b[0m\u001b[0;34m.\u001b[0m\u001b[0mload_dataset\u001b[0m\u001b[0;34m(\u001b[0m\u001b[0;34m'byo-doped'\u001b[0m\u001b[0;34m,\u001b[0m \u001b[0mfrom_count_file\u001b[0m\u001b[0;34m=\u001b[0m\u001b[0;32mTrue\u001b[0m\u001b[0;34m)\u001b[0m\u001b[0;34m\u001b[0m\u001b[0;34m\u001b[0m\u001b[0m\n\u001b[0m",
      "\u001b[0;32m~/research/k-seq/src/k_seq/data/seq_table.py\u001b[0m in \u001b[0;36mload_dataset\u001b[0;34m(cls, dataset, from_count_file, **kwargs)\u001b[0m\n\u001b[1;32m    391\u001b[0m         \u001b[0;32mfrom\u001b[0m \u001b[0;34m.\u001b[0m\u001b[0mdatasets\u001b[0m \u001b[0;32mimport\u001b[0m \u001b[0mload_byo_doped\u001b[0m\u001b[0;34m,\u001b[0m \u001b[0mload_byo_selected\u001b[0m\u001b[0;34m\u001b[0m\u001b[0;34m\u001b[0m\u001b[0m\n\u001b[1;32m    392\u001b[0m         \u001b[0;32mif\u001b[0m \u001b[0mdataset\u001b[0m\u001b[0;34m.\u001b[0m\u001b[0mlower\u001b[0m\u001b[0;34m(\u001b[0m\u001b[0;34m)\u001b[0m \u001b[0;32min\u001b[0m \u001b[0;34m[\u001b[0m\u001b[0;34m'byo_doped'\u001b[0m\u001b[0;34m,\u001b[0m \u001b[0;34m'byo-doped'\u001b[0m\u001b[0;34m,\u001b[0m \u001b[0;34m'doped'\u001b[0m\u001b[0;34m]\u001b[0m\u001b[0;34m:\u001b[0m\u001b[0;34m\u001b[0m\u001b[0;34m\u001b[0m\u001b[0m\n\u001b[0;32m--> 393\u001b[0;31m             \u001b[0;32mreturn\u001b[0m \u001b[0mload_byo_doped\u001b[0m\u001b[0;34m(\u001b[0m\u001b[0mfrom_count_file\u001b[0m\u001b[0;34m=\u001b[0m\u001b[0mfrom_count_file\u001b[0m\u001b[0;34m,\u001b[0m \u001b[0;34m**\u001b[0m\u001b[0mkwargs\u001b[0m\u001b[0;34m)\u001b[0m\u001b[0;34m\u001b[0m\u001b[0;34m\u001b[0m\u001b[0m\n\u001b[0m\u001b[1;32m    394\u001b[0m         \u001b[0;32melif\u001b[0m \u001b[0mdataset\u001b[0m\u001b[0;34m.\u001b[0m\u001b[0mlower\u001b[0m\u001b[0;34m(\u001b[0m\u001b[0;34m)\u001b[0m \u001b[0;32min\u001b[0m \u001b[0;34m[\u001b[0m\u001b[0;34m'byo_selected'\u001b[0m\u001b[0;34m,\u001b[0m \u001b[0;34m'byo-selected'\u001b[0m\u001b[0;34m]\u001b[0m\u001b[0;34m:\u001b[0m\u001b[0;34m\u001b[0m\u001b[0;34m\u001b[0m\u001b[0m\n\u001b[1;32m    395\u001b[0m             \u001b[0;32mreturn\u001b[0m \u001b[0mload_byo_selected\u001b[0m\u001b[0;34m(\u001b[0m\u001b[0mfrom_count_file\u001b[0m\u001b[0;34m=\u001b[0m\u001b[0mfrom_count_file\u001b[0m\u001b[0;34m,\u001b[0m \u001b[0;34m**\u001b[0m\u001b[0mkwargs\u001b[0m\u001b[0;34m)\u001b[0m\u001b[0;34m\u001b[0m\u001b[0;34m\u001b[0m\u001b[0m\n",
      "\u001b[0;32m~/research/k-seq/src/k_seq/data/datasets.py\u001b[0m in \u001b[0;36mload_byo_doped\u001b[0;34m(from_count_file, count_file_path, doped_norm_path, pickled_path, pandaseq_joined, radius)\u001b[0m\n\u001b[1;32m     94\u001b[0m         \u001b[0;31m# filtered table by removing spike-in within 4 edit distance and seqs not with 21 nt\u001b[0m\u001b[0;34m\u001b[0m\u001b[0;34m\u001b[0m\u001b[0;34m\u001b[0m\u001b[0m\n\u001b[1;32m     95\u001b[0m         byo_doped.table_filtered = seq_length_filter.get_filtered_table(\n\u001b[0;32m---> 96\u001b[0;31m                 \u001b[0mtarget\u001b[0m\u001b[0;34m=\u001b[0m\u001b[0mspike_in_filter\u001b[0m\u001b[0;34m.\u001b[0m\u001b[0mget_filtered_table\u001b[0m\u001b[0;34m(\u001b[0m\u001b[0;34m)\u001b[0m\u001b[0;34m\u001b[0m\u001b[0;34m\u001b[0m\u001b[0m\n\u001b[0m\u001b[1;32m     97\u001b[0m         )\n\u001b[1;32m     98\u001b[0m         \u001b[0;32mfrom\u001b[0m \u001b[0;34m.\u001b[0m \u001b[0;32mimport\u001b[0m \u001b[0mlandscape\u001b[0m\u001b[0;34m\u001b[0m\u001b[0;34m\u001b[0m\u001b[0m\n",
      "\u001b[0;32m~/research/k-seq/src/k_seq/data/filters.py\u001b[0m in \u001b[0;36mget_filtered_table\u001b[0;34m(self, target, remove_zero, reverse, axis, *args, **kwargs)\u001b[0m\n\u001b[1;32m     65\u001b[0m                            \u001b[0mkeys\u001b[0m\u001b[0;34m=\u001b[0m\u001b[0mself\u001b[0m\u001b[0;34m.\u001b[0m\u001b[0mget_passed_item\u001b[0m\u001b[0;34m(\u001b[0m\u001b[0mtarget\u001b[0m\u001b[0;34m=\u001b[0m\u001b[0mtarget\u001b[0m\u001b[0;34m,\u001b[0m \u001b[0mreverse\u001b[0m\u001b[0;34m=\u001b[0m\u001b[0mreverse\u001b[0m\u001b[0;34m,\u001b[0m \u001b[0;34m*\u001b[0m\u001b[0margs\u001b[0m\u001b[0;34m,\u001b[0m \u001b[0;34m**\u001b[0m\u001b[0mkwargs\u001b[0m\u001b[0;34m)\u001b[0m\u001b[0;34m,\u001b[0m\u001b[0;34m\u001b[0m\u001b[0;34m\u001b[0m\u001b[0m\n\u001b[1;32m     66\u001b[0m                            \u001b[0maxis\u001b[0m\u001b[0;34m=\u001b[0m\u001b[0maxis\u001b[0m\u001b[0;34m,\u001b[0m\u001b[0;34m\u001b[0m\u001b[0;34m\u001b[0m\u001b[0m\n\u001b[0;32m---> 67\u001b[0;31m                            remove_zero=remove_zero)\n\u001b[0m\u001b[1;32m     68\u001b[0m \u001b[0;34m\u001b[0m\u001b[0m\n\u001b[1;32m     69\u001b[0m     \u001b[0;32mdef\u001b[0m \u001b[0msummary\u001b[0m\u001b[0;34m(\u001b[0m\u001b[0mself\u001b[0m\u001b[0;34m,\u001b[0m \u001b[0mtarget\u001b[0m\u001b[0;34m=\u001b[0m\u001b[0;32mNone\u001b[0m\u001b[0;34m,\u001b[0m \u001b[0;34m**\u001b[0m\u001b[0mkwargs\u001b[0m\u001b[0;34m)\u001b[0m\u001b[0;34m:\u001b[0m\u001b[0;34m\u001b[0m\u001b[0;34m\u001b[0m\u001b[0m\n",
      "\u001b[0;32m~/research/k-seq/src/k_seq/data/seq_table.py\u001b[0m in \u001b[0;36mslice_table\u001b[0;34m(table, axis, remove_zero, keys, mask)\u001b[0m\n\u001b[1;32m     45\u001b[0m         \u001b[0;32mraise\u001b[0m \u001b[0mValueError\u001b[0m\u001b[0;34m(\u001b[0m\u001b[0;34m'`keys` or `mask` must be provided'\u001b[0m\u001b[0;34m)\u001b[0m\u001b[0;34m\u001b[0m\u001b[0;34m\u001b[0m\u001b[0m\n\u001b[1;32m     46\u001b[0m \u001b[0;34m\u001b[0m\u001b[0m\n\u001b[0;32m---> 47\u001b[0;31m     \u001b[0;32mif\u001b[0m \u001b[0maxis\u001b[0m \u001b[0;34m==\u001b[0m \u001b[0;36m0\u001b[0m\u001b[0;34m:\u001b[0m\u001b[0;34m\u001b[0m\u001b[0;34m\u001b[0m\u001b[0m\n\u001b[0m\u001b[1;32m     48\u001b[0m         \u001b[0;32mif\u001b[0m \u001b[0mkeys\u001b[0m \u001b[0;32mis\u001b[0m \u001b[0;32mnot\u001b[0m \u001b[0;32mNone\u001b[0m\u001b[0;34m:\u001b[0m\u001b[0;34m\u001b[0m\u001b[0;34m\u001b[0m\u001b[0m\n\u001b[1;32m     49\u001b[0m             \u001b[0msub_table\u001b[0m \u001b[0;34m=\u001b[0m \u001b[0mtable\u001b[0m\u001b[0;34m.\u001b[0m\u001b[0mloc\u001b[0m\u001b[0;34m[\u001b[0m\u001b[0mkeys\u001b[0m\u001b[0;34m]\u001b[0m\u001b[0;34m\u001b[0m\u001b[0;34m\u001b[0m\u001b[0m\n",
      "\u001b[0;32m~/.pyenv/versions/anaconda3-5.0.1/envs/k-seq/lib/python3.7/site-packages/pandas/core/generic.py\u001b[0m in \u001b[0;36m__nonzero__\u001b[0;34m(self)\u001b[0m\n\u001b[1;32m   1553\u001b[0m             \u001b[0;34m\"The truth value of a {0} is ambiguous. \"\u001b[0m\u001b[0;34m\u001b[0m\u001b[0;34m\u001b[0m\u001b[0m\n\u001b[1;32m   1554\u001b[0m             \"Use a.empty, a.bool(), a.item(), a.any() or a.all().\".format(\n\u001b[0;32m-> 1555\u001b[0;31m                 \u001b[0mself\u001b[0m\u001b[0;34m.\u001b[0m\u001b[0m__class__\u001b[0m\u001b[0;34m.\u001b[0m\u001b[0m__name__\u001b[0m\u001b[0;34m\u001b[0m\u001b[0;34m\u001b[0m\u001b[0m\n\u001b[0m\u001b[1;32m   1556\u001b[0m             )\n\u001b[1;32m   1557\u001b[0m         )\n",
      "\u001b[0;31mValueError\u001b[0m: The truth value of a DataFrame is ambiguous. Use a.empty, a.bool(), a.item(), a.any() or a.all()."
     ]
    }
   ],
   "source": [
    "byo_doped = seq_table.SeqTable.load_dataset('byo-doped', from_count_file=True)"
   ]
  },
  {
   "cell_type": "code",
   "execution_count": 217,
   "metadata": {
    "ExecuteTime": {
     "end_time": "2020-01-31T03:34:15.568786Z",
     "start_time": "2020-01-31T03:34:15.555848Z"
    }
   },
   "outputs": [
    {
     "ename": "TypeError",
     "evalue": "__repr__ returned non-string (type NoneType)",
     "output_type": "error",
     "traceback": [
      "\u001b[0;31m---------------------------------------------------------------------------\u001b[0m",
      "\u001b[0;31mTypeError\u001b[0m                                 Traceback (most recent call last)",
      "\u001b[0;32m~/.pyenv/versions/anaconda3-5.0.1/envs/k-seq/lib/python3.7/site-packages/IPython/core/formatters.py\u001b[0m in \u001b[0;36m__call__\u001b[0;34m(self, obj)\u001b[0m\n\u001b[1;32m    700\u001b[0m                 \u001b[0mtype_pprinters\u001b[0m\u001b[0;34m=\u001b[0m\u001b[0mself\u001b[0m\u001b[0;34m.\u001b[0m\u001b[0mtype_printers\u001b[0m\u001b[0;34m,\u001b[0m\u001b[0;34m\u001b[0m\u001b[0;34m\u001b[0m\u001b[0m\n\u001b[1;32m    701\u001b[0m                 deferred_pprinters=self.deferred_printers)\n\u001b[0;32m--> 702\u001b[0;31m             \u001b[0mprinter\u001b[0m\u001b[0;34m.\u001b[0m\u001b[0mpretty\u001b[0m\u001b[0;34m(\u001b[0m\u001b[0mobj\u001b[0m\u001b[0;34m)\u001b[0m\u001b[0;34m\u001b[0m\u001b[0;34m\u001b[0m\u001b[0m\n\u001b[0m\u001b[1;32m    703\u001b[0m             \u001b[0mprinter\u001b[0m\u001b[0;34m.\u001b[0m\u001b[0mflush\u001b[0m\u001b[0;34m(\u001b[0m\u001b[0;34m)\u001b[0m\u001b[0;34m\u001b[0m\u001b[0;34m\u001b[0m\u001b[0m\n\u001b[1;32m    704\u001b[0m             \u001b[0;32mreturn\u001b[0m \u001b[0mstream\u001b[0m\u001b[0;34m.\u001b[0m\u001b[0mgetvalue\u001b[0m\u001b[0;34m(\u001b[0m\u001b[0;34m)\u001b[0m\u001b[0;34m\u001b[0m\u001b[0;34m\u001b[0m\u001b[0m\n",
      "\u001b[0;32m~/.pyenv/versions/anaconda3-5.0.1/envs/k-seq/lib/python3.7/site-packages/IPython/lib/pretty.py\u001b[0m in \u001b[0;36mpretty\u001b[0;34m(self, obj)\u001b[0m\n\u001b[1;32m    400\u001b[0m                         \u001b[0;32mif\u001b[0m \u001b[0mcls\u001b[0m \u001b[0;32mis\u001b[0m \u001b[0;32mnot\u001b[0m \u001b[0mobject\u001b[0m\u001b[0;31m \u001b[0m\u001b[0;31m\\\u001b[0m\u001b[0;34m\u001b[0m\u001b[0;34m\u001b[0m\u001b[0m\n\u001b[1;32m    401\u001b[0m                                 \u001b[0;32mand\u001b[0m \u001b[0mcallable\u001b[0m\u001b[0;34m(\u001b[0m\u001b[0mcls\u001b[0m\u001b[0;34m.\u001b[0m\u001b[0m__dict__\u001b[0m\u001b[0;34m.\u001b[0m\u001b[0mget\u001b[0m\u001b[0;34m(\u001b[0m\u001b[0;34m'__repr__'\u001b[0m\u001b[0;34m)\u001b[0m\u001b[0;34m)\u001b[0m\u001b[0;34m:\u001b[0m\u001b[0;34m\u001b[0m\u001b[0;34m\u001b[0m\u001b[0m\n\u001b[0;32m--> 402\u001b[0;31m                             \u001b[0;32mreturn\u001b[0m \u001b[0m_repr_pprint\u001b[0m\u001b[0;34m(\u001b[0m\u001b[0mobj\u001b[0m\u001b[0;34m,\u001b[0m \u001b[0mself\u001b[0m\u001b[0;34m,\u001b[0m \u001b[0mcycle\u001b[0m\u001b[0;34m)\u001b[0m\u001b[0;34m\u001b[0m\u001b[0;34m\u001b[0m\u001b[0m\n\u001b[0m\u001b[1;32m    403\u001b[0m \u001b[0;34m\u001b[0m\u001b[0m\n\u001b[1;32m    404\u001b[0m             \u001b[0;32mreturn\u001b[0m \u001b[0m_default_pprint\u001b[0m\u001b[0;34m(\u001b[0m\u001b[0mobj\u001b[0m\u001b[0;34m,\u001b[0m \u001b[0mself\u001b[0m\u001b[0;34m,\u001b[0m \u001b[0mcycle\u001b[0m\u001b[0;34m)\u001b[0m\u001b[0;34m\u001b[0m\u001b[0;34m\u001b[0m\u001b[0m\n",
      "\u001b[0;32m~/.pyenv/versions/anaconda3-5.0.1/envs/k-seq/lib/python3.7/site-packages/IPython/lib/pretty.py\u001b[0m in \u001b[0;36m_repr_pprint\u001b[0;34m(obj, p, cycle)\u001b[0m\n\u001b[1;32m    695\u001b[0m     \u001b[0;34m\"\"\"A pprint that just redirects to the normal repr function.\"\"\"\u001b[0m\u001b[0;34m\u001b[0m\u001b[0;34m\u001b[0m\u001b[0m\n\u001b[1;32m    696\u001b[0m     \u001b[0;31m# Find newlines and replace them with p.break_()\u001b[0m\u001b[0;34m\u001b[0m\u001b[0;34m\u001b[0m\u001b[0;34m\u001b[0m\u001b[0m\n\u001b[0;32m--> 697\u001b[0;31m     \u001b[0moutput\u001b[0m \u001b[0;34m=\u001b[0m \u001b[0mrepr\u001b[0m\u001b[0;34m(\u001b[0m\u001b[0mobj\u001b[0m\u001b[0;34m)\u001b[0m\u001b[0;34m\u001b[0m\u001b[0;34m\u001b[0m\u001b[0m\n\u001b[0m\u001b[1;32m    698\u001b[0m     \u001b[0;32mfor\u001b[0m \u001b[0midx\u001b[0m\u001b[0;34m,\u001b[0m\u001b[0moutput_line\u001b[0m \u001b[0;32min\u001b[0m \u001b[0menumerate\u001b[0m\u001b[0;34m(\u001b[0m\u001b[0moutput\u001b[0m\u001b[0;34m.\u001b[0m\u001b[0msplitlines\u001b[0m\u001b[0;34m(\u001b[0m\u001b[0;34m)\u001b[0m\u001b[0;34m)\u001b[0m\u001b[0;34m:\u001b[0m\u001b[0;34m\u001b[0m\u001b[0;34m\u001b[0m\u001b[0m\n\u001b[1;32m    699\u001b[0m         \u001b[0;32mif\u001b[0m \u001b[0midx\u001b[0m\u001b[0;34m:\u001b[0m\u001b[0;34m\u001b[0m\u001b[0;34m\u001b[0m\u001b[0m\n",
      "\u001b[0;31mTypeError\u001b[0m: __repr__ returned non-string (type NoneType)"
     ]
    }
   ],
   "source": [
    "sample_table"
   ]
  },
  {
   "cell_type": "code",
   "execution_count": 147,
   "metadata": {
    "ExecuteTime": {
     "end_time": "2020-01-31T00:56:23.441561Z",
     "start_time": "2020-01-31T00:56:23.419961Z"
    }
   },
   "outputs": [
    {
     "name": "stdout",
     "output_type": "stream",
     "text": [
      "Single fitter for test<k_seq.estimator.least_squareSingleFitter at 0x7fb6fb4061d0> initiated\n"
     ]
    }
   ],
   "source": [
    "from k_seq.model import kinetic\n",
    "reload(kinetic)\n",
    "samples = byo_doped.table_filtered_seq_in_all_smpl_reacted_frac_total_dna.columns\n",
    "single_fitter = least_square.SingleFitter(\n",
    "    x_data=byo_doped.x_values[samples],\n",
    "    y_data=byo_doped.table_filtered_seq_in_all_smpl_reacted_frac_total_dna[samples].iloc[0],\n",
    "    model=kinetic.BYOModel.reacted_frac,\n",
    "    name='test',\n",
    "    bootstrap_num=10,\n",
    "    bs_record_num=10,\n",
    "    conv_reps=10,\n",
    "    metrics={'kA': lambda param: param[0] * param[1]}\n",
    ")"
   ]
  },
  {
   "cell_type": "code",
   "execution_count": 121,
   "metadata": {
    "ExecuteTime": {
     "end_time": "2020-01-30T23:52:16.860117Z",
     "start_time": "2020-01-30T23:52:16.855223Z"
    }
   },
   "outputs": [
    {
     "data": {
      "text/plain": [
       "['k', 'A']"
      ]
     },
     "execution_count": 121,
     "metadata": {},
     "output_type": "execute_result"
    }
   ],
   "source": [
    "single_fitter.parameters"
   ]
  },
  {
   "cell_type": "code",
   "execution_count": 151,
   "metadata": {
    "ExecuteTime": {
     "end_time": "2020-01-31T02:04:59.706124Z",
     "start_time": "2020-01-31T02:04:59.700473Z"
    }
   },
   "outputs": [
    {
     "data": {
      "text/plain": [
       "An attribute class with keys: ['summary', 'records']"
      ]
     },
     "execution_count": 151,
     "metadata": {},
     "output_type": "execute_result"
    }
   ],
   "source": [
    "single_fitter.results.convergence"
   ]
  },
  {
   "cell_type": "code",
   "execution_count": 150,
   "metadata": {
    "ExecuteTime": {
     "end_time": "2020-01-31T00:56:42.169411Z",
     "start_time": "2020-01-31T00:56:42.162656Z"
    }
   },
   "outputs": [
    {
     "data": {
      "text/plain": [
       "k                1.892311e+02\n",
       "A                3.504375e-01\n",
       "k_mean           2.026144e+02\n",
       "k_std            7.002587e+01\n",
       "k_2.5%           1.172074e+02\n",
       "k_50%            2.060924e+02\n",
       "k_97.5%          2.878115e+02\n",
       "A_mean           2.961044e-01\n",
       "A_std            3.846229e-02\n",
       "A_2.5%           2.390013e-01\n",
       "A_50%            3.023879e-01\n",
       "A_97.5%          3.420583e-01\n",
       "kA_mean          5.806667e+01\n",
       "kA_std           1.523354e+01\n",
       "kA_2.5%          3.677254e+01\n",
       "kA_50%           5.813546e+01\n",
       "kA_97.5%         7.768224e+01\n",
       "conv_k_mean      1.892307e+02\n",
       "conv_k_std       2.982662e-04\n",
       "conv_k_range     8.560931e-04\n",
       "conv_A_mean      3.504376e-01\n",
       "conv_A_std       9.671174e-08\n",
       "conv_A_range     2.775501e-07\n",
       "conv_kA_mean     6.631357e+01\n",
       "conv_kA_std      8.622286e-05\n",
       "conv_kA_range    2.474862e-04\n",
       "Name: test, dtype: float64"
      ]
     },
     "execution_count": 150,
     "metadata": {},
     "output_type": "execute_result"
    }
   ],
   "source": [
    "single_fitter.results.to_series()"
   ]
  },
  {
   "cell_type": "code",
   "execution_count": 159,
   "metadata": {
    "ExecuteTime": {
     "end_time": "2020-01-31T03:01:56.642144Z",
     "start_time": "2020-01-31T03:01:56.636851Z"
    },
    "scrolled": true
   },
   "outputs": [
    {
     "ename": "TypeError",
     "evalue": "__repr__ returned non-string (type NoneType)",
     "output_type": "error",
     "traceback": [
      "\u001b[0;31m---------------------------------------------------------------------------\u001b[0m",
      "\u001b[0;31mTypeError\u001b[0m                                 Traceback (most recent call last)",
      "\u001b[0;32m~/.pyenv/versions/anaconda3-5.0.1/envs/k-seq/lib/python3.7/site-packages/IPython/core/formatters.py\u001b[0m in \u001b[0;36m__call__\u001b[0;34m(self, obj)\u001b[0m\n\u001b[1;32m    700\u001b[0m                 \u001b[0mtype_pprinters\u001b[0m\u001b[0;34m=\u001b[0m\u001b[0mself\u001b[0m\u001b[0;34m.\u001b[0m\u001b[0mtype_printers\u001b[0m\u001b[0;34m,\u001b[0m\u001b[0;34m\u001b[0m\u001b[0;34m\u001b[0m\u001b[0m\n\u001b[1;32m    701\u001b[0m                 deferred_pprinters=self.deferred_printers)\n\u001b[0;32m--> 702\u001b[0;31m             \u001b[0mprinter\u001b[0m\u001b[0;34m.\u001b[0m\u001b[0mpretty\u001b[0m\u001b[0;34m(\u001b[0m\u001b[0mobj\u001b[0m\u001b[0;34m)\u001b[0m\u001b[0;34m\u001b[0m\u001b[0;34m\u001b[0m\u001b[0m\n\u001b[0m\u001b[1;32m    703\u001b[0m             \u001b[0mprinter\u001b[0m\u001b[0;34m.\u001b[0m\u001b[0mflush\u001b[0m\u001b[0;34m(\u001b[0m\u001b[0;34m)\u001b[0m\u001b[0;34m\u001b[0m\u001b[0;34m\u001b[0m\u001b[0m\n\u001b[1;32m    704\u001b[0m             \u001b[0;32mreturn\u001b[0m \u001b[0mstream\u001b[0m\u001b[0;34m.\u001b[0m\u001b[0mgetvalue\u001b[0m\u001b[0;34m(\u001b[0m\u001b[0;34m)\u001b[0m\u001b[0;34m\u001b[0m\u001b[0;34m\u001b[0m\u001b[0m\n",
      "\u001b[0;32m~/.pyenv/versions/anaconda3-5.0.1/envs/k-seq/lib/python3.7/site-packages/IPython/lib/pretty.py\u001b[0m in \u001b[0;36mpretty\u001b[0;34m(self, obj)\u001b[0m\n\u001b[1;32m    400\u001b[0m                         \u001b[0;32mif\u001b[0m \u001b[0mcls\u001b[0m \u001b[0;32mis\u001b[0m \u001b[0;32mnot\u001b[0m \u001b[0mobject\u001b[0m\u001b[0;31m \u001b[0m\u001b[0;31m\\\u001b[0m\u001b[0;34m\u001b[0m\u001b[0;34m\u001b[0m\u001b[0m\n\u001b[1;32m    401\u001b[0m                                 \u001b[0;32mand\u001b[0m \u001b[0mcallable\u001b[0m\u001b[0;34m(\u001b[0m\u001b[0mcls\u001b[0m\u001b[0;34m.\u001b[0m\u001b[0m__dict__\u001b[0m\u001b[0;34m.\u001b[0m\u001b[0mget\u001b[0m\u001b[0;34m(\u001b[0m\u001b[0;34m'__repr__'\u001b[0m\u001b[0;34m)\u001b[0m\u001b[0;34m)\u001b[0m\u001b[0;34m:\u001b[0m\u001b[0;34m\u001b[0m\u001b[0;34m\u001b[0m\u001b[0m\n\u001b[0;32m--> 402\u001b[0;31m                             \u001b[0;32mreturn\u001b[0m \u001b[0m_repr_pprint\u001b[0m\u001b[0;34m(\u001b[0m\u001b[0mobj\u001b[0m\u001b[0;34m,\u001b[0m \u001b[0mself\u001b[0m\u001b[0;34m,\u001b[0m \u001b[0mcycle\u001b[0m\u001b[0;34m)\u001b[0m\u001b[0;34m\u001b[0m\u001b[0;34m\u001b[0m\u001b[0m\n\u001b[0m\u001b[1;32m    403\u001b[0m \u001b[0;34m\u001b[0m\u001b[0m\n\u001b[1;32m    404\u001b[0m             \u001b[0;32mreturn\u001b[0m \u001b[0m_default_pprint\u001b[0m\u001b[0;34m(\u001b[0m\u001b[0mobj\u001b[0m\u001b[0;34m,\u001b[0m \u001b[0mself\u001b[0m\u001b[0;34m,\u001b[0m \u001b[0mcycle\u001b[0m\u001b[0;34m)\u001b[0m\u001b[0;34m\u001b[0m\u001b[0;34m\u001b[0m\u001b[0m\n",
      "\u001b[0;32m~/.pyenv/versions/anaconda3-5.0.1/envs/k-seq/lib/python3.7/site-packages/IPython/lib/pretty.py\u001b[0m in \u001b[0;36m_repr_pprint\u001b[0;34m(obj, p, cycle)\u001b[0m\n\u001b[1;32m    695\u001b[0m     \u001b[0;34m\"\"\"A pprint that just redirects to the normal repr function.\"\"\"\u001b[0m\u001b[0;34m\u001b[0m\u001b[0;34m\u001b[0m\u001b[0m\n\u001b[1;32m    696\u001b[0m     \u001b[0;31m# Find newlines and replace them with p.break_()\u001b[0m\u001b[0;34m\u001b[0m\u001b[0;34m\u001b[0m\u001b[0;34m\u001b[0m\u001b[0m\n\u001b[0;32m--> 697\u001b[0;31m     \u001b[0moutput\u001b[0m \u001b[0;34m=\u001b[0m \u001b[0mrepr\u001b[0m\u001b[0;34m(\u001b[0m\u001b[0mobj\u001b[0m\u001b[0;34m)\u001b[0m\u001b[0;34m\u001b[0m\u001b[0;34m\u001b[0m\u001b[0m\n\u001b[0m\u001b[1;32m    698\u001b[0m     \u001b[0;32mfor\u001b[0m \u001b[0midx\u001b[0m\u001b[0;34m,\u001b[0m\u001b[0moutput_line\u001b[0m \u001b[0;32min\u001b[0m \u001b[0menumerate\u001b[0m\u001b[0;34m(\u001b[0m\u001b[0moutput\u001b[0m\u001b[0;34m.\u001b[0m\u001b[0msplitlines\u001b[0m\u001b[0;34m(\u001b[0m\u001b[0;34m)\u001b[0m\u001b[0;34m)\u001b[0m\u001b[0;34m:\u001b[0m\u001b[0;34m\u001b[0m\u001b[0;34m\u001b[0m\u001b[0m\n\u001b[1;32m    699\u001b[0m         \u001b[0;32mif\u001b[0m \u001b[0midx\u001b[0m\u001b[0;34m:\u001b[0m\u001b[0;34m\u001b[0m\u001b[0;34m\u001b[0m\u001b[0m\n",
      "\u001b[0;31mTypeError\u001b[0m: __repr__ returned non-string (type NoneType)"
     ]
    }
   ],
   "source": [
    "byo_doped"
   ]
  }
 ],
 "metadata": {
  "kernelspec": {
   "display_name": "SSH yuning@128.111.194.197 k-seq@tower",
   "language": "",
   "name": "rik_ssh_yuning_128_111_194_197_kseqtower"
  },
  "language_info": {
   "codemirror_mode": {
    "name": "ipython",
    "version": 3
   },
   "file_extension": ".py",
   "mimetype": "text/x-python",
   "name": "python",
   "nbconvert_exporter": "python",
   "pygments_lexer": "ipython3",
   "version": "3.7.4"
  }
 },
 "nbformat": 4,
 "nbformat_minor": 4
}
