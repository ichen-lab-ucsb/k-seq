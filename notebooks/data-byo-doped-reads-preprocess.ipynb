{
 "cells": [
  {
   "cell_type": "markdown",
   "metadata": {},
   "source": [
    "# Reads preprocess\n",
    "Raw reads from BYO-doped pool k-seq experiments were in `.fastq.gz` format and were preprocessed using `fastq-join` or `pandaSeq` to join pair-end reads, trim primers, and then survey counts for unique reads"
   ]
  },
  {
   "cell_type": "code",
   "execution_count": 1,
   "metadata": {
    "ExecuteTime": {
     "end_time": "2019-12-19T21:39:56.480312Z",
     "start_time": "2019-12-19T21:39:55.963912Z"
    }
   },
   "outputs": [],
   "source": [
    "from yuning_util.dev_mode import DevMode\n",
    "dev_mode = DevMode('k-seq')\n",
    "dev_mode.on()\n",
    "\n",
    "from importlib import reload\n",
    "import pandas as pd\n",
    "import numpy as np\n",
    "import matplotlib.pyplot as plt\n",
    "plt.style.use('seaborn')\n",
    "import matplotlib as mpl\n",
    "mpl.rcParams['figure.dpi'] = 240"
   ]
  },
  {
   "cell_type": "markdown",
   "metadata": {},
   "source": [
    "# Raw reads"
   ]
  },
  {
   "cell_type": "code",
   "execution_count": 2,
   "metadata": {
    "ExecuteTime": {
     "end_time": "2019-12-19T21:40:40.870514Z",
     "start_time": "2019-12-19T21:40:40.853104Z"
    }
   },
   "outputs": [],
   "source": [
    "raw_reads = pd.read_csv('/mnt/storage/projects/k-seq/input/byo_doped/raw_reads/sample_reads.tsv', sep='\\t')"
   ]
  },
  {
   "cell_type": "code",
   "execution_count": 22,
   "metadata": {
    "ExecuteTime": {
     "end_time": "2019-12-19T21:45:11.268967Z",
     "start_time": "2019-12-19T21:45:11.263109Z"
    }
   },
   "outputs": [
    {
     "name": "stderr",
     "output_type": "stream",
     "text": [
      "/home/yuning/.pyenv/versions/k-seq/bin/ipython:1: FutureWarning: Interpreting tuple 'by' as a list of keys, rather than a single key. Use 'by=[...]' instead of 'by=(...)'. In the future, a tuple will always mean a single key.\n",
      "  #!/home/yuning/.pyenv/versions/anaconda3-5.0.1/envs/k-seq/bin/python\n"
     ]
    },
    {
     "data": {
      "text/plain": [
       "array([False,  True, False,  True, False,  True, False,  True, False,\n",
       "        True, False,  True, False,  True, False,  True, False,  True,\n",
       "       False,  True, False,  True, False,  True, False,  True, False,\n",
       "        True, False,  True, False,  True])"
      ]
     },
     "execution_count": 22,
     "metadata": {},
     "output_type": "execute_result"
    }
   ],
   "source": [
    "sample_reads = raw_reads.groupby(by=('file', 'R')).sum()\n",
    "sample_reads.index.get_level_values(level=0)"
   ]
  }
 ],
 "metadata": {
  "kernelspec": {
   "display_name": "SSH yuning@128.111.194.197 k-seq",
   "language": "python",
   "name": "rik_ssh_yuning_128_111_194_197_kseq"
  },
  "language_info": {
   "codemirror_mode": {
    "name": "ipython",
    "version": 3
   },
   "file_extension": ".py",
   "mimetype": "text/x-python",
   "name": "python",
   "nbconvert_exporter": "python",
   "pygments_lexer": "ipython3",
   "version": "3.7.4"
  },
  "toc": {
   "nav_menu": {},
   "number_sections": true,
   "sideBar": true,
   "skip_h1_title": true,
   "toc_cell": false,
   "toc_position": {},
   "toc_section_display": "block",
   "toc_window_display": false
  },
  "varInspector": {
   "cols": {
    "lenName": 16,
    "lenType": 16,
    "lenVar": 40
   },
   "kernels_config": {
    "python": {
     "delete_cmd_postfix": "",
     "delete_cmd_prefix": "del ",
     "library": "var_list.py",
     "varRefreshCmd": "print(var_dic_list())"
    },
    "r": {
     "delete_cmd_postfix": ") ",
     "delete_cmd_prefix": "rm(",
     "library": "var_list.r",
     "varRefreshCmd": "cat(var_dic_list()) "
    }
   },
   "types_to_exclude": [
    "module",
    "function",
    "builtin_function_or_method",
    "instance",
    "_Feature"
   ],
   "window_display": false
  }
 },
 "nbformat": 4,
 "nbformat_minor": 2
}
