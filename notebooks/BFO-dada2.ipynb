{
 "cells": [
  {
   "cell_type": "code",
   "execution_count": 1,
   "metadata": {
    "ExecuteTime": {
     "end_time": "2019-03-31T04:40:01.967438Z",
     "start_time": "2019-03-31T04:39:58.197Z"
    },
    "scrolled": true
   },
   "outputs": [
    {
     "name": "stderr",
     "output_type": "stream",
     "text": [
      "Loading required package: Rcpp\n",
      "Loading required package: BiocGenerics\n",
      "Loading required package: parallel\n",
      "\n",
      "Attaching package: ‘BiocGenerics’\n",
      "\n",
      "The following objects are masked from ‘package:parallel’:\n",
      "\n",
      "    clusterApply, clusterApplyLB, clusterCall, clusterEvalQ,\n",
      "    clusterExport, clusterMap, parApply, parCapply, parLapply,\n",
      "    parLapplyLB, parRapply, parSapply, parSapplyLB\n",
      "\n",
      "The following objects are masked from ‘package:stats’:\n",
      "\n",
      "    IQR, mad, sd, var, xtabs\n",
      "\n",
      "The following objects are masked from ‘package:base’:\n",
      "\n",
      "    anyDuplicated, append, as.data.frame, cbind, colMeans, colnames,\n",
      "    colSums, do.call, duplicated, eval, evalq, Filter, Find, get, grep,\n",
      "    grepl, intersect, is.unsorted, lapply, lengths, Map, mapply, match,\n",
      "    mget, order, paste, pmax, pmax.int, pmin, pmin.int, Position, rank,\n",
      "    rbind, Reduce, rowMeans, rownames, rowSums, sapply, setdiff, sort,\n",
      "    table, tapply, union, unique, unsplit, which, which.max, which.min\n",
      "\n",
      "Loading required package: BiocParallel\n",
      "Loading required package: Biostrings\n",
      "Loading required package: S4Vectors\n",
      "Loading required package: stats4\n",
      "\n",
      "Attaching package: ‘S4Vectors’\n",
      "\n",
      "The following object is masked from ‘package:base’:\n",
      "\n",
      "    expand.grid\n",
      "\n",
      "Loading required package: IRanges\n",
      "Loading required package: XVector\n",
      "\n",
      "Attaching package: ‘Biostrings’\n",
      "\n",
      "The following object is masked from ‘package:base’:\n",
      "\n",
      "    strsplit\n",
      "\n",
      "Loading required package: Rsamtools\n",
      "Loading required package: GenomeInfoDb\n",
      "Loading required package: GenomicRanges\n",
      "Loading required package: GenomicAlignments\n",
      "Loading required package: SummarizedExperiment\n",
      "Loading required package: Biobase\n",
      "Welcome to Bioconductor\n",
      "\n",
      "    Vignettes contain introductory material; view with\n",
      "    'browseVignettes()'. To cite Bioconductor, see\n",
      "    'citation(\"Biobase\")', and for packages 'citation(\"pkgname\")'.\n",
      "\n",
      "Loading required package: DelayedArray\n",
      "Loading required package: matrixStats\n",
      "\n",
      "Attaching package: ‘matrixStats’\n",
      "\n",
      "The following objects are masked from ‘package:Biobase’:\n",
      "\n",
      "    anyMissing, rowMedians\n",
      "\n",
      "\n",
      "Attaching package: ‘DelayedArray’\n",
      "\n",
      "The following objects are masked from ‘package:matrixStats’:\n",
      "\n",
      "    colMaxs, colMins, colRanges, rowMaxs, rowMins, rowRanges\n",
      "\n",
      "The following object is masked from ‘package:Biostrings’:\n",
      "\n",
      "    type\n",
      "\n",
      "The following object is masked from ‘package:base’:\n",
      "\n",
      "    apply\n",
      "\n"
     ]
    }
   ],
   "source": [
    "library(dada2)\n",
    "library(ShortRead)"
   ]
  },
  {
   "cell_type": "markdown",
   "metadata": {},
   "source": [
    "# Data prep: pool raw reads together\n",
    "Sequencing was done on 4 different lanes\n"
   ]
  },
  {
   "cell_type": "code",
   "execution_count": 606,
   "metadata": {
    "ExecuteTime": {
     "end_time": "2019-03-29T05:39:53.974973Z",
     "start_time": "2019-03-29T05:33:53.021Z"
    },
    "scrolled": false
   },
   "outputs": [
    {
     "name": "stdout",
     "output_type": "stream",
     "text": [
      "[1] \"Research Regex (R[4F]A-inputA_S[[:digit:]]{1,2}_L00[1234]_R1), 4 file found.\"\n",
      "[1] \"Research Regex (R[4F]A-inputA_S[[:digit:]]{1,2}_L00[1234]_R2), 4 file found.\"\n",
      "[1] \"Research Regex (R[4F]A-inputB_S[[:digit:]]{1,2}_L00[1234]_R1), 4 file found.\"\n",
      "[1] \"Research Regex (R[4F]A-inputB_S[[:digit:]]{1,2}_L00[1234]_R2), 4 file found.\"\n",
      "[1] \"Research Regex (R[4F]A-0A_S[[:digit:]]{1,2}_L00[1234]_R1), 4 file found.\"\n",
      "[1] \"Research Regex (R[4F]A-0A_S[[:digit:]]{1,2}_L00[1234]_R2), 4 file found.\"\n",
      "[1] \"Research Regex (R[4F]A-0B_S[[:digit:]]{1,2}_L00[1234]_R1), 4 file found.\"\n",
      "[1] \"Research Regex (R[4F]A-0B_S[[:digit:]]{1,2}_L00[1234]_R2), 4 file found.\"\n",
      "[1] \"Research Regex (R[4F]A-2A_S[[:digit:]]{1,2}_L00[1234]_R1), 4 file found.\"\n",
      "[1] \"Research Regex (R[4F]A-2A_S[[:digit:]]{1,2}_L00[1234]_R2), 4 file found.\"\n",
      "[1] \"Research Regex (R[4F]A-2B_S[[:digit:]]{1,2}_L00[1234]_R1), 4 file found.\"\n",
      "[1] \"Research Regex (R[4F]A-2B_S[[:digit:]]{1,2}_L00[1234]_R2), 4 file found.\"\n",
      "[1] \"Research Regex (R[4F]A-10A_S[[:digit:]]{1,2}_L00[1234]_R1), 4 file found.\"\n",
      "[1] \"Research Regex (R[4F]A-10A_S[[:digit:]]{1,2}_L00[1234]_R2), 4 file found.\"\n",
      "[1] \"Research Regex (R[4F]A-10B_S[[:digit:]]{1,2}_L00[1234]_R1), 4 file found.\"\n",
      "[1] \"Research Regex (R[4F]A-10B_S[[:digit:]]{1,2}_L00[1234]_R2), 4 file found.\"\n",
      "[1] \"Research Regex (R[4F]A-50A_S[[:digit:]]{1,2}_L00[1234]_R1), 4 file found.\"\n",
      "[1] \"Research Regex (R[4F]A-50A_S[[:digit:]]{1,2}_L00[1234]_R2), 4 file found.\"\n",
      "[1] \"Research Regex (R[4F]A-50B_S[[:digit:]]{1,2}_L00[1234]_R1), 4 file found.\"\n",
      "[1] \"Research Regex (R[4F]A-50B_S[[:digit:]]{1,2}_L00[1234]_R2), 4 file found.\"\n",
      "[1] \"Research Regex (R[4F]A-250A_S[[:digit:]]{1,2}_L00[1234]_R1), 4 file found.\"\n",
      "[1] \"Research Regex (R[4F]A-250A_S[[:digit:]]{1,2}_L00[1234]_R2), 4 file found.\"\n",
      "[1] \"Research Regex (R[4F]A-250B_S[[:digit:]]{1,2}_L00[1234]_R1), 4 file found.\"\n",
      "[1] \"Research Regex (R[4F]A-250B_S[[:digit:]]{1,2}_L00[1234]_R2), 4 file found.\"\n",
      "[1] \"Research Regex (R[4F]A-1250A_S[[:digit:]]{1,2}_L00[1234]_R1), 4 file found.\"\n",
      "[1] \"Research Regex (R[4F]A-1250A_S[[:digit:]]{1,2}_L00[1234]_R2), 4 file found.\"\n",
      "[1] \"Research Regex (R[4F]A-1250B_S[[:digit:]]{1,2}_L00[1234]_R1), 4 file found.\"\n",
      "[1] \"Research Regex (R[4F]A-1250B_S[[:digit:]]{1,2}_L00[1234]_R2), 4 file found.\"\n",
      "[1] \"Research Regex (R[4F]B-inputA_S[[:digit:]]{1,2}_L00[1234]_R1), 4 file found.\"\n",
      "[1] \"Research Regex (R[4F]B-inputA_S[[:digit:]]{1,2}_L00[1234]_R2), 4 file found.\"\n",
      "[1] \"Research Regex (R[4F]B-inputB_S[[:digit:]]{1,2}_L00[1234]_R1), 4 file found.\"\n",
      "[1] \"Research Regex (R[4F]B-inputB_S[[:digit:]]{1,2}_L00[1234]_R2), 4 file found.\"\n",
      "[1] \"Research Regex (R[4F]B-0A_S[[:digit:]]{1,2}_L00[1234]_R1), 4 file found.\"\n",
      "[1] \"Research Regex (R[4F]B-0A_S[[:digit:]]{1,2}_L00[1234]_R2), 4 file found.\"\n",
      "[1] \"Research Regex (R[4F]B-0B_S[[:digit:]]{1,2}_L00[1234]_R1), 4 file found.\"\n",
      "[1] \"Research Regex (R[4F]B-0B_S[[:digit:]]{1,2}_L00[1234]_R2), 4 file found.\"\n",
      "[1] \"Research Regex (R[4F]B-2A_S[[:digit:]]{1,2}_L00[1234]_R1), 4 file found.\"\n",
      "[1] \"Research Regex (R[4F]B-2A_S[[:digit:]]{1,2}_L00[1234]_R2), 4 file found.\"\n",
      "[1] \"Research Regex (R[4F]B-2B_S[[:digit:]]{1,2}_L00[1234]_R1), 4 file found.\"\n",
      "[1] \"Research Regex (R[4F]B-2B_S[[:digit:]]{1,2}_L00[1234]_R2), 4 file found.\"\n",
      "[1] \"Research Regex (R[4F]B-10A_S[[:digit:]]{1,2}_L00[1234]_R1), 4 file found.\"\n",
      "[1] \"Research Regex (R[4F]B-10A_S[[:digit:]]{1,2}_L00[1234]_R2), 4 file found.\"\n",
      "[1] \"Research Regex (R[4F]B-10B_S[[:digit:]]{1,2}_L00[1234]_R1), 4 file found.\"\n",
      "[1] \"Research Regex (R[4F]B-10B_S[[:digit:]]{1,2}_L00[1234]_R2), 4 file found.\"\n",
      "[1] \"Research Regex (R[4F]B-50A_S[[:digit:]]{1,2}_L00[1234]_R1), 4 file found.\"\n",
      "[1] \"Research Regex (R[4F]B-50A_S[[:digit:]]{1,2}_L00[1234]_R2), 4 file found.\"\n",
      "[1] \"Research Regex (R[4F]B-50B_S[[:digit:]]{1,2}_L00[1234]_R1), 4 file found.\"\n",
      "[1] \"Research Regex (R[4F]B-50B_S[[:digit:]]{1,2}_L00[1234]_R2), 4 file found.\"\n",
      "[1] \"Research Regex (R[4F]B-250A_S[[:digit:]]{1,2}_L00[1234]_R1), 4 file found.\"\n",
      "[1] \"Research Regex (R[4F]B-250A_S[[:digit:]]{1,2}_L00[1234]_R2), 4 file found.\"\n",
      "[1] \"Research Regex (R[4F]B-250B_S[[:digit:]]{1,2}_L00[1234]_R1), 4 file found.\"\n",
      "[1] \"Research Regex (R[4F]B-250B_S[[:digit:]]{1,2}_L00[1234]_R2), 4 file found.\"\n",
      "[1] \"Research Regex (R[4F]B-1250A_S[[:digit:]]{1,2}_L00[1234]_R1), 4 file found.\"\n",
      "[1] \"Research Regex (R[4F]B-1250A_S[[:digit:]]{1,2}_L00[1234]_R2), 4 file found.\"\n",
      "[1] \"Research Regex (R[4F]B-1250B_S[[:digit:]]{1,2}_L00[1234]_R1), 4 file found.\"\n",
      "[1] \"Research Regex (R[4F]B-1250B_S[[:digit:]]{1,2}_L00[1234]_R2), 4 file found.\"\n"
     ]
    }
   ],
   "source": [
    "library(ShortRead)\n",
    "library(stringr)\n",
    "root <- '/mnt/chen-nas/SequenceData/Evan/122018_AP1_BFO_kSeq/raw.reads'\n",
    "\n",
    "for (expRep in c('A', 'B')){\n",
    "    for (concen in c('input', '0', '2', '10', '50', '250', '1250')){\n",
    "        for (seqRep in c('A', 'B')){\n",
    "            for (direction in c('1', '2')){\n",
    "                regex <- paste('R[4F]', expRep, '-', concen, seqRep, '_S[[:digit:]]{1,2}_L00[1234]_R', direction, sep = '')\n",
    "                print(sprintf('Research Regex (%s), %i file found.', regex, length(list.files(path = root, pattern = regex))))\n",
    "                seqs <- readFastq(dirPath = root, pattern = regex)\n",
    "                writeFastq(object = seqs, file = paste('/mnt/storage/projects/k-seq/input/bfo_counts/raw_reads_pooled/R4', expRep, '-', concen, seqRep, str_extract(pattern = '_S[[:digit:]]{1,2}_', string = list.files(path = root, pattern = regex)[1]), 'R', direction, '.fastq', sep = ''), compress = FALSE)\n",
    "            }\n",
    "        }\n",
    "    }\n",
    "} "
   ]
  },
  {
   "cell_type": "code",
   "execution_count": 9,
   "metadata": {
    "ExecuteTime": {
     "end_time": "2019-03-31T20:29:54.885990Z",
     "start_time": "2019-03-31T20:29:49.937Z"
    },
    "collapsed": true
   },
   "outputs": [],
   "source": [
    "seqs <- readFastq(dirPath = '/mnt/storage/projects/k-seq/input/bfo_counts/raw_reads_pooled/R4A-inputA_S1_R2.fastq')"
   ]
  },
  {
   "cell_type": "code",
   "execution_count": 10,
   "metadata": {
    "ExecuteTime": {
     "end_time": "2019-03-31T20:29:58.368488Z",
     "start_time": "2019-03-31T20:29:58.275Z"
    }
   },
   "outputs": [
    {
     "name": "stdout",
     "output_type": "stream",
     "text": [
      "[1] 3061638\n",
      "[1] 3061638\n"
     ]
    },
    {
     "data": {
      "text/plain": [
       "   Min. 1st Qu.  Median    Mean 3rd Qu.    Max. \n",
       "     35      76      76      76      76      76 "
      ]
     },
     "metadata": {},
     "output_type": "display_data"
    }
   ],
   "source": [
    "readLengths <- width(seqs)\n",
    "print(length(readLengths))\n",
    "print(length(seqs))\n",
    "summary(readLengths)"
   ]
  },
  {
   "cell_type": "markdown",
   "metadata": {},
   "source": [
    "# Apply dada2 from raw data\n",
    "why from raw sequencing data instead of trimmed data?\n",
    "- we previously found the denoising in dada2 seems too aggresive, and further reading showed that dada2 allows end-free alignment, which means there are no penalty for end shift. This should be less problematic is we include the entire read, which flanking primers\n",
    "## examine the data quality"
   ]
  },
  {
   "cell_type": "code",
   "execution_count": 2,
   "metadata": {
    "ExecuteTime": {
     "end_time": "2019-03-29T21:33:59.483889Z",
     "start_time": "2019-03-29T21:33:59.414Z"
    },
    "collapsed": true
   },
   "outputs": [],
   "source": [
    "readF <- sort(list.files(path = '/mnt/storage/projects/k-seq/input/bfo_counts/raw_reads_pooled/', pattern = \"R1.fastq\", full.names = TRUE))\n",
    "readR <- sort(list.files(path = '/mnt/storage/projects/k-seq/input/bfo_counts/raw_reads_pooled/', pattern = \"R2.fastq\", full.names = TRUE))\n",
    "sample.names <- sapply(strsplit(basename(readF), \"_\"), `[`, 1)"
   ]
  },
  {
   "cell_type": "code",
   "execution_count": 659,
   "metadata": {
    "ExecuteTime": {
     "end_time": "2019-03-29T21:18:31.123396Z",
     "start_time": "2019-03-29T21:13:06.784Z"
    }
   },
   "outputs": [
    {
     "name": "stderr",
     "output_type": "stream",
     "text": [
      "Scale for 'y' is already present. Adding another scale for 'y', which will\n",
      "replace the existing scale.\n",
      "Scale for 'y' is already present. Adding another scale for 'y', which will\n",
      "replace the existing scale.\n"
     ]
    }
   ],
   "source": [
    "qPlotF <- plotQualityProfile(readF)\n",
    "qPlotR <- plotQualityProfile(readR)"
   ]
  },
  {
   "cell_type": "code",
   "execution_count": null,
   "metadata": {
    "collapsed": true
   },
   "outputs": [],
   "source": []
  },
  {
   "cell_type": "markdown",
   "metadata": {},
   "source": [
    "## Filter unqualified sequence\n",
    "[filterAndTrim function kept reporting \"C stack usage\" error, I believe it is accociate with R/C/package installation. Will try with]\n",
    "Mandatory:\n",
    "  - dada2 can not handle sequences with ambiguous nucleotides N, need to removed\n",
    "Additional:\n",
    "  - min length of reads: seems most of reads are >70, lets trimmed of reads shorter than 65\n",
    "  - min quality: quality of the reads are very consistent, we could pass some low quality reads as dada2 claims to be able to handle low quality reads, keep it default as 2\n",
    "  - length trimming: no significant drop of quality found at the end of the reads, no trimming\n",
    "  - rm.phix: yes, it might be already removed \n",
    "  - Rev: yes as it is paired-end reads"
   ]
  },
  {
   "cell_type": "code",
   "execution_count": 3,
   "metadata": {
    "ExecuteTime": {
     "end_time": "2019-03-29T21:34:02.356935Z",
     "start_time": "2019-03-29T21:34:02.351Z"
    },
    "collapsed": true
   },
   "outputs": [],
   "source": [
    "filtFs <- file.path('/mnt/storage/projects/k-seq/working/dada2_raw/', 'filtered', paste0(sample.names, \"_F_filt.fastq.gz\"))\n",
    "filtRs <- file.path('/mnt/storage/projects/k-seq/working/dada2_raw/', 'filtered', paste0(sample.names, \"_R_filt.fastq.gz\"))"
   ]
  },
  {
   "cell_type": "code",
   "execution_count": 6,
   "metadata": {
    "ExecuteTime": {
     "end_time": "2019-03-29T21:34:58.084837Z",
     "start_time": "2019-03-29T21:34:48.988Z"
    }
   },
   "outputs": [
    {
     "name": "stderr",
     "output_type": "stream",
     "text": [
      "Warning message in mclapply(seq_len(n), do_one, mc.preschedule = mc.preschedule, :\n",
      "“all scheduled cores encountered errors in user code”"
     ]
    },
    {
     "ename": "ERROR",
     "evalue": "Error in filterAndTrim(readF, filtFs, readR, filtRs, maxN = 0, minLen = 65, : These are the errors (up to 5) encountered in individual cores...\nError : C stack usage  7969844 is too close to the limit\nError : C stack usage  7969844 is too close to the limit\nError : C stack usage  7969844 is too close to the limit\nError : C stack usage  7969844 is too close to the limit\nError : C stack usage  7969844 is too close to the limit\n\n",
     "output_type": "error",
     "traceback": [
      "Error in filterAndTrim(readF, filtFs, readR, filtRs, maxN = 0, minLen = 65, : These are the errors (up to 5) encountered in individual cores...\nError : C stack usage  7969844 is too close to the limit\nError : C stack usage  7969844 is too close to the limit\nError : C stack usage  7969844 is too close to the limit\nError : C stack usage  7969844 is too close to the limit\nError : C stack usage  7969844 is too close to the limit\n\nTraceback:\n",
      "1. filterAndTrim(readF, filtFs, readR, filtRs, maxN = 0, minLen = 65, \n .     rm.phix = TRUE, compress = TRUE, multithread = TRUE)",
      "2. stop(\"These are the errors (up to 5) encountered in individual cores...\\n\", \n .     rval)"
     ]
    }
   ],
   "source": [
    "filterRes <- filterAndTrim(readF, filtFs, readR, filtRs, maxN = 0, minLen = 65, rm.phix = TRUE, compress = TRUE, multithread = TRUE)"
   ]
  },
  {
   "cell_type": "markdown",
   "metadata": {},
   "source": [
    "## Error rate learning"
   ]
  },
  {
   "cell_type": "code",
   "execution_count": 26,
   "metadata": {
    "ExecuteTime": {
     "end_time": "2019-04-01T00:48:58.615381Z",
     "start_time": "2019-04-01T00:48:58.491Z"
    },
    "collapsed": true
   },
   "outputs": [],
   "source": [
    "filteredFs <- list.files('/mnt/storage/projects/k-seq/working/dada2_raw/filtered_testSamples/', pattern = 'R1_filtered_ordered', full.names = TRUE)\n",
    "filteredRs <- list.files('/mnt/storage/projects/k-seq/working/dada2_raw/filtered_testSamples/', pattern = 'R2_filtered_ordered', full.names = TRUE)\n",
    "sample.names <- sapply(strsplit(basename(filteredFs), \"_\"), `[`, 1)"
   ]
  },
  {
   "cell_type": "code",
   "execution_count": 28,
   "metadata": {
    "ExecuteTime": {
     "end_time": "2019-04-01T01:18:52.285580Z",
     "start_time": "2019-04-01T00:49:13.318Z"
    }
   },
   "outputs": [
    {
     "name": "stdout",
     "output_type": "stream",
     "text": [
      "115266618 total bases in 1748656 reads from 1 samples will be used for learning the error rates.\n",
      "201813394 total bases in 2655496 reads from 1 samples will be used for learning the error rates.\n"
     ]
    }
   ],
   "source": [
    "errF <- learnErrors(filteredFs, multithread = TRUE, randomize = TRUE)\n",
    "errR <- learnErrors(filteredRs, multithread = TRUE, randomize = TRUE)\n",
    "save(errF, errR, file = '/mnt/storage/projects/k-seq/working/dada2_raw/filtered_testSamples/err_estimated.RData')"
   ]
  },
  {
   "cell_type": "code",
   "execution_count": 30,
   "metadata": {
    "ExecuteTime": {
     "end_time": "2019-04-01T01:21:19.998060Z",
     "start_time": "2019-04-01T01:21:18.609Z"
    }
   },
   "outputs": [
    {
     "name": "stderr",
     "output_type": "stream",
     "text": [
      "Warning message:\n",
      "“Transformation introduced infinite values in continuous y-axis”Warning message:\n",
      "“Transformation introduced infinite values in continuous y-axis”"
     ]
    },
    {
     "data": {
      "image/png": "[encoded data removed]",
      "text/plain": [
       "plot without title"
      ]
     },
     "metadata": {},
     "output_type": "display_data"
    }
   ],
   "source": [
    "plotErrors(errR, nominalQ = TRUE)"
   ]
  },
  {
   "cell_type": "code",
   "execution_count": 31,
   "metadata": {
    "ExecuteTime": {
     "end_time": "2019-04-01T01:22:29.217396Z",
     "start_time": "2019-04-01T01:21:52.496Z"
    }
   },
   "outputs": [
    {
     "name": "stderr",
     "output_type": "stream",
     "text": [
      "Dereplicating sequence entries in Fastq file: /mnt/storage/projects/k-seq/working/dada2_raw/filtered_testSamples//R4A-inputA_S1_R1_filtered_ordered.fastq\n",
      "...Encountered 502842 unique sequences from 3044436 total sequences read.\n",
      "Dereplicating sequence entries in Fastq file: /mnt/storage/projects/k-seq/working/dada2_raw/filtered_testSamples//R4A-inputB_S8_R1_filtered_ordered.fastq\n",
      ".Encountered 264845 unique sequences from 1748656 total sequences read.\n",
      "Dereplicating sequence entries in Fastq file: /mnt/storage/projects/k-seq/working/dada2_raw/filtered_testSamples//R4B-inputA_S15_R1_filtered_ordered.fastq\n",
      "..Encountered 542953 unique sequences from 2655496 total sequences read.\n",
      "Dereplicating sequence entries in Fastq file: /mnt/storage/projects/k-seq/working/dada2_raw/filtered_testSamples//R4B-inputB_S22_R1_filtered_ordered.fastq\n",
      "..Encountered 546732 unique sequences from 2441020 total sequences read.\n"
     ]
    }
   ],
   "source": [
    "derepFs <- derepFastq(filteredFs, verbose = TRUE)\n",
    "names(derepFs) <- sapply(strsplit(basename(filteredFs), \"_\"), `[`, 1)"
   ]
  },
  {
   "cell_type": "code",
   "execution_count": 32,
   "metadata": {
    "ExecuteTime": {
     "end_time": "2019-04-01T01:23:09.851052Z",
     "start_time": "2019-04-01T01:21:54.309Z"
    }
   },
   "outputs": [
    {
     "name": "stderr",
     "output_type": "stream",
     "text": [
      "Dereplicating sequence entries in Fastq file: /mnt/storage/projects/k-seq/working/dada2_raw/filtered_testSamples//R4A-inputA_S1_R2_filtered_ordered.fastq\n",
      "...Encountered 540408 unique sequences from 3044436 total sequences read.\n",
      "Dereplicating sequence entries in Fastq file: /mnt/storage/projects/k-seq/working/dada2_raw/filtered_testSamples//R4A-inputB_S8_R2_filtered_ordered.fastq\n",
      ".Encountered 287941 unique sequences from 1748656 total sequences read.\n",
      "Dereplicating sequence entries in Fastq file: /mnt/storage/projects/k-seq/working/dada2_raw/filtered_testSamples//R4B-inputA_S15_R2_filtered_ordered.fastq\n",
      "..Encountered 575858 unique sequences from 2655496 total sequences read.\n",
      "Dereplicating sequence entries in Fastq file: /mnt/storage/projects/k-seq/working/dada2_raw/filtered_testSamples//R4B-inputB_S22_R2_filtered_ordered.fastq\n",
      "..Encountered 573417 unique sequences from 2441020 total sequences read.\n"
     ]
    }
   ],
   "source": [
    "derepRs <- derepFastq(filteredRs, verbose = TRUE)\n",
    "names(derepRs) <- sapply(strsplit(basename(filteredRs), \"_\"), `[`, 1)"
   ]
  },
  {
   "cell_type": "markdown",
   "metadata": {
    "ExecuteTime": {
     "end_time": "2019-03-05T20:50:53.288599Z",
     "start_time": "2019-03-05T20:50:51.959Z"
    }
   },
   "source": [
    "## dada2 denoising"
   ]
  },
  {
   "cell_type": "code",
   "execution_count": 33,
   "metadata": {
    "ExecuteTime": {
     "end_time": "2019-04-01T01:31:18.869234Z",
     "start_time": "2019-04-01T01:24:35.071Z"
    }
   },
   "outputs": [
    {
     "name": "stdout",
     "output_type": "stream",
     "text": [
      "Sample 1 - 3044436 reads in 502842 unique sequences.\n",
      "Sample 2 - 1748656 reads in 264845 unique sequences.\n",
      "Sample 3 - 2655496 reads in 542953 unique sequences.\n",
      "Sample 4 - 2441020 reads in 546732 unique sequences.\n"
     ]
    }
   ],
   "source": [
    "dadaF <- dada(derep = derepFs, err = errF, multithread = TRUE)"
   ]
  },
  {
   "cell_type": "code",
   "execution_count": 34,
   "metadata": {
    "ExecuteTime": {
     "end_time": "2019-04-01T01:48:42.276678Z",
     "start_time": "2019-04-01T01:39:23.321Z"
    },
    "scrolled": true
   },
   "outputs": [
    {
     "name": "stdout",
     "output_type": "stream",
     "text": [
      "Sample 1 - 3044436 reads in 540408 unique sequences.\n",
      "Sample 2 - 1748656 reads in 287941 unique sequences.\n",
      "Sample 3 - 2655496 reads in 575858 unique sequences.\n",
      "Sample 4 - 2441020 reads in 573417 unique sequences.\n"
     ]
    }
   ],
   "source": [
    "dadaR <- dada(derep = derepRs, err = errR, multithread = TRUE)"
   ]
  },
  {
   "cell_type": "code",
   "execution_count": 35,
   "metadata": {
    "ExecuteTime": {
     "end_time": "2019-04-01T01:56:13.260604Z",
     "start_time": "2019-04-01T01:55:21.858Z"
    },
    "collapsed": true
   },
   "outputs": [],
   "source": [
    "save(derepFs, derepRs, file = '/mnt/storage/projects/k-seq/working/dada2_raw/filtered_testSamples/derepReads.RData')\n",
    "save(dadaF, dadaR, file = '/mnt/storage/projects/k-seq/working/dada2_raw/filtered_testSamples/denoisedRes.RData')"
   ]
  },
  {
   "cell_type": "markdown",
   "metadata": {},
   "source": [
    "## Merge reads"
   ]
  },
  {
   "cell_type": "code",
   "execution_count": 37,
   "metadata": {
    "ExecuteTime": {
     "end_time": "2019-04-01T02:01:45.271179Z",
     "start_time": "2019-04-01T02:01:26.783Z"
    }
   },
   "outputs": [
    {
     "name": "stderr",
     "output_type": "stream",
     "text": [
      "2523133 paired-reads (in 139 unique pairings) successfully merged out of 3033529 (in 14849 pairings) input.\n",
      "1493588 paired-reads (in 102 unique pairings) successfully merged out of 1741403 (in 8009 pairings) input.\n",
      "2145697 paired-reads (in 145 unique pairings) successfully merged out of 2644150 (in 12411 pairings) input.\n",
      "1920882 paired-reads (in 138 unique pairings) successfully merged out of 2431911 (in 14394 pairings) input.\n"
     ]
    }
   ],
   "source": [
    "mergers <- mergePairs(dadaF = dadaF, derepF = derepFs, dadaR = dadaR, derepR = derepRs, verbose = TRUE)"
   ]
  },
  {
   "cell_type": "code",
   "execution_count": 49,
   "metadata": {
    "ExecuteTime": {
     "end_time": "2019-04-01T02:17:32.632241Z",
     "start_time": "2019-04-01T02:17:32.608Z"
    },
    "scrolled": false
   },
   "outputs": [
    {
     "data": {
      "text/html": [
       "<ol class=list-inline>\n",
       "\t<li>'ATACGACTCACTATAGGGAATGGATCCACATCTACGAATTCCTACTTCAAACAATCGGTCTGTTCACTGCAGACTTGACGAAGCTG'</li>\n",
       "\t<li>'ATACGACTCACTATAGGGAATGGATCCACATCTACGAATTCAAAAACAAAAACAAAAACAAATTCACTGCAGACTTGACGAAGCTG'</li>\n",
       "\t<li>'ATACGACTCACTATAGGGAATGGATCCACATCTACGAATTCATTACCCTGGTCATCGAGTGATTCACTGCAGACTTGACGAAGCTG'</li>\n",
       "\t<li>'ATACGACTCACTATAGGGAATGGATCCACATCTACGAATTCATTACCCTGGTCATCGAGTGTTTCACTGCAGACTTGACGAAGCTG'</li>\n",
       "\t<li>'ATACGACTCACTATAGGGAATGGATCCACATCTACGAATTCCCACACTTCAAGCAATCGGTCTTCACTGCAGACTTGACGAAGCTG'</li>\n",
       "\t<li>'ATACGACTCACTATAGGGAATGGATCCACATCTACGAATTCATTCACCTAGGTCATCGGGTGTTTCACTGCAGACTTGACGAAGCTG'</li>\n",
       "\t<li>'ATACGACTCACTATAGGGAATGGATCCACATCTACGAATTCCTCTTCAAACAATCGGTCTTCTTCACTGCAGACTTGACGAAGCTG'</li>\n",
       "\t<li>'ATACGACTCACTATAGGGAATGGATCCACATCTACGAATTCCCGCTTCAAACAATCGGTTTGTTCACTGCAGACTTGACGAAGCTG'</li>\n",
       "\t<li>'ATACGACTCACTATAGGGAATGGATCCACATCTACGAATTCACCCACTTCAAACAATCGGTCTTCACTGCAGACTTGACGAAGCTG'</li>\n",
       "\t<li>'ATACGACTCACTATAGGGAATGGATCCACATCTACGAATTCATTCACCTAGGTCATCGAGTGTTTCACTGCAGACTTGACGAAGCTG'</li>\n",
       "\t<li>'ATACGACTCACTATAGGGAATGGATCCACATCTACGAATTCCTGCTTCAAACAATCGGTGTGTTCACTGCAGACTTGACGAAGCTG'</li>\n",
       "\t<li>'ATACGACTCACTATAGGGAATGGATCCACATCTACGAATTCATTCACCTAGGTCATCGAGTGATTCACTGCAGACTTGACGAAGCTG'</li>\n",
       "\t<li>'ATACGACTCACTATAGGGAATGGATCCACATCTACGAATTCCCGCTTCAAGCAATCGGTCGCTTCACTGCAGACTTGACGAAGCTG'</li>\n",
       "\t<li>'ATACGACTCACTATAGGGAATGGATCCACATCTACGAATTCATCCTGCTTCAACCAATCGGTTTCACTGCAGACTTGACGAAGCTG'</li>\n",
       "\t<li>'ATACGACTCACTATAGGGAATGGATCCACATCTACGAATTCAAGTTTGCTAATAGTCGCAAGTTCACTGCAGACTTGACGAAGCTG'</li>\n",
       "\t<li>'ATACGACTCACTATAGGGAATGGATCCACATCTACGAATTCGTTCAGTTTCAAGCAATCGGTTTCACTGCAGACTTGACGAAGCTG'</li>\n",
       "\t<li>'ATACGACTCACTATAGGGAATGGATCCACATCTACGAATTCATTGCCCTGGTCATCGAGTGTTTCACTGCAGACTTGACGAAGCTG'</li>\n",
       "\t<li>'ATACGACTCACTATAGGGAATGGATCCACATCTACGAATTCCTGTTTCAAACAATCGGCCTGTTCACTGCAGACTTGACGAAGCTG'</li>\n",
       "\t<li>'ATACGACTCACTATAGGGAATGGATCCACATCTACGAATTCCTGTTTCAAACAATCGGTCTCTTCACTGCAGACTTGACGAAGCTG'</li>\n",
       "\t<li>'ATACGACTCACTATAGGGAATGGATCCACATCTACGAATTCCTCTTCAATAATCGGTTGCGTTTCACTGCAGACTTGACGAAGCTG'</li>\n",
       "\t<li>'ATACGACTCACTATAGGGAATGGATCCACATCTACGAATTCTCCTGTTTCAAGCAATCGGTCTTCACTGCAGACTTGACGAAGCTG'</li>\n",
       "\t<li>'ATACGACTCACTATAGGGAATGGATCCACATCTACGAATTCCCGAGTTTCAAGCAATCGGTCTTCACTGCAGACTTGACGAAGCTG'</li>\n",
       "\t<li>'ATACGACTCACTATAGGGAATGGATCCACATCTACGAATTCATGGCCCTGGTCATCGAGTGATTCACTGCAGACTTGACGAAGCTG'</li>\n",
       "\t<li>'ATACGACTCACTATAGGGAATGGATCCACATCTACGAATTCACCCGCTTCAACCAATCGGTCTTCACTGCAGACTTGACGAAGCTG'</li>\n",
       "\t<li>'ATACGACTCACTATAGGGAATGGATCCACATCTACGAATTCGTTACCCTGGTCATCGAGTGTTTCACTGCAGACTTGACGAAGCTG'</li>\n",
       "\t<li>'ATACGACTCACTATAGGGAATGGATCCACATCTACGAATTCATTATCCTGGTCATCGAGTGATTCACTGCAGACTTGACGAAGCTG'</li>\n",
       "\t<li>'ATACGACTCACTATAGGGAATGGATCCACATCTACGAATTCATCCAGTTTCAAGCAATCGGTTTCACTGCAGACTTGACGAAGCTG'</li>\n",
       "\t<li>'ATACGACTCACTATAGGGAATGGATCCACATCTACGAATTCGCTATATGTCGATGGGTATTCTTCACTGCAGACTTGACGAAGCTG'</li>\n",
       "\t<li>'ATACGACTCACTATAGGGAATGGATCCACATCTACGAATCCCTCTTCAAACAATCGGTCTTCTTCACTGCAGACTTGACGAAGCTG'</li>\n",
       "\t<li>'ATACGACTCACTATAGGGAATGGATCCACATCTACGAATTCATGACCCTGGTCATCGGGTGTTTCACTGCAGACTTGACGAAGCTG'</li>\n",
       "\t<li>'ATACGACTCACTATAGGGAATGGATCCACATCTACGAATTCCTGTTTCAAACAATCGGTCGCTTCACTGCAGACTTGACGAAGCTG'</li>\n",
       "\t<li>'ATACGACTCACTATAGGGAATGGATCCACATCTACGAATTCATTACCCTGGTCATTGAGTGTTTCACTGCAGACTTGACGAAGCTG'</li>\n",
       "\t<li>'ATACGACTCACTATAGGGAATGGATCCACATCTACGAATTCCCAAACTTCAAACAATCGGTCTTCACTGCAGACTTGACGAAGCTG'</li>\n",
       "\t<li>'ATACGACTCACTATAGGGAATGGATCCACATCTACGAATTCCTCTACTTCAAGCAATCGGTCTTCACTGCAGACTTGACGAAGCTG'</li>\n",
       "\t<li>'ATACGACTCACTATAGGGAATGGATCCACATCTACGAATTCCCGCTTCAAACAATCGGTGTGCTTCACTGCAGACTTGACGAAGCTG'</li>\n",
       "\t<li>'ATACGACTCACTATAGGGAATGGATCCACATCTACGAATTCTTTACCCTGGTCATCGAGTGTTTCACTGCAGACTTGACGAAGCTG'</li>\n",
       "\t<li>'ATACGACTCACTATAGGGAATGGATCCACATCTACGAATTCTCGCCCTTCAAACAATCGGTCTTCACTGCAGACTTGACGAAGCTG'</li>\n",
       "\t<li>'ATACGACTCACTATAGGGAATGGATCCACATCTACGAATTCCCACACTTCAACCAATCGGTCTTCACTGCAGACTTGACGAAGCTG'</li>\n",
       "\t<li>'ATACGACTCACTATAGGGAATGGATCCACATCTACGAATTCCTACTTCAAACAATCGGCCTGTTCACTGCAGACTTGACGAAGCTG'</li>\n",
       "\t<li>'ATACGACTCACTATAGGGAATGGATCCACATCTACGAATTCATTCACCTAGGTCATCGGGTATTCACTGCAGACTTGACGAAGCTG'</li>\n",
       "\t<li>'ATACGACTCACTATAGGGAATGGATCCACATCTACGAATTCATTGCCCTGGTCATCGAGTGATTCACTGCAGACTTGACGAAGCTG'</li>\n",
       "\t<li>'ATACGACTCACTATAGGGAATGGATCCACATCTACGAATTCTCGCTTCAAACAATCGGTATGTTCACTGCAGACTTGACGAAGCTG'</li>\n",
       "\t<li>'ATACGACTCACTATAGGGAATGGATCCACATCTACGAATTCATGACCCTGGTCATCGAGTGTTTCACTGCAGACTTGACGAAGCTG'</li>\n",
       "\t<li>'ATACGACTCACTATAGGGAATGGATCCACATCTACGAATTCCTACTTCAAACAATTGGTCTGTTCACTGCAGACTTGACGAAGCTG'</li>\n",
       "\t<li>'ATACGACTCACTATAGGGAATGGATCCACATCTACGAATTCCCAAGTTTCAAACAATCGGTCTTCACTGCAGACTTGACGAAGCTG'</li>\n",
       "\t<li>'ATACGACTCACTATAGGGAATGGATCCACATCTACGAATTCATTACCCTGGTTATCGAGTGATTCACTGCAGACTTGACGAAGCTG'</li>\n",
       "\t<li>'ATACGACTCACTATAGGGAATGGATCCACATCTACGAATTCCTACTTCAAACAATCGGTTTGTTCACTGCAGACTTGACGAAGCTG'</li>\n",
       "\t<li>'ATACGACTCACTATAGGGAATGGATCCACATCTACGAATTCCTCCTTCAAACAATCGGTCTGTTCACTGCAGACTTGACGAAGCTG'</li>\n",
       "\t<li>'ATACGACTCACTATAGGGAATGGATCCACATCTACGAATTCATTACCCTGGTCATCGGGTGTTTCACTGCAGACTTGACGAAGCTG'</li>\n",
       "\t<li>'ATACGACTCACTATAGGGAATGGATCCACATCTACGAATTCTCACACTTCAAGCAATCGGTCTTCACTGCAGACTTGACGAAGCTG'</li>\n",
       "\t<li>'ATACGACTCACTATAGGGAATGGATCCACATCTACGAATTCGTTACCCTGGTCATCGAGTGATTCACTGCAGACTTGACGAAGCTG'</li>\n",
       "\t<li>'ATACGACTCACTATAGGGAATGGATCCACATCTACGAATTTCCACACTTCAAGCAATCGGTCTTCACTGCAGACTTGACGAAGCTG'</li>\n",
       "\t<li>'ATACGACTCACTATAGGGAATGGATCCACATCTACTAATTCCTACTTCAAACAATCGGTCTGTTCACTGCAGACTTGACGAAGCTG'</li>\n",
       "\t<li>'ATACGACTCACTATAGGGAATGGATCCACATCTACGAATTCATTCACCTAGGTCATCGGGTGGTTCACTGCAGACTTGACGAAGCTG'</li>\n",
       "\t<li>'ATACGACTCACTATAGGGAATGGATCCACATCTACGAACTCCTCTTCAAACAATCGGTCTTCTTCACTGCAGACTTGACGAAGCTG'</li>\n",
       "\t<li>'ATACGACTCACTATAGGGAATGGATCCACATCTACGAATTCCACCACTTCAAACAATCGGTCTTCACTGCAGACTTGACGAAGCTG'</li>\n",
       "\t<li>'ATACGACTCACTATAGGGAATGGATCCACATCTACGAATCCATTCACCTAGGTCATCGGGTGTTTCACTGCAGACTTGACGAAGCTG'</li>\n",
       "\t<li>'ATACGACTCACTATAGGGAATGGATCCACATCTACGAATCCATTACCCTGGTCATCGAGTGATTCACTGCAGACTTGACGAAGCTG'</li>\n",
       "\t<li>'ATACGACTCACTATAGGGAATGGATCCACATCTACGAATTCCTACTTCAAACAATCGGTGTGTTCACTGCAGACTTGACGAAGCTG'</li>\n",
       "\t<li>'ATACGACTCACTATAGGGAATGGATCCACATCTACCAATTCCTCTTCAAACAATCGGTCTTCTTCACTGCAGACTTGACGAAGCTG'</li>\n",
       "\t<li>'ATACGACTCACTATAGGGAATGGATCCACATCTACGAATTCATTACCCTGGTCATCGAGTGGTTCACTGCAGACTTGACGAAGCTG'</li>\n",
       "\t<li>'ATACGACTCACTATAGGGAATGGATCCACATCTACGAATTCCTACTTTAAACAATCGGTCTGTTCACTGCAGACTTGACGAAGCTG'</li>\n",
       "\t<li>'ATACGACTCACTATAGGGAATGGATCCACATCTACGAATTCCTGTTTCAAACAATCGGTCTGTTCACTGCAGACTTGACGAAGCTG'</li>\n",
       "\t<li>'ATACGACTCACTATAGGGAATGGATCCACATCTACGAGTTCCTACTTCAAACAATCGGTCTGTTCACTGCAGACTTGACGAAGCTG'</li>\n",
       "\t<li>'ATACGACTCACTATAGGGAATGGATCCACATCTACGAATTCCTACTTCAAACAATCGGTCTGTTCACTGCAGACTTGAGGAAGCTG'</li>\n",
       "\t<li>'ATACGACTCACTATAGGGAATGGATCCACATCTACGCATTCCTACTTCAAACAATCGGTCTGTTCACTGCAGACTTGACGAAGCTG'</li>\n",
       "\t<li>'ATACGACTCACTATAGGGAATGGATCCACATCTACGAATCCCCACACTTCAAGCAATCGGTCTTCACTGCAGACTTGACGAAGCTG'</li>\n",
       "\t<li>'ATACGACTCACTATAGGGAATGGATCCACATCTACGAATTCCTGCTTCAAACAATCGGTCTGTTCACTGCAGACTTGACGAAGCTG'</li>\n",
       "\t<li>'ATACGACTCACTATAGGGAATGGATCCACATCTACGAATTCAAAAACAAAAACAAAAACAAATTCACTGCAGACTTGAGGAAGCTG'</li>\n",
       "\t<li>'ATACGACTCACTATAGGGAATGGATCCACATCTACGAATCCATTACCCTGGTCATCGAGTGTTTCACTGCAGACTTGACGAAGCTG'</li>\n",
       "\t<li>'ATACGACTCACTATAGGGAATGGATCCACATCTACGAATTCTTACTTCAAACAATCGGTCTGTTCACTGCAGACTTGACGAAGCTG'</li>\n",
       "\t<li>'ATACGACTCACTATAGGGAATGGATCCACATCTACGAATTTCTACTTCAAACAATCGGTCTGTTCACTGCAGACTTGACGAAGCTG'</li>\n",
       "\t<li>'ATACCACTCACTATAGGGAATGGATCCACATCTACGAATTCCTACTTCAAACAATCGGTCTGTTCACTGCAGACTTGACGAAGCTG'</li>\n",
       "\t<li>'ATACGACTCACTATAGGGAATGGATCCACATCTACAAATTCCTACTTCAAACAATCGGTCTGTTCACTGCAGACTTGACGAAGCTG'</li>\n",
       "\t<li>'ATACGACTCACTATAGGGAATGGATCCACATCTACCAATTCCTACTTCAAACAATCGGTCTGTTCACTGCAGACTTGACGAAGCTG'</li>\n",
       "\t<li>'ATACGACTCACTATAGGGAATGGATCCACATCTACGAATTCCCGCTTCAAACAATCGGTCTTCTTCACTGCAGACTTGACGAAGCTG'</li>\n",
       "\t<li>'ATACGACTCACTATAGGGAATGGATCCACATCTACGAATTTATTACCCTGGTCATCGAGTGATTCACTGCAGACTTGACGAAGCTG'</li>\n",
       "\t<li>'ATACGACTCACTATAGGGAATGGATCCACATCTACGAATTCCCACTTCAAACAATCGGTTTGTTCACTGCAGACTTGACGAAGCTG'</li>\n",
       "\t<li>'ATACGACTCACTATAGGGAATGGATCCACATCTACGAATTTATTACCCTGGTCATCGAGTGTTTCACTGCAGACTTGACGAAGCTG'</li>\n",
       "\t<li>'ATACGACTCACTATAGGGAATGGATCCACATCTACGGATTCATTACCCTGGTCATCGAGTGATTCACTGCAGACTTGACGAAGCTG'</li>\n",
       "\t<li>'ATACGACTCACTATAGGGAATGGATCCACATCTACGATTTCATTACCCTGGTCATCGAGTGATTCACTGCAGACTTGACGAAGCTG'</li>\n",
       "\t<li>'ATACGACTCACTATAGGGAATGGATCCACATCTACGAATTCATTCACCTAGGTCATCGGGTGTTCACTGCAGACTTGAGGAAGCTG'</li>\n",
       "\t<li>'ATACGACTCACTATAGGGAATGGATCCACATCTACGATTTCCCGCTTCAAACAATCGGTTTGTTCACTGCAGACTTGACGAAGCTG'</li>\n",
       "\t<li>'ATACGACTCACTATAGGGAATGGATCCACATCTACGAGTTCATTACCCTGGTCATCGAGTGATTCACTGCAGACTTGACGAAGCTG'</li>\n",
       "\t<li>'ATACGACTCACTATAGGGAATGGATCCACATCTACGGATTCCTACTTCAAACAATCGGTCTGTTCACTGCAGACTTGACGAAGCTG'</li>\n",
       "\t<li>'ATACGACTCACTATAGGGAATGGATCCACATCTACGGATTCATTACCCTGGTCATCGAGTGTTTCACTGCAGACTTGACGAAGCTG'</li>\n",
       "\t<li>'ATACAACTCACTATAGGGAATGGATCCACATCTACGAATTCAAAAACAAAAACAAAAACAAATTCACTGCAGACTTGACGAAGCTG'</li>\n",
       "\t<li>'ATACGACTCACTATAGGGAATGGATCCACATCTACGAATTCATTACCCTGGTCATCGAGTGATTCACTGCAGACTTGAGGAAGCTG'</li>\n",
       "\t<li>'ATACGACTCACTATAGGGAATGGATCCACATCTACGAATTCCTACTTCAAACAATCGGTCTGTTCACTGAAGACTTGACGAAGCTG'</li>\n",
       "\t<li>'AATAGACTCACTATAGGGAATGGATCCACATCTACGAATTCATTCACCTAGGTCATCGAGTGTTTCACTGCAGACTTGACGAAGCTG'</li>\n",
       "\t<li>'ATACGACTCACTATAGGGAATGGATCCACATCTACGATTTCATTACCCTGGTCATCGAGTGTTTCACTGCAGACTTGACGAAGCTG'</li>\n",
       "\t<li>'AATAGACTCACTATAGGGAATGGATCCACATCTACGAATTCAAAAACAAAAACAAAAACAAATTCACTGCAGACTTGACGAAGCTG'</li>\n",
       "\t<li>'ATACGACTCACTATAGGGAATGGATCCACATCTACGAGTTCATTACCCTGGTCATCGAGTGTTTCACTGCAGACTTGACGAAGCTG'</li>\n",
       "\t<li>'ATACGACTCACTATAGGGAATGGATCCACATCTACGAATTCAAAAACAAAAACAAAAACAAATTCACTGAAGACTTGACGAAGCTG'</li>\n",
       "\t<li>'ATACGACTCACTATAGGGAATGGATCCACATCTACGAATTCCTACTTCAAACAATCGGTCTGTTCACTGCAGACTTGATGAAGCTG'</li>\n",
       "\t<li>'ATACAACTCACTATAGGGAATGGATCCACATCTACGAATTCCTACTTCAAACAATCGGTCTGTTCACTGCAGACTTGACGAAGCTG'</li>\n",
       "\t<li>'ATACGACTCACTATAGGGAATGGATCCACATCTACGAATTCATTACCCTGGTCATCGAGTGTTTCACTGCAGACTTGAGGAAGCTG'</li>\n",
       "\t<li>'ATATGACTCACTATAGGGAATGGATCCACATCTACGAATTCCTACTTCAAACAATCGGTCTGTTCACTGCAGACTTGACGAAGCTG'</li>\n",
       "\t<li>'ATACGACTCACTATAGGGAATGGATCCACATCTACGAATTCAAAAACAAAAACAAAAACAAATTCACTGCAGACTTGATGAAGCTG'</li>\n",
       "\t<li>'ATACGACTCACTATAGGGAATGGATCCACATCTACGAATTTAAAAACAAAAACAAAAACAAATTCACTGCAGACTTGACGAAGCTG'</li>\n",
       "\t<li>'ATACGACTCACTATAGGGAATGGATCCACATCTACAAATTCCTCTTCAAACAATCGGTCTTCTTCACTGCAGACTTGACGAAGCTG'</li>\n",
       "\t<li>'ATACGACTCACTATAGGGAATGGATCCACATCTACGCATTCACCCACTTCAAACAATCGGTCTTCACTGCAGACTTGACGAAGCTG'</li>\n",
       "\t<li>'ATACGACTCACTATAGGGAATGGATCCACATCTACGAATTCCCACACTTCAAGCAATCGGTCTTCACTGCAGACTTGAGGAAGCTG'</li>\n",
       "\t<li>'ATACGACTCACTATAGGGAATGGATCCACATCTACGAATTCAAAAACAAAAACAAAAACAAATTCACTGCAGACTTGCCGAAGCTG'</li>\n",
       "\t<li>'ATACGACTCACTATAGGGAATGGATCCACATCTACGAATTCCTACTTCAAACAATCGGTCTGTTCACTGTAGACTTGACGAAGCTG'</li>\n",
       "\t<li>'ATACGACTCACTATAGGGAATGGATCCACATCTACGAACTCCCACACTTCAAGCAATCGGTCTTCACTGCAGACTTGACGAAGCTG'</li>\n",
       "\t<li>'ATACGACTCACTATAGGGAATGGATCCACATCTACGAATTCAAAAACAAAAACAAAAACAAATTCACTGTAGACTTGACGAAGCTG'</li>\n",
       "\t<li>'ATACGACACACTATAGGGAATGGATCCACATCTACGAATTCCTACTTCAAACAATCGGTCTGTTCACTGCAGACTTGACGAAGCTG'</li>\n",
       "\t<li>'ATACAACTCACTATAGGGAATGGATCCACATCTACGAATTCATTACCCTGGTCATCGAGTGATTCACTGCAGACTTGACGAAGCTG'</li>\n",
       "\t<li>'ATACGACTCACTATAGGGAATGGATCCACATCTACGGATTCTTTACCCTGGTCATCGAGTGTTTCACTGCAGACTTGACGAAGCTG'</li>\n",
       "\t<li>'ATACCACTCACTATAGGGAATGGATCCACATCTACGAATTCATTACCCTGGTCATCGAGTGTTTCACTGCAGACTTGACGAAGCTG'</li>\n",
       "\t<li>'AATACACTCACTATAGGGAATGGATCCACATCTACGAATTCATTACCCTGGTCATCGAGTGTTTCACTGCAGACTTGACGAAGCTG'</li>\n",
       "\t<li>'ATACGACTTACTATAGGGAATGGATCCACATCTACGAATTCAAAAACAAAAACAAAAACAAATTCACTGCAGACTTGACGAAGCTG'</li>\n",
       "\t<li>'ATACGACTCACTATAGGGAATGGATCCACATCTACGAATTCCTCTTCAAACAATCGGTCTTCTTCACTGCAGACTTGAGGAAGCTG'</li>\n",
       "\t<li>'AATCGACTCACTATAGGGAATGGATCCACATCTACGAATTCAAAAACAAAAACAAAAACAAATTCACTGCAGACTTGACGAAGCTG'</li>\n",
       "\t<li>'ATACGACTCACTATAGGGAATGGATCCACATCTACGAATTCCCGCTTCAAACAATCGGTTTGTTCACTGCAGACTTGAGGAAGCTG'</li>\n",
       "\t<li>'AATAGACTCACTATAGGGAATGGATCCACATCTACGAATTCATTACCCTGGTCATCGAGTGTTTCACTGCAGACTTGACGAAGCTG'</li>\n",
       "\t<li>'AATAGACTCACTATAGGGAATGGATCCACATCTACGAATTCATTACCCTGGTCATCGAGTGATTCACTGCAGACTTGACGAAGCTG'</li>\n",
       "\t<li>'ATACCACTCACTATAGGGAATGGATCCACATCTACGAATTCATTCACCTAGGTCATCGGGTGTTTCACTGCAGACTTGACGAAGCTG'</li>\n",
       "\t<li>'ATACGACTAACTATAGGGAATGGATCCACATCTACGAATTCCTACTTCAAACAATCGGTCTGTTCACTGCAGACTTGACGAAGCTG'</li>\n",
       "\t<li>'ATACGACTAACTATAGGGAATGGATCCACATCTACGAATTCAAAAACAAAAACAAAAACAAATTCACTGCAGACTTGACGAAGCTG'</li>\n",
       "\t<li>'AATCGACTCACTATAGGGAATGGATCCACATCTACGAATTCATTACCCTGGTCATCGAGTGATTCACTGCAGACTTGACGAAGCTG'</li>\n",
       "\t<li>'ATACGACTCACTATAGGGAATGGATCCACATCTACAAATTCCCGCTTCAAACAATCGGTTTGTTCACTGCAGACTTGACGAAGCTG'</li>\n",
       "\t<li>'ATATGACTCACTATAGGGAATGGATCCACATCTACGAATTCATTACCCTGGTCATCGAGTGTTTCACTGCAGACTTGACGAAGCTG'</li>\n",
       "\t<li>'ATACGAATCACTATAGGGAATGGATCCACATCTACGAATTCCTACTTCAAACAATCGGTCTGTTCACTGCAGACTTGACGAAGCTG'</li>\n",
       "\t<li>'ATACGACTCACTATAGGGAATGGATCCACATCTACGAATTCAAAAAACAAAACAAAAACAAATTCACTGCAGACTTGACGAAGCTG'</li>\n",
       "\t<li>'ATACCACTCACTATAGGGAATGGATCCACATCTACGAATTCCTACTTCAAACAATCGGTCTGTTCACTGCAGACTTGAGGAAGCTG'</li>\n",
       "\t<li>'ATATGACTCACTATAGGGAATGGATCCACATCTACGAATTCATTCACCTAGGTCATCGGGTGTTTCACTGCAGACTTGACGAAGCTG'</li>\n",
       "\t<li>'ATACGACTAACTATAGGGAATGGATCCACATCTACGAATTCATTACCCTGGTCATCGAGTGTTTCACTGCAGACTTGACGAAGCTG'</li>\n",
       "\t<li>'ATACCACTCACTATAGGGAATGGATCCACATCTACGAATTCCTACTTCAAACAATCGGTCTGTTCACTGAAGACTTGACGAAGCTG'</li>\n",
       "\t<li>'ATACAACTCACTATAGGGAATGGATCCACATCTACGAATTCAAAAACAAAAACAAAAACAAATTCACTGCAGACTTGAGGAAGCTG'</li>\n",
       "\t<li>'ATACCACTCACTATAGGGAATGGATCCACATCTACGAATTCATTACCCTGGTCATCGAGTGTTTCACTGCAGACTTGAGGAAGCTG'</li>\n",
       "\t<li>'ATACAACTCACTATAGGGAATGGATCCACATCTACGAATTCATTACCCTGGTCATCGAGTGATTCACTGCAGACTTGAGGAAGCTG'</li>\n",
       "\t<li>'ATACAACTCACTATAGGGAATGGATCCACATCTACGAATTCAAAAACAAAAACAAAAACAAATTCACTGAAGACTTGACGAAGCTG'</li>\n",
       "\t<li>'AATCGACTCACTATAGGGAATGGATCCACATCTACGAATTCAAAAACAAAAACAAAAACAAATTCACTGCAGACTTGAGGAAGCTG'</li>\n",
       "\t<li>'AATCGACTCACTATAGGGAATGGATCCACATCTACGAATTCATTACCCTGGTCATCGAGTGATTCACTGCAGACTTGAGGAAGCTG'</li>\n",
       "\t<li>'ATACGACACACTATAGGGAATGGATCCACATCTACGAATTCCTACTTCAAACAATCGGTCTGTTCACTGCAGACTTGATGAAGCTG'</li>\n",
       "\t<li>'ATACAACTCACTATAGGGAATGGATCCACATCTACGAATTCCTACTTCAAACAATCGGTCTGTTCACTGCAGACTTGATGAAGCTG'</li>\n",
       "</ol>\n"
      ],
      "text/latex": [
       "\\begin{enumerate*}\n",
       "\\item 'ATACGACTCACTATAGGGAATGGATCCACATCTACGAATTCCTACTTCAAACAATCGGTCTGTTCACTGCAGACTTGACGAAGCTG'\n",
       "\\item 'ATACGACTCACTATAGGGAATGGATCCACATCTACGAATTCAAAAACAAAAACAAAAACAAATTCACTGCAGACTTGACGAAGCTG'\n",
       "\\item 'ATACGACTCACTATAGGGAATGGATCCACATCTACGAATTCATTACCCTGGTCATCGAGTGATTCACTGCAGACTTGACGAAGCTG'\n",
       "\\item 'ATACGACTCACTATAGGGAATGGATCCACATCTACGAATTCATTACCCTGGTCATCGAGTGTTTCACTGCAGACTTGACGAAGCTG'\n",
       "\\item 'ATACGACTCACTATAGGGAATGGATCCACATCTACGAATTCCCACACTTCAAGCAATCGGTCTTCACTGCAGACTTGACGAAGCTG'\n",
       "\\item 'ATACGACTCACTATAGGGAATGGATCCACATCTACGAATTCATTCACCTAGGTCATCGGGTGTTTCACTGCAGACTTGACGAAGCTG'\n",
       "\\item 'ATACGACTCACTATAGGGAATGGATCCACATCTACGAATTCCTCTTCAAACAATCGGTCTTCTTCACTGCAGACTTGACGAAGCTG'\n",
       "\\item 'ATACGACTCACTATAGGGAATGGATCCACATCTACGAATTCCCGCTTCAAACAATCGGTTTGTTCACTGCAGACTTGACGAAGCTG'\n",
       "\\item 'ATACGACTCACTATAGGGAATGGATCCACATCTACGAATTCACCCACTTCAAACAATCGGTCTTCACTGCAGACTTGACGAAGCTG'\n",
       "\\item 'ATACGACTCACTATAGGGAATGGATCCACATCTACGAATTCATTCACCTAGGTCATCGAGTGTTTCACTGCAGACTTGACGAAGCTG'\n",
       "\\item 'ATACGACTCACTATAGGGAATGGATCCACATCTACGAATTCCTGCTTCAAACAATCGGTGTGTTCACTGCAGACTTGACGAAGCTG'\n",
       "\\item 'ATACGACTCACTATAGGGAATGGATCCACATCTACGAATTCATTCACCTAGGTCATCGAGTGATTCACTGCAGACTTGACGAAGCTG'\n",
       "\\item 'ATACGACTCACTATAGGGAATGGATCCACATCTACGAATTCCCGCTTCAAGCAATCGGTCGCTTCACTGCAGACTTGACGAAGCTG'\n",
       "\\item 'ATACGACTCACTATAGGGAATGGATCCACATCTACGAATTCATCCTGCTTCAACCAATCGGTTTCACTGCAGACTTGACGAAGCTG'\n",
       "\\item 'ATACGACTCACTATAGGGAATGGATCCACATCTACGAATTCAAGTTTGCTAATAGTCGCAAGTTCACTGCAGACTTGACGAAGCTG'\n",
       "\\item 'ATACGACTCACTATAGGGAATGGATCCACATCTACGAATTCGTTCAGTTTCAAGCAATCGGTTTCACTGCAGACTTGACGAAGCTG'\n",
       "\\item 'ATACGACTCACTATAGGGAATGGATCCACATCTACGAATTCATTGCCCTGGTCATCGAGTGTTTCACTGCAGACTTGACGAAGCTG'\n",
       "\\item 'ATACGACTCACTATAGGGAATGGATCCACATCTACGAATTCCTGTTTCAAACAATCGGCCTGTTCACTGCAGACTTGACGAAGCTG'\n",
       "\\item 'ATACGACTCACTATAGGGAATGGATCCACATCTACGAATTCCTGTTTCAAACAATCGGTCTCTTCACTGCAGACTTGACGAAGCTG'\n",
       "\\item 'ATACGACTCACTATAGGGAATGGATCCACATCTACGAATTCCTCTTCAATAATCGGTTGCGTTTCACTGCAGACTTGACGAAGCTG'\n",
       "\\item 'ATACGACTCACTATAGGGAATGGATCCACATCTACGAATTCTCCTGTTTCAAGCAATCGGTCTTCACTGCAGACTTGACGAAGCTG'\n",
       "\\item 'ATACGACTCACTATAGGGAATGGATCCACATCTACGAATTCCCGAGTTTCAAGCAATCGGTCTTCACTGCAGACTTGACGAAGCTG'\n",
       "\\item 'ATACGACTCACTATAGGGAATGGATCCACATCTACGAATTCATGGCCCTGGTCATCGAGTGATTCACTGCAGACTTGACGAAGCTG'\n",
       "\\item 'ATACGACTCACTATAGGGAATGGATCCACATCTACGAATTCACCCGCTTCAACCAATCGGTCTTCACTGCAGACTTGACGAAGCTG'\n",
       "\\item 'ATACGACTCACTATAGGGAATGGATCCACATCTACGAATTCGTTACCCTGGTCATCGAGTGTTTCACTGCAGACTTGACGAAGCTG'\n",
       "\\item 'ATACGACTCACTATAGGGAATGGATCCACATCTACGAATTCATTATCCTGGTCATCGAGTGATTCACTGCAGACTTGACGAAGCTG'\n",
       "\\item 'ATACGACTCACTATAGGGAATGGATCCACATCTACGAATTCATCCAGTTTCAAGCAATCGGTTTCACTGCAGACTTGACGAAGCTG'\n",
       "\\item 'ATACGACTCACTATAGGGAATGGATCCACATCTACGAATTCGCTATATGTCGATGGGTATTCTTCACTGCAGACTTGACGAAGCTG'\n",
       "\\item 'ATACGACTCACTATAGGGAATGGATCCACATCTACGAATCCCTCTTCAAACAATCGGTCTTCTTCACTGCAGACTTGACGAAGCTG'\n",
       "\\item 'ATACGACTCACTATAGGGAATGGATCCACATCTACGAATTCATGACCCTGGTCATCGGGTGTTTCACTGCAGACTTGACGAAGCTG'\n",
       "\\item 'ATACGACTCACTATAGGGAATGGATCCACATCTACGAATTCCTGTTTCAAACAATCGGTCGCTTCACTGCAGACTTGACGAAGCTG'\n",
       "\\item 'ATACGACTCACTATAGGGAATGGATCCACATCTACGAATTCATTACCCTGGTCATTGAGTGTTTCACTGCAGACTTGACGAAGCTG'\n",
       "\\item 'ATACGACTCACTATAGGGAATGGATCCACATCTACGAATTCCCAAACTTCAAACAATCGGTCTTCACTGCAGACTTGACGAAGCTG'\n",
       "\\item 'ATACGACTCACTATAGGGAATGGATCCACATCTACGAATTCCTCTACTTCAAGCAATCGGTCTTCACTGCAGACTTGACGAAGCTG'\n",
       "\\item 'ATACGACTCACTATAGGGAATGGATCCACATCTACGAATTCCCGCTTCAAACAATCGGTGTGCTTCACTGCAGACTTGACGAAGCTG'\n",
       "\\item 'ATACGACTCACTATAGGGAATGGATCCACATCTACGAATTCTTTACCCTGGTCATCGAGTGTTTCACTGCAGACTTGACGAAGCTG'\n",
       "\\item 'ATACGACTCACTATAGGGAATGGATCCACATCTACGAATTCTCGCCCTTCAAACAATCGGTCTTCACTGCAGACTTGACGAAGCTG'\n",
       "\\item 'ATACGACTCACTATAGGGAATGGATCCACATCTACGAATTCCCACACTTCAACCAATCGGTCTTCACTGCAGACTTGACGAAGCTG'\n",
       "\\item 'ATACGACTCACTATAGGGAATGGATCCACATCTACGAATTCCTACTTCAAACAATCGGCCTGTTCACTGCAGACTTGACGAAGCTG'\n",
       "\\item 'ATACGACTCACTATAGGGAATGGATCCACATCTACGAATTCATTCACCTAGGTCATCGGGTATTCACTGCAGACTTGACGAAGCTG'\n",
       "\\item 'ATACGACTCACTATAGGGAATGGATCCACATCTACGAATTCATTGCCCTGGTCATCGAGTGATTCACTGCAGACTTGACGAAGCTG'\n",
       "\\item 'ATACGACTCACTATAGGGAATGGATCCACATCTACGAATTCTCGCTTCAAACAATCGGTATGTTCACTGCAGACTTGACGAAGCTG'\n",
       "\\item 'ATACGACTCACTATAGGGAATGGATCCACATCTACGAATTCATGACCCTGGTCATCGAGTGTTTCACTGCAGACTTGACGAAGCTG'\n",
       "\\item 'ATACGACTCACTATAGGGAATGGATCCACATCTACGAATTCCTACTTCAAACAATTGGTCTGTTCACTGCAGACTTGACGAAGCTG'\n",
       "\\item 'ATACGACTCACTATAGGGAATGGATCCACATCTACGAATTCCCAAGTTTCAAACAATCGGTCTTCACTGCAGACTTGACGAAGCTG'\n",
       "\\item 'ATACGACTCACTATAGGGAATGGATCCACATCTACGAATTCATTACCCTGGTTATCGAGTGATTCACTGCAGACTTGACGAAGCTG'\n",
       "\\item 'ATACGACTCACTATAGGGAATGGATCCACATCTACGAATTCCTACTTCAAACAATCGGTTTGTTCACTGCAGACTTGACGAAGCTG'\n",
       "\\item 'ATACGACTCACTATAGGGAATGGATCCACATCTACGAATTCCTCCTTCAAACAATCGGTCTGTTCACTGCAGACTTGACGAAGCTG'\n",
       "\\item 'ATACGACTCACTATAGGGAATGGATCCACATCTACGAATTCATTACCCTGGTCATCGGGTGTTTCACTGCAGACTTGACGAAGCTG'\n",
       "\\item 'ATACGACTCACTATAGGGAATGGATCCACATCTACGAATTCTCACACTTCAAGCAATCGGTCTTCACTGCAGACTTGACGAAGCTG'\n",
       "\\item 'ATACGACTCACTATAGGGAATGGATCCACATCTACGAATTCGTTACCCTGGTCATCGAGTGATTCACTGCAGACTTGACGAAGCTG'\n",
       "\\item 'ATACGACTCACTATAGGGAATGGATCCACATCTACGAATTTCCACACTTCAAGCAATCGGTCTTCACTGCAGACTTGACGAAGCTG'\n",
       "\\item 'ATACGACTCACTATAGGGAATGGATCCACATCTACTAATTCCTACTTCAAACAATCGGTCTGTTCACTGCAGACTTGACGAAGCTG'\n",
       "\\item 'ATACGACTCACTATAGGGAATGGATCCACATCTACGAATTCATTCACCTAGGTCATCGGGTGGTTCACTGCAGACTTGACGAAGCTG'\n",
       "\\item 'ATACGACTCACTATAGGGAATGGATCCACATCTACGAACTCCTCTTCAAACAATCGGTCTTCTTCACTGCAGACTTGACGAAGCTG'\n",
       "\\item 'ATACGACTCACTATAGGGAATGGATCCACATCTACGAATTCCACCACTTCAAACAATCGGTCTTCACTGCAGACTTGACGAAGCTG'\n",
       "\\item 'ATACGACTCACTATAGGGAATGGATCCACATCTACGAATCCATTCACCTAGGTCATCGGGTGTTTCACTGCAGACTTGACGAAGCTG'\n",
       "\\item 'ATACGACTCACTATAGGGAATGGATCCACATCTACGAATCCATTACCCTGGTCATCGAGTGATTCACTGCAGACTTGACGAAGCTG'\n",
       "\\item 'ATACGACTCACTATAGGGAATGGATCCACATCTACGAATTCCTACTTCAAACAATCGGTGTGTTCACTGCAGACTTGACGAAGCTG'\n",
       "\\item 'ATACGACTCACTATAGGGAATGGATCCACATCTACCAATTCCTCTTCAAACAATCGGTCTTCTTCACTGCAGACTTGACGAAGCTG'\n",
       "\\item 'ATACGACTCACTATAGGGAATGGATCCACATCTACGAATTCATTACCCTGGTCATCGAGTGGTTCACTGCAGACTTGACGAAGCTG'\n",
       "\\item 'ATACGACTCACTATAGGGAATGGATCCACATCTACGAATTCCTACTTTAAACAATCGGTCTGTTCACTGCAGACTTGACGAAGCTG'\n",
       "\\item 'ATACGACTCACTATAGGGAATGGATCCACATCTACGAATTCCTGTTTCAAACAATCGGTCTGTTCACTGCAGACTTGACGAAGCTG'\n",
       "\\item 'ATACGACTCACTATAGGGAATGGATCCACATCTACGAGTTCCTACTTCAAACAATCGGTCTGTTCACTGCAGACTTGACGAAGCTG'\n",
       "\\item 'ATACGACTCACTATAGGGAATGGATCCACATCTACGAATTCCTACTTCAAACAATCGGTCTGTTCACTGCAGACTTGAGGAAGCTG'\n",
       "\\item 'ATACGACTCACTATAGGGAATGGATCCACATCTACGCATTCCTACTTCAAACAATCGGTCTGTTCACTGCAGACTTGACGAAGCTG'\n",
       "\\item 'ATACGACTCACTATAGGGAATGGATCCACATCTACGAATCCCCACACTTCAAGCAATCGGTCTTCACTGCAGACTTGACGAAGCTG'\n",
       "\\item 'ATACGACTCACTATAGGGAATGGATCCACATCTACGAATTCCTGCTTCAAACAATCGGTCTGTTCACTGCAGACTTGACGAAGCTG'\n",
       "\\item 'ATACGACTCACTATAGGGAATGGATCCACATCTACGAATTCAAAAACAAAAACAAAAACAAATTCACTGCAGACTTGAGGAAGCTG'\n",
       "\\item 'ATACGACTCACTATAGGGAATGGATCCACATCTACGAATCCATTACCCTGGTCATCGAGTGTTTCACTGCAGACTTGACGAAGCTG'\n",
       "\\item 'ATACGACTCACTATAGGGAATGGATCCACATCTACGAATTCTTACTTCAAACAATCGGTCTGTTCACTGCAGACTTGACGAAGCTG'\n",
       "\\item 'ATACGACTCACTATAGGGAATGGATCCACATCTACGAATTTCTACTTCAAACAATCGGTCTGTTCACTGCAGACTTGACGAAGCTG'\n",
       "\\item 'ATACCACTCACTATAGGGAATGGATCCACATCTACGAATTCCTACTTCAAACAATCGGTCTGTTCACTGCAGACTTGACGAAGCTG'\n",
       "\\item 'ATACGACTCACTATAGGGAATGGATCCACATCTACAAATTCCTACTTCAAACAATCGGTCTGTTCACTGCAGACTTGACGAAGCTG'\n",
       "\\item 'ATACGACTCACTATAGGGAATGGATCCACATCTACCAATTCCTACTTCAAACAATCGGTCTGTTCACTGCAGACTTGACGAAGCTG'\n",
       "\\item 'ATACGACTCACTATAGGGAATGGATCCACATCTACGAATTCCCGCTTCAAACAATCGGTCTTCTTCACTGCAGACTTGACGAAGCTG'\n",
       "\\item 'ATACGACTCACTATAGGGAATGGATCCACATCTACGAATTTATTACCCTGGTCATCGAGTGATTCACTGCAGACTTGACGAAGCTG'\n",
       "\\item 'ATACGACTCACTATAGGGAATGGATCCACATCTACGAATTCCCACTTCAAACAATCGGTTTGTTCACTGCAGACTTGACGAAGCTG'\n",
       "\\item 'ATACGACTCACTATAGGGAATGGATCCACATCTACGAATTTATTACCCTGGTCATCGAGTGTTTCACTGCAGACTTGACGAAGCTG'\n",
       "\\item 'ATACGACTCACTATAGGGAATGGATCCACATCTACGGATTCATTACCCTGGTCATCGAGTGATTCACTGCAGACTTGACGAAGCTG'\n",
       "\\item 'ATACGACTCACTATAGGGAATGGATCCACATCTACGATTTCATTACCCTGGTCATCGAGTGATTCACTGCAGACTTGACGAAGCTG'\n",
       "\\item 'ATACGACTCACTATAGGGAATGGATCCACATCTACGAATTCATTCACCTAGGTCATCGGGTGTTCACTGCAGACTTGAGGAAGCTG'\n",
       "\\item 'ATACGACTCACTATAGGGAATGGATCCACATCTACGATTTCCCGCTTCAAACAATCGGTTTGTTCACTGCAGACTTGACGAAGCTG'\n",
       "\\item 'ATACGACTCACTATAGGGAATGGATCCACATCTACGAGTTCATTACCCTGGTCATCGAGTGATTCACTGCAGACTTGACGAAGCTG'\n",
       "\\item 'ATACGACTCACTATAGGGAATGGATCCACATCTACGGATTCCTACTTCAAACAATCGGTCTGTTCACTGCAGACTTGACGAAGCTG'\n",
       "\\item 'ATACGACTCACTATAGGGAATGGATCCACATCTACGGATTCATTACCCTGGTCATCGAGTGTTTCACTGCAGACTTGACGAAGCTG'\n",
       "\\item 'ATACAACTCACTATAGGGAATGGATCCACATCTACGAATTCAAAAACAAAAACAAAAACAAATTCACTGCAGACTTGACGAAGCTG'\n",
       "\\item 'ATACGACTCACTATAGGGAATGGATCCACATCTACGAATTCATTACCCTGGTCATCGAGTGATTCACTGCAGACTTGAGGAAGCTG'\n",
       "\\item 'ATACGACTCACTATAGGGAATGGATCCACATCTACGAATTCCTACTTCAAACAATCGGTCTGTTCACTGAAGACTTGACGAAGCTG'\n",
       "\\item 'AATAGACTCACTATAGGGAATGGATCCACATCTACGAATTCATTCACCTAGGTCATCGAGTGTTTCACTGCAGACTTGACGAAGCTG'\n",
       "\\item 'ATACGACTCACTATAGGGAATGGATCCACATCTACGATTTCATTACCCTGGTCATCGAGTGTTTCACTGCAGACTTGACGAAGCTG'\n",
       "\\item 'AATAGACTCACTATAGGGAATGGATCCACATCTACGAATTCAAAAACAAAAACAAAAACAAATTCACTGCAGACTTGACGAAGCTG'\n",
       "\\item 'ATACGACTCACTATAGGGAATGGATCCACATCTACGAGTTCATTACCCTGGTCATCGAGTGTTTCACTGCAGACTTGACGAAGCTG'\n",
       "\\item 'ATACGACTCACTATAGGGAATGGATCCACATCTACGAATTCAAAAACAAAAACAAAAACAAATTCACTGAAGACTTGACGAAGCTG'\n",
       "\\item 'ATACGACTCACTATAGGGAATGGATCCACATCTACGAATTCCTACTTCAAACAATCGGTCTGTTCACTGCAGACTTGATGAAGCTG'\n",
       "\\item 'ATACAACTCACTATAGGGAATGGATCCACATCTACGAATTCCTACTTCAAACAATCGGTCTGTTCACTGCAGACTTGACGAAGCTG'\n",
       "\\item 'ATACGACTCACTATAGGGAATGGATCCACATCTACGAATTCATTACCCTGGTCATCGAGTGTTTCACTGCAGACTTGAGGAAGCTG'\n",
       "\\item 'ATATGACTCACTATAGGGAATGGATCCACATCTACGAATTCCTACTTCAAACAATCGGTCTGTTCACTGCAGACTTGACGAAGCTG'\n",
       "\\item 'ATACGACTCACTATAGGGAATGGATCCACATCTACGAATTCAAAAACAAAAACAAAAACAAATTCACTGCAGACTTGATGAAGCTG'\n",
       "\\item 'ATACGACTCACTATAGGGAATGGATCCACATCTACGAATTTAAAAACAAAAACAAAAACAAATTCACTGCAGACTTGACGAAGCTG'\n",
       "\\item 'ATACGACTCACTATAGGGAATGGATCCACATCTACAAATTCCTCTTCAAACAATCGGTCTTCTTCACTGCAGACTTGACGAAGCTG'\n",
       "\\item 'ATACGACTCACTATAGGGAATGGATCCACATCTACGCATTCACCCACTTCAAACAATCGGTCTTCACTGCAGACTTGACGAAGCTG'\n",
       "\\item 'ATACGACTCACTATAGGGAATGGATCCACATCTACGAATTCCCACACTTCAAGCAATCGGTCTTCACTGCAGACTTGAGGAAGCTG'\n",
       "\\item 'ATACGACTCACTATAGGGAATGGATCCACATCTACGAATTCAAAAACAAAAACAAAAACAAATTCACTGCAGACTTGCCGAAGCTG'\n",
       "\\item 'ATACGACTCACTATAGGGAATGGATCCACATCTACGAATTCCTACTTCAAACAATCGGTCTGTTCACTGTAGACTTGACGAAGCTG'\n",
       "\\item 'ATACGACTCACTATAGGGAATGGATCCACATCTACGAACTCCCACACTTCAAGCAATCGGTCTTCACTGCAGACTTGACGAAGCTG'\n",
       "\\item 'ATACGACTCACTATAGGGAATGGATCCACATCTACGAATTCAAAAACAAAAACAAAAACAAATTCACTGTAGACTTGACGAAGCTG'\n",
       "\\item 'ATACGACACACTATAGGGAATGGATCCACATCTACGAATTCCTACTTCAAACAATCGGTCTGTTCACTGCAGACTTGACGAAGCTG'\n",
       "\\item 'ATACAACTCACTATAGGGAATGGATCCACATCTACGAATTCATTACCCTGGTCATCGAGTGATTCACTGCAGACTTGACGAAGCTG'\n",
       "\\item 'ATACGACTCACTATAGGGAATGGATCCACATCTACGGATTCTTTACCCTGGTCATCGAGTGTTTCACTGCAGACTTGACGAAGCTG'\n",
       "\\item 'ATACCACTCACTATAGGGAATGGATCCACATCTACGAATTCATTACCCTGGTCATCGAGTGTTTCACTGCAGACTTGACGAAGCTG'\n",
       "\\item 'AATACACTCACTATAGGGAATGGATCCACATCTACGAATTCATTACCCTGGTCATCGAGTGTTTCACTGCAGACTTGACGAAGCTG'\n",
       "\\item 'ATACGACTTACTATAGGGAATGGATCCACATCTACGAATTCAAAAACAAAAACAAAAACAAATTCACTGCAGACTTGACGAAGCTG'\n",
       "\\item 'ATACGACTCACTATAGGGAATGGATCCACATCTACGAATTCCTCTTCAAACAATCGGTCTTCTTCACTGCAGACTTGAGGAAGCTG'\n",
       "\\item 'AATCGACTCACTATAGGGAATGGATCCACATCTACGAATTCAAAAACAAAAACAAAAACAAATTCACTGCAGACTTGACGAAGCTG'\n",
       "\\item 'ATACGACTCACTATAGGGAATGGATCCACATCTACGAATTCCCGCTTCAAACAATCGGTTTGTTCACTGCAGACTTGAGGAAGCTG'\n",
       "\\item 'AATAGACTCACTATAGGGAATGGATCCACATCTACGAATTCATTACCCTGGTCATCGAGTGTTTCACTGCAGACTTGACGAAGCTG'\n",
       "\\item 'AATAGACTCACTATAGGGAATGGATCCACATCTACGAATTCATTACCCTGGTCATCGAGTGATTCACTGCAGACTTGACGAAGCTG'\n",
       "\\item 'ATACCACTCACTATAGGGAATGGATCCACATCTACGAATTCATTCACCTAGGTCATCGGGTGTTTCACTGCAGACTTGACGAAGCTG'\n",
       "\\item 'ATACGACTAACTATAGGGAATGGATCCACATCTACGAATTCCTACTTCAAACAATCGGTCTGTTCACTGCAGACTTGACGAAGCTG'\n",
       "\\item 'ATACGACTAACTATAGGGAATGGATCCACATCTACGAATTCAAAAACAAAAACAAAAACAAATTCACTGCAGACTTGACGAAGCTG'\n",
       "\\item 'AATCGACTCACTATAGGGAATGGATCCACATCTACGAATTCATTACCCTGGTCATCGAGTGATTCACTGCAGACTTGACGAAGCTG'\n",
       "\\item 'ATACGACTCACTATAGGGAATGGATCCACATCTACAAATTCCCGCTTCAAACAATCGGTTTGTTCACTGCAGACTTGACGAAGCTG'\n",
       "\\item 'ATATGACTCACTATAGGGAATGGATCCACATCTACGAATTCATTACCCTGGTCATCGAGTGTTTCACTGCAGACTTGACGAAGCTG'\n",
       "\\item 'ATACGAATCACTATAGGGAATGGATCCACATCTACGAATTCCTACTTCAAACAATCGGTCTGTTCACTGCAGACTTGACGAAGCTG'\n",
       "\\item 'ATACGACTCACTATAGGGAATGGATCCACATCTACGAATTCAAAAAACAAAACAAAAACAAATTCACTGCAGACTTGACGAAGCTG'\n",
       "\\item 'ATACCACTCACTATAGGGAATGGATCCACATCTACGAATTCCTACTTCAAACAATCGGTCTGTTCACTGCAGACTTGAGGAAGCTG'\n",
       "\\item 'ATATGACTCACTATAGGGAATGGATCCACATCTACGAATTCATTCACCTAGGTCATCGGGTGTTTCACTGCAGACTTGACGAAGCTG'\n",
       "\\item 'ATACGACTAACTATAGGGAATGGATCCACATCTACGAATTCATTACCCTGGTCATCGAGTGTTTCACTGCAGACTTGACGAAGCTG'\n",
       "\\item 'ATACCACTCACTATAGGGAATGGATCCACATCTACGAATTCCTACTTCAAACAATCGGTCTGTTCACTGAAGACTTGACGAAGCTG'\n",
       "\\item 'ATACAACTCACTATAGGGAATGGATCCACATCTACGAATTCAAAAACAAAAACAAAAACAAATTCACTGCAGACTTGAGGAAGCTG'\n",
       "\\item 'ATACCACTCACTATAGGGAATGGATCCACATCTACGAATTCATTACCCTGGTCATCGAGTGTTTCACTGCAGACTTGAGGAAGCTG'\n",
       "\\item 'ATACAACTCACTATAGGGAATGGATCCACATCTACGAATTCATTACCCTGGTCATCGAGTGATTCACTGCAGACTTGAGGAAGCTG'\n",
       "\\item 'ATACAACTCACTATAGGGAATGGATCCACATCTACGAATTCAAAAACAAAAACAAAAACAAATTCACTGAAGACTTGACGAAGCTG'\n",
       "\\item 'AATCGACTCACTATAGGGAATGGATCCACATCTACGAATTCAAAAACAAAAACAAAAACAAATTCACTGCAGACTTGAGGAAGCTG'\n",
       "\\item 'AATCGACTCACTATAGGGAATGGATCCACATCTACGAATTCATTACCCTGGTCATCGAGTGATTCACTGCAGACTTGAGGAAGCTG'\n",
       "\\item 'ATACGACACACTATAGGGAATGGATCCACATCTACGAATTCCTACTTCAAACAATCGGTCTGTTCACTGCAGACTTGATGAAGCTG'\n",
       "\\item 'ATACAACTCACTATAGGGAATGGATCCACATCTACGAATTCCTACTTCAAACAATCGGTCTGTTCACTGCAGACTTGATGAAGCTG'\n",
       "\\end{enumerate*}\n"
      ],
      "text/markdown": [
       "1. 'ATACGACTCACTATAGGGAATGGATCCACATCTACGAATTCCTACTTCAAACAATCGGTCTGTTCACTGCAGACTTGACGAAGCTG'\n",
       "2. 'ATACGACTCACTATAGGGAATGGATCCACATCTACGAATTCAAAAACAAAAACAAAAACAAATTCACTGCAGACTTGACGAAGCTG'\n",
       "3. 'ATACGACTCACTATAGGGAATGGATCCACATCTACGAATTCATTACCCTGGTCATCGAGTGATTCACTGCAGACTTGACGAAGCTG'\n",
       "4. 'ATACGACTCACTATAGGGAATGGATCCACATCTACGAATTCATTACCCTGGTCATCGAGTGTTTCACTGCAGACTTGACGAAGCTG'\n",
       "5. 'ATACGACTCACTATAGGGAATGGATCCACATCTACGAATTCCCACACTTCAAGCAATCGGTCTTCACTGCAGACTTGACGAAGCTG'\n",
       "6. 'ATACGACTCACTATAGGGAATGGATCCACATCTACGAATTCATTCACCTAGGTCATCGGGTGTTTCACTGCAGACTTGACGAAGCTG'\n",
       "7. 'ATACGACTCACTATAGGGAATGGATCCACATCTACGAATTCCTCTTCAAACAATCGGTCTTCTTCACTGCAGACTTGACGAAGCTG'\n",
       "8. 'ATACGACTCACTATAGGGAATGGATCCACATCTACGAATTCCCGCTTCAAACAATCGGTTTGTTCACTGCAGACTTGACGAAGCTG'\n",
       "9. 'ATACGACTCACTATAGGGAATGGATCCACATCTACGAATTCACCCACTTCAAACAATCGGTCTTCACTGCAGACTTGACGAAGCTG'\n",
       "10. 'ATACGACTCACTATAGGGAATGGATCCACATCTACGAATTCATTCACCTAGGTCATCGAGTGTTTCACTGCAGACTTGACGAAGCTG'\n",
       "11. 'ATACGACTCACTATAGGGAATGGATCCACATCTACGAATTCCTGCTTCAAACAATCGGTGTGTTCACTGCAGACTTGACGAAGCTG'\n",
       "12. 'ATACGACTCACTATAGGGAATGGATCCACATCTACGAATTCATTCACCTAGGTCATCGAGTGATTCACTGCAGACTTGACGAAGCTG'\n",
       "13. 'ATACGACTCACTATAGGGAATGGATCCACATCTACGAATTCCCGCTTCAAGCAATCGGTCGCTTCACTGCAGACTTGACGAAGCTG'\n",
       "14. 'ATACGACTCACTATAGGGAATGGATCCACATCTACGAATTCATCCTGCTTCAACCAATCGGTTTCACTGCAGACTTGACGAAGCTG'\n",
       "15. 'ATACGACTCACTATAGGGAATGGATCCACATCTACGAATTCAAGTTTGCTAATAGTCGCAAGTTCACTGCAGACTTGACGAAGCTG'\n",
       "16. 'ATACGACTCACTATAGGGAATGGATCCACATCTACGAATTCGTTCAGTTTCAAGCAATCGGTTTCACTGCAGACTTGACGAAGCTG'\n",
       "17. 'ATACGACTCACTATAGGGAATGGATCCACATCTACGAATTCATTGCCCTGGTCATCGAGTGTTTCACTGCAGACTTGACGAAGCTG'\n",
       "18. 'ATACGACTCACTATAGGGAATGGATCCACATCTACGAATTCCTGTTTCAAACAATCGGCCTGTTCACTGCAGACTTGACGAAGCTG'\n",
       "19. 'ATACGACTCACTATAGGGAATGGATCCACATCTACGAATTCCTGTTTCAAACAATCGGTCTCTTCACTGCAGACTTGACGAAGCTG'\n",
       "20. 'ATACGACTCACTATAGGGAATGGATCCACATCTACGAATTCCTCTTCAATAATCGGTTGCGTTTCACTGCAGACTTGACGAAGCTG'\n",
       "21. 'ATACGACTCACTATAGGGAATGGATCCACATCTACGAATTCTCCTGTTTCAAGCAATCGGTCTTCACTGCAGACTTGACGAAGCTG'\n",
       "22. 'ATACGACTCACTATAGGGAATGGATCCACATCTACGAATTCCCGAGTTTCAAGCAATCGGTCTTCACTGCAGACTTGACGAAGCTG'\n",
       "23. 'ATACGACTCACTATAGGGAATGGATCCACATCTACGAATTCATGGCCCTGGTCATCGAGTGATTCACTGCAGACTTGACGAAGCTG'\n",
       "24. 'ATACGACTCACTATAGGGAATGGATCCACATCTACGAATTCACCCGCTTCAACCAATCGGTCTTCACTGCAGACTTGACGAAGCTG'\n",
       "25. 'ATACGACTCACTATAGGGAATGGATCCACATCTACGAATTCGTTACCCTGGTCATCGAGTGTTTCACTGCAGACTTGACGAAGCTG'\n",
       "26. 'ATACGACTCACTATAGGGAATGGATCCACATCTACGAATTCATTATCCTGGTCATCGAGTGATTCACTGCAGACTTGACGAAGCTG'\n",
       "27. 'ATACGACTCACTATAGGGAATGGATCCACATCTACGAATTCATCCAGTTTCAAGCAATCGGTTTCACTGCAGACTTGACGAAGCTG'\n",
       "28. 'ATACGACTCACTATAGGGAATGGATCCACATCTACGAATTCGCTATATGTCGATGGGTATTCTTCACTGCAGACTTGACGAAGCTG'\n",
       "29. 'ATACGACTCACTATAGGGAATGGATCCACATCTACGAATCCCTCTTCAAACAATCGGTCTTCTTCACTGCAGACTTGACGAAGCTG'\n",
       "30. 'ATACGACTCACTATAGGGAATGGATCCACATCTACGAATTCATGACCCTGGTCATCGGGTGTTTCACTGCAGACTTGACGAAGCTG'\n",
       "31. 'ATACGACTCACTATAGGGAATGGATCCACATCTACGAATTCCTGTTTCAAACAATCGGTCGCTTCACTGCAGACTTGACGAAGCTG'\n",
       "32. 'ATACGACTCACTATAGGGAATGGATCCACATCTACGAATTCATTACCCTGGTCATTGAGTGTTTCACTGCAGACTTGACGAAGCTG'\n",
       "33. 'ATACGACTCACTATAGGGAATGGATCCACATCTACGAATTCCCAAACTTCAAACAATCGGTCTTCACTGCAGACTTGACGAAGCTG'\n",
       "34. 'ATACGACTCACTATAGGGAATGGATCCACATCTACGAATTCCTCTACTTCAAGCAATCGGTCTTCACTGCAGACTTGACGAAGCTG'\n",
       "35. 'ATACGACTCACTATAGGGAATGGATCCACATCTACGAATTCCCGCTTCAAACAATCGGTGTGCTTCACTGCAGACTTGACGAAGCTG'\n",
       "36. 'ATACGACTCACTATAGGGAATGGATCCACATCTACGAATTCTTTACCCTGGTCATCGAGTGTTTCACTGCAGACTTGACGAAGCTG'\n",
       "37. 'ATACGACTCACTATAGGGAATGGATCCACATCTACGAATTCTCGCCCTTCAAACAATCGGTCTTCACTGCAGACTTGACGAAGCTG'\n",
       "38. 'ATACGACTCACTATAGGGAATGGATCCACATCTACGAATTCCCACACTTCAACCAATCGGTCTTCACTGCAGACTTGACGAAGCTG'\n",
       "39. 'ATACGACTCACTATAGGGAATGGATCCACATCTACGAATTCCTACTTCAAACAATCGGCCTGTTCACTGCAGACTTGACGAAGCTG'\n",
       "40. 'ATACGACTCACTATAGGGAATGGATCCACATCTACGAATTCATTCACCTAGGTCATCGGGTATTCACTGCAGACTTGACGAAGCTG'\n",
       "41. 'ATACGACTCACTATAGGGAATGGATCCACATCTACGAATTCATTGCCCTGGTCATCGAGTGATTCACTGCAGACTTGACGAAGCTG'\n",
       "42. 'ATACGACTCACTATAGGGAATGGATCCACATCTACGAATTCTCGCTTCAAACAATCGGTATGTTCACTGCAGACTTGACGAAGCTG'\n",
       "43. 'ATACGACTCACTATAGGGAATGGATCCACATCTACGAATTCATGACCCTGGTCATCGAGTGTTTCACTGCAGACTTGACGAAGCTG'\n",
       "44. 'ATACGACTCACTATAGGGAATGGATCCACATCTACGAATTCCTACTTCAAACAATTGGTCTGTTCACTGCAGACTTGACGAAGCTG'\n",
       "45. 'ATACGACTCACTATAGGGAATGGATCCACATCTACGAATTCCCAAGTTTCAAACAATCGGTCTTCACTGCAGACTTGACGAAGCTG'\n",
       "46. 'ATACGACTCACTATAGGGAATGGATCCACATCTACGAATTCATTACCCTGGTTATCGAGTGATTCACTGCAGACTTGACGAAGCTG'\n",
       "47. 'ATACGACTCACTATAGGGAATGGATCCACATCTACGAATTCCTACTTCAAACAATCGGTTTGTTCACTGCAGACTTGACGAAGCTG'\n",
       "48. 'ATACGACTCACTATAGGGAATGGATCCACATCTACGAATTCCTCCTTCAAACAATCGGTCTGTTCACTGCAGACTTGACGAAGCTG'\n",
       "49. 'ATACGACTCACTATAGGGAATGGATCCACATCTACGAATTCATTACCCTGGTCATCGGGTGTTTCACTGCAGACTTGACGAAGCTG'\n",
       "50. 'ATACGACTCACTATAGGGAATGGATCCACATCTACGAATTCTCACACTTCAAGCAATCGGTCTTCACTGCAGACTTGACGAAGCTG'\n",
       "51. 'ATACGACTCACTATAGGGAATGGATCCACATCTACGAATTCGTTACCCTGGTCATCGAGTGATTCACTGCAGACTTGACGAAGCTG'\n",
       "52. 'ATACGACTCACTATAGGGAATGGATCCACATCTACGAATTTCCACACTTCAAGCAATCGGTCTTCACTGCAGACTTGACGAAGCTG'\n",
       "53. 'ATACGACTCACTATAGGGAATGGATCCACATCTACTAATTCCTACTTCAAACAATCGGTCTGTTCACTGCAGACTTGACGAAGCTG'\n",
       "54. 'ATACGACTCACTATAGGGAATGGATCCACATCTACGAATTCATTCACCTAGGTCATCGGGTGGTTCACTGCAGACTTGACGAAGCTG'\n",
       "55. 'ATACGACTCACTATAGGGAATGGATCCACATCTACGAACTCCTCTTCAAACAATCGGTCTTCTTCACTGCAGACTTGACGAAGCTG'\n",
       "56. 'ATACGACTCACTATAGGGAATGGATCCACATCTACGAATTCCACCACTTCAAACAATCGGTCTTCACTGCAGACTTGACGAAGCTG'\n",
       "57. 'ATACGACTCACTATAGGGAATGGATCCACATCTACGAATCCATTCACCTAGGTCATCGGGTGTTTCACTGCAGACTTGACGAAGCTG'\n",
       "58. 'ATACGACTCACTATAGGGAATGGATCCACATCTACGAATCCATTACCCTGGTCATCGAGTGATTCACTGCAGACTTGACGAAGCTG'\n",
       "59. 'ATACGACTCACTATAGGGAATGGATCCACATCTACGAATTCCTACTTCAAACAATCGGTGTGTTCACTGCAGACTTGACGAAGCTG'\n",
       "60. 'ATACGACTCACTATAGGGAATGGATCCACATCTACCAATTCCTCTTCAAACAATCGGTCTTCTTCACTGCAGACTTGACGAAGCTG'\n",
       "61. 'ATACGACTCACTATAGGGAATGGATCCACATCTACGAATTCATTACCCTGGTCATCGAGTGGTTCACTGCAGACTTGACGAAGCTG'\n",
       "62. 'ATACGACTCACTATAGGGAATGGATCCACATCTACGAATTCCTACTTTAAACAATCGGTCTGTTCACTGCAGACTTGACGAAGCTG'\n",
       "63. 'ATACGACTCACTATAGGGAATGGATCCACATCTACGAATTCCTGTTTCAAACAATCGGTCTGTTCACTGCAGACTTGACGAAGCTG'\n",
       "64. 'ATACGACTCACTATAGGGAATGGATCCACATCTACGAGTTCCTACTTCAAACAATCGGTCTGTTCACTGCAGACTTGACGAAGCTG'\n",
       "65. 'ATACGACTCACTATAGGGAATGGATCCACATCTACGAATTCCTACTTCAAACAATCGGTCTGTTCACTGCAGACTTGAGGAAGCTG'\n",
       "66. 'ATACGACTCACTATAGGGAATGGATCCACATCTACGCATTCCTACTTCAAACAATCGGTCTGTTCACTGCAGACTTGACGAAGCTG'\n",
       "67. 'ATACGACTCACTATAGGGAATGGATCCACATCTACGAATCCCCACACTTCAAGCAATCGGTCTTCACTGCAGACTTGACGAAGCTG'\n",
       "68. 'ATACGACTCACTATAGGGAATGGATCCACATCTACGAATTCCTGCTTCAAACAATCGGTCTGTTCACTGCAGACTTGACGAAGCTG'\n",
       "69. 'ATACGACTCACTATAGGGAATGGATCCACATCTACGAATTCAAAAACAAAAACAAAAACAAATTCACTGCAGACTTGAGGAAGCTG'\n",
       "70. 'ATACGACTCACTATAGGGAATGGATCCACATCTACGAATCCATTACCCTGGTCATCGAGTGTTTCACTGCAGACTTGACGAAGCTG'\n",
       "71. 'ATACGACTCACTATAGGGAATGGATCCACATCTACGAATTCTTACTTCAAACAATCGGTCTGTTCACTGCAGACTTGACGAAGCTG'\n",
       "72. 'ATACGACTCACTATAGGGAATGGATCCACATCTACGAATTTCTACTTCAAACAATCGGTCTGTTCACTGCAGACTTGACGAAGCTG'\n",
       "73. 'ATACCACTCACTATAGGGAATGGATCCACATCTACGAATTCCTACTTCAAACAATCGGTCTGTTCACTGCAGACTTGACGAAGCTG'\n",
       "74. 'ATACGACTCACTATAGGGAATGGATCCACATCTACAAATTCCTACTTCAAACAATCGGTCTGTTCACTGCAGACTTGACGAAGCTG'\n",
       "75. 'ATACGACTCACTATAGGGAATGGATCCACATCTACCAATTCCTACTTCAAACAATCGGTCTGTTCACTGCAGACTTGACGAAGCTG'\n",
       "76. 'ATACGACTCACTATAGGGAATGGATCCACATCTACGAATTCCCGCTTCAAACAATCGGTCTTCTTCACTGCAGACTTGACGAAGCTG'\n",
       "77. 'ATACGACTCACTATAGGGAATGGATCCACATCTACGAATTTATTACCCTGGTCATCGAGTGATTCACTGCAGACTTGACGAAGCTG'\n",
       "78. 'ATACGACTCACTATAGGGAATGGATCCACATCTACGAATTCCCACTTCAAACAATCGGTTTGTTCACTGCAGACTTGACGAAGCTG'\n",
       "79. 'ATACGACTCACTATAGGGAATGGATCCACATCTACGAATTTATTACCCTGGTCATCGAGTGTTTCACTGCAGACTTGACGAAGCTG'\n",
       "80. 'ATACGACTCACTATAGGGAATGGATCCACATCTACGGATTCATTACCCTGGTCATCGAGTGATTCACTGCAGACTTGACGAAGCTG'\n",
       "81. 'ATACGACTCACTATAGGGAATGGATCCACATCTACGATTTCATTACCCTGGTCATCGAGTGATTCACTGCAGACTTGACGAAGCTG'\n",
       "82. 'ATACGACTCACTATAGGGAATGGATCCACATCTACGAATTCATTCACCTAGGTCATCGGGTGTTCACTGCAGACTTGAGGAAGCTG'\n",
       "83. 'ATACGACTCACTATAGGGAATGGATCCACATCTACGATTTCCCGCTTCAAACAATCGGTTTGTTCACTGCAGACTTGACGAAGCTG'\n",
       "84. 'ATACGACTCACTATAGGGAATGGATCCACATCTACGAGTTCATTACCCTGGTCATCGAGTGATTCACTGCAGACTTGACGAAGCTG'\n",
       "85. 'ATACGACTCACTATAGGGAATGGATCCACATCTACGGATTCCTACTTCAAACAATCGGTCTGTTCACTGCAGACTTGACGAAGCTG'\n",
       "86. 'ATACGACTCACTATAGGGAATGGATCCACATCTACGGATTCATTACCCTGGTCATCGAGTGTTTCACTGCAGACTTGACGAAGCTG'\n",
       "87. 'ATACAACTCACTATAGGGAATGGATCCACATCTACGAATTCAAAAACAAAAACAAAAACAAATTCACTGCAGACTTGACGAAGCTG'\n",
       "88. 'ATACGACTCACTATAGGGAATGGATCCACATCTACGAATTCATTACCCTGGTCATCGAGTGATTCACTGCAGACTTGAGGAAGCTG'\n",
       "89. 'ATACGACTCACTATAGGGAATGGATCCACATCTACGAATTCCTACTTCAAACAATCGGTCTGTTCACTGAAGACTTGACGAAGCTG'\n",
       "90. 'AATAGACTCACTATAGGGAATGGATCCACATCTACGAATTCATTCACCTAGGTCATCGAGTGTTTCACTGCAGACTTGACGAAGCTG'\n",
       "91. 'ATACGACTCACTATAGGGAATGGATCCACATCTACGATTTCATTACCCTGGTCATCGAGTGTTTCACTGCAGACTTGACGAAGCTG'\n",
       "92. 'AATAGACTCACTATAGGGAATGGATCCACATCTACGAATTCAAAAACAAAAACAAAAACAAATTCACTGCAGACTTGACGAAGCTG'\n",
       "93. 'ATACGACTCACTATAGGGAATGGATCCACATCTACGAGTTCATTACCCTGGTCATCGAGTGTTTCACTGCAGACTTGACGAAGCTG'\n",
       "94. 'ATACGACTCACTATAGGGAATGGATCCACATCTACGAATTCAAAAACAAAAACAAAAACAAATTCACTGAAGACTTGACGAAGCTG'\n",
       "95. 'ATACGACTCACTATAGGGAATGGATCCACATCTACGAATTCCTACTTCAAACAATCGGTCTGTTCACTGCAGACTTGATGAAGCTG'\n",
       "96. 'ATACAACTCACTATAGGGAATGGATCCACATCTACGAATTCCTACTTCAAACAATCGGTCTGTTCACTGCAGACTTGACGAAGCTG'\n",
       "97. 'ATACGACTCACTATAGGGAATGGATCCACATCTACGAATTCATTACCCTGGTCATCGAGTGTTTCACTGCAGACTTGAGGAAGCTG'\n",
       "98. 'ATATGACTCACTATAGGGAATGGATCCACATCTACGAATTCCTACTTCAAACAATCGGTCTGTTCACTGCAGACTTGACGAAGCTG'\n",
       "99. 'ATACGACTCACTATAGGGAATGGATCCACATCTACGAATTCAAAAACAAAAACAAAAACAAATTCACTGCAGACTTGATGAAGCTG'\n",
       "100. 'ATACGACTCACTATAGGGAATGGATCCACATCTACGAATTTAAAAACAAAAACAAAAACAAATTCACTGCAGACTTGACGAAGCTG'\n",
       "101. 'ATACGACTCACTATAGGGAATGGATCCACATCTACAAATTCCTCTTCAAACAATCGGTCTTCTTCACTGCAGACTTGACGAAGCTG'\n",
       "102. 'ATACGACTCACTATAGGGAATGGATCCACATCTACGCATTCACCCACTTCAAACAATCGGTCTTCACTGCAGACTTGACGAAGCTG'\n",
       "103. 'ATACGACTCACTATAGGGAATGGATCCACATCTACGAATTCCCACACTTCAAGCAATCGGTCTTCACTGCAGACTTGAGGAAGCTG'\n",
       "104. 'ATACGACTCACTATAGGGAATGGATCCACATCTACGAATTCAAAAACAAAAACAAAAACAAATTCACTGCAGACTTGCCGAAGCTG'\n",
       "105. 'ATACGACTCACTATAGGGAATGGATCCACATCTACGAATTCCTACTTCAAACAATCGGTCTGTTCACTGTAGACTTGACGAAGCTG'\n",
       "106. 'ATACGACTCACTATAGGGAATGGATCCACATCTACGAACTCCCACACTTCAAGCAATCGGTCTTCACTGCAGACTTGACGAAGCTG'\n",
       "107. 'ATACGACTCACTATAGGGAATGGATCCACATCTACGAATTCAAAAACAAAAACAAAAACAAATTCACTGTAGACTTGACGAAGCTG'\n",
       "108. 'ATACGACACACTATAGGGAATGGATCCACATCTACGAATTCCTACTTCAAACAATCGGTCTGTTCACTGCAGACTTGACGAAGCTG'\n",
       "109. 'ATACAACTCACTATAGGGAATGGATCCACATCTACGAATTCATTACCCTGGTCATCGAGTGATTCACTGCAGACTTGACGAAGCTG'\n",
       "110. 'ATACGACTCACTATAGGGAATGGATCCACATCTACGGATTCTTTACCCTGGTCATCGAGTGTTTCACTGCAGACTTGACGAAGCTG'\n",
       "111. 'ATACCACTCACTATAGGGAATGGATCCACATCTACGAATTCATTACCCTGGTCATCGAGTGTTTCACTGCAGACTTGACGAAGCTG'\n",
       "112. 'AATACACTCACTATAGGGAATGGATCCACATCTACGAATTCATTACCCTGGTCATCGAGTGTTTCACTGCAGACTTGACGAAGCTG'\n",
       "113. 'ATACGACTTACTATAGGGAATGGATCCACATCTACGAATTCAAAAACAAAAACAAAAACAAATTCACTGCAGACTTGACGAAGCTG'\n",
       "114. 'ATACGACTCACTATAGGGAATGGATCCACATCTACGAATTCCTCTTCAAACAATCGGTCTTCTTCACTGCAGACTTGAGGAAGCTG'\n",
       "115. 'AATCGACTCACTATAGGGAATGGATCCACATCTACGAATTCAAAAACAAAAACAAAAACAAATTCACTGCAGACTTGACGAAGCTG'\n",
       "116. 'ATACGACTCACTATAGGGAATGGATCCACATCTACGAATTCCCGCTTCAAACAATCGGTTTGTTCACTGCAGACTTGAGGAAGCTG'\n",
       "117. 'AATAGACTCACTATAGGGAATGGATCCACATCTACGAATTCATTACCCTGGTCATCGAGTGTTTCACTGCAGACTTGACGAAGCTG'\n",
       "118. 'AATAGACTCACTATAGGGAATGGATCCACATCTACGAATTCATTACCCTGGTCATCGAGTGATTCACTGCAGACTTGACGAAGCTG'\n",
       "119. 'ATACCACTCACTATAGGGAATGGATCCACATCTACGAATTCATTCACCTAGGTCATCGGGTGTTTCACTGCAGACTTGACGAAGCTG'\n",
       "120. 'ATACGACTAACTATAGGGAATGGATCCACATCTACGAATTCCTACTTCAAACAATCGGTCTGTTCACTGCAGACTTGACGAAGCTG'\n",
       "121. 'ATACGACTAACTATAGGGAATGGATCCACATCTACGAATTCAAAAACAAAAACAAAAACAAATTCACTGCAGACTTGACGAAGCTG'\n",
       "122. 'AATCGACTCACTATAGGGAATGGATCCACATCTACGAATTCATTACCCTGGTCATCGAGTGATTCACTGCAGACTTGACGAAGCTG'\n",
       "123. 'ATACGACTCACTATAGGGAATGGATCCACATCTACAAATTCCCGCTTCAAACAATCGGTTTGTTCACTGCAGACTTGACGAAGCTG'\n",
       "124. 'ATATGACTCACTATAGGGAATGGATCCACATCTACGAATTCATTACCCTGGTCATCGAGTGTTTCACTGCAGACTTGACGAAGCTG'\n",
       "125. 'ATACGAATCACTATAGGGAATGGATCCACATCTACGAATTCCTACTTCAAACAATCGGTCTGTTCACTGCAGACTTGACGAAGCTG'\n",
       "126. 'ATACGACTCACTATAGGGAATGGATCCACATCTACGAATTCAAAAAACAAAACAAAAACAAATTCACTGCAGACTTGACGAAGCTG'\n",
       "127. 'ATACCACTCACTATAGGGAATGGATCCACATCTACGAATTCCTACTTCAAACAATCGGTCTGTTCACTGCAGACTTGAGGAAGCTG'\n",
       "128. 'ATATGACTCACTATAGGGAATGGATCCACATCTACGAATTCATTCACCTAGGTCATCGGGTGTTTCACTGCAGACTTGACGAAGCTG'\n",
       "129. 'ATACGACTAACTATAGGGAATGGATCCACATCTACGAATTCATTACCCTGGTCATCGAGTGTTTCACTGCAGACTTGACGAAGCTG'\n",
       "130. 'ATACCACTCACTATAGGGAATGGATCCACATCTACGAATTCCTACTTCAAACAATCGGTCTGTTCACTGAAGACTTGACGAAGCTG'\n",
       "131. 'ATACAACTCACTATAGGGAATGGATCCACATCTACGAATTCAAAAACAAAAACAAAAACAAATTCACTGCAGACTTGAGGAAGCTG'\n",
       "132. 'ATACCACTCACTATAGGGAATGGATCCACATCTACGAATTCATTACCCTGGTCATCGAGTGTTTCACTGCAGACTTGAGGAAGCTG'\n",
       "133. 'ATACAACTCACTATAGGGAATGGATCCACATCTACGAATTCATTACCCTGGTCATCGAGTGATTCACTGCAGACTTGAGGAAGCTG'\n",
       "134. 'ATACAACTCACTATAGGGAATGGATCCACATCTACGAATTCAAAAACAAAAACAAAAACAAATTCACTGAAGACTTGACGAAGCTG'\n",
       "135. 'AATCGACTCACTATAGGGAATGGATCCACATCTACGAATTCAAAAACAAAAACAAAAACAAATTCACTGCAGACTTGAGGAAGCTG'\n",
       "136. 'AATCGACTCACTATAGGGAATGGATCCACATCTACGAATTCATTACCCTGGTCATCGAGTGATTCACTGCAGACTTGAGGAAGCTG'\n",
       "137. 'ATACGACACACTATAGGGAATGGATCCACATCTACGAATTCCTACTTCAAACAATCGGTCTGTTCACTGCAGACTTGATGAAGCTG'\n",
       "138. 'ATACAACTCACTATAGGGAATGGATCCACATCTACGAATTCCTACTTCAAACAATCGGTCTGTTCACTGCAGACTTGATGAAGCTG'\n",
       "\n",
       "\n"
      ],
      "text/plain": [
       "  [1] \"ATACGACTCACTATAGGGAATGGATCCACATCTACGAATTCCTACTTCAAACAATCGGTCTGTTCACTGCAGACTTGACGAAGCTG\" \n",
       "  [2] \"ATACGACTCACTATAGGGAATGGATCCACATCTACGAATTCAAAAACAAAAACAAAAACAAATTCACTGCAGACTTGACGAAGCTG\" \n",
       "  [3] \"ATACGACTCACTATAGGGAATGGATCCACATCTACGAATTCATTACCCTGGTCATCGAGTGATTCACTGCAGACTTGACGAAGCTG\" \n",
       "  [4] \"ATACGACTCACTATAGGGAATGGATCCACATCTACGAATTCATTACCCTGGTCATCGAGTGTTTCACTGCAGACTTGACGAAGCTG\" \n",
       "  [5] \"ATACGACTCACTATAGGGAATGGATCCACATCTACGAATTCCCACACTTCAAGCAATCGGTCTTCACTGCAGACTTGACGAAGCTG\" \n",
       "  [6] \"ATACGACTCACTATAGGGAATGGATCCACATCTACGAATTCATTCACCTAGGTCATCGGGTGTTTCACTGCAGACTTGACGAAGCTG\"\n",
       "  [7] \"ATACGACTCACTATAGGGAATGGATCCACATCTACGAATTCCTCTTCAAACAATCGGTCTTCTTCACTGCAGACTTGACGAAGCTG\" \n",
       "  [8] \"ATACGACTCACTATAGGGAATGGATCCACATCTACGAATTCCCGCTTCAAACAATCGGTTTGTTCACTGCAGACTTGACGAAGCTG\" \n",
       "  [9] \"ATACGACTCACTATAGGGAATGGATCCACATCTACGAATTCACCCACTTCAAACAATCGGTCTTCACTGCAGACTTGACGAAGCTG\" \n",
       " [10] \"ATACGACTCACTATAGGGAATGGATCCACATCTACGAATTCATTCACCTAGGTCATCGAGTGTTTCACTGCAGACTTGACGAAGCTG\"\n",
       " [11] \"ATACGACTCACTATAGGGAATGGATCCACATCTACGAATTCCTGCTTCAAACAATCGGTGTGTTCACTGCAGACTTGACGAAGCTG\" \n",
       " [12] \"ATACGACTCACTATAGGGAATGGATCCACATCTACGAATTCATTCACCTAGGTCATCGAGTGATTCACTGCAGACTTGACGAAGCTG\"\n",
       " [13] \"ATACGACTCACTATAGGGAATGGATCCACATCTACGAATTCCCGCTTCAAGCAATCGGTCGCTTCACTGCAGACTTGACGAAGCTG\" \n",
       " [14] \"ATACGACTCACTATAGGGAATGGATCCACATCTACGAATTCATCCTGCTTCAACCAATCGGTTTCACTGCAGACTTGACGAAGCTG\" \n",
       " [15] \"ATACGACTCACTATAGGGAATGGATCCACATCTACGAATTCAAGTTTGCTAATAGTCGCAAGTTCACTGCAGACTTGACGAAGCTG\" \n",
       " [16] \"ATACGACTCACTATAGGGAATGGATCCACATCTACGAATTCGTTCAGTTTCAAGCAATCGGTTTCACTGCAGACTTGACGAAGCTG\" \n",
       " [17] \"ATACGACTCACTATAGGGAATGGATCCACATCTACGAATTCATTGCCCTGGTCATCGAGTGTTTCACTGCAGACTTGACGAAGCTG\" \n",
       " [18] \"ATACGACTCACTATAGGGAATGGATCCACATCTACGAATTCCTGTTTCAAACAATCGGCCTGTTCACTGCAGACTTGACGAAGCTG\" \n",
       " [19] \"ATACGACTCACTATAGGGAATGGATCCACATCTACGAATTCCTGTTTCAAACAATCGGTCTCTTCACTGCAGACTTGACGAAGCTG\" \n",
       " [20] \"ATACGACTCACTATAGGGAATGGATCCACATCTACGAATTCCTCTTCAATAATCGGTTGCGTTTCACTGCAGACTTGACGAAGCTG\" \n",
       " [21] \"ATACGACTCACTATAGGGAATGGATCCACATCTACGAATTCTCCTGTTTCAAGCAATCGGTCTTCACTGCAGACTTGACGAAGCTG\" \n",
       " [22] \"ATACGACTCACTATAGGGAATGGATCCACATCTACGAATTCCCGAGTTTCAAGCAATCGGTCTTCACTGCAGACTTGACGAAGCTG\" \n",
       " [23] \"ATACGACTCACTATAGGGAATGGATCCACATCTACGAATTCATGGCCCTGGTCATCGAGTGATTCACTGCAGACTTGACGAAGCTG\" \n",
       " [24] \"ATACGACTCACTATAGGGAATGGATCCACATCTACGAATTCACCCGCTTCAACCAATCGGTCTTCACTGCAGACTTGACGAAGCTG\" \n",
       " [25] \"ATACGACTCACTATAGGGAATGGATCCACATCTACGAATTCGTTACCCTGGTCATCGAGTGTTTCACTGCAGACTTGACGAAGCTG\" \n",
       " [26] \"ATACGACTCACTATAGGGAATGGATCCACATCTACGAATTCATTATCCTGGTCATCGAGTGATTCACTGCAGACTTGACGAAGCTG\" \n",
       " [27] \"ATACGACTCACTATAGGGAATGGATCCACATCTACGAATTCATCCAGTTTCAAGCAATCGGTTTCACTGCAGACTTGACGAAGCTG\" \n",
       " [28] \"ATACGACTCACTATAGGGAATGGATCCACATCTACGAATTCGCTATATGTCGATGGGTATTCTTCACTGCAGACTTGACGAAGCTG\" \n",
       " [29] \"ATACGACTCACTATAGGGAATGGATCCACATCTACGAATCCCTCTTCAAACAATCGGTCTTCTTCACTGCAGACTTGACGAAGCTG\" \n",
       " [30] \"ATACGACTCACTATAGGGAATGGATCCACATCTACGAATTCATGACCCTGGTCATCGGGTGTTTCACTGCAGACTTGACGAAGCTG\" \n",
       " [31] \"ATACGACTCACTATAGGGAATGGATCCACATCTACGAATTCCTGTTTCAAACAATCGGTCGCTTCACTGCAGACTTGACGAAGCTG\" \n",
       " [32] \"ATACGACTCACTATAGGGAATGGATCCACATCTACGAATTCATTACCCTGGTCATTGAGTGTTTCACTGCAGACTTGACGAAGCTG\" \n",
       " [33] \"ATACGACTCACTATAGGGAATGGATCCACATCTACGAATTCCCAAACTTCAAACAATCGGTCTTCACTGCAGACTTGACGAAGCTG\" \n",
       " [34] \"ATACGACTCACTATAGGGAATGGATCCACATCTACGAATTCCTCTACTTCAAGCAATCGGTCTTCACTGCAGACTTGACGAAGCTG\" \n",
       " [35] \"ATACGACTCACTATAGGGAATGGATCCACATCTACGAATTCCCGCTTCAAACAATCGGTGTGCTTCACTGCAGACTTGACGAAGCTG\"\n",
       " [36] \"ATACGACTCACTATAGGGAATGGATCCACATCTACGAATTCTTTACCCTGGTCATCGAGTGTTTCACTGCAGACTTGACGAAGCTG\" \n",
       " [37] \"ATACGACTCACTATAGGGAATGGATCCACATCTACGAATTCTCGCCCTTCAAACAATCGGTCTTCACTGCAGACTTGACGAAGCTG\" \n",
       " [38] \"ATACGACTCACTATAGGGAATGGATCCACATCTACGAATTCCCACACTTCAACCAATCGGTCTTCACTGCAGACTTGACGAAGCTG\" \n",
       " [39] \"ATACGACTCACTATAGGGAATGGATCCACATCTACGAATTCCTACTTCAAACAATCGGCCTGTTCACTGCAGACTTGACGAAGCTG\" \n",
       " [40] \"ATACGACTCACTATAGGGAATGGATCCACATCTACGAATTCATTCACCTAGGTCATCGGGTATTCACTGCAGACTTGACGAAGCTG\" \n",
       " [41] \"ATACGACTCACTATAGGGAATGGATCCACATCTACGAATTCATTGCCCTGGTCATCGAGTGATTCACTGCAGACTTGACGAAGCTG\" \n",
       " [42] \"ATACGACTCACTATAGGGAATGGATCCACATCTACGAATTCTCGCTTCAAACAATCGGTATGTTCACTGCAGACTTGACGAAGCTG\" \n",
       " [43] \"ATACGACTCACTATAGGGAATGGATCCACATCTACGAATTCATGACCCTGGTCATCGAGTGTTTCACTGCAGACTTGACGAAGCTG\" \n",
       " [44] \"ATACGACTCACTATAGGGAATGGATCCACATCTACGAATTCCTACTTCAAACAATTGGTCTGTTCACTGCAGACTTGACGAAGCTG\" \n",
       " [45] \"ATACGACTCACTATAGGGAATGGATCCACATCTACGAATTCCCAAGTTTCAAACAATCGGTCTTCACTGCAGACTTGACGAAGCTG\" \n",
       " [46] \"ATACGACTCACTATAGGGAATGGATCCACATCTACGAATTCATTACCCTGGTTATCGAGTGATTCACTGCAGACTTGACGAAGCTG\" \n",
       " [47] \"ATACGACTCACTATAGGGAATGGATCCACATCTACGAATTCCTACTTCAAACAATCGGTTTGTTCACTGCAGACTTGACGAAGCTG\" \n",
       " [48] \"ATACGACTCACTATAGGGAATGGATCCACATCTACGAATTCCTCCTTCAAACAATCGGTCTGTTCACTGCAGACTTGACGAAGCTG\" \n",
       " [49] \"ATACGACTCACTATAGGGAATGGATCCACATCTACGAATTCATTACCCTGGTCATCGGGTGTTTCACTGCAGACTTGACGAAGCTG\" \n",
       " [50] \"ATACGACTCACTATAGGGAATGGATCCACATCTACGAATTCTCACACTTCAAGCAATCGGTCTTCACTGCAGACTTGACGAAGCTG\" \n",
       " [51] \"ATACGACTCACTATAGGGAATGGATCCACATCTACGAATTCGTTACCCTGGTCATCGAGTGATTCACTGCAGACTTGACGAAGCTG\" \n",
       " [52] \"ATACGACTCACTATAGGGAATGGATCCACATCTACGAATTTCCACACTTCAAGCAATCGGTCTTCACTGCAGACTTGACGAAGCTG\" \n",
       " [53] \"ATACGACTCACTATAGGGAATGGATCCACATCTACTAATTCCTACTTCAAACAATCGGTCTGTTCACTGCAGACTTGACGAAGCTG\" \n",
       " [54] \"ATACGACTCACTATAGGGAATGGATCCACATCTACGAATTCATTCACCTAGGTCATCGGGTGGTTCACTGCAGACTTGACGAAGCTG\"\n",
       " [55] \"ATACGACTCACTATAGGGAATGGATCCACATCTACGAACTCCTCTTCAAACAATCGGTCTTCTTCACTGCAGACTTGACGAAGCTG\" \n",
       " [56] \"ATACGACTCACTATAGGGAATGGATCCACATCTACGAATTCCACCACTTCAAACAATCGGTCTTCACTGCAGACTTGACGAAGCTG\" \n",
       " [57] \"ATACGACTCACTATAGGGAATGGATCCACATCTACGAATCCATTCACCTAGGTCATCGGGTGTTTCACTGCAGACTTGACGAAGCTG\"\n",
       " [58] \"ATACGACTCACTATAGGGAATGGATCCACATCTACGAATCCATTACCCTGGTCATCGAGTGATTCACTGCAGACTTGACGAAGCTG\" \n",
       " [59] \"ATACGACTCACTATAGGGAATGGATCCACATCTACGAATTCCTACTTCAAACAATCGGTGTGTTCACTGCAGACTTGACGAAGCTG\" \n",
       " [60] \"ATACGACTCACTATAGGGAATGGATCCACATCTACCAATTCCTCTTCAAACAATCGGTCTTCTTCACTGCAGACTTGACGAAGCTG\" \n",
       " [61] \"ATACGACTCACTATAGGGAATGGATCCACATCTACGAATTCATTACCCTGGTCATCGAGTGGTTCACTGCAGACTTGACGAAGCTG\" \n",
       " [62] \"ATACGACTCACTATAGGGAATGGATCCACATCTACGAATTCCTACTTTAAACAATCGGTCTGTTCACTGCAGACTTGACGAAGCTG\" \n",
       " [63] \"ATACGACTCACTATAGGGAATGGATCCACATCTACGAATTCCTGTTTCAAACAATCGGTCTGTTCACTGCAGACTTGACGAAGCTG\" \n",
       " [64] \"ATACGACTCACTATAGGGAATGGATCCACATCTACGAGTTCCTACTTCAAACAATCGGTCTGTTCACTGCAGACTTGACGAAGCTG\" \n",
       " [65] \"ATACGACTCACTATAGGGAATGGATCCACATCTACGAATTCCTACTTCAAACAATCGGTCTGTTCACTGCAGACTTGAGGAAGCTG\" \n",
       " [66] \"ATACGACTCACTATAGGGAATGGATCCACATCTACGCATTCCTACTTCAAACAATCGGTCTGTTCACTGCAGACTTGACGAAGCTG\" \n",
       " [67] \"ATACGACTCACTATAGGGAATGGATCCACATCTACGAATCCCCACACTTCAAGCAATCGGTCTTCACTGCAGACTTGACGAAGCTG\" \n",
       " [68] \"ATACGACTCACTATAGGGAATGGATCCACATCTACGAATTCCTGCTTCAAACAATCGGTCTGTTCACTGCAGACTTGACGAAGCTG\" \n",
       " [69] \"ATACGACTCACTATAGGGAATGGATCCACATCTACGAATTCAAAAACAAAAACAAAAACAAATTCACTGCAGACTTGAGGAAGCTG\" \n",
       " [70] \"ATACGACTCACTATAGGGAATGGATCCACATCTACGAATCCATTACCCTGGTCATCGAGTGTTTCACTGCAGACTTGACGAAGCTG\" \n",
       " [71] \"ATACGACTCACTATAGGGAATGGATCCACATCTACGAATTCTTACTTCAAACAATCGGTCTGTTCACTGCAGACTTGACGAAGCTG\" \n",
       " [72] \"ATACGACTCACTATAGGGAATGGATCCACATCTACGAATTTCTACTTCAAACAATCGGTCTGTTCACTGCAGACTTGACGAAGCTG\" \n",
       " [73] \"ATACCACTCACTATAGGGAATGGATCCACATCTACGAATTCCTACTTCAAACAATCGGTCTGTTCACTGCAGACTTGACGAAGCTG\" \n",
       " [74] \"ATACGACTCACTATAGGGAATGGATCCACATCTACAAATTCCTACTTCAAACAATCGGTCTGTTCACTGCAGACTTGACGAAGCTG\" \n",
       " [75] \"ATACGACTCACTATAGGGAATGGATCCACATCTACCAATTCCTACTTCAAACAATCGGTCTGTTCACTGCAGACTTGACGAAGCTG\" \n",
       " [76] \"ATACGACTCACTATAGGGAATGGATCCACATCTACGAATTCCCGCTTCAAACAATCGGTCTTCTTCACTGCAGACTTGACGAAGCTG\"\n",
       " [77] \"ATACGACTCACTATAGGGAATGGATCCACATCTACGAATTTATTACCCTGGTCATCGAGTGATTCACTGCAGACTTGACGAAGCTG\" \n",
       " [78] \"ATACGACTCACTATAGGGAATGGATCCACATCTACGAATTCCCACTTCAAACAATCGGTTTGTTCACTGCAGACTTGACGAAGCTG\" \n",
       " [79] \"ATACGACTCACTATAGGGAATGGATCCACATCTACGAATTTATTACCCTGGTCATCGAGTGTTTCACTGCAGACTTGACGAAGCTG\" \n",
       " [80] \"ATACGACTCACTATAGGGAATGGATCCACATCTACGGATTCATTACCCTGGTCATCGAGTGATTCACTGCAGACTTGACGAAGCTG\" \n",
       " [81] \"ATACGACTCACTATAGGGAATGGATCCACATCTACGATTTCATTACCCTGGTCATCGAGTGATTCACTGCAGACTTGACGAAGCTG\" \n",
       " [82] \"ATACGACTCACTATAGGGAATGGATCCACATCTACGAATTCATTCACCTAGGTCATCGGGTGTTCACTGCAGACTTGAGGAAGCTG\" \n",
       " [83] \"ATACGACTCACTATAGGGAATGGATCCACATCTACGATTTCCCGCTTCAAACAATCGGTTTGTTCACTGCAGACTTGACGAAGCTG\" \n",
       " [84] \"ATACGACTCACTATAGGGAATGGATCCACATCTACGAGTTCATTACCCTGGTCATCGAGTGATTCACTGCAGACTTGACGAAGCTG\" \n",
       " [85] \"ATACGACTCACTATAGGGAATGGATCCACATCTACGGATTCCTACTTCAAACAATCGGTCTGTTCACTGCAGACTTGACGAAGCTG\" \n",
       " [86] \"ATACGACTCACTATAGGGAATGGATCCACATCTACGGATTCATTACCCTGGTCATCGAGTGTTTCACTGCAGACTTGACGAAGCTG\" \n",
       " [87] \"ATACAACTCACTATAGGGAATGGATCCACATCTACGAATTCAAAAACAAAAACAAAAACAAATTCACTGCAGACTTGACGAAGCTG\" \n",
       " [88] \"ATACGACTCACTATAGGGAATGGATCCACATCTACGAATTCATTACCCTGGTCATCGAGTGATTCACTGCAGACTTGAGGAAGCTG\" \n",
       " [89] \"ATACGACTCACTATAGGGAATGGATCCACATCTACGAATTCCTACTTCAAACAATCGGTCTGTTCACTGAAGACTTGACGAAGCTG\" \n",
       " [90] \"AATAGACTCACTATAGGGAATGGATCCACATCTACGAATTCATTCACCTAGGTCATCGAGTGTTTCACTGCAGACTTGACGAAGCTG\"\n",
       " [91] \"ATACGACTCACTATAGGGAATGGATCCACATCTACGATTTCATTACCCTGGTCATCGAGTGTTTCACTGCAGACTTGACGAAGCTG\" \n",
       " [92] \"AATAGACTCACTATAGGGAATGGATCCACATCTACGAATTCAAAAACAAAAACAAAAACAAATTCACTGCAGACTTGACGAAGCTG\" \n",
       " [93] \"ATACGACTCACTATAGGGAATGGATCCACATCTACGAGTTCATTACCCTGGTCATCGAGTGTTTCACTGCAGACTTGACGAAGCTG\" \n",
       " [94] \"ATACGACTCACTATAGGGAATGGATCCACATCTACGAATTCAAAAACAAAAACAAAAACAAATTCACTGAAGACTTGACGAAGCTG\" \n",
       " [95] \"ATACGACTCACTATAGGGAATGGATCCACATCTACGAATTCCTACTTCAAACAATCGGTCTGTTCACTGCAGACTTGATGAAGCTG\" \n",
       " [96] \"ATACAACTCACTATAGGGAATGGATCCACATCTACGAATTCCTACTTCAAACAATCGGTCTGTTCACTGCAGACTTGACGAAGCTG\" \n",
       " [97] \"ATACGACTCACTATAGGGAATGGATCCACATCTACGAATTCATTACCCTGGTCATCGAGTGTTTCACTGCAGACTTGAGGAAGCTG\" \n",
       " [98] \"ATATGACTCACTATAGGGAATGGATCCACATCTACGAATTCCTACTTCAAACAATCGGTCTGTTCACTGCAGACTTGACGAAGCTG\" \n",
       " [99] \"ATACGACTCACTATAGGGAATGGATCCACATCTACGAATTCAAAAACAAAAACAAAAACAAATTCACTGCAGACTTGATGAAGCTG\" \n",
       "[100] \"ATACGACTCACTATAGGGAATGGATCCACATCTACGAATTTAAAAACAAAAACAAAAACAAATTCACTGCAGACTTGACGAAGCTG\" \n",
       "[101] \"ATACGACTCACTATAGGGAATGGATCCACATCTACAAATTCCTCTTCAAACAATCGGTCTTCTTCACTGCAGACTTGACGAAGCTG\" \n",
       "[102] \"ATACGACTCACTATAGGGAATGGATCCACATCTACGCATTCACCCACTTCAAACAATCGGTCTTCACTGCAGACTTGACGAAGCTG\" \n",
       "[103] \"ATACGACTCACTATAGGGAATGGATCCACATCTACGAATTCCCACACTTCAAGCAATCGGTCTTCACTGCAGACTTGAGGAAGCTG\" \n",
       "[104] \"ATACGACTCACTATAGGGAATGGATCCACATCTACGAATTCAAAAACAAAAACAAAAACAAATTCACTGCAGACTTGCCGAAGCTG\" \n",
       "[105] \"ATACGACTCACTATAGGGAATGGATCCACATCTACGAATTCCTACTTCAAACAATCGGTCTGTTCACTGTAGACTTGACGAAGCTG\" \n",
       "[106] \"ATACGACTCACTATAGGGAATGGATCCACATCTACGAACTCCCACACTTCAAGCAATCGGTCTTCACTGCAGACTTGACGAAGCTG\" \n",
       "[107] \"ATACGACTCACTATAGGGAATGGATCCACATCTACGAATTCAAAAACAAAAACAAAAACAAATTCACTGTAGACTTGACGAAGCTG\" \n",
       "[108] \"ATACGACACACTATAGGGAATGGATCCACATCTACGAATTCCTACTTCAAACAATCGGTCTGTTCACTGCAGACTTGACGAAGCTG\" \n",
       "[109] \"ATACAACTCACTATAGGGAATGGATCCACATCTACGAATTCATTACCCTGGTCATCGAGTGATTCACTGCAGACTTGACGAAGCTG\" \n",
       "[110] \"ATACGACTCACTATAGGGAATGGATCCACATCTACGGATTCTTTACCCTGGTCATCGAGTGTTTCACTGCAGACTTGACGAAGCTG\" \n",
       "[111] \"ATACCACTCACTATAGGGAATGGATCCACATCTACGAATTCATTACCCTGGTCATCGAGTGTTTCACTGCAGACTTGACGAAGCTG\" \n",
       "[112] \"AATACACTCACTATAGGGAATGGATCCACATCTACGAATTCATTACCCTGGTCATCGAGTGTTTCACTGCAGACTTGACGAAGCTG\" \n",
       "[113] \"ATACGACTTACTATAGGGAATGGATCCACATCTACGAATTCAAAAACAAAAACAAAAACAAATTCACTGCAGACTTGACGAAGCTG\" \n",
       "[114] \"ATACGACTCACTATAGGGAATGGATCCACATCTACGAATTCCTCTTCAAACAATCGGTCTTCTTCACTGCAGACTTGAGGAAGCTG\" \n",
       "[115] \"AATCGACTCACTATAGGGAATGGATCCACATCTACGAATTCAAAAACAAAAACAAAAACAAATTCACTGCAGACTTGACGAAGCTG\" \n",
       "[116] \"ATACGACTCACTATAGGGAATGGATCCACATCTACGAATTCCCGCTTCAAACAATCGGTTTGTTCACTGCAGACTTGAGGAAGCTG\" \n",
       "[117] \"AATAGACTCACTATAGGGAATGGATCCACATCTACGAATTCATTACCCTGGTCATCGAGTGTTTCACTGCAGACTTGACGAAGCTG\" \n",
       "[118] \"AATAGACTCACTATAGGGAATGGATCCACATCTACGAATTCATTACCCTGGTCATCGAGTGATTCACTGCAGACTTGACGAAGCTG\" \n",
       "[119] \"ATACCACTCACTATAGGGAATGGATCCACATCTACGAATTCATTCACCTAGGTCATCGGGTGTTTCACTGCAGACTTGACGAAGCTG\"\n",
       "[120] \"ATACGACTAACTATAGGGAATGGATCCACATCTACGAATTCCTACTTCAAACAATCGGTCTGTTCACTGCAGACTTGACGAAGCTG\" \n",
       "[121] \"ATACGACTAACTATAGGGAATGGATCCACATCTACGAATTCAAAAACAAAAACAAAAACAAATTCACTGCAGACTTGACGAAGCTG\" \n",
       "[122] \"AATCGACTCACTATAGGGAATGGATCCACATCTACGAATTCATTACCCTGGTCATCGAGTGATTCACTGCAGACTTGACGAAGCTG\" \n",
       "[123] \"ATACGACTCACTATAGGGAATGGATCCACATCTACAAATTCCCGCTTCAAACAATCGGTTTGTTCACTGCAGACTTGACGAAGCTG\" \n",
       "[124] \"ATATGACTCACTATAGGGAATGGATCCACATCTACGAATTCATTACCCTGGTCATCGAGTGTTTCACTGCAGACTTGACGAAGCTG\" \n",
       "[125] \"ATACGAATCACTATAGGGAATGGATCCACATCTACGAATTCCTACTTCAAACAATCGGTCTGTTCACTGCAGACTTGACGAAGCTG\" \n",
       "[126] \"ATACGACTCACTATAGGGAATGGATCCACATCTACGAATTCAAAAAACAAAACAAAAACAAATTCACTGCAGACTTGACGAAGCTG\" \n",
       "[127] \"ATACCACTCACTATAGGGAATGGATCCACATCTACGAATTCCTACTTCAAACAATCGGTCTGTTCACTGCAGACTTGAGGAAGCTG\" \n",
       "[128] \"ATATGACTCACTATAGGGAATGGATCCACATCTACGAATTCATTCACCTAGGTCATCGGGTGTTTCACTGCAGACTTGACGAAGCTG\"\n",
       "[129] \"ATACGACTAACTATAGGGAATGGATCCACATCTACGAATTCATTACCCTGGTCATCGAGTGTTTCACTGCAGACTTGACGAAGCTG\" \n",
       "[130] \"ATACCACTCACTATAGGGAATGGATCCACATCTACGAATTCCTACTTCAAACAATCGGTCTGTTCACTGAAGACTTGACGAAGCTG\" \n",
       "[131] \"ATACAACTCACTATAGGGAATGGATCCACATCTACGAATTCAAAAACAAAAACAAAAACAAATTCACTGCAGACTTGAGGAAGCTG\" \n",
       "[132] \"ATACCACTCACTATAGGGAATGGATCCACATCTACGAATTCATTACCCTGGTCATCGAGTGTTTCACTGCAGACTTGAGGAAGCTG\" \n",
       "[133] \"ATACAACTCACTATAGGGAATGGATCCACATCTACGAATTCATTACCCTGGTCATCGAGTGATTCACTGCAGACTTGAGGAAGCTG\" \n",
       "[134] \"ATACAACTCACTATAGGGAATGGATCCACATCTACGAATTCAAAAACAAAAACAAAAACAAATTCACTGAAGACTTGACGAAGCTG\" \n",
       "[135] \"AATCGACTCACTATAGGGAATGGATCCACATCTACGAATTCAAAAACAAAAACAAAAACAAATTCACTGCAGACTTGAGGAAGCTG\" \n",
       "[136] \"AATCGACTCACTATAGGGAATGGATCCACATCTACGAATTCATTACCCTGGTCATCGAGTGATTCACTGCAGACTTGAGGAAGCTG\" \n",
       "[137] \"ATACGACACACTATAGGGAATGGATCCACATCTACGAATTCCTACTTCAAACAATCGGTCTGTTCACTGCAGACTTGATGAAGCTG\" \n",
       "[138] \"ATACAACTCACTATAGGGAATGGATCCACATCTACGAATTCCTACTTCAAACAATCGGTCTGTTCACTGCAGACTTGATGAAGCTG\" "
      ]
     },
     "metadata": {},
     "output_type": "display_data"
    }
   ],
   "source": [
    "mergers[[4]]$sequence"
   ]
  },
  {
   "cell_type": "code",
   "execution_count": null,
   "metadata": {
    "collapsed": true
   },
   "outputs": [],
   "source": []
  },
  {
   "cell_type": "code",
   "execution_count": null,
   "metadata": {
    "collapsed": true
   },
   "outputs": [],
   "source": []
  },
  {
   "cell_type": "code",
   "execution_count": null,
   "metadata": {
    "collapsed": true
   },
   "outputs": [],
   "source": []
  },
  {
   "cell_type": "code",
   "execution_count": null,
   "metadata": {
    "collapsed": true
   },
   "outputs": [],
   "source": []
  },
  {
   "cell_type": "code",
   "execution_count": null,
   "metadata": {
    "collapsed": true
   },
   "outputs": [],
   "source": []
  },
  {
   "cell_type": "markdown",
   "metadata": {
    "ExecuteTime": {
     "end_time": "2019-03-01T20:40:38.352000Z",
     "start_time": "2019-03-01T20:40:38.266Z"
    }
   },
   "source": [
    "# test with default error reported from Phred"
   ]
  },
  {
   "cell_type": "code",
   "execution_count": 187,
   "metadata": {
    "ExecuteTime": {
     "end_time": "2019-03-05T20:49:35.410490Z",
     "start_time": "2019-03-05T20:49:34.062Z"
    }
   },
   "outputs": [
    {
     "data": {
      "text/html": [
       "28"
      ],
      "text/latex": [
       "28"
      ],
      "text/markdown": [
       "28"
      ],
      "text/plain": [
       "[1] 28"
      ]
     },
     "metadata": {},
     "output_type": "display_data"
    }
   ],
   "source": [
    "length(dircList)"
   ]
  },
  {
   "cell_type": "code",
   "execution_count": 504,
   "metadata": {
    "ExecuteTime": {
     "end_time": "2019-03-06T04:16:41.857687Z",
     "start_time": "2019-03-06T04:13:59.177Z"
    },
    "scrolled": true
   },
   "outputs": [
    {
     "name": "stderr",
     "output_type": "stream",
     "text": [
      "Dereplicating sequence entries in Fastq file: /mnt/storage/projects/k-seq/working/dada2/strict_21/R4A-inputA_S1.joined.filtered.fastq\n",
      ".Encountered 312944 unique sequences from 1972625 total sequences read.\n",
      "Warning message in getErrors(err, enforce = TRUE):\n",
      "“Zero in error matrix.”"
     ]
    },
    {
     "name": "stdout",
     "output_type": "stream",
     "text": [
      "Sample 1 - 1972625 reads in 312944 unique sequences.\n"
     ]
    },
    {
     "name": "stderr",
     "output_type": "stream",
     "text": [
      "Dereplicating sequence entries in Fastq file: /mnt/storage/projects/k-seq/working/dada2/strict_21/RFA-1250A_S2.joined.filtered.fastq\n",
      ".Encountered 26811 unique sequences from 1887026 total sequences read.\n",
      "Warning message in getErrors(err, enforce = TRUE):\n",
      "“Zero in error matrix.”"
     ]
    },
    {
     "name": "stdout",
     "output_type": "stream",
     "text": [
      "Sample 1 - 1887026 reads in 26811 unique sequences.\n"
     ]
    },
    {
     "name": "stderr",
     "output_type": "stream",
     "text": [
      "Dereplicating sequence entries in Fastq file: /mnt/storage/projects/k-seq/working/dada2/strict_21/R4A-250A_S3.joined.filtered.fastq\n",
      ".Encountered 21701 unique sequences from 1721820 total sequences read.\n",
      "Warning message in getErrors(err, enforce = TRUE):\n",
      "“Zero in error matrix.”"
     ]
    },
    {
     "name": "stdout",
     "output_type": "stream",
     "text": [
      "Sample 1 - 1721820 reads in 21701 unique sequences.\n"
     ]
    },
    {
     "name": "stderr",
     "output_type": "stream",
     "text": [
      "Dereplicating sequence entries in Fastq file: /mnt/storage/projects/k-seq/working/dada2/strict_21/R4A-50A_S4.joined.filtered.fastq\n",
      "..Encountered 40200 unique sequences from 2407377 total sequences read.\n",
      "Warning message in getErrors(err, enforce = TRUE):\n",
      "“Zero in error matrix.”"
     ]
    },
    {
     "name": "stdout",
     "output_type": "stream",
     "text": [
      "Sample 1 - 2407377 reads in 40200 unique sequences.\n"
     ]
    },
    {
     "name": "stderr",
     "output_type": "stream",
     "text": [
      "Dereplicating sequence entries in Fastq file: /mnt/storage/projects/k-seq/working/dada2/strict_21/R4A-10A_S5.joined.filtered.fastq\n",
      ".Encountered 24080 unique sequences from 1392173 total sequences read.\n",
      "Warning message in getErrors(err, enforce = TRUE):\n",
      "“Zero in error matrix.”"
     ]
    },
    {
     "name": "stdout",
     "output_type": "stream",
     "text": [
      "Sample 1 - 1392173 reads in 24080 unique sequences.\n"
     ]
    },
    {
     "name": "stderr",
     "output_type": "stream",
     "text": [
      "Dereplicating sequence entries in Fastq file: /mnt/storage/projects/k-seq/working/dada2/strict_21/R4A-2A_S6.joined.filtered.fastq\n",
      ".Encountered 21992 unique sequences from 1449941 total sequences read.\n",
      "Warning message in getErrors(err, enforce = TRUE):\n",
      "“Zero in error matrix.”"
     ]
    },
    {
     "name": "stdout",
     "output_type": "stream",
     "text": [
      "Sample 1 - 1449941 reads in 21992 unique sequences.\n"
     ]
    },
    {
     "name": "stderr",
     "output_type": "stream",
     "text": [
      "Dereplicating sequence entries in Fastq file: /mnt/storage/projects/k-seq/working/dada2/strict_21/R4A-0A_S7.joined.filtered.fastq\n",
      "..Encountered 1348 unique sequences from 2782840 total sequences read.\n",
      "Warning message in getErrors(err, enforce = TRUE):\n",
      "“Zero in error matrix.”"
     ]
    },
    {
     "name": "stdout",
     "output_type": "stream",
     "text": [
      "Sample 1 - 2782840 reads in 1348 unique sequences.\n"
     ]
    },
    {
     "name": "stderr",
     "output_type": "stream",
     "text": [
      "Dereplicating sequence entries in Fastq file: /mnt/storage/projects/k-seq/working/dada2/strict_21/R4A-inputB_S8.joined.filtered.fastq\n",
      ".Encountered 164497 unique sequences from 1163240 total sequences read.\n",
      "Warning message in getErrors(err, enforce = TRUE):\n",
      "“Zero in error matrix.”"
     ]
    },
    {
     "name": "stdout",
     "output_type": "stream",
     "text": [
      "Sample 1 - 1163240 reads in 164497 unique sequences.\n"
     ]
    },
    {
     "name": "stderr",
     "output_type": "stream",
     "text": [
      "Dereplicating sequence entries in Fastq file: /mnt/storage/projects/k-seq/working/dada2/strict_21/RFA-1250B_S9.joined.filtered.fastq\n",
      "...Encountered 39007 unique sequences from 3261229 total sequences read.\n",
      "Warning message in getErrors(err, enforce = TRUE):\n",
      "“Zero in error matrix.”"
     ]
    },
    {
     "name": "stdout",
     "output_type": "stream",
     "text": [
      "Sample 1 - 3261229 reads in 39007 unique sequences.\n"
     ]
    },
    {
     "name": "stderr",
     "output_type": "stream",
     "text": [
      "Dereplicating sequence entries in Fastq file: /mnt/storage/projects/k-seq/working/dada2/strict_21/R4A-250B_S10.joined.filtered.fastq\n",
      ".........Encountered 112119 unique sequences from 9651905 total sequences read.\n",
      "Warning message in getErrors(err, enforce = TRUE):\n",
      "“Zero in error matrix.”"
     ]
    },
    {
     "name": "stdout",
     "output_type": "stream",
     "text": [
      "Sample 1 - 9651905 reads in 112119 unique sequences.\n"
     ]
    },
    {
     "name": "stderr",
     "output_type": "stream",
     "text": [
      "Dereplicating sequence entries in Fastq file: /mnt/storage/projects/k-seq/working/dada2/strict_21/R4A-50B_S11.joined.filtered.fastq\n",
      "..Encountered 52717 unique sequences from 2324796 total sequences read.\n",
      "Warning message in getErrors(err, enforce = TRUE):\n",
      "“Zero in error matrix.”"
     ]
    },
    {
     "name": "stdout",
     "output_type": "stream",
     "text": [
      "Sample 1 - 2324796 reads in 52717 unique sequences.\n"
     ]
    },
    {
     "name": "stderr",
     "output_type": "stream",
     "text": [
      "Dereplicating sequence entries in Fastq file: /mnt/storage/projects/k-seq/working/dada2/strict_21/R4A-10B_S12.joined.filtered.fastq\n",
      "..Encountered 61434 unique sequences from 2182334 total sequences read.\n",
      "Warning message in getErrors(err, enforce = TRUE):\n",
      "“Zero in error matrix.”"
     ]
    },
    {
     "name": "stdout",
     "output_type": "stream",
     "text": [
      "Sample 1 - 2182334 reads in 61434 unique sequences.\n"
     ]
    },
    {
     "name": "stderr",
     "output_type": "stream",
     "text": [
      "Dereplicating sequence entries in Fastq file: /mnt/storage/projects/k-seq/working/dada2/strict_21/R4A-2B_S13.joined.filtered.fastq\n",
      ".Encountered 38021 unique sequences from 1750328 total sequences read.\n",
      "Warning message in getErrors(err, enforce = TRUE):\n",
      "“Zero in error matrix.”"
     ]
    },
    {
     "name": "stdout",
     "output_type": "stream",
     "text": [
      "Sample 1 - 1750328 reads in 38021 unique sequences.\n"
     ]
    },
    {
     "name": "stderr",
     "output_type": "stream",
     "text": [
      "Dereplicating sequence entries in Fastq file: /mnt/storage/projects/k-seq/working/dada2/strict_21/R4A-0B_S14.joined.filtered.fastq\n",
      "..Encountered 944 unique sequences from 2408620 total sequences read.\n",
      "Warning message in getErrors(err, enforce = TRUE):\n",
      "“Zero in error matrix.”"
     ]
    },
    {
     "name": "stdout",
     "output_type": "stream",
     "text": [
      "Sample 1 - 2408620 reads in 944 unique sequences.\n"
     ]
    },
    {
     "name": "stderr",
     "output_type": "stream",
     "text": [
      "Dereplicating sequence entries in Fastq file: /mnt/storage/projects/k-seq/working/dada2/strict_21/R4B-inputA_S15.joined.filtered.fastq\n",
      "..Encountered 467838 unique sequences from 2325271 total sequences read.\n",
      "Warning message in getErrors(err, enforce = TRUE):\n",
      "“Zero in error matrix.”"
     ]
    },
    {
     "name": "stdout",
     "output_type": "stream",
     "text": [
      "Sample 1 - 2325271 reads in 467838 unique sequences.\n"
     ]
    },
    {
     "name": "stderr",
     "output_type": "stream",
     "text": [
      "Dereplicating sequence entries in Fastq file: /mnt/storage/projects/k-seq/working/dada2/strict_21/RFB-1250A_S16.joined.filtered.fastq\n",
      ".Encountered 24909 unique sequences from 1510053 total sequences read.\n",
      "Warning message in getErrors(err, enforce = TRUE):\n",
      "“Zero in error matrix.”"
     ]
    },
    {
     "name": "stdout",
     "output_type": "stream",
     "text": [
      "Sample 1 - 1510053 reads in 24909 unique sequences.\n"
     ]
    },
    {
     "name": "stderr",
     "output_type": "stream",
     "text": [
      "Dereplicating sequence entries in Fastq file: /mnt/storage/projects/k-seq/working/dada2/strict_21/R4B-250A_S17.joined.filtered.fastq\n",
      "..Encountered 40032 unique sequences from 2958593 total sequences read.\n",
      "Warning message in getErrors(err, enforce = TRUE):\n",
      "“Zero in error matrix.”"
     ]
    },
    {
     "name": "stdout",
     "output_type": "stream",
     "text": [
      "Sample 1 - 2958593 reads in 40032 unique sequences.\n"
     ]
    },
    {
     "name": "stderr",
     "output_type": "stream",
     "text": [
      "Dereplicating sequence entries in Fastq file: /mnt/storage/projects/k-seq/working/dada2/strict_21/R4B-50A_S18.joined.filtered.fastq\n",
      "...Encountered 62801 unique sequences from 3322675 total sequences read.\n",
      "Warning message in getErrors(err, enforce = TRUE):\n",
      "“Zero in error matrix.”"
     ]
    },
    {
     "name": "stdout",
     "output_type": "stream",
     "text": [
      "Sample 1 - 3322675 reads in 62801 unique sequences.\n"
     ]
    },
    {
     "name": "stderr",
     "output_type": "stream",
     "text": [
      "Dereplicating sequence entries in Fastq file: /mnt/storage/projects/k-seq/working/dada2/strict_21/R4B-10A_S19.joined.filtered.fastq\n",
      "...Encountered 62775 unique sequences from 3450131 total sequences read.\n",
      "Warning message in getErrors(err, enforce = TRUE):\n",
      "“Zero in error matrix.”"
     ]
    },
    {
     "name": "stdout",
     "output_type": "stream",
     "text": [
      "Sample 1 - 3450131 reads in 62775 unique sequences.\n"
     ]
    },
    {
     "name": "stderr",
     "output_type": "stream",
     "text": [
      "Dereplicating sequence entries in Fastq file: /mnt/storage/projects/k-seq/working/dada2/strict_21/R4B-2A_S20.joined.filtered.fastq\n",
      "..Encountered 27540 unique sequences from 2335473 total sequences read.\n",
      "Warning message in getErrors(err, enforce = TRUE):\n",
      "“Zero in error matrix.”"
     ]
    },
    {
     "name": "stdout",
     "output_type": "stream",
     "text": [
      "Sample 1 - 2335473 reads in 27540 unique sequences.\n"
     ]
    },
    {
     "name": "stderr",
     "output_type": "stream",
     "text": [
      "Dereplicating sequence entries in Fastq file: /mnt/storage/projects/k-seq/working/dada2/strict_21/R4B-0A_S21.joined.filtered.fastq\n",
      ".Encountered 664 unique sequences from 1855534 total sequences read.\n",
      "Warning message in getErrors(err, enforce = TRUE):\n",
      "“Zero in error matrix.”"
     ]
    },
    {
     "name": "stdout",
     "output_type": "stream",
     "text": [
      "Sample 1 - 1855534 reads in 664 unique sequences.\n"
     ]
    },
    {
     "name": "stderr",
     "output_type": "stream",
     "text": [
      "Dereplicating sequence entries in Fastq file: /mnt/storage/projects/k-seq/working/dada2/strict_21/R4B-inputB_S22.joined.filtered.fastq\n",
      "..Encountered 472800 unique sequences from 2110243 total sequences read.\n",
      "Warning message in getErrors(err, enforce = TRUE):\n",
      "“Zero in error matrix.”"
     ]
    },
    {
     "name": "stdout",
     "output_type": "stream",
     "text": [
      "Sample 1 - 2110243 reads in 472800 unique sequences.\n"
     ]
    },
    {
     "name": "stderr",
     "output_type": "stream",
     "text": [
      "Dereplicating sequence entries in Fastq file: /mnt/storage/projects/k-seq/working/dada2/strict_21/RFB-1250B_S23.joined.filtered.fastq\n",
      "..Encountered 43500 unique sequences from 2899869 total sequences read.\n",
      "Warning message in getErrors(err, enforce = TRUE):\n",
      "“Zero in error matrix.”"
     ]
    },
    {
     "name": "stdout",
     "output_type": "stream",
     "text": [
      "Sample 1 - 2899869 reads in 43500 unique sequences.\n"
     ]
    },
    {
     "name": "stderr",
     "output_type": "stream",
     "text": [
      "Dereplicating sequence entries in Fastq file: /mnt/storage/projects/k-seq/working/dada2/strict_21/R4B-250B_S24.joined.filtered.fastq\n",
      "...Encountered 33990 unique sequences from 3010679 total sequences read.\n",
      "Warning message in getErrors(err, enforce = TRUE):\n",
      "“Zero in error matrix.”"
     ]
    },
    {
     "name": "stdout",
     "output_type": "stream",
     "text": [
      "Sample 1 - 3010679 reads in 33990 unique sequences.\n"
     ]
    },
    {
     "name": "stderr",
     "output_type": "stream",
     "text": [
      "Dereplicating sequence entries in Fastq file: /mnt/storage/projects/k-seq/working/dada2/strict_21/R4B-50B_S25.joined.filtered.fastq\n",
      "..Encountered 50089 unique sequences from 2610268 total sequences read.\n",
      "Warning message in getErrors(err, enforce = TRUE):\n",
      "“Zero in error matrix.”"
     ]
    },
    {
     "name": "stdout",
     "output_type": "stream",
     "text": [
      "Sample 1 - 2610268 reads in 50089 unique sequences.\n"
     ]
    },
    {
     "name": "stderr",
     "output_type": "stream",
     "text": [
      "Dereplicating sequence entries in Fastq file: /mnt/storage/projects/k-seq/working/dada2/strict_21/R4B-10B_S26.joined.filtered.fastq\n",
      ".Encountered 35597 unique sequences from 1908811 total sequences read.\n",
      "Warning message in getErrors(err, enforce = TRUE):\n",
      "“Zero in error matrix.”"
     ]
    },
    {
     "name": "stdout",
     "output_type": "stream",
     "text": [
      "Sample 1 - 1908811 reads in 35597 unique sequences.\n"
     ]
    },
    {
     "name": "stderr",
     "output_type": "stream",
     "text": [
      "Dereplicating sequence entries in Fastq file: /mnt/storage/projects/k-seq/working/dada2/strict_21/R4B-2B_S27.joined.filtered.fastq\n",
      "..Encountered 38818 unique sequences from 2351197 total sequences read.\n",
      "Warning message in getErrors(err, enforce = TRUE):\n",
      "“Zero in error matrix.”"
     ]
    },
    {
     "name": "stdout",
     "output_type": "stream",
     "text": [
      "Sample 1 - 2351197 reads in 38818 unique sequences.\n"
     ]
    },
    {
     "name": "stderr",
     "output_type": "stream",
     "text": [
      "Dereplicating sequence entries in Fastq file: /mnt/storage/projects/k-seq/working/dada2/strict_21/R4B-0B_S28.joined.filtered.fastq\n",
      "..Encountered 17521 unique sequences from 2078977 total sequences read.\n",
      "Warning message in getErrors(err, enforce = TRUE):\n",
      "“Zero in error matrix.”"
     ]
    },
    {
     "name": "stdout",
     "output_type": "stream",
     "text": [
      "Sample 1 - 2078977 reads in 17521 unique sequences.\n"
     ]
    }
   ],
   "source": [
    "dircList <- c(\n",
    " '/mnt/storage/projects/k-seq/working/dada2/strict_21/R4A-inputA_S1.joined.filtered.fastq',\n",
    " '/mnt/storage/projects/k-seq/working/dada2/strict_21/RFA-1250A_S2.joined.filtered.fastq',\n",
    " '/mnt/storage/projects/k-seq/working/dada2/strict_21/R4A-250A_S3.joined.filtered.fastq',\n",
    " '/mnt/storage/projects/k-seq/working/dada2/strict_21/R4A-50A_S4.joined.filtered.fastq',\n",
    " '/mnt/storage/projects/k-seq/working/dada2/strict_21/R4A-10A_S5.joined.filtered.fastq',\n",
    " '/mnt/storage/projects/k-seq/working/dada2/strict_21/R4A-2A_S6.joined.filtered.fastq',\n",
    " '/mnt/storage/projects/k-seq/working/dada2/strict_21/R4A-0A_S7.joined.filtered.fastq',\n",
    " '/mnt/storage/projects/k-seq/working/dada2/strict_21/R4A-inputB_S8.joined.filtered.fastq',\n",
    " '/mnt/storage/projects/k-seq/working/dada2/strict_21/RFA-1250B_S9.joined.filtered.fastq',\n",
    " '/mnt/storage/projects/k-seq/working/dada2/strict_21/R4A-250B_S10.joined.filtered.fastq',\n",
    " '/mnt/storage/projects/k-seq/working/dada2/strict_21/R4A-50B_S11.joined.filtered.fastq',\n",
    " '/mnt/storage/projects/k-seq/working/dada2/strict_21/R4A-10B_S12.joined.filtered.fastq',\n",
    " '/mnt/storage/projects/k-seq/working/dada2/strict_21/R4A-2B_S13.joined.filtered.fastq',\n",
    " '/mnt/storage/projects/k-seq/working/dada2/strict_21/R4A-0B_S14.joined.filtered.fastq',\n",
    " '/mnt/storage/projects/k-seq/working/dada2/strict_21/R4B-inputA_S15.joined.filtered.fastq',\n",
    " '/mnt/storage/projects/k-seq/working/dada2/strict_21/RFB-1250A_S16.joined.filtered.fastq',\n",
    " '/mnt/storage/projects/k-seq/working/dada2/strict_21/R4B-250A_S17.joined.filtered.fastq',\n",
    " '/mnt/storage/projects/k-seq/working/dada2/strict_21/R4B-50A_S18.joined.filtered.fastq',\n",
    " '/mnt/storage/projects/k-seq/working/dada2/strict_21/R4B-10A_S19.joined.filtered.fastq',\n",
    " '/mnt/storage/projects/k-seq/working/dada2/strict_21/R4B-2A_S20.joined.filtered.fastq',\n",
    " '/mnt/storage/projects/k-seq/working/dada2/strict_21/R4B-0A_S21.joined.filtered.fastq',\n",
    " '/mnt/storage/projects/k-seq/working/dada2/strict_21/R4B-inputB_S22.joined.filtered.fastq',\n",
    " '/mnt/storage/projects/k-seq/working/dada2/strict_21/RFB-1250B_S23.joined.filtered.fastq',\n",
    " '/mnt/storage/projects/k-seq/working/dada2/strict_21/R4B-250B_S24.joined.filtered.fastq',\n",
    " '/mnt/storage/projects/k-seq/working/dada2/strict_21/R4B-50B_S25.joined.filtered.fastq',\n",
    " '/mnt/storage/projects/k-seq/working/dada2/strict_21/R4B-10B_S26.joined.filtered.fastq',\n",
    " '/mnt/storage/projects/k-seq/working/dada2/strict_21/R4B-2B_S27.joined.filtered.fastq',\n",
    " '/mnt/storage/projects/k-seq/working/dada2/strict_21/R4B-0B_S28.joined.filtered.fastq')\n",
    "\n",
    "dadaRes <- list()\n",
    "\n",
    "for (i in 1:length(dircList)){\n",
    "  # err <- learnErrors(dircList[i], multithread = TRUE)\n",
    "   derep <- derepFastq(dircList[i], verbose = TRUE)\n",
    "   denoised <- dada(derep, err = defaultErr, multithread = TRUE)\n",
    "   currentRes = list(dirc=dircList[i], err=err, derep=derep, denoised=denoised) \n",
    "   dadaRes[[i]] <- currentRes\n",
    "}"
   ]
  },
  {
   "cell_type": "code",
   "execution_count": 505,
   "metadata": {
    "ExecuteTime": {
     "end_time": "2019-03-06T04:17:18.226912Z",
     "start_time": "2019-03-06T04:17:18.215Z"
    }
   },
   "outputs": [
    {
     "name": "stdout",
     "output_type": "stream",
     "text": [
      "[1] 40\n",
      "[1] 36\n",
      "[1] 31\n",
      "[1] 36\n",
      "[1] 34\n",
      "[1] 36\n",
      "[1] 23\n",
      "[1] 31\n",
      "[1] 39\n",
      "[1] 48\n",
      "[1] 38\n",
      "[1] 37\n",
      "[1] 41\n",
      "[1] 21\n",
      "[1] 51\n",
      "[1] 33\n",
      "[1] 38\n",
      "[1] 38\n",
      "[1] 44\n",
      "[1] 40\n",
      "[1] 17\n",
      "[1] 44\n",
      "[1] 38\n",
      "[1] 36\n",
      "[1] 35\n",
      "[1] 38\n",
      "[1] 41\n",
      "[1] 36\n"
     ]
    }
   ],
   "source": [
    "for (res in dadaRes){\n",
    "    print(length(res$denoised$denoised))\n",
    "}"
   ]
  },
  {
   "cell_type": "code",
   "execution_count": 497,
   "metadata": {
    "ExecuteTime": {
     "end_time": "2019-03-06T03:57:12.978479Z",
     "start_time": "2019-03-06T03:57:12.953Z"
    }
   },
   "outputs": [
    {
     "name": "stdout",
     "output_type": "stream",
     "text": [
      "[1] \"1\"                     \"TTCACCTAGGTCATCGAGTGT\"\n",
      "[1] \"2\"                     \"TTCACCTAGGTCATCGAGTGT\"\n",
      "[1] \"3\"                     \"TTCACCTAGGTCATCGAGTGT\"\n",
      "[1] \"4\"                     \"TTCACCTAGGTCATCGAGTGT\"\n",
      "[1] \"5\"                     \"TTCACCTAGGTCATCGAGTGT\"\n",
      "[1] \"6\"                     \"TTCACCTAGGTCATCGAGTGT\"\n",
      "[1] \"7\"                     \"ATTCACCTAGGTCATCGGGTG\"\n",
      "[1] \"8\"                     \"TTCACCTAGGTCATCGAGTGT\"\n",
      "[1] \"9\"                     \"TTCACCTAGGTCATCGAGTGT\"\n",
      "[1] \"10\"                    \"TTCACCTAGGTCATCGAGTGT\"\n",
      "[1] \"11\"                    \"TTCACCTAGGTCATCGAGTGT\"\n",
      "[1] \"12\"                    \"TTCACCTAGGTCATCGAGTGT\"\n",
      "[1] \"13\"                    \"TTCACCTAGGTCATCGAGTGT\"\n",
      "[1] \"14\"                    \"ATTCACCTAGGTCATCGGGTG\"\n",
      "[1] \"15\"                    \"TTCACCTAGGTCATCGAGTGT\"\n",
      "[1] \"16\"                    \"TTCACCTAGGTCATCGAGTGT\"\n",
      "[1] \"17\"                    \"TTCACCTAGGTCATCGAGTGT\"\n",
      "[1] \"18\"                    \"TTCACCTAGGTCATCGAGTGT\"\n",
      "[1] \"19\"                    \"TTCACCTAGGTCATCGAGTGT\"\n",
      "[1] \"20\"                    \"TTCACCTAGGTCATCGAGTGT\"\n",
      "[1] \"21\"                    \"ATTCACCTAGGTCATCGGGTG\"\n",
      "[1] \"22\"                    \"TTCACCTAGGTCATCGAGTGT\"\n",
      "[1] \"23\"                    \"TTCACCTAGGTCATCGAGTGT\"\n",
      "[1] \"24\"                    \"TTCACCTAGGTCATCGAGTGT\"\n",
      "[1] \"25\"                    \"TTCACCTAGGTCATCGAGTGT\"\n",
      "[1] \"26\"                    \"TTCACCTAGGTCATCGAGTGT\"\n",
      "[1] \"27\"                    \"TTCACCTAGGTCATCGAGTGT\"\n",
      "[1] \"28\"                    \"TTCACCTAGGTCATCGAGTGT\"\n"
     ]
    }
   ],
   "source": [
    "get_seq_sample_info <- function(seqTest, sampleIx){\n",
    "    seqCount <- dadaRes[[sampleIx]]$derep$unique[seqTest][[1]]\n",
    "    centerSeq <- names(dadaRes[[sampleIx]]$denoised$denoised[dadaRes[[sampleIx]]$denoised$map[match(seqTest, names(dadaRes[[sampleIx]]$derep$unique))]])\n",
    "    centerSeqCountOriginal <- dadaRes[[sampleIx]]$derep$unique[centerSeq][[1]]\n",
    "    centerSeqCountAdjusted <- dadaRes[[sampleIx]]$denoised$denoised[centerSeq][[1]]\n",
    "    returnList <- list(seqCount=seqCount, centerSeq=centerSeq, centerSeqCountOriginal=centerSeqCountOriginal, centerSeqCountAdjusted=centerSeqCountAdjusted)\n",
    "    return(returnList)\n",
    "}\n",
    "\n",
    "for (i in 1:28){\n",
    "    print(c(i, get_seq_sample_info('TTCACCTAGGTCATCGAGTGT', i)$centerSeq))\n",
    "}\n"
   ]
  },
  {
   "cell_type": "code",
   "execution_count": 496,
   "metadata": {
    "ExecuteTime": {
     "end_time": "2019-03-06T03:50:55.537351Z",
     "start_time": "2019-03-06T03:50:55.516Z"
    },
    "scrolled": true
   },
   "outputs": [
    {
     "data": {
      "text/html": [
       "<table>\n",
       "<tbody>\n",
       "\t<tr><td>6</td></tr>\n",
       "</tbody>\n",
       "</table>\n"
      ],
      "text/latex": [
       "\\begin{tabular}{l}\n",
       "\t 6\\\\\n",
       "\\end{tabular}\n"
      ],
      "text/markdown": [
       "\n",
       "| 6 |\n",
       "\n"
      ],
      "text/plain": [
       "     [,1]\n",
       "[1,] 6   "
      ]
     },
     "metadata": {},
     "output_type": "display_data"
    }
   ],
   "source": [
    "adist('TTCCTGCTTCAAGCAATCGGT', 'CCGCTTCAAGCAATCGGTCGC', counts = TRUE)"
   ]
  },
  {
   "cell_type": "code",
   "execution_count": 502,
   "metadata": {
    "ExecuteTime": {
     "end_time": "2019-03-06T04:13:35.505268Z",
     "start_time": "2019-03-06T04:13:35.479Z"
    },
    "collapsed": true
   },
   "outputs": [],
   "source": [
    "generate_defaultErr <- function(){\n",
    "    defaultErr <- err$err_out\n",
    "    for (i in 1:16){\n",
    "        for (j in 0:40){\n",
    "            p <- 10**(-j/10)\n",
    "            if (i %in% c(1, 6, 11, 16)){\n",
    "                defaultErr[i, j+1] <- 1-p\n",
    "            } else{\n",
    "                defaultErr[i, j+1] <- p/3\n",
    "            }\n",
    "        }\n",
    "    }\n",
    "    return(defaultErr)\n",
    "}\n",
    "defaultErr <- generate_defaultErr()"
   ]
  },
  {
   "cell_type": "code",
   "execution_count": 503,
   "metadata": {
    "ExecuteTime": {
     "end_time": "2019-03-06T04:13:41.451516Z",
     "start_time": "2019-03-06T04:13:41.419Z"
    }
   },
   "outputs": [
    {
     "data": {
      "text/html": [
       "<table>\n",
       "<thead><tr><th></th><th scope=col>0</th><th scope=col>1</th><th scope=col>2</th><th scope=col>3</th><th scope=col>4</th><th scope=col>5</th><th scope=col>6</th><th scope=col>7</th><th scope=col>8</th><th scope=col>9</th><th scope=col>⋯</th><th scope=col>31</th><th scope=col>32</th><th scope=col>33</th><th scope=col>34</th><th scope=col>35</th><th scope=col>36</th><th scope=col>37</th><th scope=col>38</th><th scope=col>39</th><th scope=col>40</th></tr></thead>\n",
       "<tbody>\n",
       "\t<tr><th scope=row>A2A</th><td>0.0000000   </td><td>0.2056718   </td><td>0.3690427   </td><td>0.4988128   </td><td>0.6018928   </td><td>0.6837722   </td><td>0.74881136  </td><td>0.80047377  </td><td>0.84151068  </td><td>0.87410746  </td><td>⋯           </td><td>0.9992056718</td><td>0.9993690427</td><td>0.9994988128</td><td>0.9996018928</td><td>0.9996837722</td><td>9.997488e-01</td><td>9.998005e-01</td><td>9.998415e-01</td><td>9.998741e-01</td><td>9.999000e-01</td></tr>\n",
       "\t<tr><th scope=row>A2C</th><td>0.3333333   </td><td>0.2647761   </td><td>0.2103191   </td><td>0.1670624   </td><td>0.1327024   </td><td>0.1054093   </td><td>0.08372955  </td><td>0.06650874  </td><td>0.05282977  </td><td>0.04196418  </td><td>⋯           </td><td>0.0002647761</td><td>0.0002103191</td><td>0.0001670624</td><td>0.0001327024</td><td>0.0001054093</td><td>8.372955e-05</td><td>6.650874e-05</td><td>5.282977e-05</td><td>4.196418e-05</td><td>3.333333e-05</td></tr>\n",
       "\t<tr><th scope=row>A2G</th><td>0.3333333   </td><td>0.2647761   </td><td>0.2103191   </td><td>0.1670624   </td><td>0.1327024   </td><td>0.1054093   </td><td>0.08372955  </td><td>0.06650874  </td><td>0.05282977  </td><td>0.04196418  </td><td>⋯           </td><td>0.0002647761</td><td>0.0002103191</td><td>0.0001670624</td><td>0.0001327024</td><td>0.0001054093</td><td>8.372955e-05</td><td>6.650874e-05</td><td>5.282977e-05</td><td>4.196418e-05</td><td>3.333333e-05</td></tr>\n",
       "\t<tr><th scope=row>A2T</th><td>0.3333333   </td><td>0.2647761   </td><td>0.2103191   </td><td>0.1670624   </td><td>0.1327024   </td><td>0.1054093   </td><td>0.08372955  </td><td>0.06650874  </td><td>0.05282977  </td><td>0.04196418  </td><td>⋯           </td><td>0.0002647761</td><td>0.0002103191</td><td>0.0001670624</td><td>0.0001327024</td><td>0.0001054093</td><td>8.372955e-05</td><td>6.650874e-05</td><td>5.282977e-05</td><td>4.196418e-05</td><td>3.333333e-05</td></tr>\n",
       "\t<tr><th scope=row>C2A</th><td>0.3333333   </td><td>0.2647761   </td><td>0.2103191   </td><td>0.1670624   </td><td>0.1327024   </td><td>0.1054093   </td><td>0.08372955  </td><td>0.06650874  </td><td>0.05282977  </td><td>0.04196418  </td><td>⋯           </td><td>0.0002647761</td><td>0.0002103191</td><td>0.0001670624</td><td>0.0001327024</td><td>0.0001054093</td><td>8.372955e-05</td><td>6.650874e-05</td><td>5.282977e-05</td><td>4.196418e-05</td><td>3.333333e-05</td></tr>\n",
       "\t<tr><th scope=row>C2C</th><td>0.0000000   </td><td>0.2056718   </td><td>0.3690427   </td><td>0.4988128   </td><td>0.6018928   </td><td>0.6837722   </td><td>0.74881136  </td><td>0.80047377  </td><td>0.84151068  </td><td>0.87410746  </td><td>⋯           </td><td>0.9992056718</td><td>0.9993690427</td><td>0.9994988128</td><td>0.9996018928</td><td>0.9996837722</td><td>9.997488e-01</td><td>9.998005e-01</td><td>9.998415e-01</td><td>9.998741e-01</td><td>9.999000e-01</td></tr>\n",
       "\t<tr><th scope=row>C2G</th><td>0.3333333   </td><td>0.2647761   </td><td>0.2103191   </td><td>0.1670624   </td><td>0.1327024   </td><td>0.1054093   </td><td>0.08372955  </td><td>0.06650874  </td><td>0.05282977  </td><td>0.04196418  </td><td>⋯           </td><td>0.0002647761</td><td>0.0002103191</td><td>0.0001670624</td><td>0.0001327024</td><td>0.0001054093</td><td>8.372955e-05</td><td>6.650874e-05</td><td>5.282977e-05</td><td>4.196418e-05</td><td>3.333333e-05</td></tr>\n",
       "\t<tr><th scope=row>C2T</th><td>0.3333333   </td><td>0.2647761   </td><td>0.2103191   </td><td>0.1670624   </td><td>0.1327024   </td><td>0.1054093   </td><td>0.08372955  </td><td>0.06650874  </td><td>0.05282977  </td><td>0.04196418  </td><td>⋯           </td><td>0.0002647761</td><td>0.0002103191</td><td>0.0001670624</td><td>0.0001327024</td><td>0.0001054093</td><td>8.372955e-05</td><td>6.650874e-05</td><td>5.282977e-05</td><td>4.196418e-05</td><td>3.333333e-05</td></tr>\n",
       "\t<tr><th scope=row>G2A</th><td>0.3333333   </td><td>0.2647761   </td><td>0.2103191   </td><td>0.1670624   </td><td>0.1327024   </td><td>0.1054093   </td><td>0.08372955  </td><td>0.06650874  </td><td>0.05282977  </td><td>0.04196418  </td><td>⋯           </td><td>0.0002647761</td><td>0.0002103191</td><td>0.0001670624</td><td>0.0001327024</td><td>0.0001054093</td><td>8.372955e-05</td><td>6.650874e-05</td><td>5.282977e-05</td><td>4.196418e-05</td><td>3.333333e-05</td></tr>\n",
       "\t<tr><th scope=row>G2C</th><td>0.3333333   </td><td>0.2647761   </td><td>0.2103191   </td><td>0.1670624   </td><td>0.1327024   </td><td>0.1054093   </td><td>0.08372955  </td><td>0.06650874  </td><td>0.05282977  </td><td>0.04196418  </td><td>⋯           </td><td>0.0002647761</td><td>0.0002103191</td><td>0.0001670624</td><td>0.0001327024</td><td>0.0001054093</td><td>8.372955e-05</td><td>6.650874e-05</td><td>5.282977e-05</td><td>4.196418e-05</td><td>3.333333e-05</td></tr>\n",
       "\t<tr><th scope=row>G2G</th><td>0.0000000   </td><td>0.2056718   </td><td>0.3690427   </td><td>0.4988128   </td><td>0.6018928   </td><td>0.6837722   </td><td>0.74881136  </td><td>0.80047377  </td><td>0.84151068  </td><td>0.87410746  </td><td>⋯           </td><td>0.9992056718</td><td>0.9993690427</td><td>0.9994988128</td><td>0.9996018928</td><td>0.9996837722</td><td>9.997488e-01</td><td>9.998005e-01</td><td>9.998415e-01</td><td>9.998741e-01</td><td>9.999000e-01</td></tr>\n",
       "\t<tr><th scope=row>G2T</th><td>0.3333333   </td><td>0.2647761   </td><td>0.2103191   </td><td>0.1670624   </td><td>0.1327024   </td><td>0.1054093   </td><td>0.08372955  </td><td>0.06650874  </td><td>0.05282977  </td><td>0.04196418  </td><td>⋯           </td><td>0.0002647761</td><td>0.0002103191</td><td>0.0001670624</td><td>0.0001327024</td><td>0.0001054093</td><td>8.372955e-05</td><td>6.650874e-05</td><td>5.282977e-05</td><td>4.196418e-05</td><td>3.333333e-05</td></tr>\n",
       "\t<tr><th scope=row>T2A</th><td>0.3333333   </td><td>0.2647761   </td><td>0.2103191   </td><td>0.1670624   </td><td>0.1327024   </td><td>0.1054093   </td><td>0.08372955  </td><td>0.06650874  </td><td>0.05282977  </td><td>0.04196418  </td><td>⋯           </td><td>0.0002647761</td><td>0.0002103191</td><td>0.0001670624</td><td>0.0001327024</td><td>0.0001054093</td><td>8.372955e-05</td><td>6.650874e-05</td><td>5.282977e-05</td><td>4.196418e-05</td><td>3.333333e-05</td></tr>\n",
       "\t<tr><th scope=row>T2C</th><td>0.3333333   </td><td>0.2647761   </td><td>0.2103191   </td><td>0.1670624   </td><td>0.1327024   </td><td>0.1054093   </td><td>0.08372955  </td><td>0.06650874  </td><td>0.05282977  </td><td>0.04196418  </td><td>⋯           </td><td>0.0002647761</td><td>0.0002103191</td><td>0.0001670624</td><td>0.0001327024</td><td>0.0001054093</td><td>8.372955e-05</td><td>6.650874e-05</td><td>5.282977e-05</td><td>4.196418e-05</td><td>3.333333e-05</td></tr>\n",
       "\t<tr><th scope=row>T2G</th><td>0.3333333   </td><td>0.2647761   </td><td>0.2103191   </td><td>0.1670624   </td><td>0.1327024   </td><td>0.1054093   </td><td>0.08372955  </td><td>0.06650874  </td><td>0.05282977  </td><td>0.04196418  </td><td>⋯           </td><td>0.0002647761</td><td>0.0002103191</td><td>0.0001670624</td><td>0.0001327024</td><td>0.0001054093</td><td>8.372955e-05</td><td>6.650874e-05</td><td>5.282977e-05</td><td>4.196418e-05</td><td>3.333333e-05</td></tr>\n",
       "\t<tr><th scope=row>T2T</th><td>0.0000000   </td><td>0.2056718   </td><td>0.3690427   </td><td>0.4988128   </td><td>0.6018928   </td><td>0.6837722   </td><td>0.74881136  </td><td>0.80047377  </td><td>0.84151068  </td><td>0.87410746  </td><td>⋯           </td><td>0.9992056718</td><td>0.9993690427</td><td>0.9994988128</td><td>0.9996018928</td><td>0.9996837722</td><td>9.997488e-01</td><td>9.998005e-01</td><td>9.998415e-01</td><td>9.998741e-01</td><td>9.999000e-01</td></tr>\n",
       "</tbody>\n",
       "</table>\n"
      ],
      "text/latex": [
       "\\begin{tabular}{r|lllllllllllllllllllllllllllllllllllllllll}\n",
       "  & 0 & 1 & 2 & 3 & 4 & 5 & 6 & 7 & 8 & 9 & ⋯ & 31 & 32 & 33 & 34 & 35 & 36 & 37 & 38 & 39 & 40\\\\\n",
       "\\hline\n",
       "\tA2A & 0.0000000    & 0.2056718    & 0.3690427    & 0.4988128    & 0.6018928    & 0.6837722    & 0.74881136   & 0.80047377   & 0.84151068   & 0.87410746   & ⋯            & 0.9992056718 & 0.9993690427 & 0.9994988128 & 0.9996018928 & 0.9996837722 & 9.997488e-01 & 9.998005e-01 & 9.998415e-01 & 9.998741e-01 & 9.999000e-01\\\\\n",
       "\tA2C & 0.3333333    & 0.2647761    & 0.2103191    & 0.1670624    & 0.1327024    & 0.1054093    & 0.08372955   & 0.06650874   & 0.05282977   & 0.04196418   & ⋯            & 0.0002647761 & 0.0002103191 & 0.0001670624 & 0.0001327024 & 0.0001054093 & 8.372955e-05 & 6.650874e-05 & 5.282977e-05 & 4.196418e-05 & 3.333333e-05\\\\\n",
       "\tA2G & 0.3333333    & 0.2647761    & 0.2103191    & 0.1670624    & 0.1327024    & 0.1054093    & 0.08372955   & 0.06650874   & 0.05282977   & 0.04196418   & ⋯            & 0.0002647761 & 0.0002103191 & 0.0001670624 & 0.0001327024 & 0.0001054093 & 8.372955e-05 & 6.650874e-05 & 5.282977e-05 & 4.196418e-05 & 3.333333e-05\\\\\n",
       "\tA2T & 0.3333333    & 0.2647761    & 0.2103191    & 0.1670624    & 0.1327024    & 0.1054093    & 0.08372955   & 0.06650874   & 0.05282977   & 0.04196418   & ⋯            & 0.0002647761 & 0.0002103191 & 0.0001670624 & 0.0001327024 & 0.0001054093 & 8.372955e-05 & 6.650874e-05 & 5.282977e-05 & 4.196418e-05 & 3.333333e-05\\\\\n",
       "\tC2A & 0.3333333    & 0.2647761    & 0.2103191    & 0.1670624    & 0.1327024    & 0.1054093    & 0.08372955   & 0.06650874   & 0.05282977   & 0.04196418   & ⋯            & 0.0002647761 & 0.0002103191 & 0.0001670624 & 0.0001327024 & 0.0001054093 & 8.372955e-05 & 6.650874e-05 & 5.282977e-05 & 4.196418e-05 & 3.333333e-05\\\\\n",
       "\tC2C & 0.0000000    & 0.2056718    & 0.3690427    & 0.4988128    & 0.6018928    & 0.6837722    & 0.74881136   & 0.80047377   & 0.84151068   & 0.87410746   & ⋯            & 0.9992056718 & 0.9993690427 & 0.9994988128 & 0.9996018928 & 0.9996837722 & 9.997488e-01 & 9.998005e-01 & 9.998415e-01 & 9.998741e-01 & 9.999000e-01\\\\\n",
       "\tC2G & 0.3333333    & 0.2647761    & 0.2103191    & 0.1670624    & 0.1327024    & 0.1054093    & 0.08372955   & 0.06650874   & 0.05282977   & 0.04196418   & ⋯            & 0.0002647761 & 0.0002103191 & 0.0001670624 & 0.0001327024 & 0.0001054093 & 8.372955e-05 & 6.650874e-05 & 5.282977e-05 & 4.196418e-05 & 3.333333e-05\\\\\n",
       "\tC2T & 0.3333333    & 0.2647761    & 0.2103191    & 0.1670624    & 0.1327024    & 0.1054093    & 0.08372955   & 0.06650874   & 0.05282977   & 0.04196418   & ⋯            & 0.0002647761 & 0.0002103191 & 0.0001670624 & 0.0001327024 & 0.0001054093 & 8.372955e-05 & 6.650874e-05 & 5.282977e-05 & 4.196418e-05 & 3.333333e-05\\\\\n",
       "\tG2A & 0.3333333    & 0.2647761    & 0.2103191    & 0.1670624    & 0.1327024    & 0.1054093    & 0.08372955   & 0.06650874   & 0.05282977   & 0.04196418   & ⋯            & 0.0002647761 & 0.0002103191 & 0.0001670624 & 0.0001327024 & 0.0001054093 & 8.372955e-05 & 6.650874e-05 & 5.282977e-05 & 4.196418e-05 & 3.333333e-05\\\\\n",
       "\tG2C & 0.3333333    & 0.2647761    & 0.2103191    & 0.1670624    & 0.1327024    & 0.1054093    & 0.08372955   & 0.06650874   & 0.05282977   & 0.04196418   & ⋯            & 0.0002647761 & 0.0002103191 & 0.0001670624 & 0.0001327024 & 0.0001054093 & 8.372955e-05 & 6.650874e-05 & 5.282977e-05 & 4.196418e-05 & 3.333333e-05\\\\\n",
       "\tG2G & 0.0000000    & 0.2056718    & 0.3690427    & 0.4988128    & 0.6018928    & 0.6837722    & 0.74881136   & 0.80047377   & 0.84151068   & 0.87410746   & ⋯            & 0.9992056718 & 0.9993690427 & 0.9994988128 & 0.9996018928 & 0.9996837722 & 9.997488e-01 & 9.998005e-01 & 9.998415e-01 & 9.998741e-01 & 9.999000e-01\\\\\n",
       "\tG2T & 0.3333333    & 0.2647761    & 0.2103191    & 0.1670624    & 0.1327024    & 0.1054093    & 0.08372955   & 0.06650874   & 0.05282977   & 0.04196418   & ⋯            & 0.0002647761 & 0.0002103191 & 0.0001670624 & 0.0001327024 & 0.0001054093 & 8.372955e-05 & 6.650874e-05 & 5.282977e-05 & 4.196418e-05 & 3.333333e-05\\\\\n",
       "\tT2A & 0.3333333    & 0.2647761    & 0.2103191    & 0.1670624    & 0.1327024    & 0.1054093    & 0.08372955   & 0.06650874   & 0.05282977   & 0.04196418   & ⋯            & 0.0002647761 & 0.0002103191 & 0.0001670624 & 0.0001327024 & 0.0001054093 & 8.372955e-05 & 6.650874e-05 & 5.282977e-05 & 4.196418e-05 & 3.333333e-05\\\\\n",
       "\tT2C & 0.3333333    & 0.2647761    & 0.2103191    & 0.1670624    & 0.1327024    & 0.1054093    & 0.08372955   & 0.06650874   & 0.05282977   & 0.04196418   & ⋯            & 0.0002647761 & 0.0002103191 & 0.0001670624 & 0.0001327024 & 0.0001054093 & 8.372955e-05 & 6.650874e-05 & 5.282977e-05 & 4.196418e-05 & 3.333333e-05\\\\\n",
       "\tT2G & 0.3333333    & 0.2647761    & 0.2103191    & 0.1670624    & 0.1327024    & 0.1054093    & 0.08372955   & 0.06650874   & 0.05282977   & 0.04196418   & ⋯            & 0.0002647761 & 0.0002103191 & 0.0001670624 & 0.0001327024 & 0.0001054093 & 8.372955e-05 & 6.650874e-05 & 5.282977e-05 & 4.196418e-05 & 3.333333e-05\\\\\n",
       "\tT2T & 0.0000000    & 0.2056718    & 0.3690427    & 0.4988128    & 0.6018928    & 0.6837722    & 0.74881136   & 0.80047377   & 0.84151068   & 0.87410746   & ⋯            & 0.9992056718 & 0.9993690427 & 0.9994988128 & 0.9996018928 & 0.9996837722 & 9.997488e-01 & 9.998005e-01 & 9.998415e-01 & 9.998741e-01 & 9.999000e-01\\\\\n",
       "\\end{tabular}\n"
      ],
      "text/markdown": [
       "\n",
       "| <!--/--> | 0 | 1 | 2 | 3 | 4 | 5 | 6 | 7 | 8 | 9 | ⋯ | 31 | 32 | 33 | 34 | 35 | 36 | 37 | 38 | 39 | 40 |\n",
       "|---|---|---|---|---|---|---|---|---|---|---|---|---|---|---|---|---|---|---|---|---|---|\n",
       "| A2A | 0.0000000    | 0.2056718    | 0.3690427    | 0.4988128    | 0.6018928    | 0.6837722    | 0.74881136   | 0.80047377   | 0.84151068   | 0.87410746   | ⋯            | 0.9992056718 | 0.9993690427 | 0.9994988128 | 0.9996018928 | 0.9996837722 | 9.997488e-01 | 9.998005e-01 | 9.998415e-01 | 9.998741e-01 | 9.999000e-01 |\n",
       "| A2C | 0.3333333    | 0.2647761    | 0.2103191    | 0.1670624    | 0.1327024    | 0.1054093    | 0.08372955   | 0.06650874   | 0.05282977   | 0.04196418   | ⋯            | 0.0002647761 | 0.0002103191 | 0.0001670624 | 0.0001327024 | 0.0001054093 | 8.372955e-05 | 6.650874e-05 | 5.282977e-05 | 4.196418e-05 | 3.333333e-05 |\n",
       "| A2G | 0.3333333    | 0.2647761    | 0.2103191    | 0.1670624    | 0.1327024    | 0.1054093    | 0.08372955   | 0.06650874   | 0.05282977   | 0.04196418   | ⋯            | 0.0002647761 | 0.0002103191 | 0.0001670624 | 0.0001327024 | 0.0001054093 | 8.372955e-05 | 6.650874e-05 | 5.282977e-05 | 4.196418e-05 | 3.333333e-05 |\n",
       "| A2T | 0.3333333    | 0.2647761    | 0.2103191    | 0.1670624    | 0.1327024    | 0.1054093    | 0.08372955   | 0.06650874   | 0.05282977   | 0.04196418   | ⋯            | 0.0002647761 | 0.0002103191 | 0.0001670624 | 0.0001327024 | 0.0001054093 | 8.372955e-05 | 6.650874e-05 | 5.282977e-05 | 4.196418e-05 | 3.333333e-05 |\n",
       "| C2A | 0.3333333    | 0.2647761    | 0.2103191    | 0.1670624    | 0.1327024    | 0.1054093    | 0.08372955   | 0.06650874   | 0.05282977   | 0.04196418   | ⋯            | 0.0002647761 | 0.0002103191 | 0.0001670624 | 0.0001327024 | 0.0001054093 | 8.372955e-05 | 6.650874e-05 | 5.282977e-05 | 4.196418e-05 | 3.333333e-05 |\n",
       "| C2C | 0.0000000    | 0.2056718    | 0.3690427    | 0.4988128    | 0.6018928    | 0.6837722    | 0.74881136   | 0.80047377   | 0.84151068   | 0.87410746   | ⋯            | 0.9992056718 | 0.9993690427 | 0.9994988128 | 0.9996018928 | 0.9996837722 | 9.997488e-01 | 9.998005e-01 | 9.998415e-01 | 9.998741e-01 | 9.999000e-01 |\n",
       "| C2G | 0.3333333    | 0.2647761    | 0.2103191    | 0.1670624    | 0.1327024    | 0.1054093    | 0.08372955   | 0.06650874   | 0.05282977   | 0.04196418   | ⋯            | 0.0002647761 | 0.0002103191 | 0.0001670624 | 0.0001327024 | 0.0001054093 | 8.372955e-05 | 6.650874e-05 | 5.282977e-05 | 4.196418e-05 | 3.333333e-05 |\n",
       "| C2T | 0.3333333    | 0.2647761    | 0.2103191    | 0.1670624    | 0.1327024    | 0.1054093    | 0.08372955   | 0.06650874   | 0.05282977   | 0.04196418   | ⋯            | 0.0002647761 | 0.0002103191 | 0.0001670624 | 0.0001327024 | 0.0001054093 | 8.372955e-05 | 6.650874e-05 | 5.282977e-05 | 4.196418e-05 | 3.333333e-05 |\n",
       "| G2A | 0.3333333    | 0.2647761    | 0.2103191    | 0.1670624    | 0.1327024    | 0.1054093    | 0.08372955   | 0.06650874   | 0.05282977   | 0.04196418   | ⋯            | 0.0002647761 | 0.0002103191 | 0.0001670624 | 0.0001327024 | 0.0001054093 | 8.372955e-05 | 6.650874e-05 | 5.282977e-05 | 4.196418e-05 | 3.333333e-05 |\n",
       "| G2C | 0.3333333    | 0.2647761    | 0.2103191    | 0.1670624    | 0.1327024    | 0.1054093    | 0.08372955   | 0.06650874   | 0.05282977   | 0.04196418   | ⋯            | 0.0002647761 | 0.0002103191 | 0.0001670624 | 0.0001327024 | 0.0001054093 | 8.372955e-05 | 6.650874e-05 | 5.282977e-05 | 4.196418e-05 | 3.333333e-05 |\n",
       "| G2G | 0.0000000    | 0.2056718    | 0.3690427    | 0.4988128    | 0.6018928    | 0.6837722    | 0.74881136   | 0.80047377   | 0.84151068   | 0.87410746   | ⋯            | 0.9992056718 | 0.9993690427 | 0.9994988128 | 0.9996018928 | 0.9996837722 | 9.997488e-01 | 9.998005e-01 | 9.998415e-01 | 9.998741e-01 | 9.999000e-01 |\n",
       "| G2T | 0.3333333    | 0.2647761    | 0.2103191    | 0.1670624    | 0.1327024    | 0.1054093    | 0.08372955   | 0.06650874   | 0.05282977   | 0.04196418   | ⋯            | 0.0002647761 | 0.0002103191 | 0.0001670624 | 0.0001327024 | 0.0001054093 | 8.372955e-05 | 6.650874e-05 | 5.282977e-05 | 4.196418e-05 | 3.333333e-05 |\n",
       "| T2A | 0.3333333    | 0.2647761    | 0.2103191    | 0.1670624    | 0.1327024    | 0.1054093    | 0.08372955   | 0.06650874   | 0.05282977   | 0.04196418   | ⋯            | 0.0002647761 | 0.0002103191 | 0.0001670624 | 0.0001327024 | 0.0001054093 | 8.372955e-05 | 6.650874e-05 | 5.282977e-05 | 4.196418e-05 | 3.333333e-05 |\n",
       "| T2C | 0.3333333    | 0.2647761    | 0.2103191    | 0.1670624    | 0.1327024    | 0.1054093    | 0.08372955   | 0.06650874   | 0.05282977   | 0.04196418   | ⋯            | 0.0002647761 | 0.0002103191 | 0.0001670624 | 0.0001327024 | 0.0001054093 | 8.372955e-05 | 6.650874e-05 | 5.282977e-05 | 4.196418e-05 | 3.333333e-05 |\n",
       "| T2G | 0.3333333    | 0.2647761    | 0.2103191    | 0.1670624    | 0.1327024    | 0.1054093    | 0.08372955   | 0.06650874   | 0.05282977   | 0.04196418   | ⋯            | 0.0002647761 | 0.0002103191 | 0.0001670624 | 0.0001327024 | 0.0001054093 | 8.372955e-05 | 6.650874e-05 | 5.282977e-05 | 4.196418e-05 | 3.333333e-05 |\n",
       "| T2T | 0.0000000    | 0.2056718    | 0.3690427    | 0.4988128    | 0.6018928    | 0.6837722    | 0.74881136   | 0.80047377   | 0.84151068   | 0.87410746   | ⋯            | 0.9992056718 | 0.9993690427 | 0.9994988128 | 0.9996018928 | 0.9996837722 | 9.997488e-01 | 9.998005e-01 | 9.998415e-01 | 9.998741e-01 | 9.999000e-01 |\n",
       "\n"
      ],
      "text/plain": [
       "    0         1         2         3         4         5         6         \n",
       "A2A 0.0000000 0.2056718 0.3690427 0.4988128 0.6018928 0.6837722 0.74881136\n",
       "A2C 0.3333333 0.2647761 0.2103191 0.1670624 0.1327024 0.1054093 0.08372955\n",
       "A2G 0.3333333 0.2647761 0.2103191 0.1670624 0.1327024 0.1054093 0.08372955\n",
       "A2T 0.3333333 0.2647761 0.2103191 0.1670624 0.1327024 0.1054093 0.08372955\n",
       "C2A 0.3333333 0.2647761 0.2103191 0.1670624 0.1327024 0.1054093 0.08372955\n",
       "C2C 0.0000000 0.2056718 0.3690427 0.4988128 0.6018928 0.6837722 0.74881136\n",
       "C2G 0.3333333 0.2647761 0.2103191 0.1670624 0.1327024 0.1054093 0.08372955\n",
       "C2T 0.3333333 0.2647761 0.2103191 0.1670624 0.1327024 0.1054093 0.08372955\n",
       "G2A 0.3333333 0.2647761 0.2103191 0.1670624 0.1327024 0.1054093 0.08372955\n",
       "G2C 0.3333333 0.2647761 0.2103191 0.1670624 0.1327024 0.1054093 0.08372955\n",
       "G2G 0.0000000 0.2056718 0.3690427 0.4988128 0.6018928 0.6837722 0.74881136\n",
       "G2T 0.3333333 0.2647761 0.2103191 0.1670624 0.1327024 0.1054093 0.08372955\n",
       "T2A 0.3333333 0.2647761 0.2103191 0.1670624 0.1327024 0.1054093 0.08372955\n",
       "T2C 0.3333333 0.2647761 0.2103191 0.1670624 0.1327024 0.1054093 0.08372955\n",
       "T2G 0.3333333 0.2647761 0.2103191 0.1670624 0.1327024 0.1054093 0.08372955\n",
       "T2T 0.0000000 0.2056718 0.3690427 0.4988128 0.6018928 0.6837722 0.74881136\n",
       "    7          8          9          ⋯ 31           32           33          \n",
       "A2A 0.80047377 0.84151068 0.87410746 ⋯ 0.9992056718 0.9993690427 0.9994988128\n",
       "A2C 0.06650874 0.05282977 0.04196418 ⋯ 0.0002647761 0.0002103191 0.0001670624\n",
       "A2G 0.06650874 0.05282977 0.04196418 ⋯ 0.0002647761 0.0002103191 0.0001670624\n",
       "A2T 0.06650874 0.05282977 0.04196418 ⋯ 0.0002647761 0.0002103191 0.0001670624\n",
       "C2A 0.06650874 0.05282977 0.04196418 ⋯ 0.0002647761 0.0002103191 0.0001670624\n",
       "C2C 0.80047377 0.84151068 0.87410746 ⋯ 0.9992056718 0.9993690427 0.9994988128\n",
       "C2G 0.06650874 0.05282977 0.04196418 ⋯ 0.0002647761 0.0002103191 0.0001670624\n",
       "C2T 0.06650874 0.05282977 0.04196418 ⋯ 0.0002647761 0.0002103191 0.0001670624\n",
       "G2A 0.06650874 0.05282977 0.04196418 ⋯ 0.0002647761 0.0002103191 0.0001670624\n",
       "G2C 0.06650874 0.05282977 0.04196418 ⋯ 0.0002647761 0.0002103191 0.0001670624\n",
       "G2G 0.80047377 0.84151068 0.87410746 ⋯ 0.9992056718 0.9993690427 0.9994988128\n",
       "G2T 0.06650874 0.05282977 0.04196418 ⋯ 0.0002647761 0.0002103191 0.0001670624\n",
       "T2A 0.06650874 0.05282977 0.04196418 ⋯ 0.0002647761 0.0002103191 0.0001670624\n",
       "T2C 0.06650874 0.05282977 0.04196418 ⋯ 0.0002647761 0.0002103191 0.0001670624\n",
       "T2G 0.06650874 0.05282977 0.04196418 ⋯ 0.0002647761 0.0002103191 0.0001670624\n",
       "T2T 0.80047377 0.84151068 0.87410746 ⋯ 0.9992056718 0.9993690427 0.9994988128\n",
       "    34           35           36           37           38          \n",
       "A2A 0.9996018928 0.9996837722 9.997488e-01 9.998005e-01 9.998415e-01\n",
       "A2C 0.0001327024 0.0001054093 8.372955e-05 6.650874e-05 5.282977e-05\n",
       "A2G 0.0001327024 0.0001054093 8.372955e-05 6.650874e-05 5.282977e-05\n",
       "A2T 0.0001327024 0.0001054093 8.372955e-05 6.650874e-05 5.282977e-05\n",
       "C2A 0.0001327024 0.0001054093 8.372955e-05 6.650874e-05 5.282977e-05\n",
       "C2C 0.9996018928 0.9996837722 9.997488e-01 9.998005e-01 9.998415e-01\n",
       "C2G 0.0001327024 0.0001054093 8.372955e-05 6.650874e-05 5.282977e-05\n",
       "C2T 0.0001327024 0.0001054093 8.372955e-05 6.650874e-05 5.282977e-05\n",
       "G2A 0.0001327024 0.0001054093 8.372955e-05 6.650874e-05 5.282977e-05\n",
       "G2C 0.0001327024 0.0001054093 8.372955e-05 6.650874e-05 5.282977e-05\n",
       "G2G 0.9996018928 0.9996837722 9.997488e-01 9.998005e-01 9.998415e-01\n",
       "G2T 0.0001327024 0.0001054093 8.372955e-05 6.650874e-05 5.282977e-05\n",
       "T2A 0.0001327024 0.0001054093 8.372955e-05 6.650874e-05 5.282977e-05\n",
       "T2C 0.0001327024 0.0001054093 8.372955e-05 6.650874e-05 5.282977e-05\n",
       "T2G 0.0001327024 0.0001054093 8.372955e-05 6.650874e-05 5.282977e-05\n",
       "T2T 0.9996018928 0.9996837722 9.997488e-01 9.998005e-01 9.998415e-01\n",
       "    39           40          \n",
       "A2A 9.998741e-01 9.999000e-01\n",
       "A2C 4.196418e-05 3.333333e-05\n",
       "A2G 4.196418e-05 3.333333e-05\n",
       "A2T 4.196418e-05 3.333333e-05\n",
       "C2A 4.196418e-05 3.333333e-05\n",
       "C2C 9.998741e-01 9.999000e-01\n",
       "C2G 4.196418e-05 3.333333e-05\n",
       "C2T 4.196418e-05 3.333333e-05\n",
       "G2A 4.196418e-05 3.333333e-05\n",
       "G2C 4.196418e-05 3.333333e-05\n",
       "G2G 9.998741e-01 9.999000e-01\n",
       "G2T 4.196418e-05 3.333333e-05\n",
       "T2A 4.196418e-05 3.333333e-05\n",
       "T2C 4.196418e-05 3.333333e-05\n",
       "T2G 4.196418e-05 3.333333e-05\n",
       "T2T 9.998741e-01 9.999000e-01"
      ]
     },
     "metadata": {},
     "output_type": "display_data"
    }
   ],
   "source": [
    "defaultErr"
   ]
  },
  {
   "cell_type": "code",
   "execution_count": 107,
   "metadata": {
    "ExecuteTime": {
     "end_time": "2019-03-05T08:45:31.294943Z",
     "start_time": "2019-03-05T08:45:31.245Z"
    },
    "collapsed": true
   },
   "outputs": [],
   "source": [
    "testSeqs <- c('TTCACCTAGGTCATCGAGTGT', 'CCGCTTCAAACAATCGGTTTG', 'CTGTTTCAAACAATCGGCCTG', 'CCAGTCTTCAAACAATCGGTC', 'TCGCCCTTCAAACAATCGGTC', 'AGCCCGCTTCAAACAATCGGT', 'TTCCTGCTTCAAGCAATCGGT')"
   ]
  },
  {
   "cell_type": "code",
   "execution_count": 123,
   "metadata": {
    "ExecuteTime": {
     "end_time": "2019-03-05T08:54:13.505838Z",
     "start_time": "2019-03-05T08:54:13.475Z"
    }
   },
   "outputs": [
    {
     "data": {
      "text/html": [
       "<ol class=list-inline>\n",
       "\t<li>TRUE</li>\n",
       "\t<li>TRUE</li>\n",
       "\t<li>TRUE</li>\n",
       "\t<li>TRUE</li>\n",
       "\t<li>FALSE</li>\n",
       "\t<li>FALSE</li>\n",
       "\t<li>FALSE</li>\n",
       "</ol>\n"
      ],
      "text/latex": [
       "\\begin{enumerate*}\n",
       "\\item TRUE\n",
       "\\item TRUE\n",
       "\\item TRUE\n",
       "\\item TRUE\n",
       "\\item FALSE\n",
       "\\item FALSE\n",
       "\\item FALSE\n",
       "\\end{enumerate*}\n"
      ],
      "text/markdown": [
       "1. TRUE\n",
       "2. TRUE\n",
       "3. TRUE\n",
       "4. TRUE\n",
       "5. FALSE\n",
       "6. FALSE\n",
       "7. FALSE\n",
       "\n",
       "\n"
      ],
      "text/plain": [
       "[1]  TRUE  TRUE  TRUE  TRUE FALSE FALSE FALSE"
      ]
     },
     "metadata": {},
     "output_type": "display_data"
    }
   ],
   "source": [
    "is.element(testSeqs, denoised$clustering[['sequence']])"
   ]
  },
  {
   "cell_type": "code",
   "execution_count": 160,
   "metadata": {
    "ExecuteTime": {
     "end_time": "2019-03-05T09:12:46.265120Z",
     "start_time": "2019-03-05T09:12:46.237Z"
    }
   },
   "outputs": [
    {
     "data": {
      "text/html": [
       "22"
      ],
      "text/latex": [
       "22"
      ],
      "text/markdown": [
       "22"
      ],
      "text/plain": [
       "[1] 22"
      ]
     },
     "metadata": {},
     "output_type": "display_data"
    }
   ],
   "source": [
    "denoised$"
   ]
  },
  {
   "cell_type": "code",
   "execution_count": 167,
   "metadata": {
    "ExecuteTime": {
     "end_time": "2019-03-05T09:16:33.245781Z",
     "start_time": "2019-03-05T09:16:33.088Z"
    }
   },
   "outputs": [
    {
     "data": {
      "text/html": [
       "<strong>CTACTTCAAACAATCGGTCTG:</strong> 305709"
      ],
      "text/latex": [
       "\\textbf{CTACTTCAAACAATCGGTCTG:} 305709"
      ],
      "text/markdown": [
       "**CTACTTCAAACAATCGGTCTG:** 305709"
      ],
      "text/plain": [
       "CTACTTCAAACAATCGGTCTG \n",
       "               305709 "
      ]
     },
     "metadata": {},
     "output_type": "display_data"
    }
   ],
   "source": [
    "dadaRes$denoised[dadaRes$map[match('TTCACCTAGGTCATCGAGTGT', names(derep$uniques))]]"
   ]
  },
  {
   "cell_type": "code",
   "execution_count": 302,
   "metadata": {
    "ExecuteTime": {
     "end_time": "2019-03-06T00:05:18.513431Z",
     "start_time": "2019-03-06T00:05:18.469Z"
    },
    "scrolled": false
   },
   "outputs": [
    {
     "data": {
      "text/html": [
       "<dl class=dl-horizontal>\n",
       "\t<dt>0</dt>\n",
       "\t\t<dd>0</dd>\n",
       "\t<dt>1</dt>\n",
       "\t\t<dd>0</dd>\n",
       "\t<dt>2</dt>\n",
       "\t\t<dd>6</dd>\n",
       "\t<dt>3</dt>\n",
       "\t\t<dd>0</dd>\n",
       "\t<dt>4</dt>\n",
       "\t\t<dd>0</dd>\n",
       "\t<dt>5</dt>\n",
       "\t\t<dd>0</dd>\n",
       "\t<dt>6</dt>\n",
       "\t\t<dd>0</dd>\n",
       "\t<dt>7</dt>\n",
       "\t\t<dd>0</dd>\n",
       "\t<dt>8</dt>\n",
       "\t\t<dd>0</dd>\n",
       "\t<dt>9</dt>\n",
       "\t\t<dd>0</dd>\n",
       "\t<dt>10</dt>\n",
       "\t\t<dd>0</dd>\n",
       "\t<dt>11</dt>\n",
       "\t\t<dd>0</dd>\n",
       "\t<dt>12</dt>\n",
       "\t\t<dd>2187</dd>\n",
       "\t<dt>13</dt>\n",
       "\t\t<dd>22</dd>\n",
       "\t<dt>14</dt>\n",
       "\t\t<dd>16107</dd>\n",
       "\t<dt>15</dt>\n",
       "\t\t<dd>0</dd>\n",
       "\t<dt>16</dt>\n",
       "\t\t<dd>0</dd>\n",
       "\t<dt>17</dt>\n",
       "\t\t<dd>18</dd>\n",
       "\t<dt>18</dt>\n",
       "\t\t<dd>64</dd>\n",
       "\t<dt>19</dt>\n",
       "\t\t<dd>6</dd>\n",
       "\t<dt>20</dt>\n",
       "\t\t<dd>78</dd>\n",
       "\t<dt>21</dt>\n",
       "\t\t<dd>3175</dd>\n",
       "\t<dt>22</dt>\n",
       "\t\t<dd>222</dd>\n",
       "\t<dt>23</dt>\n",
       "\t\t<dd>171</dd>\n",
       "\t<dt>24</dt>\n",
       "\t\t<dd>942</dd>\n",
       "\t<dt>25</dt>\n",
       "\t\t<dd>114</dd>\n",
       "\t<dt>26</dt>\n",
       "\t\t<dd>1539</dd>\n",
       "\t<dt>27</dt>\n",
       "\t\t<dd>8609</dd>\n",
       "\t<dt>28</dt>\n",
       "\t\t<dd>2797</dd>\n",
       "\t<dt>29</dt>\n",
       "\t\t<dd>8113</dd>\n",
       "\t<dt>30</dt>\n",
       "\t\t<dd>55594</dd>\n",
       "\t<dt>31</dt>\n",
       "\t\t<dd>993105</dd>\n",
       "\t<dt>32</dt>\n",
       "\t\t<dd>27297970</dd>\n",
       "\t<dt>33</dt>\n",
       "\t\t<dd>689827</dd>\n",
       "\t<dt>34</dt>\n",
       "\t\t<dd>0</dd>\n",
       "\t<dt>35</dt>\n",
       "\t\t<dd>0</dd>\n",
       "\t<dt>36</dt>\n",
       "\t\t<dd>0</dd>\n",
       "\t<dt>37</dt>\n",
       "\t\t<dd>0</dd>\n",
       "\t<dt>38</dt>\n",
       "\t\t<dd>0</dd>\n",
       "\t<dt>39</dt>\n",
       "\t\t<dd>0</dd>\n",
       "\t<dt>40</dt>\n",
       "\t\t<dd>0</dd>\n",
       "</dl>\n"
      ],
      "text/latex": [
       "\\begin{description*}\n",
       "\\item[0] 0\n",
       "\\item[1] 0\n",
       "\\item[2] 6\n",
       "\\item[3] 0\n",
       "\\item[4] 0\n",
       "\\item[5] 0\n",
       "\\item[6] 0\n",
       "\\item[7] 0\n",
       "\\item[8] 0\n",
       "\\item[9] 0\n",
       "\\item[10] 0\n",
       "\\item[11] 0\n",
       "\\item[12] 2187\n",
       "\\item[13] 22\n",
       "\\item[14] 16107\n",
       "\\item[15] 0\n",
       "\\item[16] 0\n",
       "\\item[17] 18\n",
       "\\item[18] 64\n",
       "\\item[19] 6\n",
       "\\item[20] 78\n",
       "\\item[21] 3175\n",
       "\\item[22] 222\n",
       "\\item[23] 171\n",
       "\\item[24] 942\n",
       "\\item[25] 114\n",
       "\\item[26] 1539\n",
       "\\item[27] 8609\n",
       "\\item[28] 2797\n",
       "\\item[29] 8113\n",
       "\\item[30] 55594\n",
       "\\item[31] 993105\n",
       "\\item[32] 27297970\n",
       "\\item[33] 689827\n",
       "\\item[34] 0\n",
       "\\item[35] 0\n",
       "\\item[36] 0\n",
       "\\item[37] 0\n",
       "\\item[38] 0\n",
       "\\item[39] 0\n",
       "\\item[40] 0\n",
       "\\end{description*}\n"
      ],
      "text/markdown": [
       "0\n",
       ":   01\n",
       ":   02\n",
       ":   63\n",
       ":   04\n",
       ":   05\n",
       ":   06\n",
       ":   07\n",
       ":   08\n",
       ":   09\n",
       ":   010\n",
       ":   011\n",
       ":   012\n",
       ":   218713\n",
       ":   2214\n",
       ":   1610715\n",
       ":   016\n",
       ":   017\n",
       ":   1818\n",
       ":   6419\n",
       ":   620\n",
       ":   7821\n",
       ":   317522\n",
       ":   22223\n",
       ":   17124\n",
       ":   94225\n",
       ":   11426\n",
       ":   153927\n",
       ":   860928\n",
       ":   279729\n",
       ":   811330\n",
       ":   5559431\n",
       ":   99310532\n",
       ":   2729797033\n",
       ":   68982734\n",
       ":   035\n",
       ":   036\n",
       ":   037\n",
       ":   038\n",
       ":   039\n",
       ":   040\n",
       ":   0\n",
       "\n"
      ],
      "text/plain": [
       "       0        1        2        3        4        5        6        7 \n",
       "       0        0        6        0        0        0        0        0 \n",
       "       8        9       10       11       12       13       14       15 \n",
       "       0        0        0        0     2187       22    16107        0 \n",
       "      16       17       18       19       20       21       22       23 \n",
       "       0       18       64        6       78     3175      222      171 \n",
       "      24       25       26       27       28       29       30       31 \n",
       "     942      114     1539     8609     2797     8113    55594   993105 \n",
       "      32       33       34       35       36       37       38       39 \n",
       "27297970   689827        0        0        0        0        0        0 \n",
       "      40 \n",
       "       0 "
      ]
     },
     "metadata": {},
     "output_type": "display_data"
    }
   ],
   "source": [
    "colSums(err$trans)"
   ]
  },
  {
   "cell_type": "code",
   "execution_count": 536,
   "metadata": {
    "ExecuteTime": {
     "end_time": "2019-03-20T17:45:12.006022Z",
     "start_time": "2019-03-20T17:45:11.955Z"
    }
   },
   "outputs": [
    {
     "data": {
      "text/html": [
       "<dl class=dl-horizontal>\n",
       "\t<dt>0</dt>\n",
       "\t\t<dd>0.164833206993258</dd>\n",
       "\t<dt>1</dt>\n",
       "\t\t<dd>0.164833206993258</dd>\n",
       "\t<dt>2</dt>\n",
       "\t\t<dd>0.164833206993258</dd>\n",
       "\t<dt>3</dt>\n",
       "\t\t<dd>0.164833206993258</dd>\n",
       "\t<dt>4</dt>\n",
       "\t\t<dd>0.164833206993258</dd>\n",
       "\t<dt>5</dt>\n",
       "\t\t<dd>0.164833206993258</dd>\n",
       "\t<dt>6</dt>\n",
       "\t\t<dd>0.164833206993258</dd>\n",
       "\t<dt>7</dt>\n",
       "\t\t<dd>0.164833206993258</dd>\n",
       "\t<dt>8</dt>\n",
       "\t\t<dd>0.164833206993258</dd>\n",
       "\t<dt>9</dt>\n",
       "\t\t<dd>0.164833206993258</dd>\n",
       "\t<dt>10</dt>\n",
       "\t\t<dd>0.164833206993258</dd>\n",
       "\t<dt>11</dt>\n",
       "\t\t<dd>0.164833206993258</dd>\n",
       "\t<dt>12</dt>\n",
       "\t\t<dd>0.164833206993258</dd>\n",
       "\t<dt>13</dt>\n",
       "\t\t<dd>0.147314671904274</dd>\n",
       "\t<dt>14</dt>\n",
       "\t\t<dd>0.110792828013395</dd>\n",
       "\t<dt>15</dt>\n",
       "\t\t<dd>0.0891720516440969</dd>\n",
       "\t<dt>16</dt>\n",
       "\t\t<dd>0.0735496706791916</dd>\n",
       "\t<dt>17</dt>\n",
       "\t\t<dd>0.0603512795859878</dd>\n",
       "\t<dt>18</dt>\n",
       "\t\t<dd>0.0487748696627203</dd>\n",
       "\t<dt>19</dt>\n",
       "\t\t<dd>0.0376145100740554</dd>\n",
       "\t<dt>20</dt>\n",
       "\t\t<dd>0.027470828354068</dd>\n",
       "\t<dt>21</dt>\n",
       "\t\t<dd>0.0197373932104125</dd>\n",
       "\t<dt>22</dt>\n",
       "\t\t<dd>0.0142327838856846</dd>\n",
       "\t<dt>23</dt>\n",
       "\t\t<dd>0.00972254411228543</dd>\n",
       "\t<dt>24</dt>\n",
       "\t\t<dd>0.00643239235702006</dd>\n",
       "\t<dt>25</dt>\n",
       "\t\t<dd>0.00457940544639562</dd>\n",
       "\t<dt>26</dt>\n",
       "\t\t<dd>0.00349746760055508</dd>\n",
       "\t<dt>27</dt>\n",
       "\t\t<dd>0.00270425827106883</dd>\n",
       "\t<dt>28</dt>\n",
       "\t\t<dd>0.00211846167011655</dd>\n",
       "\t<dt>29</dt>\n",
       "\t\t<dd>0.00168019003436123</dd>\n",
       "\t<dt>30</dt>\n",
       "\t\t<dd>0.00130915944934045</dd>\n",
       "\t<dt>31</dt>\n",
       "\t\t<dd>0.00101497843581881</dd>\n",
       "\t<dt>32</dt>\n",
       "\t\t<dd>0.000830588386809483</dd>\n",
       "\t<dt>33</dt>\n",
       "\t\t<dd>0.000720319105139659</dd>\n",
       "\t<dt>34</dt>\n",
       "\t\t<dd>0.000643094638628311</dd>\n",
       "\t<dt>35</dt>\n",
       "\t\t<dd>0.000595353537105719</dd>\n",
       "\t<dt>36</dt>\n",
       "\t\t<dd>0.000576870329657398</dd>\n",
       "\t<dt>37</dt>\n",
       "\t\t<dd>0.000589504363827309</dd>\n",
       "\t<dt>38</dt>\n",
       "\t\t<dd>0.000640072557274035</dd>\n",
       "\t<dt>39</dt>\n",
       "\t\t<dd>0.000750696931568511</dd>\n",
       "\t<dt>40</dt>\n",
       "\t\t<dd>0.000750696931568511</dd>\n",
       "</dl>\n"
      ],
      "text/latex": [
       "\\begin{description*}\n",
       "\\item[0] 0.164833206993258\n",
       "\\item[1] 0.164833206993258\n",
       "\\item[2] 0.164833206993258\n",
       "\\item[3] 0.164833206993258\n",
       "\\item[4] 0.164833206993258\n",
       "\\item[5] 0.164833206993258\n",
       "\\item[6] 0.164833206993258\n",
       "\\item[7] 0.164833206993258\n",
       "\\item[8] 0.164833206993258\n",
       "\\item[9] 0.164833206993258\n",
       "\\item[10] 0.164833206993258\n",
       "\\item[11] 0.164833206993258\n",
       "\\item[12] 0.164833206993258\n",
       "\\item[13] 0.147314671904274\n",
       "\\item[14] 0.110792828013395\n",
       "\\item[15] 0.0891720516440969\n",
       "\\item[16] 0.0735496706791916\n",
       "\\item[17] 0.0603512795859878\n",
       "\\item[18] 0.0487748696627203\n",
       "\\item[19] 0.0376145100740554\n",
       "\\item[20] 0.027470828354068\n",
       "\\item[21] 0.0197373932104125\n",
       "\\item[22] 0.0142327838856846\n",
       "\\item[23] 0.00972254411228543\n",
       "\\item[24] 0.00643239235702006\n",
       "\\item[25] 0.00457940544639562\n",
       "\\item[26] 0.00349746760055508\n",
       "\\item[27] 0.00270425827106883\n",
       "\\item[28] 0.00211846167011655\n",
       "\\item[29] 0.00168019003436123\n",
       "\\item[30] 0.00130915944934045\n",
       "\\item[31] 0.00101497843581881\n",
       "\\item[32] 0.000830588386809483\n",
       "\\item[33] 0.000720319105139659\n",
       "\\item[34] 0.000643094638628311\n",
       "\\item[35] 0.000595353537105719\n",
       "\\item[36] 0.000576870329657398\n",
       "\\item[37] 0.000589504363827309\n",
       "\\item[38] 0.000640072557274035\n",
       "\\item[39] 0.000750696931568511\n",
       "\\item[40] 0.000750696931568511\n",
       "\\end{description*}\n"
      ],
      "text/markdown": [
       "0\n",
       ":   0.1648332069932581\n",
       ":   0.1648332069932582\n",
       ":   0.1648332069932583\n",
       ":   0.1648332069932584\n",
       ":   0.1648332069932585\n",
       ":   0.1648332069932586\n",
       ":   0.1648332069932587\n",
       ":   0.1648332069932588\n",
       ":   0.1648332069932589\n",
       ":   0.16483320699325810\n",
       ":   0.16483320699325811\n",
       ":   0.16483320699325812\n",
       ":   0.16483320699325813\n",
       ":   0.14731467190427414\n",
       ":   0.11079282801339515\n",
       ":   0.089172051644096916\n",
       ":   0.073549670679191617\n",
       ":   0.060351279585987818\n",
       ":   0.048774869662720319\n",
       ":   0.037614510074055420\n",
       ":   0.02747082835406821\n",
       ":   0.019737393210412522\n",
       ":   0.014232783885684623\n",
       ":   0.0097225441122854324\n",
       ":   0.0064323923570200625\n",
       ":   0.0045794054463956226\n",
       ":   0.0034974676005550827\n",
       ":   0.0027042582710688328\n",
       ":   0.0021184616701165529\n",
       ":   0.0016801900343612330\n",
       ":   0.0013091594493404531\n",
       ":   0.0010149784358188132\n",
       ":   0.00083058838680948333\n",
       ":   0.00072031910513965934\n",
       ":   0.00064309463862831135\n",
       ":   0.00059535353710571936\n",
       ":   0.00057687032965739837\n",
       ":   0.00058950436382730938\n",
       ":   0.00064007255727403539\n",
       ":   0.00075069693156851140\n",
       ":   0.000750696931568511\n",
       "\n"
      ],
      "text/plain": [
       "           0            1            2            3            4            5 \n",
       "0.1648332070 0.1648332070 0.1648332070 0.1648332070 0.1648332070 0.1648332070 \n",
       "           6            7            8            9           10           11 \n",
       "0.1648332070 0.1648332070 0.1648332070 0.1648332070 0.1648332070 0.1648332070 \n",
       "          12           13           14           15           16           17 \n",
       "0.1648332070 0.1473146719 0.1107928280 0.0891720516 0.0735496707 0.0603512796 \n",
       "          18           19           20           21           22           23 \n",
       "0.0487748697 0.0376145101 0.0274708284 0.0197373932 0.0142327839 0.0097225441 \n",
       "          24           25           26           27           28           29 \n",
       "0.0064323924 0.0045794054 0.0034974676 0.0027042583 0.0021184617 0.0016801900 \n",
       "          30           31           32           33           34           35 \n",
       "0.0013091594 0.0010149784 0.0008305884 0.0007203191 0.0006430946 0.0005953535 \n",
       "          36           37           38           39           40 \n",
       "0.0005768703 0.0005895044 0.0006400726 0.0007506969 0.0007506969 "
      ]
     },
     "metadata": {},
     "output_type": "display_data"
    }
   ],
   "source": [
    "rows = c(2,3,4,5,7,8,9,10,12,13,14,15)\n",
    "colSums(errHmpF[rows,])/4"
   ]
  }
 ],
 "metadata": {
  "kernelspec": {
   "display_name": "R",
   "language": "R",
   "name": "ir"
  },
  "language_info": {
   "codemirror_mode": "r",
   "file_extension": ".r",
   "mimetype": "text/x-r-source",
   "name": "R",
   "pygments_lexer": "r",
   "version": "3.4.4"
  },
  "toc": {
   "nav_menu": {},
   "number_sections": true,
   "sideBar": true,
   "skip_h1_title": false,
   "toc_cell": false,
   "toc_position": {},
   "toc_section_display": "block",
   "toc_window_display": false
  }
 },
 "nbformat": 4,
 "nbformat_minor": 2
}
